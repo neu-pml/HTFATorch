{
 "cells": [
  {
   "cell_type": "code",
   "execution_count": null,
   "metadata": {},
   "outputs": [],
   "source": [
    "%cd ../\n",
    "%matplotlib inline"
   ]
  },
  {
   "cell_type": "code",
   "execution_count": null,
   "metadata": {},
   "outputs": [],
   "source": [
    "import logging\n",
    "import numpy as np\n",
    "import os\n",
    "import htfa_torch.dtfa as DTFA\n",
    "import htfa_torch.niidb as niidb\n",
    "import htfa_torch.utils as utils\n",
    "import matplotlib.pyplot as plt\n",
    "import nilearn\n",
    "import nilearn.plotting as niplot\n",
    "import numpy as np"
   ]
  },
  {
   "cell_type": "code",
   "execution_count": null,
   "metadata": {},
   "outputs": [],
   "source": [
    "logging.basicConfig(format='%(asctime)s %(message)s', datefmt='%m/%d/%Y %H:%M:%S',\n",
    "                    level=logging.INFO)"
   ]
  },
  {
   "cell_type": "code",
   "execution_count": null,
   "metadata": {},
   "outputs": [],
   "source": [
    "synthetic_db = niidb.FMriActivationsDb('data/synthetic_data_nofrills_wholebrain.db',\n",
    "                                       mask='/data/zulqarnain/wholebrain.nii.gz')\n",
    "\n",
    "dtfa = DTFA.DeepTFA(synthetic_db.all(), mask='/data/zulqarnain/wholebrain.nii.gz',\n",
    "                    num_factors=2, embedding_dim=2)"
   ]
  },
  {
   "cell_type": "code",
   "execution_count": null,
   "metadata": {},
   "outputs": [],
   "source": [
    "dtfa.normalize_activations()"
   ]
  },
  {
   "cell_type": "code",
   "execution_count": null,
   "metadata": {},
   "outputs": [],
   "source": [
    "dtfa.visualize_factor_embedding(filename='factor_embedding_init')"
   ]
  },
  {
   "cell_type": "code",
   "execution_count": null,
   "metadata": {},
   "outputs": [],
   "source": [
    "losses = dtfa.train(num_steps=500, learning_rate=1e-1, log_level=logging.INFO, num_particles=4,\n",
    "                    batch_size=1000, use_cuda=True, blocks_batch_size=1000, patience=50, checkpoint_steps=500)"
   ]
  },
  {
   "cell_type": "code",
   "execution_count": null,
   "metadata": {},
   "outputs": [],
   "source": [
    "utils.plot_losses(losses)"
   ]
  },
  {
   "cell_type": "code",
   "execution_count": null,
   "metadata": {},
   "outputs": [],
   "source": [
    "def task_rest_labeler(block):\n",
    "    if 'rest' in str(block.task):\n",
    "        return 'Rest'\n",
    "    elif 'baseline' in str(block.task):\n",
    "        return 'Baseline'\n",
    "    else:\n",
    "        return 'Task'"
   ]
  },
  {
   "cell_type": "code",
   "execution_count": null,
   "metadata": {},
   "outputs": [],
   "source": [
    "def subject_labeler(block):\n",
    "    if block.individual_differences['condition'] == 0:\n",
    "        return 'High'\n",
    "    elif block.individual_differences['condition'] == 1:\n",
    "        return 'Low'"
   ]
  }
 ],
 "metadata": {
  "kernelspec": {
   "display_name": "Python 3",
   "language": "python",
   "name": "python3"
  },
  "language_info": {
   "codemirror_mode": {
    "name": "ipython",
    "version": 3
   },
   "file_extension": ".py",
   "mimetype": "text/x-python",
   "name": "python",
   "nbconvert_exporter": "python",
   "pygments_lexer": "ipython3",
   "version": "3.7.1"
  }
 },
 "nbformat": 4,
 "nbformat_minor": 2
}
