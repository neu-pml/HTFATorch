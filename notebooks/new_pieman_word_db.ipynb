{
 "cells": [
  {
   "cell_type": "code",
   "execution_count": 1,
   "metadata": {},
   "outputs": [
    {
     "name": "stdout",
     "output_type": "stream",
     "text": [
      "/home/eli/AnacondaProjects/HTFATorch\n"
     ]
    }
   ],
   "source": [
    "%cd ../\n",
    "%matplotlib inline"
   ]
  },
  {
   "cell_type": "code",
   "execution_count": 2,
   "metadata": {},
   "outputs": [],
   "source": [
    "import htfa_torch.niidb as niidb\n",
    "import htfa_torch.utils as utils\n",
    "import glob\n",
    "import os"
   ]
  },
  {
   "cell_type": "code",
   "execution_count": 3,
   "metadata": {},
   "outputs": [],
   "source": [
    "db_file = 'data/new_pieman_word.db'\n",
    "mask_file = '/home/eli/Documents/new_pieman/word/wholebrain.nii.gz'\n",
    "\n",
    "existed = os.path.isfile(db_file)\n",
    "db = niidb.FMriActivationsDb(db_file, mask=mask_file)\n",
    "\n",
    "if not existed:\n",
    "    #data_files = glob.glob('data/pieman_data/*.nii')\n",
    "    data_files = glob.glob('/home/eli/Documents/new_pieman/word/*.nii')\n",
    "    for data_file in data_files:\n",
    "        segments = os.path.splitext(os.path.basename(data_file))[0].split('-')\n",
    "        subject = int(segments[1])\n",
    "        task = segments[3]\n",
    "        if task[-1].isdigit():\n",
    "            task = task[0:-1]\n",
    "        block = niidb.FMriActivationBlock()\n",
    "        block.subject = subject\n",
    "        block.filename = data_file\n",
    "        block.task = task\n",
    "        block.load()\n",
    "        db.upsert(block)"
   ]
  },
  {
   "cell_type": "code",
   "execution_count": null,
   "metadata": {},
   "outputs": [],
   "source": []
  }
 ],
 "metadata": {
  "kernelspec": {
   "display_name": "Python [conda env:HTFATorch]",
   "language": "python",
   "name": "conda-env-HTFATorch-py"
  },
  "language_info": {
   "codemirror_mode": {
    "name": "ipython",
    "version": 3
   },
   "file_extension": ".py",
   "mimetype": "text/x-python",
   "name": "python",
   "nbconvert_exporter": "python",
   "pygments_lexer": "ipython3",
   "version": "3.6.4"
  }
 },
 "nbformat": 4,
 "nbformat_minor": 2
}
