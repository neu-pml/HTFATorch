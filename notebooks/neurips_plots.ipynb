{
 "cells": [
  {
   "cell_type": "code",
   "execution_count": 1,
   "metadata": {},
   "outputs": [
    {
     "name": "stdout",
     "output_type": "stream",
     "text": [
      "Matplotlib Version: 3.0.3\n"
     ]
    },
    {
     "name": "stderr",
     "output_type": "stream",
     "text": [
      "/home/eli/anaconda3/envs/HTFATorch/lib/python3.6/site-packages/seaborn/apionly.py:6: UserWarning: As seaborn no longer sets a default style on import, the seaborn.apionly module is deprecated. It will be removed in a future version.\n",
      "  warnings.warn(msg, UserWarning)\n",
      "/home/eli/anaconda3/envs/HTFATorch/lib/python3.6/site-packages/matplotlib/__init__.py:855: MatplotlibDeprecationWarning: \n",
      "examples.directory is deprecated; in the future, examples will be found relative to the 'datapath' directory.\n",
      "  \"found relative to the 'datapath' directory.\".format(key))\n",
      "/home/eli/anaconda3/envs/HTFATorch/lib/python3.6/site-packages/matplotlib/__init__.py:846: MatplotlibDeprecationWarning: \n",
      "The text.latex.unicode rcparam was deprecated in Matplotlib 2.2 and will be removed in 3.1.\n",
      "  \"2.2\", name=key, obj_type=\"rcparam\", addendum=addendum)\n"
     ]
    }
   ],
   "source": [
    "import numpy as np\n",
    "import matplotlib\n",
    "import matplotlib.pyplot as pl\n",
    "from matplotlib import cycler\n",
    "%matplotlib inline\n",
    "print('Matplotlib Version:', matplotlib.__version__)\n",
    "\n",
    "from seaborn.apionly import color_palette"
   ]
  },
  {
   "cell_type": "code",
   "execution_count": 2,
   "metadata": {},
   "outputs": [],
   "source": [
    "column_width = 5.5\n",
    "page_width = 8.5"
   ]
  },
  {
   "cell_type": "code",
   "execution_count": 3,
   "metadata": {},
   "outputs": [
    {
     "data": {
      "text/plain": [
       "7"
      ]
     },
     "execution_count": 3,
     "metadata": {},
     "output_type": "execute_result"
    }
   ],
   "source": [
    "# colorblind-friendly colors \n",
    "# source: https://personal.sron.nl/~pault/\n",
    "colors = {\n",
    "    'bright': ['4477AA', \n",
    "               '66CCEE', \n",
    "               '228833', \n",
    "               'CCBB44', \n",
    "               'EE6677', \n",
    "               'AA3377', \n",
    "               'BBBBBB'],\n",
    "    'high_contrast': ['FFFFFF', \n",
    "                      'DDAA33', \n",
    "                      'BB5566', \n",
    "                      '004488', \n",
    "                      '00000'],\n",
    "    'vibrant': ['0077BB', \n",
    "                '33BBEE', \n",
    "                '0099BB',\n",
    "                'EE7733',\n",
    "                'CC3311',\n",
    "                'EE3377',\n",
    "                'BBBBBB'],\n",
    "    'muted': ['332288',\n",
    "              '88CCEE',\n",
    "              '44AA99',\n",
    "              '117733',\n",
    "              '999933',\n",
    "              'DDCC77',\n",
    "              'CC6677',\n",
    "              '882255',\n",
    "              'AA4499']\n",
    "}\n",
    "\n",
    "color_cycler = cycler(color=colors['bright'])\n",
    "len(color_cycler)"
   ]
  },
  {
   "cell_type": "code",
   "execution_count": 4,
   "metadata": {},
   "outputs": [
    {
     "data": {
      "text/plain": [
       "6"
      ]
     },
     "execution_count": 4,
     "metadata": {},
     "output_type": "execute_result"
    }
   ],
   "source": [
    "color_cycler = cycler(color=color_palette('colorblind'))\n",
    "len(color_cycler)"
   ]
  },
  {
   "cell_type": "code",
   "execution_count": 5,
   "metadata": {},
   "outputs": [],
   "source": [
    "pl.rc('legend', frameon=False)\n",
    "pl.rc('figure', figsize=(column_width, \n",
    "                         0.66 * column_width),\n",
    "                dpi=120)\n",
    "pl.rc('savefig', dpi=300)\n",
    "pl.rc('font', size=8)\n",
    "pl.rc('axes', prop_cycle=color_cycler)"
   ]
  },
  {
   "cell_type": "code",
   "execution_count": 6,
   "metadata": {},
   "outputs": [
    {
     "data": {
      "image/png": "[encoded data removed]",
      "text/plain": [
       "<Figure size 660x435.6 with 1 Axes>"
      ]
     },
     "metadata": {
      "needs_background": "light"
     },
     "output_type": "display_data"
    }
   ],
   "source": [
    "htfa_losses = [1.16913153e+00, 0.0e0, 0.0e0, 1.41667530e+00]\n",
    "ntfa_losses = [8.29603345e-01, 7.29110216e-01, 6.72535538e-01, 2.25234280e-02]\n",
    "xs = np.arange(len(ntfa_losses))\n",
    "\n",
    "colorblind_cycler = cycler(color=color_palette('colorblind'))\n",
    "colorblind_colors = [c['color'] for c in colorblind_cycler]\n",
    "muted_cycler = cycler(color=color_palette('muted'))\n",
    "muted_colors = [c['color'] for c in muted_cycler]\n",
    "\n",
    "bar_width = 0.25\n",
    "\n",
    "fig = pl.figure()\n",
    "ntfa_bar = pl.bar(xs, height=ntfa_losses, color=muted_colors[0], width=bar_width)\n",
    "htfa_bar = pl.bar(xs + bar_width, height=htfa_losses, color=muted_colors[1], width=bar_width)\n",
    "\n",
    "fig.axes[0].set_ylim((0, 2.0))\n",
    "fig.axes[0].set_ylabel('Reconstruction Error')\n",
    "pl.xticks(xs, ['AffVids', 'Pieman', 'Depression', 'Synthetic'])\n",
    "pl.legend((ntfa_bar[0], htfa_bar[0]), ('NTFA', 'HTFA'))\n",
    "\n",
    "\n",
    "fig.savefig('reconstruction_errors.pdf')"
   ]
  },
  {
   "cell_type": "code",
   "execution_count": 7,
   "metadata": {},
   "outputs": [
    {
     "data": {
      "image/png": "[encoded data removed]",
      "text/plain": [
       "<Figure size 660x435.6 with 1 Axes>"
      ]
     },
     "metadata": {
      "needs_background": "light"
     },
     "output_type": "display_data"
    }
   ],
   "source": [
    "voxel_accuracies = [0.102, 0.059, 0.039, 0.008]\n",
    "voxel_errs = [0.018, 0.013, 0.010, 0.003]\n",
    "htfa_accuracies = [0.020, 0.019, 0.018, 0.008]\n",
    "htfa_errs = [0.004, 0.006, 0.005, 0.003]\n",
    "ntfa_accuracies = [0.023, 0.018, 0.020, 0.011]\n",
    "ntfa_errs = [0.005, 0.005, 0.005, 0.003]\n",
    "\n",
    "stimuli = ['Intact', 'Paragraph', 'Word', 'Rest']\n",
    "\n",
    "xs = np.arange(len(stimuli))\n",
    "\n",
    "colorblind_cycler = cycler(color=color_palette('colorblind'))\n",
    "colorblind_colors = [c['color'] for c in colorblind_cycler]\n",
    "muted_cycler = cycler(color=color_palette('muted'))\n",
    "muted_colors = [c['color'] for c in muted_cycler]\n",
    "\n",
    "bar_width = 0.2\n",
    "\n",
    "fig = pl.figure()\n",
    "voxel_bar = pl.bar(xs, height=voxel_accuracies, color=muted_colors[0], width=bar_width, yerr=voxel_errs)\n",
    "htfa_bar = pl.bar(xs + bar_width, height=htfa_accuracies, color=muted_colors[1], width=bar_width, yerr=htfa_errs)\n",
    "ntfa_bar = pl.bar(xs + 2*bar_width, height=ntfa_accuracies, color=muted_colors[2], width=bar_width, yerr=ntfa_errs)\n",
    "\n",
    "pl.xticks(xs, ['AffVids', 'Pieman', 'Depression', 'Synthetic'])\n",
    "pl.legend((voxel_bar[0], htfa_bar[0], ntfa_bar[0]), ('Voxel', 'HTFA', 'NTFA'))\n",
    "\n",
    "fig.savefig('pieman_decoding_accuracies.pdf')"
   ]
  },
  {
   "cell_type": "code",
   "execution_count": null,
   "metadata": {},
   "outputs": [],
   "source": []
  },
  {
   "cell_type": "code",
   "execution_count": null,
   "metadata": {},
   "outputs": [],
   "source": []
  }
 ],
 "metadata": {
  "kernelspec": {
   "display_name": "Python [conda env:HTFATorch] *",
   "language": "python",
   "name": "conda-env-HTFATorch-py"
  },
  "language_info": {
   "codemirror_mode": {
    "name": "ipython",
    "version": 3
   },
   "file_extension": ".py",
   "mimetype": "text/x-python",
   "name": "python",
   "nbconvert_exporter": "python",
   "pygments_lexer": "ipython3",
   "version": "3.6.7"
  }
 },
 "nbformat": 4,
 "nbformat_minor": 2
}
