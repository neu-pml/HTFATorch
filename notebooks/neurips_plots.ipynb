{
 "cells": [
  {
   "cell_type": "code",
   "execution_count": 1,
   "metadata": {},
   "outputs": [
    {
     "name": "stdout",
     "output_type": "stream",
     "text": [
      "/home/eli/AnacondaProjects/HTFATorch\n"
     ]
    }
   ],
   "source": [
    "%cd ../"
   ]
  },
  {
   "cell_type": "code",
   "execution_count": 2,
   "metadata": {},
   "outputs": [
    {
     "name": "stdout",
     "output_type": "stream",
     "text": [
      "Matplotlib Version: 3.0.3\n"
     ]
    },
    {
     "name": "stderr",
     "output_type": "stream",
     "text": [
      "/home/eli/anaconda3/envs/HTFATorch/lib/python3.6/site-packages/seaborn/apionly.py:6: UserWarning: As seaborn no longer sets a default style on import, the seaborn.apionly module is deprecated. It will be removed in a future version.\n",
      "  warnings.warn(msg, UserWarning)\n",
      "/home/eli/anaconda3/envs/HTFATorch/lib/python3.6/site-packages/matplotlib/__init__.py:855: MatplotlibDeprecationWarning: \n",
      "examples.directory is deprecated; in the future, examples will be found relative to the 'datapath' directory.\n",
      "  \"found relative to the 'datapath' directory.\".format(key))\n",
      "/home/eli/anaconda3/envs/HTFATorch/lib/python3.6/site-packages/matplotlib/__init__.py:846: MatplotlibDeprecationWarning: \n",
      "The text.latex.unicode rcparam was deprecated in Matplotlib 2.2 and will be removed in 3.1.\n",
      "  \"2.2\", name=key, obj_type=\"rcparam\", addendum=addendum)\n"
     ]
    }
   ],
   "source": [
    "import numpy as np\n",
    "import matplotlib\n",
    "import matplotlib.pyplot as pl\n",
    "from matplotlib import cycler\n",
    "%matplotlib inline\n",
    "print('Matplotlib Version:', matplotlib.__version__)\n",
    "\n",
    "from seaborn.apionly import color_palette"
   ]
  },
  {
   "cell_type": "code",
   "execution_count": 3,
   "metadata": {},
   "outputs": [],
   "source": [
    "from functools import lru_cache\n",
    "import logging\n",
    "import htfa_torch.niidb as niidb"
   ]
  },
  {
   "cell_type": "code",
   "execution_count": 4,
   "metadata": {},
   "outputs": [],
   "source": [
    "logging.basicConfig(format='%(asctime)s %(message)s', datefmt='%m/%d/%Y %H:%M:%S',\n",
    "                    level=logging.INFO)"
   ]
  },
  {
   "cell_type": "code",
   "execution_count": 5,
   "metadata": {},
   "outputs": [],
   "source": [
    "column_width = 5.5\n",
    "page_width = 8.5"
   ]
  },
  {
   "cell_type": "code",
   "execution_count": 6,
   "metadata": {},
   "outputs": [
    {
     "data": {
      "text/plain": [
       "7"
      ]
     },
     "execution_count": 6,
     "metadata": {},
     "output_type": "execute_result"
    }
   ],
   "source": [
    "# colorblind-friendly colors \n",
    "# source: https://personal.sron.nl/~pault/\n",
    "colors = {\n",
    "    'bright': ['4477AA', \n",
    "               '66CCEE', \n",
    "               '228833', \n",
    "               'CCBB44', \n",
    "               'EE6677', \n",
    "               'AA3377', \n",
    "               'BBBBBB'],\n",
    "    'high_contrast': ['FFFFFF', \n",
    "                      'DDAA33', \n",
    "                      'BB5566', \n",
    "                      '004488', \n",
    "                      '00000'],\n",
    "    'vibrant': ['0077BB', \n",
    "                '33BBEE', \n",
    "                '0099BB',\n",
    "                'EE7733',\n",
    "                'CC3311',\n",
    "                'EE3377',\n",
    "                'BBBBBB'],\n",
    "    'muted': ['332288',\n",
    "              '88CCEE',\n",
    "              '44AA99',\n",
    "              '117733',\n",
    "              '999933',\n",
    "              'DDCC77',\n",
    "              'CC6677',\n",
    "              '882255',\n",
    "              'AA4499']\n",
    "}\n",
    "\n",
    "color_cycler = cycler(color=colors['bright'])\n",
    "len(color_cycler)"
   ]
  },
  {
   "cell_type": "code",
   "execution_count": 7,
   "metadata": {},
   "outputs": [
    {
     "data": {
      "text/plain": [
       "6"
      ]
     },
     "execution_count": 7,
     "metadata": {},
     "output_type": "execute_result"
    }
   ],
   "source": [
    "color_cycler = cycler(color=color_palette('colorblind'))\n",
    "len(color_cycler)"
   ]
  },
  {
   "cell_type": "code",
   "execution_count": 8,
   "metadata": {},
   "outputs": [],
   "source": [
    "pl.rc('legend', frameon=False)\n",
    "pl.rc('figure', figsize=(column_width, 0.66 * column_width), dpi=120)\n",
    "pl.rc('savefig', dpi=300)\n",
    "pl.rc('font', size=8)\n",
    "pl.rc('axes', prop_cycle=color_cycler)"
   ]
  },
  {
   "cell_type": "code",
   "execution_count": 9,
   "metadata": {},
   "outputs": [
    {
     "data": {
      "image/png": "[encoded data removed]",
      "text/plain": [
       "<Figure size 660x435.6 with 1 Axes>"
      ]
     },
     "metadata": {
      "needs_background": "light"
     },
     "output_type": "display_data"
    }
   ],
   "source": [
    "htfa_losses = [1.16913153e+00, 0.0e0, 0.0e0, 1.41667530e+00]\n",
    "ntfa_losses = [8.29603345e-01, 7.29110216e-01, 6.72535538e-01, 2.25234280e-02]\n",
    "xs = np.arange(len(ntfa_losses))\n",
    "\n",
    "colorblind_cycler = cycler(color=color_palette('colorblind'))\n",
    "colorblind_colors = [c['color'] for c in colorblind_cycler]\n",
    "muted_cycler = cycler(color=color_palette('muted'))\n",
    "muted_colors = [c['color'] for c in muted_cycler]\n",
    "\n",
    "bar_width = 0.25\n",
    "\n",
    "fig = pl.figure()\n",
    "ntfa_bar = pl.bar(xs, height=ntfa_losses, color=muted_colors[0], width=bar_width)\n",
    "htfa_bar = pl.bar(xs + bar_width, height=htfa_losses, color=muted_colors[1], width=bar_width)\n",
    "\n",
    "fig.axes[0].set_ylim((0, 2.0))\n",
    "fig.axes[0].set_ylabel('Reconstruction Error')\n",
    "pl.xticks(xs, ['AffVids', 'Pieman', 'Depression', 'Synthetic'])\n",
    "pl.legend((ntfa_bar[0], htfa_bar[0]), ('NTFA', 'HTFA'))\n",
    "\n",
    "\n",
    "fig.savefig('reconstruction_errors.pdf')"
   ]
  },
  {
   "cell_type": "code",
   "execution_count": 10,
   "metadata": {},
   "outputs": [
    {
     "data": {
      "image/png": "[encoded data removed]",
      "text/plain": [
       "<Figure size 660x435.6 with 1 Axes>"
      ]
     },
     "metadata": {
      "needs_background": "light"
     },
     "output_type": "display_data"
    }
   ],
   "source": [
    "htfa_losses = [112.021535, 118.034933, 100.901522, 99.433544]\n",
    "htfa_stddevs = [1.14369916e+01, 7.44772372e+00, 2.19148793e+01, 8.22968707e-01]\n",
    "ntfa_losses = [84.742498, 73.034856, 93.851308, 82.051309]\n",
    "ntfa_stddevs = [5.26219925e+00, 4.54001283e+00, 1.40534028e+01, 1.00555206e+01]\n",
    "xs = np.arange(len(ntfa_losses))\n",
    "\n",
    "colorblind_cycler = cycler(color=color_palette('colorblind'))\n",
    "colorblind_colors = [c['color'] for c in colorblind_cycler]\n",
    "muted_cycler = cycler(color=color_palette('muted'))\n",
    "muted_colors = [c['color'] for c in muted_cycler]\n",
    "\n",
    "bar_width = 0.25\n",
    "\n",
    "fig = pl.figure()\n",
    "ntfa_bar = pl.bar(xs, height=ntfa_losses, color=muted_colors[0], width=bar_width, yerr=ntfa_stddevs)\n",
    "htfa_bar = pl.bar(xs + bar_width, height=htfa_losses, color=muted_colors[1], width=bar_width, yerr=htfa_stddevs)\n",
    "\n",
    "fig.axes[0].set_ylim((0, 150.0))\n",
    "fig.axes[0].set_ylabel('Reconstruction Error')\n",
    "pl.xticks(xs, ['AffVids', 'Pieman', 'Depression', 'Synthetic'])\n",
    "pl.legend((ntfa_bar[0], htfa_bar[0]), ('NTFA', 'HTFA'))\n",
    "\n",
    "\n",
    "fig.savefig('normalized_reconstruction_errors.pdf')"
   ]
  },
  {
   "cell_type": "code",
   "execution_count": 11,
   "metadata": {},
   "outputs": [
    {
     "data": {
      "image/png": "[encoded data removed]",
      "text/plain": [
       "<Figure size 660x435.6 with 1 Axes>"
      ]
     },
     "metadata": {
      "needs_background": "light"
     },
     "output_type": "display_data"
    }
   ],
   "source": [
    "voxel_accuracies = [0.102, 0.059, 0.039, 0.008]\n",
    "voxel_errs = [0.018, 0.013, 0.010, 0.003]\n",
    "htfa_accuracies = [0.020, 0.019, 0.018, 0.008]\n",
    "htfa_errs = [0.004, 0.006, 0.005, 0.003]\n",
    "ntfa_accuracies = [0.023, 0.018, 0.020, 0.011]\n",
    "ntfa_errs = [0.005, 0.005, 0.005, 0.003]\n",
    "\n",
    "stimuli = ['Intact', 'Paragraph', 'Word', 'Rest']\n",
    "\n",
    "xs = np.arange(len(stimuli))\n",
    "\n",
    "colorblind_cycler = cycler(color=color_palette('colorblind'))\n",
    "colorblind_colors = [c['color'] for c in colorblind_cycler]\n",
    "muted_cycler = cycler(color=color_palette('muted'))\n",
    "muted_colors = [c['color'] for c in muted_cycler]\n",
    "\n",
    "bar_width = 0.2\n",
    "\n",
    "fig = pl.figure()\n",
    "voxel_bar = pl.bar(xs, height=voxel_accuracies, color=muted_colors[0], width=bar_width, yerr=voxel_errs)\n",
    "htfa_bar = pl.bar(xs + bar_width, height=htfa_accuracies, color=muted_colors[1], width=bar_width, yerr=htfa_errs)\n",
    "ntfa_bar = pl.bar(xs + 2*bar_width, height=ntfa_accuracies, color=muted_colors[2], width=bar_width, yerr=ntfa_errs)\n",
    "\n",
    "pl.xticks(xs, ['AffVids', 'Pieman', 'Depression', 'Synthetic'])\n",
    "pl.legend((voxel_bar[0], htfa_bar[0], ntfa_bar[0]), ('Voxel', 'HTFA', 'NTFA'))\n",
    "\n",
    "fig.savefig('pieman_decoding_accuracies.pdf')"
   ]
  },
  {
   "cell_type": "code",
   "execution_count": 12,
   "metadata": {},
   "outputs": [],
   "source": [
    "def htfa_parameters(num_blocks, num_times, K=100, D=2):\n",
    "    return 14 * K + 8 * num_blocks * K + 2 * num_times * num_blocks * K + 1"
   ]
  },
  {
   "cell_type": "code",
   "execution_count": 13,
   "metadata": {},
   "outputs": [],
   "source": [
    "def ntfa_parameters(num_blocks, num_times, num_subjects, num_tasks, K=100, D=2):\n",
    "    return 4 * D * (num_subjects + num_tasks) + 1 + 2 * D + 48 * D**2 + 48 * D * K + 8 * num_subjects * K + 2 * num_times * num_blocks"
   ]
  },
  {
   "cell_type": "code",
   "execution_count": 14,
   "metadata": {},
   "outputs": [],
   "source": [
    "def num_blocks(db):\n",
    "    return len(list(db.all()))"
   ]
  },
  {
   "cell_type": "code",
   "execution_count": 15,
   "metadata": {},
   "outputs": [],
   "source": [
    "def times(db):\n",
    "    for block in db.all():\n",
    "        if block.start_time is None or block.end_time is None:\n",
    "            block.load()\n",
    "            block.unload()\n",
    "        yield block.end_time - block.start_time"
   ]
  },
  {
   "cell_type": "code",
   "execution_count": 16,
   "metadata": {},
   "outputs": [],
   "source": [
    "@lru_cache(maxsize=16)\n",
    "def num_times(db):\n",
    "    return max(list(times(db)))"
   ]
  },
  {
   "cell_type": "code",
   "execution_count": 17,
   "metadata": {},
   "outputs": [],
   "source": [
    "@lru_cache(maxsize=16)\n",
    "def num_subjects(db):\n",
    "    return len({block.subject for block in db.all()})"
   ]
  },
  {
   "cell_type": "code",
   "execution_count": 18,
   "metadata": {},
   "outputs": [],
   "source": [
    "@lru_cache(maxsize=16)\n",
    "def num_tasks(db):\n",
    "    return len({block.task for block in db.all()})"
   ]
  },
  {
   "cell_type": "code",
   "execution_count": 19,
   "metadata": {},
   "outputs": [],
   "source": [
    "affvids_db = niidb.FMriActivationsDb('data/affvids2018.db')"
   ]
  },
  {
   "cell_type": "code",
   "execution_count": 20,
   "metadata": {},
   "outputs": [
    {
     "name": "stderr",
     "output_type": "stream",
     "text": [
      "05/21/2019 15:02:11 Loading Nifti image /home/eli/Documents/AffVids_20180104/nifti/sub-10_task-AffVids_run-03_bold_space-MNI152NLin2009cAsym_preproc.nii.gz with mask /home/eli/Documents/AffVids_20180104/nifti/wholebrain2.nii.gz (zscore=True, smooth=6)\n",
      "05/21/2019 15:02:27 Loading Nifti image /home/eli/Documents/AffVids_20180104/nifti/sub-10_task-AffVids_run-02_bold_space-MNI152NLin2009cAsym_preproc.nii.gz with mask /home/eli/Documents/AffVids_20180104/nifti/wholebrain2.nii.gz (zscore=True, smooth=6)\n",
      "05/21/2019 15:02:42 Loading Nifti image /home/eli/Documents/AffVids_20180104/nifti/sub-10_task-AffVids_run-01_bold_space-MNI152NLin2009cAsym_preproc.nii.gz with mask /home/eli/Documents/AffVids_20180104/nifti/wholebrain2.nii.gz (zscore=True, smooth=6)\n",
      "05/21/2019 15:02:59 Loading Nifti image /home/eli/Documents/AffVids_20180104/nifti/sub-11_task-AffVids_run-01_bold_space-MNI152NLin2009cAsym_preproc.nii.gz with mask /home/eli/Documents/AffVids_20180104/nifti/wholebrain2.nii.gz (zscore=True, smooth=6)\n",
      "05/21/2019 15:03:14 Loading Nifti image /home/eli/Documents/AffVids_20180104/nifti/sub-11_task-AffVids_run-02_bold_space-MNI152NLin2009cAsym_preproc.nii.gz with mask /home/eli/Documents/AffVids_20180104/nifti/wholebrain2.nii.gz (zscore=True, smooth=6)\n",
      "05/21/2019 15:03:30 Loading Nifti image /home/eli/Documents/AffVids_20180104/nifti/sub-11_task-AffVids_run-03_bold_space-MNI152NLin2009cAsym_preproc.nii.gz with mask /home/eli/Documents/AffVids_20180104/nifti/wholebrain2.nii.gz (zscore=True, smooth=6)\n",
      "05/21/2019 15:03:45 Loading Nifti image /home/eli/Documents/AffVids_20180104/nifti/sub-12_task-AffVids_run-03_bold_space-MNI152NLin2009cAsym_preproc.nii.gz with mask /home/eli/Documents/AffVids_20180104/nifti/wholebrain2.nii.gz (zscore=True, smooth=6)\n",
      "05/21/2019 15:04:00 Loading Nifti image /home/eli/Documents/AffVids_20180104/nifti/sub-12_task-AffVids_run-02_bold_space-MNI152NLin2009cAsym_preproc.nii.gz with mask /home/eli/Documents/AffVids_20180104/nifti/wholebrain2.nii.gz (zscore=True, smooth=6)\n",
      "05/21/2019 15:04:15 Loading Nifti image /home/eli/Documents/AffVids_20180104/nifti/sub-12_task-AffVids_run-01_bold_space-MNI152NLin2009cAsym_preproc.nii.gz with mask /home/eli/Documents/AffVids_20180104/nifti/wholebrain2.nii.gz (zscore=True, smooth=6)\n",
      "05/21/2019 15:04:31 Loading Nifti image /home/eli/Documents/AffVids_20180104/nifti/sub-13_task-AffVids_run-03_bold_space-MNI152NLin2009cAsym_preproc.nii.gz with mask /home/eli/Documents/AffVids_20180104/nifti/wholebrain2.nii.gz (zscore=True, smooth=6)\n",
      "05/21/2019 15:04:47 Loading Nifti image /home/eli/Documents/AffVids_20180104/nifti/sub-13_task-AffVids_run-01_bold_space-MNI152NLin2009cAsym_preproc.nii.gz with mask /home/eli/Documents/AffVids_20180104/nifti/wholebrain2.nii.gz (zscore=True, smooth=6)\n",
      "05/21/2019 15:05:03 Loading Nifti image /home/eli/Documents/AffVids_20180104/nifti/sub-13_task-AffVids_run-02_bold_space-MNI152NLin2009cAsym_preproc.nii.gz with mask /home/eli/Documents/AffVids_20180104/nifti/wholebrain2.nii.gz (zscore=True, smooth=6)\n",
      "05/21/2019 15:05:19 Loading Nifti image /home/eli/Documents/AffVids_20180104/nifti/sub-14_task-AffVids_run-01_bold_space-MNI152NLin2009cAsym_preproc.nii.gz with mask /home/eli/Documents/AffVids_20180104/nifti/wholebrain2.nii.gz (zscore=True, smooth=6)\n",
      "05/21/2019 15:05:35 Loading Nifti image /home/eli/Documents/AffVids_20180104/nifti/sub-14_task-AffVids_run-02_bold_space-MNI152NLin2009cAsym_preproc.nii.gz with mask /home/eli/Documents/AffVids_20180104/nifti/wholebrain2.nii.gz (zscore=True, smooth=6)\n",
      "05/21/2019 15:05:51 Loading Nifti image /home/eli/Documents/AffVids_20180104/nifti/sub-15_task-AffVids_run-02_bold_space-MNI152NLin2009cAsym_preproc.nii.gz with mask /home/eli/Documents/AffVids_20180104/nifti/wholebrain2.nii.gz (zscore=True, smooth=6)\n",
      "05/21/2019 15:06:08 Loading Nifti image /home/eli/Documents/AffVids_20180104/nifti/sub-15_task-AffVids_run-03_bold_space-MNI152NLin2009cAsym_preproc.nii.gz with mask /home/eli/Documents/AffVids_20180104/nifti/wholebrain2.nii.gz (zscore=True, smooth=6)\n",
      "05/21/2019 15:06:24 Loading Nifti image /home/eli/Documents/AffVids_20180104/nifti/sub-15_task-AffVids_run-01_bold_space-MNI152NLin2009cAsym_preproc.nii.gz with mask /home/eli/Documents/AffVids_20180104/nifti/wholebrain2.nii.gz (zscore=True, smooth=6)\n",
      "05/21/2019 15:06:41 Loading Nifti image /home/eli/Documents/AffVids_20180104/nifti/sub-16_task-AffVids_run-03_bold_space-MNI152NLin2009cAsym_preproc.nii.gz with mask /home/eli/Documents/AffVids_20180104/nifti/wholebrain2.nii.gz (zscore=True, smooth=6)\n",
      "05/21/2019 15:06:56 Loading Nifti image /home/eli/Documents/AffVids_20180104/nifti/sub-16_task-AffVids_run-01_bold_space-MNI152NLin2009cAsym_preproc.nii.gz with mask /home/eli/Documents/AffVids_20180104/nifti/wholebrain2.nii.gz (zscore=True, smooth=6)\n",
      "05/21/2019 15:07:13 Loading Nifti image /home/eli/Documents/AffVids_20180104/nifti/sub-16_task-AffVids_run-02_bold_space-MNI152NLin2009cAsym_preproc.nii.gz with mask /home/eli/Documents/AffVids_20180104/nifti/wholebrain2.nii.gz (zscore=True, smooth=6)\n",
      "05/21/2019 15:07:29 Loading Nifti image /home/eli/Documents/AffVids_20180104/nifti/sub-17_task-AffVids_run-01_bold_space-MNI152NLin2009cAsym_preproc.nii.gz with mask /home/eli/Documents/AffVids_20180104/nifti/wholebrain2.nii.gz (zscore=True, smooth=6)\n",
      "05/21/2019 15:07:45 Loading Nifti image /home/eli/Documents/AffVids_20180104/nifti/sub-17_task-AffVids_run-03_bold_space-MNI152NLin2009cAsym_preproc.nii.gz with mask /home/eli/Documents/AffVids_20180104/nifti/wholebrain2.nii.gz (zscore=True, smooth=6)\n",
      "05/21/2019 15:08:01 Loading Nifti image /home/eli/Documents/AffVids_20180104/nifti/sub-17_task-AffVids_run-02_bold_space-MNI152NLin2009cAsym_preproc.nii.gz with mask /home/eli/Documents/AffVids_20180104/nifti/wholebrain2.nii.gz (zscore=True, smooth=6)\n",
      "05/21/2019 15:08:17 Loading Nifti image /home/eli/Documents/AffVids_20180104/nifti/sub-18_task-AffVids_run-02_bold_space-MNI152NLin2009cAsym_preproc.nii.gz with mask /home/eli/Documents/AffVids_20180104/nifti/wholebrain2.nii.gz (zscore=True, smooth=6)\n",
      "05/21/2019 15:08:34 Loading Nifti image /home/eli/Documents/AffVids_20180104/nifti/sub-18_task-AffVids_run-03_bold_space-MNI152NLin2009cAsym_preproc.nii.gz with mask /home/eli/Documents/AffVids_20180104/nifti/wholebrain2.nii.gz (zscore=True, smooth=6)\n",
      "05/21/2019 15:08:50 Loading Nifti image /home/eli/Documents/AffVids_20180104/nifti/sub-18_task-AffVids_run-01_bold_space-MNI152NLin2009cAsym_preproc.nii.gz with mask /home/eli/Documents/AffVids_20180104/nifti/wholebrain2.nii.gz (zscore=True, smooth=6)\n",
      "05/21/2019 15:09:07 Loading Nifti image /home/eli/Documents/AffVids_20180104/nifti/sub-19_task-AffVids_run-02_bold_space-MNI152NLin2009cAsym_preproc.nii.gz with mask /home/eli/Documents/AffVids_20180104/nifti/wholebrain2.nii.gz (zscore=True, smooth=6)\n",
      "05/21/2019 15:09:22 Loading Nifti image /home/eli/Documents/AffVids_20180104/nifti/sub-19_task-AffVids_run-01_bold_space-MNI152NLin2009cAsym_preproc.nii.gz with mask /home/eli/Documents/AffVids_20180104/nifti/wholebrain2.nii.gz (zscore=True, smooth=6)\n",
      "05/21/2019 15:09:38 Loading Nifti image /home/eli/Documents/AffVids_20180104/nifti/sub-19_task-AffVids_run-03_bold_space-MNI152NLin2009cAsym_preproc.nii.gz with mask /home/eli/Documents/AffVids_20180104/nifti/wholebrain2.nii.gz (zscore=True, smooth=6)\n",
      "05/21/2019 15:09:54 Loading Nifti image /home/eli/Documents/AffVids_20180104/nifti/sub-23_task-AffVids_run-03_bold_space-MNI152NLin2009cAsym_preproc.nii.gz with mask /home/eli/Documents/AffVids_20180104/nifti/wholebrain2.nii.gz (zscore=True, smooth=6)\n",
      "05/21/2019 15:10:10 Loading Nifti image /home/eli/Documents/AffVids_20180104/nifti/sub-23_task-AffVids_run-02_bold_space-MNI152NLin2009cAsym_preproc.nii.gz with mask /home/eli/Documents/AffVids_20180104/nifti/wholebrain2.nii.gz (zscore=True, smooth=6)\n",
      "05/21/2019 15:10:27 Loading Nifti image /home/eli/Documents/AffVids_20180104/nifti/sub-25_task-AffVids_run-01_bold_space-MNI152NLin2009cAsym_preproc.nii.gz with mask /home/eli/Documents/AffVids_20180104/nifti/wholebrain2.nii.gz (zscore=True, smooth=6)\n",
      "05/21/2019 15:10:44 Loading Nifti image /home/eli/Documents/AffVids_20180104/nifti/sub-25_task-AffVids_run-02_bold_space-MNI152NLin2009cAsym_preproc.nii.gz with mask /home/eli/Documents/AffVids_20180104/nifti/wholebrain2.nii.gz (zscore=True, smooth=6)\n",
      "05/21/2019 15:11:00 Loading Nifti image /home/eli/Documents/AffVids_20180104/nifti/sub-25_task-AffVids_run-03_bold_space-MNI152NLin2009cAsym_preproc.nii.gz with mask /home/eli/Documents/AffVids_20180104/nifti/wholebrain2.nii.gz (zscore=True, smooth=6)\n",
      "05/21/2019 15:11:17 Loading Nifti image /home/eli/Documents/AffVids_20180104/nifti/sub-26_task-AffVids_run-02_bold_space-MNI152NLin2009cAsym_preproc.nii.gz with mask /home/eli/Documents/AffVids_20180104/nifti/wholebrain2.nii.gz (zscore=True, smooth=6)\n",
      "05/21/2019 15:11:33 Loading Nifti image /home/eli/Documents/AffVids_20180104/nifti/sub-26_task-AffVids_run-01_bold_space-MNI152NLin2009cAsym_preproc.nii.gz with mask /home/eli/Documents/AffVids_20180104/nifti/wholebrain2.nii.gz (zscore=True, smooth=6)\n",
      "05/21/2019 15:11:50 Loading Nifti image /home/eli/Documents/AffVids_20180104/nifti/sub-28_task-AffVids_run-02_bold_space-MNI152NLin2009cAsym_preproc.nii.gz with mask /home/eli/Documents/AffVids_20180104/nifti/wholebrain2.nii.gz (zscore=True, smooth=6)\n",
      "05/21/2019 15:12:06 Loading Nifti image /home/eli/Documents/AffVids_20180104/nifti/sub-28_task-AffVids_run-03_bold_space-MNI152NLin2009cAsym_preproc.nii.gz with mask /home/eli/Documents/AffVids_20180104/nifti/wholebrain2.nii.gz (zscore=True, smooth=6)\n",
      "05/21/2019 15:12:22 Loading Nifti image /home/eli/Documents/AffVids_20180104/nifti/sub-28_task-AffVids_run-01_bold_space-MNI152NLin2009cAsym_preproc.nii.gz with mask /home/eli/Documents/AffVids_20180104/nifti/wholebrain2.nii.gz (zscore=True, smooth=6)\n",
      "05/21/2019 15:12:38 Loading Nifti image /home/eli/Documents/AffVids_20180104/nifti/sub-29_task-AffVids_run-01_bold_space-MNI152NLin2009cAsym_preproc.nii.gz with mask /home/eli/Documents/AffVids_20180104/nifti/wholebrain2.nii.gz (zscore=True, smooth=6)\n",
      "05/21/2019 15:12:54 Loading Nifti image /home/eli/Documents/AffVids_20180104/nifti/sub-29_task-AffVids_run-02_bold_space-MNI152NLin2009cAsym_preproc.nii.gz with mask /home/eli/Documents/AffVids_20180104/nifti/wholebrain2.nii.gz (zscore=True, smooth=6)\n",
      "05/21/2019 15:13:11 Loading Nifti image /home/eli/Documents/AffVids_20180104/nifti/sub-29_task-AffVids_run-03_bold_space-MNI152NLin2009cAsym_preproc.nii.gz with mask /home/eli/Documents/AffVids_20180104/nifti/wholebrain2.nii.gz (zscore=True, smooth=6)\n",
      "05/21/2019 15:13:26 Loading Nifti image /home/eli/Documents/AffVids_20180104/nifti/sub-04_task-AffVids_run-01_bold_space-MNI152NLin2009cAsym_preproc.nii.gz with mask /home/eli/Documents/AffVids_20180104/nifti/wholebrain2.nii.gz (zscore=True, smooth=6)\n",
      "05/21/2019 15:13:42 Loading Nifti image /home/eli/Documents/AffVids_20180104/nifti/sub-04_task-AffVids_run-02_bold_space-MNI152NLin2009cAsym_preproc.nii.gz with mask /home/eli/Documents/AffVids_20180104/nifti/wholebrain2.nii.gz (zscore=True, smooth=6)\n",
      "05/21/2019 15:13:58 Loading Nifti image /home/eli/Documents/AffVids_20180104/nifti/sub-04_task-AffVids_run-03_bold_space-MNI152NLin2009cAsym_preproc.nii.gz with mask /home/eli/Documents/AffVids_20180104/nifti/wholebrain2.nii.gz (zscore=True, smooth=6)\n",
      "05/21/2019 15:14:14 Loading Nifti image /home/eli/Documents/AffVids_20180104/nifti/sub-05_task-AffVids_run-01_bold_space-MNI152NLin2009cAsym_preproc.nii.gz with mask /home/eli/Documents/AffVids_20180104/nifti/wholebrain2.nii.gz (zscore=True, smooth=6)\n",
      "05/21/2019 15:14:30 Loading Nifti image /home/eli/Documents/AffVids_20180104/nifti/sub-05_task-AffVids_run-02_bold_space-MNI152NLin2009cAsym_preproc.nii.gz with mask /home/eli/Documents/AffVids_20180104/nifti/wholebrain2.nii.gz (zscore=True, smooth=6)\n",
      "05/21/2019 15:14:47 Loading Nifti image /home/eli/Documents/AffVids_20180104/nifti/sub-05_task-AffVids_run-03_bold_space-MNI152NLin2009cAsym_preproc.nii.gz with mask /home/eli/Documents/AffVids_20180104/nifti/wholebrain2.nii.gz (zscore=True, smooth=6)\n",
      "05/21/2019 15:15:03 Loading Nifti image /home/eli/Documents/AffVids_20180104/nifti/sub-06_task-AffVids_run-03_bold_space-MNI152NLin2009cAsym_preproc.nii.gz with mask /home/eli/Documents/AffVids_20180104/nifti/wholebrain2.nii.gz (zscore=True, smooth=6)\n",
      "05/21/2019 15:15:20 Loading Nifti image /home/eli/Documents/AffVids_20180104/nifti/sub-06_task-AffVids_run-01_bold_space-MNI152NLin2009cAsym_preproc.nii.gz with mask /home/eli/Documents/AffVids_20180104/nifti/wholebrain2.nii.gz (zscore=True, smooth=6)\n",
      "05/21/2019 15:15:36 Loading Nifti image /home/eli/Documents/AffVids_20180104/nifti/sub-06_task-AffVids_run-02_bold_space-MNI152NLin2009cAsym_preproc.nii.gz with mask /home/eli/Documents/AffVids_20180104/nifti/wholebrain2.nii.gz (zscore=True, smooth=6)\n",
      "05/21/2019 15:15:53 Loading Nifti image /home/eli/Documents/AffVids_20180104/nifti/sub-07_task-AffVids_run-01_bold_space-MNI152NLin2009cAsym_preproc.nii.gz with mask /home/eli/Documents/AffVids_20180104/nifti/wholebrain2.nii.gz (zscore=True, smooth=6)\n",
      "05/21/2019 15:16:09 Loading Nifti image /home/eli/Documents/AffVids_20180104/nifti/sub-07_task-AffVids_run-02_bold_space-MNI152NLin2009cAsym_preproc.nii.gz with mask /home/eli/Documents/AffVids_20180104/nifti/wholebrain2.nii.gz (zscore=True, smooth=6)\n",
      "05/21/2019 15:16:25 Loading Nifti image /home/eli/Documents/AffVids_20180104/nifti/sub-08_task-AffVids_run-02_bold_space-MNI152NLin2009cAsym_preproc.nii.gz with mask /home/eli/Documents/AffVids_20180104/nifti/wholebrain2.nii.gz (zscore=True, smooth=6)\n",
      "05/21/2019 15:16:41 Loading Nifti image /home/eli/Documents/AffVids_20180104/nifti/sub-08_task-AffVids_run-01_bold_space-MNI152NLin2009cAsym_preproc.nii.gz with mask /home/eli/Documents/AffVids_20180104/nifti/wholebrain2.nii.gz (zscore=True, smooth=6)\n",
      "05/21/2019 15:16:57 Loading Nifti image /home/eli/Documents/AffVids_20180104/nifti/sub-08_task-AffVids_run-03_bold_space-MNI152NLin2009cAsym_preproc.nii.gz with mask /home/eli/Documents/AffVids_20180104/nifti/wholebrain2.nii.gz (zscore=True, smooth=6)\n",
      "05/21/2019 15:17:13 Loading Nifti image /home/eli/Documents/AffVids_20180104/nifti/sub-09_task-AffVids_run-01_bold_space-MNI152NLin2009cAsym_preproc.nii.gz with mask /home/eli/Documents/AffVids_20180104/nifti/wholebrain2.nii.gz (zscore=True, smooth=6)\n",
      "05/21/2019 15:17:29 Loading Nifti image /home/eli/Documents/AffVids_20180104/nifti/sub-09_task-AffVids_run-02_bold_space-MNI152NLin2009cAsym_preproc.nii.gz with mask /home/eli/Documents/AffVids_20180104/nifti/wholebrain2.nii.gz (zscore=True, smooth=6)\n",
      "05/21/2019 15:17:45 Loading Nifti image /home/eli/Documents/AffVids_20180104/nifti/sub-09_task-AffVids_run-03_bold_space-MNI152NLin2009cAsym_preproc.nii.gz with mask /home/eli/Documents/AffVids_20180104/nifti/wholebrain2.nii.gz (zscore=True, smooth=6)\n"
     ]
    },
    {
     "data": {
      "text/plain": [
       "10031401"
      ]
     },
     "execution_count": 20,
     "metadata": {},
     "output_type": "execute_result"
    }
   ],
   "source": [
    "htfa_parameters(num_blocks(affvids_db), num_times(affvids_db))"
   ]
  },
  {
   "cell_type": "code",
   "execution_count": 21,
   "metadata": {},
   "outputs": [
    {
     "data": {
      "text/plain": [
       "115561"
      ]
     },
     "execution_count": 21,
     "metadata": {},
     "output_type": "execute_result"
    }
   ],
   "source": [
    "ntfa_parameters(num_blocks(affvids_db), num_times(affvids_db), num_subjects(affvids_db), num_tasks(affvids_db))"
   ]
  },
  {
   "cell_type": "code",
   "execution_count": 22,
   "metadata": {},
   "outputs": [],
   "source": [
    "lepping_db = niidb.FMriActivationsDb('data/sound_depression.db', mask='/home/eli/Documents/sound_depression/ds000171-download/all_tasks/wholebrain.nii.gz')"
   ]
  },
  {
   "cell_type": "code",
   "execution_count": 23,
   "metadata": {},
   "outputs": [
    {
     "data": {
      "text/plain": [
       "3508401"
      ]
     },
     "execution_count": 23,
     "metadata": {},
     "output_type": "execute_result"
    }
   ],
   "source": [
    "htfa_parameters(num_blocks(lepping_db), num_times(lepping_db))"
   ]
  },
  {
   "cell_type": "code",
   "execution_count": 24,
   "metadata": {},
   "outputs": [
    {
     "data": {
      "text/plain": [
       "67075"
      ]
     },
     "execution_count": 24,
     "metadata": {},
     "output_type": "execute_result"
    }
   ],
   "source": [
    "ntfa_parameters(num_blocks(lepping_db), num_times(lepping_db), num_subjects(lepping_db), num_tasks(lepping_db))"
   ]
  },
  {
   "cell_type": "code",
   "execution_count": 25,
   "metadata": {},
   "outputs": [],
   "source": [
    "pieman_db = niidb.FMriActivationsDb('data/new_pieman.db', mask='/home/eli/Documents/new_pieman/all_tasks/wholebrain.nii.gz')"
   ]
  },
  {
   "cell_type": "code",
   "execution_count": 26,
   "metadata": {},
   "outputs": [
    {
     "name": "stderr",
     "output_type": "stream",
     "text": [
      "05/21/2019 15:24:54 Loading Nifti image /home/eli/Documents/new_pieman/all_tasks/sub-1-task-intact1.nii with mask /home/eli/Documents/new_pieman/all_tasks/wholebrain.nii.gz (zscore=True, smooth=None)\n",
      "05/21/2019 15:24:58 Loading Nifti image /home/eli/Documents/new_pieman/all_tasks/sub-1-task-word.nii with mask /home/eli/Documents/new_pieman/all_tasks/wholebrain.nii.gz (zscore=True, smooth=None)\n",
      "05/21/2019 15:25:02 Loading Nifti image /home/eli/Documents/new_pieman/all_tasks/sub-10-task-intact1.nii with mask /home/eli/Documents/new_pieman/all_tasks/wholebrain.nii.gz (zscore=True, smooth=None)\n",
      "05/21/2019 15:25:06 Loading Nifti image /home/eli/Documents/new_pieman/all_tasks/sub-10-task-word.nii with mask /home/eli/Documents/new_pieman/all_tasks/wholebrain.nii.gz (zscore=True, smooth=None)\n",
      "05/21/2019 15:25:09 Loading Nifti image /home/eli/Documents/new_pieman/all_tasks/sub-100-task-rest2.nii with mask /home/eli/Documents/new_pieman/all_tasks/wholebrain.nii.gz (zscore=True, smooth=None)\n",
      "05/21/2019 15:25:14 Loading Nifti image /home/eli/Documents/new_pieman/all_tasks/sub-101-task-rest2.nii with mask /home/eli/Documents/new_pieman/all_tasks/wholebrain.nii.gz (zscore=True, smooth=None)\n",
      "05/21/2019 15:25:19 Loading Nifti image /home/eli/Documents/new_pieman/all_tasks/sub-102-task-rest2.nii with mask /home/eli/Documents/new_pieman/all_tasks/wholebrain.nii.gz (zscore=True, smooth=None)\n",
      "05/21/2019 15:25:24 Loading Nifti image /home/eli/Documents/new_pieman/all_tasks/sub-103-task-rest2.nii with mask /home/eli/Documents/new_pieman/all_tasks/wholebrain.nii.gz (zscore=True, smooth=None)\n",
      "05/21/2019 15:25:29 Loading Nifti image /home/eli/Documents/new_pieman/all_tasks/sub-104-task-rest2.nii with mask /home/eli/Documents/new_pieman/all_tasks/wholebrain.nii.gz (zscore=True, smooth=None)\n",
      "05/21/2019 15:25:34 Loading Nifti image /home/eli/Documents/new_pieman/all_tasks/sub-105-task-rest2.nii with mask /home/eli/Documents/new_pieman/all_tasks/wholebrain.nii.gz (zscore=True, smooth=None)\n",
      "05/21/2019 15:25:39 Loading Nifti image /home/eli/Documents/new_pieman/all_tasks/sub-11-task-intact1.nii with mask /home/eli/Documents/new_pieman/all_tasks/wholebrain.nii.gz (zscore=True, smooth=None)\n",
      "05/21/2019 15:25:43 Loading Nifti image /home/eli/Documents/new_pieman/all_tasks/sub-11-task-word.nii with mask /home/eli/Documents/new_pieman/all_tasks/wholebrain.nii.gz (zscore=True, smooth=None)\n",
      "05/21/2019 15:25:47 Loading Nifti image /home/eli/Documents/new_pieman/all_tasks/sub-12-task-intact1.nii with mask /home/eli/Documents/new_pieman/all_tasks/wholebrain.nii.gz (zscore=True, smooth=None)\n",
      "05/21/2019 15:25:51 Loading Nifti image /home/eli/Documents/new_pieman/all_tasks/sub-12-task-word.nii with mask /home/eli/Documents/new_pieman/all_tasks/wholebrain.nii.gz (zscore=True, smooth=None)\n",
      "05/21/2019 15:25:54 Loading Nifti image /home/eli/Documents/new_pieman/all_tasks/sub-13-task-intact1.nii with mask /home/eli/Documents/new_pieman/all_tasks/wholebrain.nii.gz (zscore=True, smooth=None)\n",
      "05/21/2019 15:25:58 Loading Nifti image /home/eli/Documents/new_pieman/all_tasks/sub-13-task-word.nii with mask /home/eli/Documents/new_pieman/all_tasks/wholebrain.nii.gz (zscore=True, smooth=None)\n",
      "05/21/2019 15:26:02 Loading Nifti image /home/eli/Documents/new_pieman/all_tasks/sub-14-task-intact1.nii with mask /home/eli/Documents/new_pieman/all_tasks/wholebrain.nii.gz (zscore=True, smooth=None)\n",
      "05/21/2019 15:26:06 Loading Nifti image /home/eli/Documents/new_pieman/all_tasks/sub-14-task-word.nii with mask /home/eli/Documents/new_pieman/all_tasks/wholebrain.nii.gz (zscore=True, smooth=None)\n",
      "05/21/2019 15:26:09 Loading Nifti image /home/eli/Documents/new_pieman/all_tasks/sub-15-task-intact1.nii with mask /home/eli/Documents/new_pieman/all_tasks/wholebrain.nii.gz (zscore=True, smooth=None)\n",
      "05/21/2019 15:26:13 Loading Nifti image /home/eli/Documents/new_pieman/all_tasks/sub-16-task-intact1.nii with mask /home/eli/Documents/new_pieman/all_tasks/wholebrain.nii.gz (zscore=True, smooth=None)\n",
      "05/21/2019 15:26:17 Loading Nifti image /home/eli/Documents/new_pieman/all_tasks/sub-16-task-word.nii with mask /home/eli/Documents/new_pieman/all_tasks/wholebrain.nii.gz (zscore=True, smooth=None)\n",
      "05/21/2019 15:26:21 Loading Nifti image /home/eli/Documents/new_pieman/all_tasks/sub-17-task-intact1.nii with mask /home/eli/Documents/new_pieman/all_tasks/wholebrain.nii.gz (zscore=True, smooth=None)\n",
      "05/21/2019 15:26:25 Loading Nifti image /home/eli/Documents/new_pieman/all_tasks/sub-18-task-intact1.nii with mask /home/eli/Documents/new_pieman/all_tasks/wholebrain.nii.gz (zscore=True, smooth=None)\n",
      "05/21/2019 15:26:29 Loading Nifti image /home/eli/Documents/new_pieman/all_tasks/sub-19-task-intact2.nii with mask /home/eli/Documents/new_pieman/all_tasks/wholebrain.nii.gz (zscore=True, smooth=None)\n",
      "05/21/2019 15:26:34 Loading Nifti image /home/eli/Documents/new_pieman/all_tasks/sub-2-task-intact1.nii with mask /home/eli/Documents/new_pieman/all_tasks/wholebrain.nii.gz (zscore=True, smooth=None)\n",
      "05/21/2019 15:26:38 Loading Nifti image /home/eli/Documents/new_pieman/all_tasks/sub-20-task-intact2.nii with mask /home/eli/Documents/new_pieman/all_tasks/wholebrain.nii.gz (zscore=True, smooth=None)\n",
      "05/21/2019 15:26:42 Loading Nifti image /home/eli/Documents/new_pieman/all_tasks/sub-20-task-word.nii with mask /home/eli/Documents/new_pieman/all_tasks/wholebrain.nii.gz (zscore=True, smooth=None)\n",
      "05/21/2019 15:26:48 Loading Nifti image /home/eli/Documents/new_pieman/all_tasks/sub-21-task-intact2.nii with mask /home/eli/Documents/new_pieman/all_tasks/wholebrain.nii.gz (zscore=True, smooth=None)\n",
      "05/21/2019 15:26:52 Loading Nifti image /home/eli/Documents/new_pieman/all_tasks/sub-22-task-intact2.nii with mask /home/eli/Documents/new_pieman/all_tasks/wholebrain.nii.gz (zscore=True, smooth=None)\n",
      "05/21/2019 15:26:55 Loading Nifti image /home/eli/Documents/new_pieman/all_tasks/sub-23-task-intact2.nii with mask /home/eli/Documents/new_pieman/all_tasks/wholebrain.nii.gz (zscore=True, smooth=None)\n",
      "05/21/2019 15:26:59 Loading Nifti image /home/eli/Documents/new_pieman/all_tasks/sub-23-task-word.nii with mask /home/eli/Documents/new_pieman/all_tasks/wholebrain.nii.gz (zscore=True, smooth=None)\n",
      "05/21/2019 15:27:03 Loading Nifti image /home/eli/Documents/new_pieman/all_tasks/sub-24-task-intact2.nii with mask /home/eli/Documents/new_pieman/all_tasks/wholebrain.nii.gz (zscore=True, smooth=None)\n",
      "05/21/2019 15:27:07 Loading Nifti image /home/eli/Documents/new_pieman/all_tasks/sub-24-task-word.nii with mask /home/eli/Documents/new_pieman/all_tasks/wholebrain.nii.gz (zscore=True, smooth=None)\n",
      "05/21/2019 15:27:11 Loading Nifti image /home/eli/Documents/new_pieman/all_tasks/sub-25-task-intact2.nii with mask /home/eli/Documents/new_pieman/all_tasks/wholebrain.nii.gz (zscore=True, smooth=None)\n",
      "05/21/2019 15:27:15 Loading Nifti image /home/eli/Documents/new_pieman/all_tasks/sub-25-task-word.nii with mask /home/eli/Documents/new_pieman/all_tasks/wholebrain.nii.gz (zscore=True, smooth=None)\n",
      "05/21/2019 15:27:19 Loading Nifti image /home/eli/Documents/new_pieman/all_tasks/sub-26-task-intact2.nii with mask /home/eli/Documents/new_pieman/all_tasks/wholebrain.nii.gz (zscore=True, smooth=None)\n",
      "05/21/2019 15:27:23 Loading Nifti image /home/eli/Documents/new_pieman/all_tasks/sub-26-task-word.nii with mask /home/eli/Documents/new_pieman/all_tasks/wholebrain.nii.gz (zscore=True, smooth=None)\n",
      "05/21/2019 15:27:27 Loading Nifti image /home/eli/Documents/new_pieman/all_tasks/sub-27-task-intact2.nii with mask /home/eli/Documents/new_pieman/all_tasks/wholebrain.nii.gz (zscore=True, smooth=None)\n",
      "05/21/2019 15:27:31 Loading Nifti image /home/eli/Documents/new_pieman/all_tasks/sub-27-task-word.nii with mask /home/eli/Documents/new_pieman/all_tasks/wholebrain.nii.gz (zscore=True, smooth=None)\n",
      "05/21/2019 15:27:35 Loading Nifti image /home/eli/Documents/new_pieman/all_tasks/sub-28-task-intact2.nii with mask /home/eli/Documents/new_pieman/all_tasks/wholebrain.nii.gz (zscore=True, smooth=None)\n",
      "05/21/2019 15:27:38 Loading Nifti image /home/eli/Documents/new_pieman/all_tasks/sub-28-task-word.nii with mask /home/eli/Documents/new_pieman/all_tasks/wholebrain.nii.gz (zscore=True, smooth=None)\n",
      "05/21/2019 15:27:42 Loading Nifti image /home/eli/Documents/new_pieman/all_tasks/sub-29-task-intact2.nii with mask /home/eli/Documents/new_pieman/all_tasks/wholebrain.nii.gz (zscore=True, smooth=None)\n",
      "05/21/2019 15:27:46 Loading Nifti image /home/eli/Documents/new_pieman/all_tasks/sub-3-task-intact1.nii with mask /home/eli/Documents/new_pieman/all_tasks/wholebrain.nii.gz (zscore=True, smooth=None)\n",
      "05/21/2019 15:27:51 Loading Nifti image /home/eli/Documents/new_pieman/all_tasks/sub-3-task-word.nii with mask /home/eli/Documents/new_pieman/all_tasks/wholebrain.nii.gz (zscore=True, smooth=None)\n",
      "05/21/2019 15:27:54 Loading Nifti image /home/eli/Documents/new_pieman/all_tasks/sub-30-task-intact2.nii with mask /home/eli/Documents/new_pieman/all_tasks/wholebrain.nii.gz (zscore=True, smooth=None)\n",
      "05/21/2019 15:27:58 Loading Nifti image /home/eli/Documents/new_pieman/all_tasks/sub-30-task-word.nii with mask /home/eli/Documents/new_pieman/all_tasks/wholebrain.nii.gz (zscore=True, smooth=None)\n",
      "05/21/2019 15:28:02 Loading Nifti image /home/eli/Documents/new_pieman/all_tasks/sub-31-task-intact2.nii with mask /home/eli/Documents/new_pieman/all_tasks/wholebrain.nii.gz (zscore=True, smooth=None)\n",
      "05/21/2019 15:28:06 Loading Nifti image /home/eli/Documents/new_pieman/all_tasks/sub-31-task-word.nii with mask /home/eli/Documents/new_pieman/all_tasks/wholebrain.nii.gz (zscore=True, smooth=None)\n",
      "05/21/2019 15:28:09 Loading Nifti image /home/eli/Documents/new_pieman/all_tasks/sub-32-task-intact2.nii with mask /home/eli/Documents/new_pieman/all_tasks/wholebrain.nii.gz (zscore=True, smooth=None)\n",
      "05/21/2019 15:28:13 Loading Nifti image /home/eli/Documents/new_pieman/all_tasks/sub-32-task-word.nii with mask /home/eli/Documents/new_pieman/all_tasks/wholebrain.nii.gz (zscore=True, smooth=None)\n",
      "05/21/2019 15:28:17 Loading Nifti image /home/eli/Documents/new_pieman/all_tasks/sub-33-task-intact2.nii with mask /home/eli/Documents/new_pieman/all_tasks/wholebrain.nii.gz (zscore=True, smooth=None)\n",
      "05/21/2019 15:28:21 Loading Nifti image /home/eli/Documents/new_pieman/all_tasks/sub-34-task-intact2.nii with mask /home/eli/Documents/new_pieman/all_tasks/wholebrain.nii.gz (zscore=True, smooth=None)\n",
      "05/21/2019 15:28:24 Loading Nifti image /home/eli/Documents/new_pieman/all_tasks/sub-34-task-word.nii with mask /home/eli/Documents/new_pieman/all_tasks/wholebrain.nii.gz (zscore=True, smooth=None)\n",
      "05/21/2019 15:28:28 Loading Nifti image /home/eli/Documents/new_pieman/all_tasks/sub-35-task-intact2.nii with mask /home/eli/Documents/new_pieman/all_tasks/wholebrain.nii.gz (zscore=True, smooth=None)\n",
      "05/21/2019 15:28:32 Loading Nifti image /home/eli/Documents/new_pieman/all_tasks/sub-35-task-word.nii with mask /home/eli/Documents/new_pieman/all_tasks/wholebrain.nii.gz (zscore=True, smooth=None)\n",
      "05/21/2019 15:28:36 Loading Nifti image /home/eli/Documents/new_pieman/all_tasks/sub-36-task-intact2.nii with mask /home/eli/Documents/new_pieman/all_tasks/wholebrain.nii.gz (zscore=True, smooth=None)\n",
      "05/21/2019 15:28:40 Loading Nifti image /home/eli/Documents/new_pieman/all_tasks/sub-37-task-word.nii with mask /home/eli/Documents/new_pieman/all_tasks/wholebrain.nii.gz (zscore=True, smooth=None)\n",
      "05/21/2019 15:28:44 Loading Nifti image /home/eli/Documents/new_pieman/all_tasks/sub-38-task-word.nii with mask /home/eli/Documents/new_pieman/all_tasks/wholebrain.nii.gz (zscore=True, smooth=None)\n",
      "05/21/2019 15:28:48 Loading Nifti image /home/eli/Documents/new_pieman/all_tasks/sub-39-task-word.nii with mask /home/eli/Documents/new_pieman/all_tasks/wholebrain.nii.gz (zscore=True, smooth=None)\n",
      "05/21/2019 15:28:51 Loading Nifti image /home/eli/Documents/new_pieman/all_tasks/sub-4-task-intact1.nii with mask /home/eli/Documents/new_pieman/all_tasks/wholebrain.nii.gz (zscore=True, smooth=None)\n",
      "05/21/2019 15:28:55 Loading Nifti image /home/eli/Documents/new_pieman/all_tasks/sub-4-task-word.nii with mask /home/eli/Documents/new_pieman/all_tasks/wholebrain.nii.gz (zscore=True, smooth=None)\n",
      "05/21/2019 15:28:59 Loading Nifti image /home/eli/Documents/new_pieman/all_tasks/sub-40-task-word.nii with mask /home/eli/Documents/new_pieman/all_tasks/wholebrain.nii.gz (zscore=True, smooth=None)\n",
      "05/21/2019 15:29:03 Loading Nifti image /home/eli/Documents/new_pieman/all_tasks/sub-41-task-word.nii with mask /home/eli/Documents/new_pieman/all_tasks/wholebrain.nii.gz (zscore=True, smooth=None)\n",
      "05/21/2019 15:29:07 Loading Nifti image /home/eli/Documents/new_pieman/all_tasks/sub-42-task-word.nii with mask /home/eli/Documents/new_pieman/all_tasks/wholebrain.nii.gz (zscore=True, smooth=None)\n",
      "05/21/2019 15:29:11 Loading Nifti image /home/eli/Documents/new_pieman/all_tasks/sub-43-task-word.nii with mask /home/eli/Documents/new_pieman/all_tasks/wholebrain.nii.gz (zscore=True, smooth=None)\n",
      "05/21/2019 15:29:15 Loading Nifti image /home/eli/Documents/new_pieman/all_tasks/sub-44-task-word.nii with mask /home/eli/Documents/new_pieman/all_tasks/wholebrain.nii.gz (zscore=True, smooth=None)\n",
      "05/21/2019 15:29:18 Loading Nifti image /home/eli/Documents/new_pieman/all_tasks/sub-45-task-word.nii with mask /home/eli/Documents/new_pieman/all_tasks/wholebrain.nii.gz (zscore=True, smooth=None)\n",
      "05/21/2019 15:29:22 Loading Nifti image /home/eli/Documents/new_pieman/all_tasks/sub-46-task-word.nii with mask /home/eli/Documents/new_pieman/all_tasks/wholebrain.nii.gz (zscore=True, smooth=None)\n",
      "05/21/2019 15:29:26 Loading Nifti image /home/eli/Documents/new_pieman/all_tasks/sub-47-task-word.nii with mask /home/eli/Documents/new_pieman/all_tasks/wholebrain.nii.gz (zscore=True, smooth=None)\n",
      "05/21/2019 15:29:30 Loading Nifti image /home/eli/Documents/new_pieman/all_tasks/sub-48-task-word.nii with mask /home/eli/Documents/new_pieman/all_tasks/wholebrain.nii.gz (zscore=True, smooth=None)\n",
      "05/21/2019 15:29:34 Loading Nifti image /home/eli/Documents/new_pieman/all_tasks/sub-49-task-word.nii with mask /home/eli/Documents/new_pieman/all_tasks/wholebrain.nii.gz (zscore=True, smooth=None)\n",
      "05/21/2019 15:29:37 Loading Nifti image /home/eli/Documents/new_pieman/all_tasks/sub-5-task-intact1.nii with mask /home/eli/Documents/new_pieman/all_tasks/wholebrain.nii.gz (zscore=True, smooth=None)\n",
      "05/21/2019 15:29:41 Loading Nifti image /home/eli/Documents/new_pieman/all_tasks/sub-50-task-word.nii with mask /home/eli/Documents/new_pieman/all_tasks/wholebrain.nii.gz (zscore=True, smooth=None)\n",
      "05/21/2019 15:29:47 Loading Nifti image /home/eli/Documents/new_pieman/all_tasks/sub-51-task-word.nii with mask /home/eli/Documents/new_pieman/all_tasks/wholebrain.nii.gz (zscore=True, smooth=None)\n",
      "05/21/2019 15:29:51 Loading Nifti image /home/eli/Documents/new_pieman/all_tasks/sub-52-task-paragraph.nii with mask /home/eli/Documents/new_pieman/all_tasks/wholebrain.nii.gz (zscore=True, smooth=None)\n",
      "05/21/2019 15:29:55 Loading Nifti image /home/eli/Documents/new_pieman/all_tasks/sub-53-task-paragraph.nii with mask /home/eli/Documents/new_pieman/all_tasks/wholebrain.nii.gz (zscore=True, smooth=None)\n",
      "05/21/2019 15:29:58 Loading Nifti image /home/eli/Documents/new_pieman/all_tasks/sub-54-task-paragraph.nii with mask /home/eli/Documents/new_pieman/all_tasks/wholebrain.nii.gz (zscore=True, smooth=None)\n",
      "05/21/2019 15:30:02 Loading Nifti image /home/eli/Documents/new_pieman/all_tasks/sub-55-task-paragraph.nii with mask /home/eli/Documents/new_pieman/all_tasks/wholebrain.nii.gz (zscore=True, smooth=None)\n",
      "05/21/2019 15:30:06 Loading Nifti image /home/eli/Documents/new_pieman/all_tasks/sub-56-task-paragraph.nii with mask /home/eli/Documents/new_pieman/all_tasks/wholebrain.nii.gz (zscore=True, smooth=None)\n",
      "05/21/2019 15:30:10 Loading Nifti image /home/eli/Documents/new_pieman/all_tasks/sub-57-task-paragraph.nii with mask /home/eli/Documents/new_pieman/all_tasks/wholebrain.nii.gz (zscore=True, smooth=None)\n",
      "05/21/2019 15:30:14 Loading Nifti image /home/eli/Documents/new_pieman/all_tasks/sub-58-task-paragraph.nii with mask /home/eli/Documents/new_pieman/all_tasks/wholebrain.nii.gz (zscore=True, smooth=None)\n",
      "05/21/2019 15:30:17 Loading Nifti image /home/eli/Documents/new_pieman/all_tasks/sub-59-task-paragraph.nii with mask /home/eli/Documents/new_pieman/all_tasks/wholebrain.nii.gz (zscore=True, smooth=None)\n",
      "05/21/2019 15:30:21 Loading Nifti image /home/eli/Documents/new_pieman/all_tasks/sub-6-task-intact1.nii with mask /home/eli/Documents/new_pieman/all_tasks/wholebrain.nii.gz (zscore=True, smooth=None)\n",
      "05/21/2019 15:30:25 Loading Nifti image /home/eli/Documents/new_pieman/all_tasks/sub-60-task-paragraph.nii with mask /home/eli/Documents/new_pieman/all_tasks/wholebrain.nii.gz (zscore=True, smooth=None)\n",
      "05/21/2019 15:30:29 Loading Nifti image /home/eli/Documents/new_pieman/all_tasks/sub-61-task-paragraph.nii with mask /home/eli/Documents/new_pieman/all_tasks/wholebrain.nii.gz (zscore=True, smooth=None)\n",
      "05/21/2019 15:30:32 Loading Nifti image /home/eli/Documents/new_pieman/all_tasks/sub-62-task-paragraph.nii with mask /home/eli/Documents/new_pieman/all_tasks/wholebrain.nii.gz (zscore=True, smooth=None)\n",
      "05/21/2019 15:30:36 Loading Nifti image /home/eli/Documents/new_pieman/all_tasks/sub-63-task-paragraph.nii with mask /home/eli/Documents/new_pieman/all_tasks/wholebrain.nii.gz (zscore=True, smooth=None)\n",
      "05/21/2019 15:30:40 Loading Nifti image /home/eli/Documents/new_pieman/all_tasks/sub-64-task-paragraph.nii with mask /home/eli/Documents/new_pieman/all_tasks/wholebrain.nii.gz (zscore=True, smooth=None)\n",
      "05/21/2019 15:30:45 Loading Nifti image /home/eli/Documents/new_pieman/all_tasks/sub-65-task-paragraph.nii with mask /home/eli/Documents/new_pieman/all_tasks/wholebrain.nii.gz (zscore=True, smooth=None)\n",
      "05/21/2019 15:30:49 Loading Nifti image /home/eli/Documents/new_pieman/all_tasks/sub-66-task-paragraph.nii with mask /home/eli/Documents/new_pieman/all_tasks/wholebrain.nii.gz (zscore=True, smooth=None)\n",
      "05/21/2019 15:30:55 Loading Nifti image /home/eli/Documents/new_pieman/all_tasks/sub-67-task-paragraph.nii with mask /home/eli/Documents/new_pieman/all_tasks/wholebrain.nii.gz (zscore=True, smooth=None)\n",
      "05/21/2019 15:30:59 Loading Nifti image /home/eli/Documents/new_pieman/all_tasks/sub-68-task-paragraph.nii with mask /home/eli/Documents/new_pieman/all_tasks/wholebrain.nii.gz (zscore=True, smooth=None)\n",
      "05/21/2019 15:31:03 Loading Nifti image /home/eli/Documents/new_pieman/all_tasks/sub-69-task-paragraph.nii with mask /home/eli/Documents/new_pieman/all_tasks/wholebrain.nii.gz (zscore=True, smooth=None)\n",
      "05/21/2019 15:31:07 Loading Nifti image /home/eli/Documents/new_pieman/all_tasks/sub-7-task-intact1.nii with mask /home/eli/Documents/new_pieman/all_tasks/wholebrain.nii.gz (zscore=True, smooth=None)\n",
      "05/21/2019 15:31:11 Loading Nifti image /home/eli/Documents/new_pieman/all_tasks/sub-70-task-rest1.nii with mask /home/eli/Documents/new_pieman/all_tasks/wholebrain.nii.gz (zscore=True, smooth=None)\n",
      "05/21/2019 15:31:16 Loading Nifti image /home/eli/Documents/new_pieman/all_tasks/sub-71-task-rest1.nii with mask /home/eli/Documents/new_pieman/all_tasks/wholebrain.nii.gz (zscore=True, smooth=None)\n",
      "05/21/2019 15:31:21 Loading Nifti image /home/eli/Documents/new_pieman/all_tasks/sub-72-task-rest1.nii with mask /home/eli/Documents/new_pieman/all_tasks/wholebrain.nii.gz (zscore=True, smooth=None)\n",
      "05/21/2019 15:31:26 Loading Nifti image /home/eli/Documents/new_pieman/all_tasks/sub-73-task-rest1.nii with mask /home/eli/Documents/new_pieman/all_tasks/wholebrain.nii.gz (zscore=True, smooth=None)\n",
      "05/21/2019 15:31:31 Loading Nifti image /home/eli/Documents/new_pieman/all_tasks/sub-74-task-rest1.nii with mask /home/eli/Documents/new_pieman/all_tasks/wholebrain.nii.gz (zscore=True, smooth=None)\n",
      "05/21/2019 15:31:41 Loading Nifti image /home/eli/Documents/new_pieman/all_tasks/sub-75-task-rest1.nii with mask /home/eli/Documents/new_pieman/all_tasks/wholebrain.nii.gz (zscore=True, smooth=None)\n",
      "05/21/2019 15:31:57 Loading Nifti image /home/eli/Documents/new_pieman/all_tasks/sub-76-task-rest1.nii with mask /home/eli/Documents/new_pieman/all_tasks/wholebrain.nii.gz (zscore=True, smooth=None)\n",
      "05/21/2019 15:32:15 Loading Nifti image /home/eli/Documents/new_pieman/all_tasks/sub-77-task-rest1.nii with mask /home/eli/Documents/new_pieman/all_tasks/wholebrain.nii.gz (zscore=True, smooth=None)\n",
      "05/21/2019 15:32:22 Loading Nifti image /home/eli/Documents/new_pieman/all_tasks/sub-78-task-rest1.nii with mask /home/eli/Documents/new_pieman/all_tasks/wholebrain.nii.gz (zscore=True, smooth=None)\n",
      "05/21/2019 15:32:27 Loading Nifti image /home/eli/Documents/new_pieman/all_tasks/sub-79-task-rest1.nii with mask /home/eli/Documents/new_pieman/all_tasks/wholebrain.nii.gz (zscore=True, smooth=None)\n",
      "05/21/2019 15:32:32 Loading Nifti image /home/eli/Documents/new_pieman/all_tasks/sub-8-task-intact1.nii with mask /home/eli/Documents/new_pieman/all_tasks/wholebrain.nii.gz (zscore=True, smooth=None)\n",
      "05/21/2019 15:32:36 Loading Nifti image /home/eli/Documents/new_pieman/all_tasks/sub-80-task-rest1.nii with mask /home/eli/Documents/new_pieman/all_tasks/wholebrain.nii.gz (zscore=True, smooth=None)\n",
      "05/21/2019 15:32:41 Loading Nifti image /home/eli/Documents/new_pieman/all_tasks/sub-81-task-rest1.nii with mask /home/eli/Documents/new_pieman/all_tasks/wholebrain.nii.gz (zscore=True, smooth=None)\n",
      "05/21/2019 15:33:02 Loading Nifti image /home/eli/Documents/new_pieman/all_tasks/sub-82-task-rest1.nii with mask /home/eli/Documents/new_pieman/all_tasks/wholebrain.nii.gz (zscore=True, smooth=None)\n",
      "05/21/2019 15:33:19 Loading Nifti image /home/eli/Documents/new_pieman/all_tasks/sub-83-task-rest1.nii with mask /home/eli/Documents/new_pieman/all_tasks/wholebrain.nii.gz (zscore=True, smooth=None)\n",
      "05/21/2019 15:34:06 Loading Nifti image /home/eli/Documents/new_pieman/all_tasks/sub-84-task-rest1.nii with mask /home/eli/Documents/new_pieman/all_tasks/wholebrain.nii.gz (zscore=True, smooth=None)\n",
      "05/21/2019 15:34:32 Loading Nifti image /home/eli/Documents/new_pieman/all_tasks/sub-85-task-rest1.nii with mask /home/eli/Documents/new_pieman/all_tasks/wholebrain.nii.gz (zscore=True, smooth=None)\n",
      "05/21/2019 15:34:57 Loading Nifti image /home/eli/Documents/new_pieman/all_tasks/sub-86-task-rest1.nii with mask /home/eli/Documents/new_pieman/all_tasks/wholebrain.nii.gz (zscore=True, smooth=None)\n",
      "05/21/2019 15:35:02 Loading Nifti image /home/eli/Documents/new_pieman/all_tasks/sub-87-task-rest1.nii with mask /home/eli/Documents/new_pieman/all_tasks/wholebrain.nii.gz (zscore=True, smooth=None)\n",
      "05/21/2019 15:35:08 Loading Nifti image /home/eli/Documents/new_pieman/all_tasks/sub-88-task-rest2.nii with mask /home/eli/Documents/new_pieman/all_tasks/wholebrain.nii.gz (zscore=True, smooth=None)\n",
      "05/21/2019 15:35:14 Loading Nifti image /home/eli/Documents/new_pieman/all_tasks/sub-89-task-rest2.nii with mask /home/eli/Documents/new_pieman/all_tasks/wholebrain.nii.gz (zscore=True, smooth=None)\n",
      "05/21/2019 15:35:19 Loading Nifti image /home/eli/Documents/new_pieman/all_tasks/sub-9-task-intact1.nii with mask /home/eli/Documents/new_pieman/all_tasks/wholebrain.nii.gz (zscore=True, smooth=None)\n",
      "05/21/2019 15:35:23 Loading Nifti image /home/eli/Documents/new_pieman/all_tasks/sub-90-task-rest2.nii with mask /home/eli/Documents/new_pieman/all_tasks/wholebrain.nii.gz (zscore=True, smooth=None)\n",
      "05/21/2019 15:35:28 Loading Nifti image /home/eli/Documents/new_pieman/all_tasks/sub-91-task-rest2.nii with mask /home/eli/Documents/new_pieman/all_tasks/wholebrain.nii.gz (zscore=True, smooth=None)\n",
      "05/21/2019 15:35:33 Loading Nifti image /home/eli/Documents/new_pieman/all_tasks/sub-92-task-rest2.nii with mask /home/eli/Documents/new_pieman/all_tasks/wholebrain.nii.gz (zscore=True, smooth=None)\n",
      "05/21/2019 15:35:38 Loading Nifti image /home/eli/Documents/new_pieman/all_tasks/sub-93-task-rest2.nii with mask /home/eli/Documents/new_pieman/all_tasks/wholebrain.nii.gz (zscore=True, smooth=None)\n",
      "05/21/2019 15:35:43 Loading Nifti image /home/eli/Documents/new_pieman/all_tasks/sub-94-task-rest2.nii with mask /home/eli/Documents/new_pieman/all_tasks/wholebrain.nii.gz (zscore=True, smooth=None)\n",
      "05/21/2019 15:35:48 Loading Nifti image /home/eli/Documents/new_pieman/all_tasks/sub-95-task-rest2.nii with mask /home/eli/Documents/new_pieman/all_tasks/wholebrain.nii.gz (zscore=True, smooth=None)\n",
      "05/21/2019 15:35:53 Loading Nifti image /home/eli/Documents/new_pieman/all_tasks/sub-96-task-rest2.nii with mask /home/eli/Documents/new_pieman/all_tasks/wholebrain.nii.gz (zscore=True, smooth=None)\n",
      "05/21/2019 15:36:00 Loading Nifti image /home/eli/Documents/new_pieman/all_tasks/sub-97-task-rest2.nii with mask /home/eli/Documents/new_pieman/all_tasks/wholebrain.nii.gz (zscore=True, smooth=None)\n",
      "05/21/2019 15:36:05 Loading Nifti image /home/eli/Documents/new_pieman/all_tasks/sub-98-task-rest2.nii with mask /home/eli/Documents/new_pieman/all_tasks/wholebrain.nii.gz (zscore=True, smooth=None)\n",
      "05/21/2019 15:36:10 Loading Nifti image /home/eli/Documents/new_pieman/all_tasks/sub-99-task-rest2.nii with mask /home/eli/Documents/new_pieman/all_tasks/wholebrain.nii.gz (zscore=True, smooth=None)\n"
     ]
    },
    {
     "data": {
      "text/plain": [
       "10182201"
      ]
     },
     "execution_count": 26,
     "metadata": {},
     "output_type": "execute_result"
    }
   ],
   "source": [
    "htfa_parameters(num_blocks(pieman_db), num_times(pieman_db))"
   ]
  },
  {
   "cell_type": "code",
   "execution_count": 27,
   "metadata": {},
   "outputs": [
    {
     "data": {
      "text/plain": [
       "195485"
      ]
     },
     "execution_count": 27,
     "metadata": {},
     "output_type": "execute_result"
    }
   ],
   "source": [
    "ntfa_parameters(num_blocks(pieman_db), num_times(pieman_db), num_subjects(pieman_db), num_tasks(pieman_db))"
   ]
  },
  {
   "cell_type": "code",
   "execution_count": null,
   "metadata": {},
   "outputs": [],
   "source": []
  }
 ],
 "metadata": {
  "kernelspec": {
   "display_name": "Python [conda env:HTFATorch] *",
   "language": "python",
   "name": "conda-env-HTFATorch-py"
  },
  "language_info": {
   "codemirror_mode": {
    "name": "ipython",
    "version": 3
   },
   "file_extension": ".py",
   "mimetype": "text/x-python",
   "name": "python",
   "nbconvert_exporter": "python",
   "pygments_lexer": "ipython3",
   "version": "3.6.7"
  }
 },
 "nbformat": 4,
 "nbformat_minor": 2
}
