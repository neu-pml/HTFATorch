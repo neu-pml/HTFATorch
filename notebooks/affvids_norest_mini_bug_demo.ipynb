{
 "cells": [
  {
   "cell_type": "code",
   "execution_count": 1,
   "metadata": {},
   "outputs": [
    {
     "name": "stdout",
     "output_type": "stream",
     "text": [
      "/home/zulqarnain/Code/ntfa_rewrite_batching_fixed/htfatorch\n"
     ]
    }
   ],
   "source": [
    "%cd ../"
   ]
  },
  {
   "cell_type": "code",
   "execution_count": 2,
   "metadata": {},
   "outputs": [],
   "source": [
    "import logging\n",
    "import numpy as np\n",
    "import htfa_torch.dtfa as DTFA\n",
    "import htfa_torch.niidb as niidb\n",
    "import htfa_torch.tardb as tardb\n",
    "import htfa_torch.utils as utils"
   ]
  },
  {
   "cell_type": "code",
   "execution_count": 3,
   "metadata": {},
   "outputs": [],
   "source": [
    "%matplotlib inline"
   ]
  },
  {
   "cell_type": "code",
   "execution_count": 4,
   "metadata": {},
   "outputs": [],
   "source": [
    "logging.basicConfig(format='%(asctime)s %(message)s', datefmt='%m/%d/%Y %H:%M:%S',\n",
    "                    level=logging.INFO)"
   ]
  },
  {
   "cell_type": "code",
   "execution_count": 5,
   "metadata": {},
   "outputs": [],
   "source": [
    "affvids_db = tardb.FmriTarDataset('data/affvids2018_mc_zrest_norest_mini_bug.tar')"
   ]
  },
  {
   "cell_type": "code",
   "execution_count": 6,
   "metadata": {},
   "outputs": [],
   "source": [
    "dtfa = DTFA.DeepTFA(affvids_db, num_factors=100, embedding_dim=2)"
   ]
  },
  {
   "cell_type": "code",
   "execution_count": 8,
   "metadata": {},
   "outputs": [
    {
     "data": {
      "text/plain": [
       "[25, 26, 7]"
      ]
     },
     "execution_count": 8,
     "metadata": {},
     "output_type": "execute_result"
    }
   ],
   "source": [
    "dtfa.subjects()"
   ]
  },
  {
   "cell_type": "code",
   "execution_count": 21,
   "metadata": {},
   "outputs": [
    {
     "data": {
      "text/plain": [
       "{'__key__': ['sub25_run01_mc_MNI_masked_000173',\n",
       "  'sub25_run03_mc_MNI_masked_000156',\n",
       "  'sub25_run03_mc_MNI_masked_000157',\n",
       "  'sub25_run03_mc_MNI_masked_000158',\n",
       "  'sub25_run03_mc_MNI_masked_000159',\n",
       "  'sub25_run03_mc_MNI_masked_000160',\n",
       "  'sub25_run03_mc_MNI_masked_000161',\n",
       "  'sub25_run03_mc_MNI_masked_000162',\n",
       "  'sub25_run03_mc_MNI_masked_000163',\n",
       "  'sub25_run03_mc_MNI_masked_000164',\n",
       "  'sub25_run03_mc_MNI_masked_000165',\n",
       "  'sub25_run03_mc_MNI_masked_000166',\n",
       "  'sub25_run03_mc_MNI_masked_000167',\n",
       "  'sub25_run03_mc_MNI_masked_000168',\n",
       "  'sub25_run03_mc_MNI_masked_000169',\n",
       "  'sub25_run03_mc_MNI_masked_000170',\n",
       "  'sub25_run03_mc_MNI_masked_000171',\n",
       "  'sub25_run03_mc_MNI_masked_000172',\n",
       "  'sub25_run03_mc_MNI_masked_000173'],\n",
       " 'activations': tensor([[-1.2378, -1.0561, -1.1299,  ..., -0.9301, -1.0245, -0.5179],\n",
       "         [ 2.5537,  2.5945,  1.8418,  ...,  0.4102,  0.0108, -0.1624],\n",
       "         [ 0.7593,  0.9734,  1.4434,  ..., -2.4283, -3.1333, -3.2298],\n",
       "         ...,\n",
       "         [ 0.2381,  0.2216,  0.0563,  ..., -1.9452, -2.7206, -2.6285],\n",
       "         [-0.1748,  0.0592, -0.0191,  ..., -0.6961, -1.2359, -1.0411],\n",
       "         [ 0.8664,  0.1413,  1.0486,  ..., -0.2105, -0.8826, -0.9298]]),\n",
       " 't': tensor([173, 156, 157, 158, 159, 160, 161, 162, 163, 164, 165, 166, 167, 168,\n",
       "         169, 170, 171, 172, 173]),\n",
       " 'block': tensor([ 9, 10, 10, 10, 10, 10, 10, 10, 10, 10, 10, 10, 10, 10, 10, 10, 10, 10,\n",
       "         10])}"
      ]
     },
     "execution_count": 21,
     "metadata": {},
     "output_type": "execute_result"
    }
   ],
   "source": [
    "dtfa._dataset[45] #notice files are from participant 25"
   ]
  },
  {
   "cell_type": "code",
   "execution_count": 23,
   "metadata": {},
   "outputs": [
    {
     "data": {
      "text/plain": [
       "{'id': 45,\n",
       " 'individual_differences': {'fear_rating': nan},\n",
       " 'run': 2,\n",
       " 'subject': 26,\n",
       " 'task': 'social_low_6.m4v',\n",
       " 'template': '/data/zulqarnain/fmri_data/AffVids_mcwm/motion_corrected/sub26_run02_mc_MNI_masked.nii.gz',\n",
       " 'times': [201,\n",
       "  202,\n",
       "  203,\n",
       "  204,\n",
       "  205,\n",
       "  206,\n",
       "  207,\n",
       "  208,\n",
       "  209,\n",
       "  210,\n",
       "  211,\n",
       "  212,\n",
       "  213,\n",
       "  214,\n",
       "  215,\n",
       "  216,\n",
       "  217,\n",
       "  218,\n",
       "  219]}"
      ]
     },
     "execution_count": 23,
     "metadata": {},
     "output_type": "execute_result"
    }
   ],
   "source": [
    "dtfa._dataset.blocks[45] #notice all this is from participant 26"
   ]
  },
  {
   "cell_type": "code",
   "execution_count": null,
   "metadata": {},
   "outputs": [],
   "source": []
  }
 ],
 "metadata": {
  "kernelspec": {
   "display_name": "Python 3",
   "language": "python",
   "name": "python3"
  },
  "language_info": {
   "codemirror_mode": {
    "name": "ipython",
    "version": 3
   },
   "file_extension": ".py",
   "mimetype": "text/x-python",
   "name": "python",
   "nbconvert_exporter": "python",
   "pygments_lexer": "ipython3",
   "version": "3.8.5"
  }
 },
 "nbformat": 4,
 "nbformat_minor": 4
}
