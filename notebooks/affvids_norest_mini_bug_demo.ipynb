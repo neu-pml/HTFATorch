{
 "cells": [
  {
   "cell_type": "code",
   "execution_count": 1,
   "metadata": {},
   "outputs": [
    {
     "name": "stdout",
     "output_type": "stream",
     "text": [
      "/home/eli/AnacondaProjects/HTFATorch\n"
     ]
    }
   ],
   "source": [
    "%cd ../"
   ]
  },
  {
   "cell_type": "code",
   "execution_count": 2,
   "metadata": {},
   "outputs": [
    {
     "name": "stderr",
     "output_type": "stream",
     "text": [
      "/home/eli/anaconda3/envs/HTFATorch/lib/python3.7/site-packages/nilearn/datasets/__init__.py:89: FutureWarning: Fetchers from the nilearn.datasets module will be updated in version 0.9 to return python strings instead of bytes and Pandas dataframes instead of Numpy arrays.\n",
      "  \"Numpy arrays.\", FutureWarning)\n"
     ]
    }
   ],
   "source": [
    "import logging\n",
    "import numpy as np\n",
    "import htfa_torch.dtfa as DTFA\n",
    "import htfa_torch.niidb as niidb\n",
    "import htfa_torch.tardb as tardb\n",
    "import htfa_torch.utils as utils"
   ]
  },
  {
   "cell_type": "code",
   "execution_count": 3,
   "metadata": {},
   "outputs": [],
   "source": [
    "%matplotlib inline"
   ]
  },
  {
   "cell_type": "code",
   "execution_count": 4,
   "metadata": {},
   "outputs": [],
   "source": [
    "logging.basicConfig(format='%(asctime)s %(message)s', datefmt='%m/%d/%Y %H:%M:%S',\n",
    "                    level=logging.INFO)"
   ]
  },
  {
   "cell_type": "code",
   "execution_count": 5,
   "metadata": {},
   "outputs": [],
   "source": [
    "affvids_db = tardb.FmriTarDataset('data/affvids2018_mc_zrest_norest_mini_bug.tar')"
   ]
  },
  {
   "cell_type": "code",
   "execution_count": 6,
   "metadata": {},
   "outputs": [],
   "source": [
    "dtfa = DTFA.DeepTFA(affvids_db, num_factors=100, embedding_dim=2)"
   ]
  },
  {
   "cell_type": "code",
   "execution_count": 7,
   "metadata": {},
   "outputs": [
    {
     "data": {
      "text/plain": [
       "[25, 26, 7]"
      ]
     },
     "execution_count": 7,
     "metadata": {},
     "output_type": "execute_result"
    }
   ],
   "source": [
    "dtfa.subjects()"
   ]
  },
  {
   "cell_type": "code",
   "execution_count": 8,
   "metadata": {},
   "outputs": [
    {
     "data": {
      "text/plain": [
       "{'__key__': ['sub26_run02_mc_MNI_masked_000201',\n",
       "  'sub26_run02_mc_MNI_masked_000202',\n",
       "  'sub26_run02_mc_MNI_masked_000203',\n",
       "  'sub26_run02_mc_MNI_masked_000204',\n",
       "  'sub26_run02_mc_MNI_masked_000205',\n",
       "  'sub26_run02_mc_MNI_masked_000206',\n",
       "  'sub26_run02_mc_MNI_masked_000207',\n",
       "  'sub26_run02_mc_MNI_masked_000208',\n",
       "  'sub26_run02_mc_MNI_masked_000209',\n",
       "  'sub26_run02_mc_MNI_masked_000210',\n",
       "  'sub26_run02_mc_MNI_masked_000211',\n",
       "  'sub26_run02_mc_MNI_masked_000212',\n",
       "  'sub26_run02_mc_MNI_masked_000213',\n",
       "  'sub26_run02_mc_MNI_masked_000214',\n",
       "  'sub26_run02_mc_MNI_masked_000215',\n",
       "  'sub26_run02_mc_MNI_masked_000216',\n",
       "  'sub26_run02_mc_MNI_masked_000217',\n",
       "  'sub26_run02_mc_MNI_masked_000218',\n",
       "  'sub26_run02_mc_MNI_masked_000219'],\n",
       " 'activations': tensor([[ 0.9106,  1.9554, -0.6307,  ..., -1.0539, -1.2210, -1.3138],\n",
       "         [ 0.3609,  1.1705,  0.4246,  ..., -0.4857,  0.1341,  0.4316],\n",
       "         [ 0.9237,  0.9281,  0.7921,  ...,  0.4072, -0.0459, -0.6148],\n",
       "         ...,\n",
       "         [ 1.0732,  0.4295,  0.7479,  ...,  1.1949,  0.6109,  0.2150],\n",
       "         [-0.0346,  0.1034, -0.3911,  ..., -0.7943, -0.6060, -0.3884],\n",
       "         [ 1.4797,  1.2346,  0.3797,  ...,  1.1283,  1.1478,  0.4140]]),\n",
       " 't': tensor([201, 202, 203, 204, 205, 206, 207, 208, 209, 210, 211, 212, 213, 214,\n",
       "         215, 216, 217, 218, 219]),\n",
       " 'block': tensor([45, 45, 45, 45, 45, 45, 45, 45, 45, 45, 45, 45, 45, 45, 45, 45, 45, 45,\n",
       "         45])}"
      ]
     },
     "execution_count": 8,
     "metadata": {},
     "output_type": "execute_result"
    }
   ],
   "source": [
    "dtfa._dataset[45] #notice files are from participant 25"
   ]
  },
  {
   "cell_type": "code",
   "execution_count": 9,
   "metadata": {},
   "outputs": [
    {
     "data": {
      "text/plain": [
       "{'id': 45,\n",
       " 'indices': [913,\n",
       "  914,\n",
       "  915,\n",
       "  916,\n",
       "  917,\n",
       "  918,\n",
       "  919,\n",
       "  920,\n",
       "  921,\n",
       "  922,\n",
       "  923,\n",
       "  924,\n",
       "  925,\n",
       "  926,\n",
       "  927,\n",
       "  928,\n",
       "  929,\n",
       "  930,\n",
       "  931],\n",
       " 'individual_differences': {'fear_rating': nan},\n",
       " 'run': 2,\n",
       " 'subject': 26,\n",
       " 'task': 'social_low_6.m4v',\n",
       " 'template': '/home/eli/Documents/AffVids/motion_corrected/sub26_run02_mc_MNI_masked.nii.gz',\n",
       " 'times': [201,\n",
       "  202,\n",
       "  203,\n",
       "  204,\n",
       "  205,\n",
       "  206,\n",
       "  207,\n",
       "  208,\n",
       "  209,\n",
       "  210,\n",
       "  211,\n",
       "  212,\n",
       "  213,\n",
       "  214,\n",
       "  215,\n",
       "  216,\n",
       "  217,\n",
       "  218,\n",
       "  219]}"
      ]
     },
     "execution_count": 9,
     "metadata": {},
     "output_type": "execute_result"
    }
   ],
   "source": [
    "dtfa._dataset.blocks[45] #notice all this is from participant 26"
   ]
  },
  {
   "cell_type": "code",
   "execution_count": null,
   "metadata": {},
   "outputs": [],
   "source": []
  }
 ],
 "metadata": {
  "kernelspec": {
   "display_name": "Python [conda env:HTFATorch] *",
   "language": "python",
   "name": "conda-env-HTFATorch-py"
  },
  "language_info": {
   "codemirror_mode": {
    "name": "ipython",
    "version": 3
   },
   "file_extension": ".py",
   "mimetype": "text/x-python",
   "name": "python",
   "nbconvert_exporter": "python",
   "pygments_lexer": "ipython3",
   "version": "3.7.11"
  }
 },
 "nbformat": 4,
 "nbformat_minor": 4
}
