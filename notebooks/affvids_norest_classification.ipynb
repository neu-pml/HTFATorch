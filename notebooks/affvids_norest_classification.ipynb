{
 "cells": [
  {
   "cell_type": "code",
   "execution_count": 1,
   "metadata": {},
   "outputs": [
    {
     "name": "stdout",
     "output_type": "stream",
     "text": [
      "/home/zulqarnain/develop/htfatorch\n"
     ]
    }
   ],
   "source": [
    "%cd ../"
   ]
  },
  {
   "cell_type": "code",
   "execution_count": 2,
   "metadata": {},
   "outputs": [
    {
     "name": "stderr",
     "output_type": "stream",
     "text": [
      "/home/zulqarnain/anaconda3/envs/htfatorch/lib/python3.7/site-packages/sklearn/externals/joblib/__init__.py:15: DeprecationWarning: sklearn.externals.joblib is deprecated in 0.21 and will be removed in 0.23. Please import this functionality directly from joblib, which can be installed with: pip install joblib. If this warning is raised when loading pickled models, you may need to re-serialize those models with scikit-learn 0.21+.\n",
      "  warnings.warn(msg, category=DeprecationWarning)\n",
      "/home/zulqarnain/anaconda3/envs/htfatorch/lib/python3.7/site-packages/dataset/util.py:3: DeprecationWarning: Using or importing the ABCs from 'collections' instead of from 'collections.abc' is deprecated, and in 3.8 it will stop working\n",
      "  from collections import OrderedDict, Sequence\n",
      "/home/zulqarnain/anaconda3/envs/htfatorch/lib/python3.7/importlib/_bootstrap.py:219: ImportWarning: can't resolve package from __spec__ or __package__, falling back on __name__ and __path__\n",
      "  return f(*args, **kwds)\n"
     ]
    }
   ],
   "source": [
    "import logging\n",
    "import numpy as np\n",
    "import htfa_torch.dtfa as DTFA\n",
    "import htfa_torch.niidb as niidb\n",
    "import htfa_torch.utils as utils\n",
    "import htfa_torch.htfa as HTFA\n"
   ]
  },
  {
   "cell_type": "code",
   "execution_count": 17,
   "metadata": {},
   "outputs": [],
   "source": [
    "from scipy.spatial import distance\n",
    "from scipy import stats\n",
    "import nilearn.plotting as niplot\n",
    "import statsmodels.stats.multitest as smt\n",
    "from ordered_set import OrderedSet\n",
    "from sklearn.svm import SVC\n",
    "from sklearn.dummy import DummyClassifier\n",
    "from sklearn.model_selection import LeaveOneGroupOut, cross_val_score\n",
    "from sklearn.feature_selection import SelectPercentile, f_classif\n",
    "from sklearn.pipeline import Pipeline"
   ]
  },
  {
   "cell_type": "code",
   "execution_count": 5,
   "metadata": {},
   "outputs": [],
   "source": [
    "import matplotlib\n",
    "import matplotlib.pyplot as pl\n",
    "from matplotlib import cycler\n",
    "from seaborn.apionly import color_palette\n",
    "column_width = 3.3\n",
    "page_width = 6.7\n",
    "# colorblind-friendly colors \n",
    "# source: https://personal.sron.nl/~pault/\n",
    "colors = {\n",
    "    'bright': ['4477AA', \n",
    "               '66CCEE', \n",
    "               '228833', \n",
    "               'CCBB44', \n",
    "               'EE6677', \n",
    "               'AA3377', \n",
    "               'BBBBBB'],\n",
    "    'high_contrast': ['FFFFFF', \n",
    "                      'DDAA33', \n",
    "                      'BB5566', \n",
    "                      '004488', \n",
    "                      '00000'],\n",
    "    'vibrant': ['0077BB', \n",
    "                '33BBEE', \n",
    "                '0099BB',\n",
    "                'EE7733',\n",
    "                'CC3311',\n",
    "                'EE3377',\n",
    "                'BBBBBB'],\n",
    "    'muted': ['332288',\n",
    "              '88CCEE',\n",
    "              '44AA99',\n",
    "              '117733',\n",
    "              '999933',\n",
    "              'DDCC77',\n",
    "              'CC6677',\n",
    "              '882255',\n",
    "              'AA4499']\n",
    "}\n",
    "pl.rc('legend', frameon=False)\n",
    "pl.rc('figure', figsize=(column_width, \n",
    "                         0.66 * column_width),\n",
    "                dpi=120)\n",
    "pl.rc('savefig', dpi=300)\n",
    "pl.rc('font', size=8)\n"
   ]
  },
  {
   "cell_type": "code",
   "execution_count": 6,
   "metadata": {},
   "outputs": [],
   "source": [
    "%matplotlib inline"
   ]
  },
  {
   "cell_type": "code",
   "execution_count": 7,
   "metadata": {},
   "outputs": [],
   "source": [
    "logging.basicConfig(format='%(asctime)s %(message)s', datefmt='%m/%d/%Y %H:%M:%S',\n",
    "                    level=logging.INFO)"
   ]
  },
  {
   "cell_type": "code",
   "execution_count": 8,
   "metadata": {},
   "outputs": [],
   "source": [
    "affvids_db = niidb.FMriActivationsDb('data/affvids2018_mc_zrest.db')"
   ]
  },
  {
   "cell_type": "code",
   "execution_count": 9,
   "metadata": {},
   "outputs": [
    {
     "name": "stderr",
     "output_type": "stream",
     "text": [
      "01/28/2020 15:45:53 Loading Nifti image /data/zulqarnain/AffVids_mcwm/motion_corrected/sub10_run02_mc_MNI_masked.nii.gz with mask /data/zulqarnain/AffVids_mcwm/wholebrain2.nii.gz (zscore=True, smooth=6, zscore_by_rest=True)\n",
      "/home/zulqarnain/anaconda3/envs/htfatorch/lib/python3.7/site-packages/nilearn/_utils/cache_mixin.py:232: DeprecationWarning: The 'cachedir' attribute has been deprecated in version 0.12 and will be removed in version 0.14.\n",
      "Use os.path.join(memory.location, 'joblib') attribute instead.\n",
      "  if (memory.cachedir is None and memory_level is not None\n",
      "01/28/2020 15:46:14 Loading Nifti image /data/zulqarnain/AffVids_mcwm/motion_corrected/sub10_run03_mc_MNI_masked.nii.gz with mask /data/zulqarnain/AffVids_mcwm/wholebrain2.nii.gz (zscore=True, smooth=6, zscore_by_rest=True)\n",
      "/home/zulqarnain/anaconda3/envs/htfatorch/lib/python3.7/site-packages/nilearn/_utils/cache_mixin.py:232: DeprecationWarning: The 'cachedir' attribute has been deprecated in version 0.12 and will be removed in version 0.14.\n",
      "Use os.path.join(memory.location, 'joblib') attribute instead.\n",
      "  if (memory.cachedir is None and memory_level is not None\n",
      "01/28/2020 15:46:34 Loading Nifti image /data/zulqarnain/AffVids_mcwm/motion_corrected/sub10_run01_mc_MNI_masked.nii.gz with mask /data/zulqarnain/AffVids_mcwm/wholebrain2.nii.gz (zscore=True, smooth=6, zscore_by_rest=True)\n",
      "/home/zulqarnain/anaconda3/envs/htfatorch/lib/python3.7/site-packages/nilearn/_utils/cache_mixin.py:232: DeprecationWarning: The 'cachedir' attribute has been deprecated in version 0.12 and will be removed in version 0.14.\n",
      "Use os.path.join(memory.location, 'joblib') attribute instead.\n",
      "  if (memory.cachedir is None and memory_level is not None\n",
      "01/28/2020 15:46:55 Loading Nifti image /data/zulqarnain/AffVids_mcwm/motion_corrected/sub11_run02_mc_MNI_masked.nii.gz with mask /data/zulqarnain/AffVids_mcwm/wholebrain2.nii.gz (zscore=True, smooth=6, zscore_by_rest=True)\n",
      "/home/zulqarnain/anaconda3/envs/htfatorch/lib/python3.7/site-packages/nilearn/_utils/cache_mixin.py:232: DeprecationWarning: The 'cachedir' attribute has been deprecated in version 0.12 and will be removed in version 0.14.\n",
      "Use os.path.join(memory.location, 'joblib') attribute instead.\n",
      "  if (memory.cachedir is None and memory_level is not None\n",
      "01/28/2020 15:47:15 Loading Nifti image /data/zulqarnain/AffVids_mcwm/motion_corrected/sub11_run01_mc_MNI_masked.nii.gz with mask /data/zulqarnain/AffVids_mcwm/wholebrain2.nii.gz (zscore=True, smooth=6, zscore_by_rest=True)\n",
      "/home/zulqarnain/anaconda3/envs/htfatorch/lib/python3.7/site-packages/nilearn/_utils/cache_mixin.py:232: DeprecationWarning: The 'cachedir' attribute has been deprecated in version 0.12 and will be removed in version 0.14.\n",
      "Use os.path.join(memory.location, 'joblib') attribute instead.\n",
      "  if (memory.cachedir is None and memory_level is not None\n",
      "01/28/2020 15:47:35 Loading Nifti image /data/zulqarnain/AffVids_mcwm/motion_corrected/sub11_run03_mc_MNI_masked.nii.gz with mask /data/zulqarnain/AffVids_mcwm/wholebrain2.nii.gz (zscore=True, smooth=6, zscore_by_rest=True)\n",
      "/home/zulqarnain/anaconda3/envs/htfatorch/lib/python3.7/site-packages/nilearn/_utils/cache_mixin.py:232: DeprecationWarning: The 'cachedir' attribute has been deprecated in version 0.12 and will be removed in version 0.14.\n",
      "Use os.path.join(memory.location, 'joblib') attribute instead.\n",
      "  if (memory.cachedir is None and memory_level is not None\n",
      "01/28/2020 15:47:56 Loading Nifti image /data/zulqarnain/AffVids_mcwm/motion_corrected/sub12_run03_mc_MNI_masked.nii.gz with mask /data/zulqarnain/AffVids_mcwm/wholebrain2.nii.gz (zscore=True, smooth=6, zscore_by_rest=True)\n",
      "/home/zulqarnain/anaconda3/envs/htfatorch/lib/python3.7/site-packages/nilearn/_utils/cache_mixin.py:232: DeprecationWarning: The 'cachedir' attribute has been deprecated in version 0.12 and will be removed in version 0.14.\n",
      "Use os.path.join(memory.location, 'joblib') attribute instead.\n",
      "  if (memory.cachedir is None and memory_level is not None\n",
      "01/28/2020 15:48:17 Loading Nifti image /data/zulqarnain/AffVids_mcwm/motion_corrected/sub12_run01_mc_MNI_masked.nii.gz with mask /data/zulqarnain/AffVids_mcwm/wholebrain2.nii.gz (zscore=True, smooth=6, zscore_by_rest=True)\n",
      "/home/zulqarnain/anaconda3/envs/htfatorch/lib/python3.7/site-packages/nilearn/_utils/cache_mixin.py:232: DeprecationWarning: The 'cachedir' attribute has been deprecated in version 0.12 and will be removed in version 0.14.\n",
      "Use os.path.join(memory.location, 'joblib') attribute instead.\n",
      "  if (memory.cachedir is None and memory_level is not None\n",
      "01/28/2020 15:48:38 Loading Nifti image /data/zulqarnain/AffVids_mcwm/motion_corrected/sub12_run02_mc_MNI_masked.nii.gz with mask /data/zulqarnain/AffVids_mcwm/wholebrain2.nii.gz (zscore=True, smooth=6, zscore_by_rest=True)\n",
      "/home/zulqarnain/anaconda3/envs/htfatorch/lib/python3.7/site-packages/nilearn/_utils/cache_mixin.py:232: DeprecationWarning: The 'cachedir' attribute has been deprecated in version 0.12 and will be removed in version 0.14.\n",
      "Use os.path.join(memory.location, 'joblib') attribute instead.\n",
      "  if (memory.cachedir is None and memory_level is not None\n",
      "01/28/2020 15:48:58 Loading Nifti image /data/zulqarnain/AffVids_mcwm/motion_corrected/sub13_run01_mc_MNI_masked.nii.gz with mask /data/zulqarnain/AffVids_mcwm/wholebrain2.nii.gz (zscore=True, smooth=6, zscore_by_rest=True)\n",
      "/home/zulqarnain/anaconda3/envs/htfatorch/lib/python3.7/site-packages/nilearn/_utils/cache_mixin.py:232: DeprecationWarning: The 'cachedir' attribute has been deprecated in version 0.12 and will be removed in version 0.14.\n",
      "Use os.path.join(memory.location, 'joblib') attribute instead.\n",
      "  if (memory.cachedir is None and memory_level is not None\n",
      "01/28/2020 15:49:19 Loading Nifti image /data/zulqarnain/AffVids_mcwm/motion_corrected/sub13_run03_mc_MNI_masked.nii.gz with mask /data/zulqarnain/AffVids_mcwm/wholebrain2.nii.gz (zscore=True, smooth=6, zscore_by_rest=True)\n",
      "/home/zulqarnain/anaconda3/envs/htfatorch/lib/python3.7/site-packages/nilearn/_utils/cache_mixin.py:232: DeprecationWarning: The 'cachedir' attribute has been deprecated in version 0.12 and will be removed in version 0.14.\n",
      "Use os.path.join(memory.location, 'joblib') attribute instead.\n",
      "  if (memory.cachedir is None and memory_level is not None\n",
      "01/28/2020 15:49:40 Loading Nifti image /data/zulqarnain/AffVids_mcwm/motion_corrected/sub13_run02_mc_MNI_masked.nii.gz with mask /data/zulqarnain/AffVids_mcwm/wholebrain2.nii.gz (zscore=True, smooth=6, zscore_by_rest=True)\n",
      "/home/zulqarnain/anaconda3/envs/htfatorch/lib/python3.7/site-packages/nilearn/_utils/cache_mixin.py:232: DeprecationWarning: The 'cachedir' attribute has been deprecated in version 0.12 and will be removed in version 0.14.\n",
      "Use os.path.join(memory.location, 'joblib') attribute instead.\n",
      "  if (memory.cachedir is None and memory_level is not None\n",
      "01/28/2020 15:50:00 Loading Nifti image /data/zulqarnain/AffVids_mcwm/motion_corrected/sub14_run01_mc_MNI_masked.nii.gz with mask /data/zulqarnain/AffVids_mcwm/wholebrain2.nii.gz (zscore=True, smooth=6, zscore_by_rest=True)\n",
      "/home/zulqarnain/anaconda3/envs/htfatorch/lib/python3.7/site-packages/nilearn/_utils/cache_mixin.py:232: DeprecationWarning: The 'cachedir' attribute has been deprecated in version 0.12 and will be removed in version 0.14.\n",
      "Use os.path.join(memory.location, 'joblib') attribute instead.\n",
      "  if (memory.cachedir is None and memory_level is not None\n",
      "01/28/2020 15:50:21 Loading Nifti image /data/zulqarnain/AffVids_mcwm/motion_corrected/sub14_run02_mc_MNI_masked.nii.gz with mask /data/zulqarnain/AffVids_mcwm/wholebrain2.nii.gz (zscore=True, smooth=6, zscore_by_rest=True)\n",
      "/home/zulqarnain/anaconda3/envs/htfatorch/lib/python3.7/site-packages/nilearn/_utils/cache_mixin.py:232: DeprecationWarning: The 'cachedir' attribute has been deprecated in version 0.12 and will be removed in version 0.14.\n",
      "Use os.path.join(memory.location, 'joblib') attribute instead.\n",
      "  if (memory.cachedir is None and memory_level is not None\n",
      "01/28/2020 15:50:41 Loading Nifti image /data/zulqarnain/AffVids_mcwm/motion_corrected/sub15_run01_mc_MNI_masked.nii.gz with mask /data/zulqarnain/AffVids_mcwm/wholebrain2.nii.gz (zscore=True, smooth=6, zscore_by_rest=True)\n",
      "/home/zulqarnain/anaconda3/envs/htfatorch/lib/python3.7/site-packages/nilearn/_utils/cache_mixin.py:232: DeprecationWarning: The 'cachedir' attribute has been deprecated in version 0.12 and will be removed in version 0.14.\n",
      "Use os.path.join(memory.location, 'joblib') attribute instead.\n",
      "  if (memory.cachedir is None and memory_level is not None\n"
     ]
    },
    {
     "name": "stderr",
     "output_type": "stream",
     "text": [
      "01/28/2020 15:51:01 Loading Nifti image /data/zulqarnain/AffVids_mcwm/motion_corrected/sub15_run02_mc_MNI_masked.nii.gz with mask /data/zulqarnain/AffVids_mcwm/wholebrain2.nii.gz (zscore=True, smooth=6, zscore_by_rest=True)\n",
      "/home/zulqarnain/anaconda3/envs/htfatorch/lib/python3.7/site-packages/nilearn/_utils/cache_mixin.py:232: DeprecationWarning: The 'cachedir' attribute has been deprecated in version 0.12 and will be removed in version 0.14.\n",
      "Use os.path.join(memory.location, 'joblib') attribute instead.\n",
      "  if (memory.cachedir is None and memory_level is not None\n",
      "01/28/2020 15:51:22 Loading Nifti image /data/zulqarnain/AffVids_mcwm/motion_corrected/sub15_run03_mc_MNI_masked.nii.gz with mask /data/zulqarnain/AffVids_mcwm/wholebrain2.nii.gz (zscore=True, smooth=6, zscore_by_rest=True)\n",
      "/home/zulqarnain/anaconda3/envs/htfatorch/lib/python3.7/site-packages/nilearn/_utils/cache_mixin.py:232: DeprecationWarning: The 'cachedir' attribute has been deprecated in version 0.12 and will be removed in version 0.14.\n",
      "Use os.path.join(memory.location, 'joblib') attribute instead.\n",
      "  if (memory.cachedir is None and memory_level is not None\n",
      "01/28/2020 15:51:42 Loading Nifti image /data/zulqarnain/AffVids_mcwm/motion_corrected/sub16_run02_mc_MNI_masked.nii.gz with mask /data/zulqarnain/AffVids_mcwm/wholebrain2.nii.gz (zscore=True, smooth=6, zscore_by_rest=True)\n",
      "/home/zulqarnain/anaconda3/envs/htfatorch/lib/python3.7/site-packages/nilearn/_utils/cache_mixin.py:232: DeprecationWarning: The 'cachedir' attribute has been deprecated in version 0.12 and will be removed in version 0.14.\n",
      "Use os.path.join(memory.location, 'joblib') attribute instead.\n",
      "  if (memory.cachedir is None and memory_level is not None\n",
      "01/28/2020 15:52:03 Loading Nifti image /data/zulqarnain/AffVids_mcwm/motion_corrected/sub16_run03_mc_MNI_masked.nii.gz with mask /data/zulqarnain/AffVids_mcwm/wholebrain2.nii.gz (zscore=True, smooth=6, zscore_by_rest=True)\n",
      "/home/zulqarnain/anaconda3/envs/htfatorch/lib/python3.7/site-packages/nilearn/_utils/cache_mixin.py:232: DeprecationWarning: The 'cachedir' attribute has been deprecated in version 0.12 and will be removed in version 0.14.\n",
      "Use os.path.join(memory.location, 'joblib') attribute instead.\n",
      "  if (memory.cachedir is None and memory_level is not None\n",
      "01/28/2020 15:52:23 Loading Nifti image /data/zulqarnain/AffVids_mcwm/motion_corrected/sub16_run01_mc_MNI_masked.nii.gz with mask /data/zulqarnain/AffVids_mcwm/wholebrain2.nii.gz (zscore=True, smooth=6, zscore_by_rest=True)\n",
      "/home/zulqarnain/anaconda3/envs/htfatorch/lib/python3.7/site-packages/nilearn/_utils/cache_mixin.py:232: DeprecationWarning: The 'cachedir' attribute has been deprecated in version 0.12 and will be removed in version 0.14.\n",
      "Use os.path.join(memory.location, 'joblib') attribute instead.\n",
      "  if (memory.cachedir is None and memory_level is not None\n",
      "01/28/2020 15:52:44 Loading Nifti image /data/zulqarnain/AffVids_mcwm/motion_corrected/sub17_run03_mc_MNI_masked.nii.gz with mask /data/zulqarnain/AffVids_mcwm/wholebrain2.nii.gz (zscore=True, smooth=6, zscore_by_rest=True)\n",
      "/home/zulqarnain/anaconda3/envs/htfatorch/lib/python3.7/site-packages/nilearn/_utils/cache_mixin.py:232: DeprecationWarning: The 'cachedir' attribute has been deprecated in version 0.12 and will be removed in version 0.14.\n",
      "Use os.path.join(memory.location, 'joblib') attribute instead.\n",
      "  if (memory.cachedir is None and memory_level is not None\n",
      "01/28/2020 15:53:04 Loading Nifti image /data/zulqarnain/AffVids_mcwm/motion_corrected/sub17_run02_mc_MNI_masked.nii.gz with mask /data/zulqarnain/AffVids_mcwm/wholebrain2.nii.gz (zscore=True, smooth=6, zscore_by_rest=True)\n",
      "/home/zulqarnain/anaconda3/envs/htfatorch/lib/python3.7/site-packages/nilearn/_utils/cache_mixin.py:232: DeprecationWarning: The 'cachedir' attribute has been deprecated in version 0.12 and will be removed in version 0.14.\n",
      "Use os.path.join(memory.location, 'joblib') attribute instead.\n",
      "  if (memory.cachedir is None and memory_level is not None\n",
      "01/28/2020 15:53:25 Loading Nifti image /data/zulqarnain/AffVids_mcwm/motion_corrected/sub17_run01_mc_MNI_masked.nii.gz with mask /data/zulqarnain/AffVids_mcwm/wholebrain2.nii.gz (zscore=True, smooth=6, zscore_by_rest=True)\n",
      "/home/zulqarnain/anaconda3/envs/htfatorch/lib/python3.7/site-packages/nilearn/_utils/cache_mixin.py:232: DeprecationWarning: The 'cachedir' attribute has been deprecated in version 0.12 and will be removed in version 0.14.\n",
      "Use os.path.join(memory.location, 'joblib') attribute instead.\n",
      "  if (memory.cachedir is None and memory_level is not None\n",
      "01/28/2020 15:53:45 Loading Nifti image /data/zulqarnain/AffVids_mcwm/motion_corrected/sub18_run01_mc_MNI_masked.nii.gz with mask /data/zulqarnain/AffVids_mcwm/wholebrain2.nii.gz (zscore=True, smooth=6, zscore_by_rest=True)\n",
      "/home/zulqarnain/anaconda3/envs/htfatorch/lib/python3.7/site-packages/nilearn/_utils/cache_mixin.py:232: DeprecationWarning: The 'cachedir' attribute has been deprecated in version 0.12 and will be removed in version 0.14.\n",
      "Use os.path.join(memory.location, 'joblib') attribute instead.\n",
      "  if (memory.cachedir is None and memory_level is not None\n",
      "01/28/2020 15:54:05 Loading Nifti image /data/zulqarnain/AffVids_mcwm/motion_corrected/sub18_run03_mc_MNI_masked.nii.gz with mask /data/zulqarnain/AffVids_mcwm/wholebrain2.nii.gz (zscore=True, smooth=6, zscore_by_rest=True)\n",
      "/home/zulqarnain/anaconda3/envs/htfatorch/lib/python3.7/site-packages/nilearn/_utils/cache_mixin.py:232: DeprecationWarning: The 'cachedir' attribute has been deprecated in version 0.12 and will be removed in version 0.14.\n",
      "Use os.path.join(memory.location, 'joblib') attribute instead.\n",
      "  if (memory.cachedir is None and memory_level is not None\n",
      "01/28/2020 15:54:26 Loading Nifti image /data/zulqarnain/AffVids_mcwm/motion_corrected/sub18_run02_mc_MNI_masked.nii.gz with mask /data/zulqarnain/AffVids_mcwm/wholebrain2.nii.gz (zscore=True, smooth=6, zscore_by_rest=True)\n",
      "/home/zulqarnain/anaconda3/envs/htfatorch/lib/python3.7/site-packages/nilearn/_utils/cache_mixin.py:232: DeprecationWarning: The 'cachedir' attribute has been deprecated in version 0.12 and will be removed in version 0.14.\n",
      "Use os.path.join(memory.location, 'joblib') attribute instead.\n",
      "  if (memory.cachedir is None and memory_level is not None\n",
      "01/28/2020 15:54:46 Loading Nifti image /data/zulqarnain/AffVids_mcwm/motion_corrected/sub19_run01_mc_MNI_masked.nii.gz with mask /data/zulqarnain/AffVids_mcwm/wholebrain2.nii.gz (zscore=True, smooth=6, zscore_by_rest=True)\n",
      "/home/zulqarnain/anaconda3/envs/htfatorch/lib/python3.7/site-packages/nilearn/_utils/cache_mixin.py:232: DeprecationWarning: The 'cachedir' attribute has been deprecated in version 0.12 and will be removed in version 0.14.\n",
      "Use os.path.join(memory.location, 'joblib') attribute instead.\n",
      "  if (memory.cachedir is None and memory_level is not None\n",
      "01/28/2020 15:55:06 Loading Nifti image /data/zulqarnain/AffVids_mcwm/motion_corrected/sub19_run03_mc_MNI_masked.nii.gz with mask /data/zulqarnain/AffVids_mcwm/wholebrain2.nii.gz (zscore=True, smooth=6, zscore_by_rest=True)\n",
      "/home/zulqarnain/anaconda3/envs/htfatorch/lib/python3.7/site-packages/nilearn/_utils/cache_mixin.py:232: DeprecationWarning: The 'cachedir' attribute has been deprecated in version 0.12 and will be removed in version 0.14.\n",
      "Use os.path.join(memory.location, 'joblib') attribute instead.\n",
      "  if (memory.cachedir is None and memory_level is not None\n",
      "01/28/2020 15:55:26 Loading Nifti image /data/zulqarnain/AffVids_mcwm/motion_corrected/sub19_run02_mc_MNI_masked.nii.gz with mask /data/zulqarnain/AffVids_mcwm/wholebrain2.nii.gz (zscore=True, smooth=6, zscore_by_rest=True)\n",
      "/home/zulqarnain/anaconda3/envs/htfatorch/lib/python3.7/site-packages/nilearn/_utils/cache_mixin.py:232: DeprecationWarning: The 'cachedir' attribute has been deprecated in version 0.12 and will be removed in version 0.14.\n",
      "Use os.path.join(memory.location, 'joblib') attribute instead.\n",
      "  if (memory.cachedir is None and memory_level is not None\n",
      "01/28/2020 15:55:47 Loading Nifti image /data/zulqarnain/AffVids_mcwm/motion_corrected/sub23_run03_mc_MNI_masked.nii.gz with mask /data/zulqarnain/AffVids_mcwm/wholebrain2.nii.gz (zscore=True, smooth=6, zscore_by_rest=True)\n",
      "/home/zulqarnain/anaconda3/envs/htfatorch/lib/python3.7/site-packages/nilearn/_utils/cache_mixin.py:232: DeprecationWarning: The 'cachedir' attribute has been deprecated in version 0.12 and will be removed in version 0.14.\n",
      "Use os.path.join(memory.location, 'joblib') attribute instead.\n",
      "  if (memory.cachedir is None and memory_level is not None\n"
     ]
    },
    {
     "name": "stderr",
     "output_type": "stream",
     "text": [
      "01/28/2020 15:56:08 Loading Nifti image /data/zulqarnain/AffVids_mcwm/motion_corrected/sub23_run02_mc_MNI_masked.nii.gz with mask /data/zulqarnain/AffVids_mcwm/wholebrain2.nii.gz (zscore=True, smooth=6, zscore_by_rest=True)\n",
      "/home/zulqarnain/anaconda3/envs/htfatorch/lib/python3.7/site-packages/nilearn/_utils/cache_mixin.py:232: DeprecationWarning: The 'cachedir' attribute has been deprecated in version 0.12 and will be removed in version 0.14.\n",
      "Use os.path.join(memory.location, 'joblib') attribute instead.\n",
      "  if (memory.cachedir is None and memory_level is not None\n",
      "01/28/2020 15:56:28 Loading Nifti image /data/zulqarnain/AffVids_mcwm/motion_corrected/sub25_run01_mc_MNI_masked.nii.gz with mask /data/zulqarnain/AffVids_mcwm/wholebrain2.nii.gz (zscore=True, smooth=6, zscore_by_rest=True)\n",
      "/home/zulqarnain/anaconda3/envs/htfatorch/lib/python3.7/site-packages/nilearn/_utils/cache_mixin.py:232: DeprecationWarning: The 'cachedir' attribute has been deprecated in version 0.12 and will be removed in version 0.14.\n",
      "Use os.path.join(memory.location, 'joblib') attribute instead.\n",
      "  if (memory.cachedir is None and memory_level is not None\n",
      "01/28/2020 15:56:48 Loading Nifti image /data/zulqarnain/AffVids_mcwm/motion_corrected/sub25_run02_mc_MNI_masked.nii.gz with mask /data/zulqarnain/AffVids_mcwm/wholebrain2.nii.gz (zscore=True, smooth=6, zscore_by_rest=True)\n",
      "/home/zulqarnain/anaconda3/envs/htfatorch/lib/python3.7/site-packages/nilearn/_utils/cache_mixin.py:232: DeprecationWarning: The 'cachedir' attribute has been deprecated in version 0.12 and will be removed in version 0.14.\n",
      "Use os.path.join(memory.location, 'joblib') attribute instead.\n",
      "  if (memory.cachedir is None and memory_level is not None\n",
      "01/28/2020 15:57:09 Loading Nifti image /data/zulqarnain/AffVids_mcwm/motion_corrected/sub25_run03_mc_MNI_masked.nii.gz with mask /data/zulqarnain/AffVids_mcwm/wholebrain2.nii.gz (zscore=True, smooth=6, zscore_by_rest=True)\n",
      "/home/zulqarnain/anaconda3/envs/htfatorch/lib/python3.7/site-packages/nilearn/_utils/cache_mixin.py:232: DeprecationWarning: The 'cachedir' attribute has been deprecated in version 0.12 and will be removed in version 0.14.\n",
      "Use os.path.join(memory.location, 'joblib') attribute instead.\n",
      "  if (memory.cachedir is None and memory_level is not None\n",
      "01/28/2020 15:57:29 Loading Nifti image /data/zulqarnain/AffVids_mcwm/motion_corrected/sub26_run01_mc_MNI_masked.nii.gz with mask /data/zulqarnain/AffVids_mcwm/wholebrain2.nii.gz (zscore=True, smooth=6, zscore_by_rest=True)\n",
      "/home/zulqarnain/anaconda3/envs/htfatorch/lib/python3.7/site-packages/nilearn/_utils/cache_mixin.py:232: DeprecationWarning: The 'cachedir' attribute has been deprecated in version 0.12 and will be removed in version 0.14.\n",
      "Use os.path.join(memory.location, 'joblib') attribute instead.\n",
      "  if (memory.cachedir is None and memory_level is not None\n",
      "01/28/2020 15:57:50 Loading Nifti image /data/zulqarnain/AffVids_mcwm/motion_corrected/sub26_run02_mc_MNI_masked.nii.gz with mask /data/zulqarnain/AffVids_mcwm/wholebrain2.nii.gz (zscore=True, smooth=6, zscore_by_rest=True)\n",
      "/home/zulqarnain/anaconda3/envs/htfatorch/lib/python3.7/site-packages/nilearn/_utils/cache_mixin.py:232: DeprecationWarning: The 'cachedir' attribute has been deprecated in version 0.12 and will be removed in version 0.14.\n",
      "Use os.path.join(memory.location, 'joblib') attribute instead.\n",
      "  if (memory.cachedir is None and memory_level is not None\n",
      "01/28/2020 15:58:10 Loading Nifti image /data/zulqarnain/AffVids_mcwm/motion_corrected/sub28_run02_mc_MNI_masked.nii.gz with mask /data/zulqarnain/AffVids_mcwm/wholebrain2.nii.gz (zscore=True, smooth=6, zscore_by_rest=True)\n",
      "/home/zulqarnain/anaconda3/envs/htfatorch/lib/python3.7/site-packages/nilearn/_utils/cache_mixin.py:232: DeprecationWarning: The 'cachedir' attribute has been deprecated in version 0.12 and will be removed in version 0.14.\n",
      "Use os.path.join(memory.location, 'joblib') attribute instead.\n",
      "  if (memory.cachedir is None and memory_level is not None\n",
      "01/28/2020 15:58:31 Loading Nifti image /data/zulqarnain/AffVids_mcwm/motion_corrected/sub28_run03_mc_MNI_masked.nii.gz with mask /data/zulqarnain/AffVids_mcwm/wholebrain2.nii.gz (zscore=True, smooth=6, zscore_by_rest=True)\n",
      "/home/zulqarnain/anaconda3/envs/htfatorch/lib/python3.7/site-packages/nilearn/_utils/cache_mixin.py:232: DeprecationWarning: The 'cachedir' attribute has been deprecated in version 0.12 and will be removed in version 0.14.\n",
      "Use os.path.join(memory.location, 'joblib') attribute instead.\n",
      "  if (memory.cachedir is None and memory_level is not None\n",
      "01/28/2020 15:58:51 Loading Nifti image /data/zulqarnain/AffVids_mcwm/motion_corrected/sub28_run01_mc_MNI_masked.nii.gz with mask /data/zulqarnain/AffVids_mcwm/wholebrain2.nii.gz (zscore=True, smooth=6, zscore_by_rest=True)\n",
      "/home/zulqarnain/anaconda3/envs/htfatorch/lib/python3.7/site-packages/nilearn/_utils/cache_mixin.py:232: DeprecationWarning: The 'cachedir' attribute has been deprecated in version 0.12 and will be removed in version 0.14.\n",
      "Use os.path.join(memory.location, 'joblib') attribute instead.\n",
      "  if (memory.cachedir is None and memory_level is not None\n",
      "01/28/2020 15:59:12 Loading Nifti image /data/zulqarnain/AffVids_mcwm/motion_corrected/sub29_run02_mc_MNI_masked.nii.gz with mask /data/zulqarnain/AffVids_mcwm/wholebrain2.nii.gz (zscore=True, smooth=6, zscore_by_rest=True)\n",
      "/home/zulqarnain/anaconda3/envs/htfatorch/lib/python3.7/site-packages/nilearn/_utils/cache_mixin.py:232: DeprecationWarning: The 'cachedir' attribute has been deprecated in version 0.12 and will be removed in version 0.14.\n",
      "Use os.path.join(memory.location, 'joblib') attribute instead.\n",
      "  if (memory.cachedir is None and memory_level is not None\n",
      "01/28/2020 15:59:33 Loading Nifti image /data/zulqarnain/AffVids_mcwm/motion_corrected/sub29_run03_mc_MNI_masked.nii.gz with mask /data/zulqarnain/AffVids_mcwm/wholebrain2.nii.gz (zscore=True, smooth=6, zscore_by_rest=True)\n",
      "/home/zulqarnain/anaconda3/envs/htfatorch/lib/python3.7/site-packages/nilearn/_utils/cache_mixin.py:232: DeprecationWarning: The 'cachedir' attribute has been deprecated in version 0.12 and will be removed in version 0.14.\n",
      "Use os.path.join(memory.location, 'joblib') attribute instead.\n",
      "  if (memory.cachedir is None and memory_level is not None\n",
      "01/28/2020 15:59:53 Loading Nifti image /data/zulqarnain/AffVids_mcwm/motion_corrected/sub29_run01_mc_MNI_masked.nii.gz with mask /data/zulqarnain/AffVids_mcwm/wholebrain2.nii.gz (zscore=True, smooth=6, zscore_by_rest=True)\n",
      "/home/zulqarnain/anaconda3/envs/htfatorch/lib/python3.7/site-packages/nilearn/_utils/cache_mixin.py:232: DeprecationWarning: The 'cachedir' attribute has been deprecated in version 0.12 and will be removed in version 0.14.\n",
      "Use os.path.join(memory.location, 'joblib') attribute instead.\n",
      "  if (memory.cachedir is None and memory_level is not None\n",
      "01/28/2020 16:00:14 Loading Nifti image /data/zulqarnain/AffVids_mcwm/motion_corrected/sub04_run03_mc_MNI_masked.nii.gz with mask /data/zulqarnain/AffVids_mcwm/wholebrain2.nii.gz (zscore=True, smooth=6, zscore_by_rest=True)\n",
      "/home/zulqarnain/anaconda3/envs/htfatorch/lib/python3.7/site-packages/nilearn/_utils/cache_mixin.py:232: DeprecationWarning: The 'cachedir' attribute has been deprecated in version 0.12 and will be removed in version 0.14.\n",
      "Use os.path.join(memory.location, 'joblib') attribute instead.\n",
      "  if (memory.cachedir is None and memory_level is not None\n",
      "01/28/2020 16:00:35 Loading Nifti image /data/zulqarnain/AffVids_mcwm/motion_corrected/sub04_run01_mc_MNI_masked.nii.gz with mask /data/zulqarnain/AffVids_mcwm/wholebrain2.nii.gz (zscore=True, smooth=6, zscore_by_rest=True)\n",
      "/home/zulqarnain/anaconda3/envs/htfatorch/lib/python3.7/site-packages/nilearn/_utils/cache_mixin.py:232: DeprecationWarning: The 'cachedir' attribute has been deprecated in version 0.12 and will be removed in version 0.14.\n",
      "Use os.path.join(memory.location, 'joblib') attribute instead.\n",
      "  if (memory.cachedir is None and memory_level is not None\n",
      "01/28/2020 16:00:56 Loading Nifti image /data/zulqarnain/AffVids_mcwm/motion_corrected/sub04_run02_mc_MNI_masked.nii.gz with mask /data/zulqarnain/AffVids_mcwm/wholebrain2.nii.gz (zscore=True, smooth=6, zscore_by_rest=True)\n",
      "/home/zulqarnain/anaconda3/envs/htfatorch/lib/python3.7/site-packages/nilearn/_utils/cache_mixin.py:232: DeprecationWarning: The 'cachedir' attribute has been deprecated in version 0.12 and will be removed in version 0.14.\n",
      "Use os.path.join(memory.location, 'joblib') attribute instead.\n",
      "  if (memory.cachedir is None and memory_level is not None\n"
     ]
    },
    {
     "name": "stderr",
     "output_type": "stream",
     "text": [
      "01/28/2020 16:01:17 Loading Nifti image /data/zulqarnain/AffVids_mcwm/motion_corrected/sub05_run01_mc_MNI_masked.nii.gz with mask /data/zulqarnain/AffVids_mcwm/wholebrain2.nii.gz (zscore=True, smooth=6, zscore_by_rest=True)\n",
      "/home/zulqarnain/anaconda3/envs/htfatorch/lib/python3.7/site-packages/nilearn/_utils/cache_mixin.py:232: DeprecationWarning: The 'cachedir' attribute has been deprecated in version 0.12 and will be removed in version 0.14.\n",
      "Use os.path.join(memory.location, 'joblib') attribute instead.\n",
      "  if (memory.cachedir is None and memory_level is not None\n",
      "01/28/2020 16:01:38 Loading Nifti image /data/zulqarnain/AffVids_mcwm/motion_corrected/sub05_run02_mc_MNI_masked.nii.gz with mask /data/zulqarnain/AffVids_mcwm/wholebrain2.nii.gz (zscore=True, smooth=6, zscore_by_rest=True)\n",
      "/home/zulqarnain/anaconda3/envs/htfatorch/lib/python3.7/site-packages/nilearn/_utils/cache_mixin.py:232: DeprecationWarning: The 'cachedir' attribute has been deprecated in version 0.12 and will be removed in version 0.14.\n",
      "Use os.path.join(memory.location, 'joblib') attribute instead.\n",
      "  if (memory.cachedir is None and memory_level is not None\n",
      "01/28/2020 16:01:59 Loading Nifti image /data/zulqarnain/AffVids_mcwm/motion_corrected/sub05_run03_mc_MNI_masked.nii.gz with mask /data/zulqarnain/AffVids_mcwm/wholebrain2.nii.gz (zscore=True, smooth=6, zscore_by_rest=True)\n",
      "/home/zulqarnain/anaconda3/envs/htfatorch/lib/python3.7/site-packages/nilearn/_utils/cache_mixin.py:232: DeprecationWarning: The 'cachedir' attribute has been deprecated in version 0.12 and will be removed in version 0.14.\n",
      "Use os.path.join(memory.location, 'joblib') attribute instead.\n",
      "  if (memory.cachedir is None and memory_level is not None\n",
      "01/28/2020 16:02:20 Loading Nifti image /data/zulqarnain/AffVids_mcwm/motion_corrected/sub06_run01_mc_MNI_masked.nii.gz with mask /data/zulqarnain/AffVids_mcwm/wholebrain2.nii.gz (zscore=True, smooth=6, zscore_by_rest=True)\n",
      "/home/zulqarnain/anaconda3/envs/htfatorch/lib/python3.7/site-packages/nilearn/_utils/cache_mixin.py:232: DeprecationWarning: The 'cachedir' attribute has been deprecated in version 0.12 and will be removed in version 0.14.\n",
      "Use os.path.join(memory.location, 'joblib') attribute instead.\n",
      "  if (memory.cachedir is None and memory_level is not None\n",
      "01/28/2020 16:02:40 Loading Nifti image /data/zulqarnain/AffVids_mcwm/motion_corrected/sub06_run02_mc_MNI_masked.nii.gz with mask /data/zulqarnain/AffVids_mcwm/wholebrain2.nii.gz (zscore=True, smooth=6, zscore_by_rest=True)\n",
      "/home/zulqarnain/anaconda3/envs/htfatorch/lib/python3.7/site-packages/nilearn/_utils/cache_mixin.py:232: DeprecationWarning: The 'cachedir' attribute has been deprecated in version 0.12 and will be removed in version 0.14.\n",
      "Use os.path.join(memory.location, 'joblib') attribute instead.\n",
      "  if (memory.cachedir is None and memory_level is not None\n",
      "01/28/2020 16:03:01 Loading Nifti image /data/zulqarnain/AffVids_mcwm/motion_corrected/sub06_run03_mc_MNI_masked.nii.gz with mask /data/zulqarnain/AffVids_mcwm/wholebrain2.nii.gz (zscore=True, smooth=6, zscore_by_rest=True)\n",
      "/home/zulqarnain/anaconda3/envs/htfatorch/lib/python3.7/site-packages/nilearn/_utils/cache_mixin.py:232: DeprecationWarning: The 'cachedir' attribute has been deprecated in version 0.12 and will be removed in version 0.14.\n",
      "Use os.path.join(memory.location, 'joblib') attribute instead.\n",
      "  if (memory.cachedir is None and memory_level is not None\n",
      "01/28/2020 16:03:21 Loading Nifti image /data/zulqarnain/AffVids_mcwm/motion_corrected/sub07_run01_mc_MNI_masked.nii.gz with mask /data/zulqarnain/AffVids_mcwm/wholebrain2.nii.gz (zscore=True, smooth=6, zscore_by_rest=True)\n",
      "/home/zulqarnain/anaconda3/envs/htfatorch/lib/python3.7/site-packages/nilearn/_utils/cache_mixin.py:232: DeprecationWarning: The 'cachedir' attribute has been deprecated in version 0.12 and will be removed in version 0.14.\n",
      "Use os.path.join(memory.location, 'joblib') attribute instead.\n",
      "  if (memory.cachedir is None and memory_level is not None\n",
      "01/28/2020 16:03:42 Loading Nifti image /data/zulqarnain/AffVids_mcwm/motion_corrected/sub07_run02_mc_MNI_masked.nii.gz with mask /data/zulqarnain/AffVids_mcwm/wholebrain2.nii.gz (zscore=True, smooth=6, zscore_by_rest=True)\n",
      "/home/zulqarnain/anaconda3/envs/htfatorch/lib/python3.7/site-packages/nilearn/_utils/cache_mixin.py:232: DeprecationWarning: The 'cachedir' attribute has been deprecated in version 0.12 and will be removed in version 0.14.\n",
      "Use os.path.join(memory.location, 'joblib') attribute instead.\n",
      "  if (memory.cachedir is None and memory_level is not None\n",
      "01/28/2020 16:04:02 Loading Nifti image /data/zulqarnain/AffVids_mcwm/motion_corrected/sub08_run01_mc_MNI_masked.nii.gz with mask /data/zulqarnain/AffVids_mcwm/wholebrain2.nii.gz (zscore=True, smooth=6, zscore_by_rest=True)\n",
      "/home/zulqarnain/anaconda3/envs/htfatorch/lib/python3.7/site-packages/nilearn/_utils/cache_mixin.py:232: DeprecationWarning: The 'cachedir' attribute has been deprecated in version 0.12 and will be removed in version 0.14.\n",
      "Use os.path.join(memory.location, 'joblib') attribute instead.\n",
      "  if (memory.cachedir is None and memory_level is not None\n",
      "01/28/2020 16:04:23 Loading Nifti image /data/zulqarnain/AffVids_mcwm/motion_corrected/sub08_run02_mc_MNI_masked.nii.gz with mask /data/zulqarnain/AffVids_mcwm/wholebrain2.nii.gz (zscore=True, smooth=6, zscore_by_rest=True)\n",
      "/home/zulqarnain/anaconda3/envs/htfatorch/lib/python3.7/site-packages/nilearn/_utils/cache_mixin.py:232: DeprecationWarning: The 'cachedir' attribute has been deprecated in version 0.12 and will be removed in version 0.14.\n",
      "Use os.path.join(memory.location, 'joblib') attribute instead.\n",
      "  if (memory.cachedir is None and memory_level is not None\n",
      "01/28/2020 16:04:43 Loading Nifti image /data/zulqarnain/AffVids_mcwm/motion_corrected/sub08_run03_mc_MNI_masked.nii.gz with mask /data/zulqarnain/AffVids_mcwm/wholebrain2.nii.gz (zscore=True, smooth=6, zscore_by_rest=True)\n",
      "/home/zulqarnain/anaconda3/envs/htfatorch/lib/python3.7/site-packages/nilearn/_utils/cache_mixin.py:232: DeprecationWarning: The 'cachedir' attribute has been deprecated in version 0.12 and will be removed in version 0.14.\n",
      "Use os.path.join(memory.location, 'joblib') attribute instead.\n",
      "  if (memory.cachedir is None and memory_level is not None\n",
      "01/28/2020 16:05:04 Loading Nifti image /data/zulqarnain/AffVids_mcwm/motion_corrected/sub09_run01_mc_MNI_masked.nii.gz with mask /data/zulqarnain/AffVids_mcwm/wholebrain2.nii.gz (zscore=True, smooth=6, zscore_by_rest=True)\n",
      "/home/zulqarnain/anaconda3/envs/htfatorch/lib/python3.7/site-packages/nilearn/_utils/cache_mixin.py:232: DeprecationWarning: The 'cachedir' attribute has been deprecated in version 0.12 and will be removed in version 0.14.\n",
      "Use os.path.join(memory.location, 'joblib') attribute instead.\n",
      "  if (memory.cachedir is None and memory_level is not None\n",
      "01/28/2020 16:05:24 Loading Nifti image /data/zulqarnain/AffVids_mcwm/motion_corrected/sub09_run02_mc_MNI_masked.nii.gz with mask /data/zulqarnain/AffVids_mcwm/wholebrain2.nii.gz (zscore=True, smooth=6, zscore_by_rest=True)\n",
      "/home/zulqarnain/anaconda3/envs/htfatorch/lib/python3.7/site-packages/nilearn/_utils/cache_mixin.py:232: DeprecationWarning: The 'cachedir' attribute has been deprecated in version 0.12 and will be removed in version 0.14.\n",
      "Use os.path.join(memory.location, 'joblib') attribute instead.\n",
      "  if (memory.cachedir is None and memory_level is not None\n",
      "01/28/2020 16:05:45 Loading Nifti image /data/zulqarnain/AffVids_mcwm/motion_corrected/sub09_run03_mc_MNI_masked.nii.gz with mask /data/zulqarnain/AffVids_mcwm/wholebrain2.nii.gz (zscore=True, smooth=6, zscore_by_rest=True)\n",
      "/home/zulqarnain/anaconda3/envs/htfatorch/lib/python3.7/site-packages/nilearn/_utils/cache_mixin.py:232: DeprecationWarning: The 'cachedir' attribute has been deprecated in version 0.12 and will be removed in version 0.14.\n",
      "Use os.path.join(memory.location, 'joblib') attribute instead.\n",
      "  if (memory.cachedir is None and memory_level is not None\n"
     ]
    }
   ],
   "source": [
    "dtfa = DTFA.DeepTFA([b for b in affvids_db.all() if 'rest' not in b.task], mask='/home/eli/Documents/AffVids/wholebrain2.nii.gz', num_factors=100, embedding_dim=2)"
   ]
  },
  {
   "cell_type": "code",
   "execution_count": 10,
   "metadata": {},
   "outputs": [],
   "source": [
    "dtfa.load_state('data/affvids_mc_norest_rz_k100_n1000_01232020_000625') "
   ]
  },
  {
   "cell_type": "code",
   "execution_count": 11,
   "metadata": {},
   "outputs": [
    {
     "name": "stderr",
     "output_type": "stream",
     "text": [
      "01/28/2020 16:08:52 Loading Nifti image /data/zulqarnain/AffVids_mcwm/motion_corrected/sub10_run02_mc_MNI_masked.nii.gz with mask /data/zulqarnain/AffVids_mcwm/wholebrain2.nii.gz (zscore=True, smooth=6, zscore_by_rest=True)\n",
      "/home/zulqarnain/anaconda3/envs/htfatorch/lib/python3.7/site-packages/nilearn/_utils/cache_mixin.py:232: DeprecationWarning: The 'cachedir' attribute has been deprecated in version 0.12 and will be removed in version 0.14.\n",
      "Use os.path.join(memory.location, 'joblib') attribute instead.\n",
      "  if (memory.cachedir is None and memory_level is not None\n",
      "01/28/2020 16:09:09 Loading Nifti image /data/zulqarnain/AffVids_mcwm/motion_corrected/sub10_run03_mc_MNI_masked.nii.gz with mask /data/zulqarnain/AffVids_mcwm/wholebrain2.nii.gz (zscore=True, smooth=6, zscore_by_rest=True)\n",
      "/home/zulqarnain/anaconda3/envs/htfatorch/lib/python3.7/site-packages/nilearn/_utils/cache_mixin.py:232: DeprecationWarning: The 'cachedir' attribute has been deprecated in version 0.12 and will be removed in version 0.14.\n",
      "Use os.path.join(memory.location, 'joblib') attribute instead.\n",
      "  if (memory.cachedir is None and memory_level is not None\n",
      "01/28/2020 16:09:26 Loading Nifti image /data/zulqarnain/AffVids_mcwm/motion_corrected/sub10_run01_mc_MNI_masked.nii.gz with mask /data/zulqarnain/AffVids_mcwm/wholebrain2.nii.gz (zscore=True, smooth=6, zscore_by_rest=True)\n",
      "/home/zulqarnain/anaconda3/envs/htfatorch/lib/python3.7/site-packages/nilearn/_utils/cache_mixin.py:232: DeprecationWarning: The 'cachedir' attribute has been deprecated in version 0.12 and will be removed in version 0.14.\n",
      "Use os.path.join(memory.location, 'joblib') attribute instead.\n",
      "  if (memory.cachedir is None and memory_level is not None\n",
      "01/28/2020 16:09:43 Loading Nifti image /data/zulqarnain/AffVids_mcwm/motion_corrected/sub11_run02_mc_MNI_masked.nii.gz with mask /data/zulqarnain/AffVids_mcwm/wholebrain2.nii.gz (zscore=True, smooth=6, zscore_by_rest=True)\n",
      "/home/zulqarnain/anaconda3/envs/htfatorch/lib/python3.7/site-packages/nilearn/_utils/cache_mixin.py:232: DeprecationWarning: The 'cachedir' attribute has been deprecated in version 0.12 and will be removed in version 0.14.\n",
      "Use os.path.join(memory.location, 'joblib') attribute instead.\n",
      "  if (memory.cachedir is None and memory_level is not None\n",
      "01/28/2020 16:10:00 Loading Nifti image /data/zulqarnain/AffVids_mcwm/motion_corrected/sub11_run01_mc_MNI_masked.nii.gz with mask /data/zulqarnain/AffVids_mcwm/wholebrain2.nii.gz (zscore=True, smooth=6, zscore_by_rest=True)\n",
      "/home/zulqarnain/anaconda3/envs/htfatorch/lib/python3.7/site-packages/nilearn/_utils/cache_mixin.py:232: DeprecationWarning: The 'cachedir' attribute has been deprecated in version 0.12 and will be removed in version 0.14.\n",
      "Use os.path.join(memory.location, 'joblib') attribute instead.\n",
      "  if (memory.cachedir is None and memory_level is not None\n",
      "01/28/2020 16:10:18 Loading Nifti image /data/zulqarnain/AffVids_mcwm/motion_corrected/sub11_run03_mc_MNI_masked.nii.gz with mask /data/zulqarnain/AffVids_mcwm/wholebrain2.nii.gz (zscore=True, smooth=6, zscore_by_rest=True)\n",
      "/home/zulqarnain/anaconda3/envs/htfatorch/lib/python3.7/site-packages/nilearn/_utils/cache_mixin.py:232: DeprecationWarning: The 'cachedir' attribute has been deprecated in version 0.12 and will be removed in version 0.14.\n",
      "Use os.path.join(memory.location, 'joblib') attribute instead.\n",
      "  if (memory.cachedir is None and memory_level is not None\n",
      "01/28/2020 16:10:35 Loading Nifti image /data/zulqarnain/AffVids_mcwm/motion_corrected/sub12_run03_mc_MNI_masked.nii.gz with mask /data/zulqarnain/AffVids_mcwm/wholebrain2.nii.gz (zscore=True, smooth=6, zscore_by_rest=True)\n",
      "/home/zulqarnain/anaconda3/envs/htfatorch/lib/python3.7/site-packages/nilearn/_utils/cache_mixin.py:232: DeprecationWarning: The 'cachedir' attribute has been deprecated in version 0.12 and will be removed in version 0.14.\n",
      "Use os.path.join(memory.location, 'joblib') attribute instead.\n",
      "  if (memory.cachedir is None and memory_level is not None\n",
      "01/28/2020 16:10:52 Loading Nifti image /data/zulqarnain/AffVids_mcwm/motion_corrected/sub12_run01_mc_MNI_masked.nii.gz with mask /data/zulqarnain/AffVids_mcwm/wholebrain2.nii.gz (zscore=True, smooth=6, zscore_by_rest=True)\n",
      "/home/zulqarnain/anaconda3/envs/htfatorch/lib/python3.7/site-packages/nilearn/_utils/cache_mixin.py:232: DeprecationWarning: The 'cachedir' attribute has been deprecated in version 0.12 and will be removed in version 0.14.\n",
      "Use os.path.join(memory.location, 'joblib') attribute instead.\n",
      "  if (memory.cachedir is None and memory_level is not None\n",
      "01/28/2020 16:11:11 Loading Nifti image /data/zulqarnain/AffVids_mcwm/motion_corrected/sub12_run02_mc_MNI_masked.nii.gz with mask /data/zulqarnain/AffVids_mcwm/wholebrain2.nii.gz (zscore=True, smooth=6, zscore_by_rest=True)\n",
      "/home/zulqarnain/anaconda3/envs/htfatorch/lib/python3.7/site-packages/nilearn/_utils/cache_mixin.py:232: DeprecationWarning: The 'cachedir' attribute has been deprecated in version 0.12 and will be removed in version 0.14.\n",
      "Use os.path.join(memory.location, 'joblib') attribute instead.\n",
      "  if (memory.cachedir is None and memory_level is not None\n",
      "01/28/2020 16:11:29 Loading Nifti image /data/zulqarnain/AffVids_mcwm/motion_corrected/sub13_run01_mc_MNI_masked.nii.gz with mask /data/zulqarnain/AffVids_mcwm/wholebrain2.nii.gz (zscore=True, smooth=6, zscore_by_rest=True)\n",
      "/home/zulqarnain/anaconda3/envs/htfatorch/lib/python3.7/site-packages/nilearn/_utils/cache_mixin.py:232: DeprecationWarning: The 'cachedir' attribute has been deprecated in version 0.12 and will be removed in version 0.14.\n",
      "Use os.path.join(memory.location, 'joblib') attribute instead.\n",
      "  if (memory.cachedir is None and memory_level is not None\n",
      "01/28/2020 16:11:47 Loading Nifti image /data/zulqarnain/AffVids_mcwm/motion_corrected/sub13_run03_mc_MNI_masked.nii.gz with mask /data/zulqarnain/AffVids_mcwm/wholebrain2.nii.gz (zscore=True, smooth=6, zscore_by_rest=True)\n",
      "/home/zulqarnain/anaconda3/envs/htfatorch/lib/python3.7/site-packages/nilearn/_utils/cache_mixin.py:232: DeprecationWarning: The 'cachedir' attribute has been deprecated in version 0.12 and will be removed in version 0.14.\n",
      "Use os.path.join(memory.location, 'joblib') attribute instead.\n",
      "  if (memory.cachedir is None and memory_level is not None\n",
      "01/28/2020 16:12:06 Loading Nifti image /data/zulqarnain/AffVids_mcwm/motion_corrected/sub13_run02_mc_MNI_masked.nii.gz with mask /data/zulqarnain/AffVids_mcwm/wholebrain2.nii.gz (zscore=True, smooth=6, zscore_by_rest=True)\n",
      "/home/zulqarnain/anaconda3/envs/htfatorch/lib/python3.7/site-packages/nilearn/_utils/cache_mixin.py:232: DeprecationWarning: The 'cachedir' attribute has been deprecated in version 0.12 and will be removed in version 0.14.\n",
      "Use os.path.join(memory.location, 'joblib') attribute instead.\n",
      "  if (memory.cachedir is None and memory_level is not None\n",
      "01/28/2020 16:12:24 Loading Nifti image /data/zulqarnain/AffVids_mcwm/motion_corrected/sub14_run01_mc_MNI_masked.nii.gz with mask /data/zulqarnain/AffVids_mcwm/wholebrain2.nii.gz (zscore=True, smooth=6, zscore_by_rest=True)\n",
      "/home/zulqarnain/anaconda3/envs/htfatorch/lib/python3.7/site-packages/nilearn/_utils/cache_mixin.py:232: DeprecationWarning: The 'cachedir' attribute has been deprecated in version 0.12 and will be removed in version 0.14.\n",
      "Use os.path.join(memory.location, 'joblib') attribute instead.\n",
      "  if (memory.cachedir is None and memory_level is not None\n",
      "01/28/2020 16:12:43 Loading Nifti image /data/zulqarnain/AffVids_mcwm/motion_corrected/sub14_run02_mc_MNI_masked.nii.gz with mask /data/zulqarnain/AffVids_mcwm/wholebrain2.nii.gz (zscore=True, smooth=6, zscore_by_rest=True)\n",
      "/home/zulqarnain/anaconda3/envs/htfatorch/lib/python3.7/site-packages/nilearn/_utils/cache_mixin.py:232: DeprecationWarning: The 'cachedir' attribute has been deprecated in version 0.12 and will be removed in version 0.14.\n",
      "Use os.path.join(memory.location, 'joblib') attribute instead.\n",
      "  if (memory.cachedir is None and memory_level is not None\n",
      "01/28/2020 16:13:02 Loading Nifti image /data/zulqarnain/AffVids_mcwm/motion_corrected/sub15_run01_mc_MNI_masked.nii.gz with mask /data/zulqarnain/AffVids_mcwm/wholebrain2.nii.gz (zscore=True, smooth=6, zscore_by_rest=True)\n",
      "/home/zulqarnain/anaconda3/envs/htfatorch/lib/python3.7/site-packages/nilearn/_utils/cache_mixin.py:232: DeprecationWarning: The 'cachedir' attribute has been deprecated in version 0.12 and will be removed in version 0.14.\n",
      "Use os.path.join(memory.location, 'joblib') attribute instead.\n",
      "  if (memory.cachedir is None and memory_level is not None\n"
     ]
    },
    {
     "name": "stderr",
     "output_type": "stream",
     "text": [
      "01/28/2020 16:13:21 Loading Nifti image /data/zulqarnain/AffVids_mcwm/motion_corrected/sub15_run02_mc_MNI_masked.nii.gz with mask /data/zulqarnain/AffVids_mcwm/wholebrain2.nii.gz (zscore=True, smooth=6, zscore_by_rest=True)\n",
      "/home/zulqarnain/anaconda3/envs/htfatorch/lib/python3.7/site-packages/nilearn/_utils/cache_mixin.py:232: DeprecationWarning: The 'cachedir' attribute has been deprecated in version 0.12 and will be removed in version 0.14.\n",
      "Use os.path.join(memory.location, 'joblib') attribute instead.\n",
      "  if (memory.cachedir is None and memory_level is not None\n",
      "01/28/2020 16:13:40 Loading Nifti image /data/zulqarnain/AffVids_mcwm/motion_corrected/sub15_run03_mc_MNI_masked.nii.gz with mask /data/zulqarnain/AffVids_mcwm/wholebrain2.nii.gz (zscore=True, smooth=6, zscore_by_rest=True)\n",
      "/home/zulqarnain/anaconda3/envs/htfatorch/lib/python3.7/site-packages/nilearn/_utils/cache_mixin.py:232: DeprecationWarning: The 'cachedir' attribute has been deprecated in version 0.12 and will be removed in version 0.14.\n",
      "Use os.path.join(memory.location, 'joblib') attribute instead.\n",
      "  if (memory.cachedir is None and memory_level is not None\n",
      "01/28/2020 16:13:59 Loading Nifti image /data/zulqarnain/AffVids_mcwm/motion_corrected/sub16_run02_mc_MNI_masked.nii.gz with mask /data/zulqarnain/AffVids_mcwm/wholebrain2.nii.gz (zscore=True, smooth=6, zscore_by_rest=True)\n",
      "/home/zulqarnain/anaconda3/envs/htfatorch/lib/python3.7/site-packages/nilearn/_utils/cache_mixin.py:232: DeprecationWarning: The 'cachedir' attribute has been deprecated in version 0.12 and will be removed in version 0.14.\n",
      "Use os.path.join(memory.location, 'joblib') attribute instead.\n",
      "  if (memory.cachedir is None and memory_level is not None\n",
      "01/28/2020 16:14:19 Loading Nifti image /data/zulqarnain/AffVids_mcwm/motion_corrected/sub16_run03_mc_MNI_masked.nii.gz with mask /data/zulqarnain/AffVids_mcwm/wholebrain2.nii.gz (zscore=True, smooth=6, zscore_by_rest=True)\n",
      "/home/zulqarnain/anaconda3/envs/htfatorch/lib/python3.7/site-packages/nilearn/_utils/cache_mixin.py:232: DeprecationWarning: The 'cachedir' attribute has been deprecated in version 0.12 and will be removed in version 0.14.\n",
      "Use os.path.join(memory.location, 'joblib') attribute instead.\n",
      "  if (memory.cachedir is None and memory_level is not None\n",
      "01/28/2020 16:14:38 Loading Nifti image /data/zulqarnain/AffVids_mcwm/motion_corrected/sub16_run01_mc_MNI_masked.nii.gz with mask /data/zulqarnain/AffVids_mcwm/wholebrain2.nii.gz (zscore=True, smooth=6, zscore_by_rest=True)\n",
      "/home/zulqarnain/anaconda3/envs/htfatorch/lib/python3.7/site-packages/nilearn/_utils/cache_mixin.py:232: DeprecationWarning: The 'cachedir' attribute has been deprecated in version 0.12 and will be removed in version 0.14.\n",
      "Use os.path.join(memory.location, 'joblib') attribute instead.\n",
      "  if (memory.cachedir is None and memory_level is not None\n",
      "01/28/2020 16:14:57 Loading Nifti image /data/zulqarnain/AffVids_mcwm/motion_corrected/sub17_run03_mc_MNI_masked.nii.gz with mask /data/zulqarnain/AffVids_mcwm/wholebrain2.nii.gz (zscore=True, smooth=6, zscore_by_rest=True)\n",
      "/home/zulqarnain/anaconda3/envs/htfatorch/lib/python3.7/site-packages/nilearn/_utils/cache_mixin.py:232: DeprecationWarning: The 'cachedir' attribute has been deprecated in version 0.12 and will be removed in version 0.14.\n",
      "Use os.path.join(memory.location, 'joblib') attribute instead.\n",
      "  if (memory.cachedir is None and memory_level is not None\n",
      "01/28/2020 16:15:17 Loading Nifti image /data/zulqarnain/AffVids_mcwm/motion_corrected/sub17_run02_mc_MNI_masked.nii.gz with mask /data/zulqarnain/AffVids_mcwm/wholebrain2.nii.gz (zscore=True, smooth=6, zscore_by_rest=True)\n",
      "/home/zulqarnain/anaconda3/envs/htfatorch/lib/python3.7/site-packages/nilearn/_utils/cache_mixin.py:232: DeprecationWarning: The 'cachedir' attribute has been deprecated in version 0.12 and will be removed in version 0.14.\n",
      "Use os.path.join(memory.location, 'joblib') attribute instead.\n",
      "  if (memory.cachedir is None and memory_level is not None\n",
      "01/28/2020 16:15:37 Loading Nifti image /data/zulqarnain/AffVids_mcwm/motion_corrected/sub17_run01_mc_MNI_masked.nii.gz with mask /data/zulqarnain/AffVids_mcwm/wholebrain2.nii.gz (zscore=True, smooth=6, zscore_by_rest=True)\n",
      "/home/zulqarnain/anaconda3/envs/htfatorch/lib/python3.7/site-packages/nilearn/_utils/cache_mixin.py:232: DeprecationWarning: The 'cachedir' attribute has been deprecated in version 0.12 and will be removed in version 0.14.\n",
      "Use os.path.join(memory.location, 'joblib') attribute instead.\n",
      "  if (memory.cachedir is None and memory_level is not None\n",
      "01/28/2020 16:15:57 Loading Nifti image /data/zulqarnain/AffVids_mcwm/motion_corrected/sub18_run01_mc_MNI_masked.nii.gz with mask /data/zulqarnain/AffVids_mcwm/wholebrain2.nii.gz (zscore=True, smooth=6, zscore_by_rest=True)\n",
      "/home/zulqarnain/anaconda3/envs/htfatorch/lib/python3.7/site-packages/nilearn/_utils/cache_mixin.py:232: DeprecationWarning: The 'cachedir' attribute has been deprecated in version 0.12 and will be removed in version 0.14.\n",
      "Use os.path.join(memory.location, 'joblib') attribute instead.\n",
      "  if (memory.cachedir is None and memory_level is not None\n",
      "01/28/2020 16:16:17 Loading Nifti image /data/zulqarnain/AffVids_mcwm/motion_corrected/sub18_run03_mc_MNI_masked.nii.gz with mask /data/zulqarnain/AffVids_mcwm/wholebrain2.nii.gz (zscore=True, smooth=6, zscore_by_rest=True)\n",
      "/home/zulqarnain/anaconda3/envs/htfatorch/lib/python3.7/site-packages/nilearn/_utils/cache_mixin.py:232: DeprecationWarning: The 'cachedir' attribute has been deprecated in version 0.12 and will be removed in version 0.14.\n",
      "Use os.path.join(memory.location, 'joblib') attribute instead.\n",
      "  if (memory.cachedir is None and memory_level is not None\n",
      "01/28/2020 16:16:37 Loading Nifti image /data/zulqarnain/AffVids_mcwm/motion_corrected/sub18_run02_mc_MNI_masked.nii.gz with mask /data/zulqarnain/AffVids_mcwm/wholebrain2.nii.gz (zscore=True, smooth=6, zscore_by_rest=True)\n",
      "/home/zulqarnain/anaconda3/envs/htfatorch/lib/python3.7/site-packages/nilearn/_utils/cache_mixin.py:232: DeprecationWarning: The 'cachedir' attribute has been deprecated in version 0.12 and will be removed in version 0.14.\n",
      "Use os.path.join(memory.location, 'joblib') attribute instead.\n",
      "  if (memory.cachedir is None and memory_level is not None\n",
      "01/28/2020 16:16:57 Loading Nifti image /data/zulqarnain/AffVids_mcwm/motion_corrected/sub19_run01_mc_MNI_masked.nii.gz with mask /data/zulqarnain/AffVids_mcwm/wholebrain2.nii.gz (zscore=True, smooth=6, zscore_by_rest=True)\n",
      "/home/zulqarnain/anaconda3/envs/htfatorch/lib/python3.7/site-packages/nilearn/_utils/cache_mixin.py:232: DeprecationWarning: The 'cachedir' attribute has been deprecated in version 0.12 and will be removed in version 0.14.\n",
      "Use os.path.join(memory.location, 'joblib') attribute instead.\n",
      "  if (memory.cachedir is None and memory_level is not None\n",
      "01/28/2020 16:17:17 Loading Nifti image /data/zulqarnain/AffVids_mcwm/motion_corrected/sub19_run03_mc_MNI_masked.nii.gz with mask /data/zulqarnain/AffVids_mcwm/wholebrain2.nii.gz (zscore=True, smooth=6, zscore_by_rest=True)\n",
      "/home/zulqarnain/anaconda3/envs/htfatorch/lib/python3.7/site-packages/nilearn/_utils/cache_mixin.py:232: DeprecationWarning: The 'cachedir' attribute has been deprecated in version 0.12 and will be removed in version 0.14.\n",
      "Use os.path.join(memory.location, 'joblib') attribute instead.\n",
      "  if (memory.cachedir is None and memory_level is not None\n",
      "01/28/2020 16:17:37 Loading Nifti image /data/zulqarnain/AffVids_mcwm/motion_corrected/sub19_run02_mc_MNI_masked.nii.gz with mask /data/zulqarnain/AffVids_mcwm/wholebrain2.nii.gz (zscore=True, smooth=6, zscore_by_rest=True)\n",
      "/home/zulqarnain/anaconda3/envs/htfatorch/lib/python3.7/site-packages/nilearn/_utils/cache_mixin.py:232: DeprecationWarning: The 'cachedir' attribute has been deprecated in version 0.12 and will be removed in version 0.14.\n",
      "Use os.path.join(memory.location, 'joblib') attribute instead.\n",
      "  if (memory.cachedir is None and memory_level is not None\n",
      "01/28/2020 16:17:57 Loading Nifti image /data/zulqarnain/AffVids_mcwm/motion_corrected/sub23_run03_mc_MNI_masked.nii.gz with mask /data/zulqarnain/AffVids_mcwm/wholebrain2.nii.gz (zscore=True, smooth=6, zscore_by_rest=True)\n",
      "/home/zulqarnain/anaconda3/envs/htfatorch/lib/python3.7/site-packages/nilearn/_utils/cache_mixin.py:232: DeprecationWarning: The 'cachedir' attribute has been deprecated in version 0.12 and will be removed in version 0.14.\n",
      "Use os.path.join(memory.location, 'joblib') attribute instead.\n",
      "  if (memory.cachedir is None and memory_level is not None\n"
     ]
    },
    {
     "name": "stderr",
     "output_type": "stream",
     "text": [
      "01/28/2020 16:18:18 Loading Nifti image /data/zulqarnain/AffVids_mcwm/motion_corrected/sub23_run02_mc_MNI_masked.nii.gz with mask /data/zulqarnain/AffVids_mcwm/wholebrain2.nii.gz (zscore=True, smooth=6, zscore_by_rest=True)\n",
      "/home/zulqarnain/anaconda3/envs/htfatorch/lib/python3.7/site-packages/nilearn/_utils/cache_mixin.py:232: DeprecationWarning: The 'cachedir' attribute has been deprecated in version 0.12 and will be removed in version 0.14.\n",
      "Use os.path.join(memory.location, 'joblib') attribute instead.\n",
      "  if (memory.cachedir is None and memory_level is not None\n",
      "01/28/2020 16:18:38 Loading Nifti image /data/zulqarnain/AffVids_mcwm/motion_corrected/sub25_run01_mc_MNI_masked.nii.gz with mask /data/zulqarnain/AffVids_mcwm/wholebrain2.nii.gz (zscore=True, smooth=6, zscore_by_rest=True)\n",
      "/home/zulqarnain/anaconda3/envs/htfatorch/lib/python3.7/site-packages/nilearn/_utils/cache_mixin.py:232: DeprecationWarning: The 'cachedir' attribute has been deprecated in version 0.12 and will be removed in version 0.14.\n",
      "Use os.path.join(memory.location, 'joblib') attribute instead.\n",
      "  if (memory.cachedir is None and memory_level is not None\n",
      "01/28/2020 16:18:59 Loading Nifti image /data/zulqarnain/AffVids_mcwm/motion_corrected/sub25_run02_mc_MNI_masked.nii.gz with mask /data/zulqarnain/AffVids_mcwm/wholebrain2.nii.gz (zscore=True, smooth=6, zscore_by_rest=True)\n",
      "/home/zulqarnain/anaconda3/envs/htfatorch/lib/python3.7/site-packages/nilearn/_utils/cache_mixin.py:232: DeprecationWarning: The 'cachedir' attribute has been deprecated in version 0.12 and will be removed in version 0.14.\n",
      "Use os.path.join(memory.location, 'joblib') attribute instead.\n",
      "  if (memory.cachedir is None and memory_level is not None\n",
      "01/28/2020 16:19:20 Loading Nifti image /data/zulqarnain/AffVids_mcwm/motion_corrected/sub25_run03_mc_MNI_masked.nii.gz with mask /data/zulqarnain/AffVids_mcwm/wholebrain2.nii.gz (zscore=True, smooth=6, zscore_by_rest=True)\n",
      "/home/zulqarnain/anaconda3/envs/htfatorch/lib/python3.7/site-packages/nilearn/_utils/cache_mixin.py:232: DeprecationWarning: The 'cachedir' attribute has been deprecated in version 0.12 and will be removed in version 0.14.\n",
      "Use os.path.join(memory.location, 'joblib') attribute instead.\n",
      "  if (memory.cachedir is None and memory_level is not None\n",
      "01/28/2020 16:19:40 Loading Nifti image /data/zulqarnain/AffVids_mcwm/motion_corrected/sub26_run01_mc_MNI_masked.nii.gz with mask /data/zulqarnain/AffVids_mcwm/wholebrain2.nii.gz (zscore=True, smooth=6, zscore_by_rest=True)\n",
      "/home/zulqarnain/anaconda3/envs/htfatorch/lib/python3.7/site-packages/nilearn/_utils/cache_mixin.py:232: DeprecationWarning: The 'cachedir' attribute has been deprecated in version 0.12 and will be removed in version 0.14.\n",
      "Use os.path.join(memory.location, 'joblib') attribute instead.\n",
      "  if (memory.cachedir is None and memory_level is not None\n",
      "01/28/2020 16:20:01 Loading Nifti image /data/zulqarnain/AffVids_mcwm/motion_corrected/sub26_run02_mc_MNI_masked.nii.gz with mask /data/zulqarnain/AffVids_mcwm/wholebrain2.nii.gz (zscore=True, smooth=6, zscore_by_rest=True)\n",
      "/home/zulqarnain/anaconda3/envs/htfatorch/lib/python3.7/site-packages/nilearn/_utils/cache_mixin.py:232: DeprecationWarning: The 'cachedir' attribute has been deprecated in version 0.12 and will be removed in version 0.14.\n",
      "Use os.path.join(memory.location, 'joblib') attribute instead.\n",
      "  if (memory.cachedir is None and memory_level is not None\n",
      "01/28/2020 16:20:22 Loading Nifti image /data/zulqarnain/AffVids_mcwm/motion_corrected/sub28_run02_mc_MNI_masked.nii.gz with mask /data/zulqarnain/AffVids_mcwm/wholebrain2.nii.gz (zscore=True, smooth=6, zscore_by_rest=True)\n",
      "/home/zulqarnain/anaconda3/envs/htfatorch/lib/python3.7/site-packages/nilearn/_utils/cache_mixin.py:232: DeprecationWarning: The 'cachedir' attribute has been deprecated in version 0.12 and will be removed in version 0.14.\n",
      "Use os.path.join(memory.location, 'joblib') attribute instead.\n",
      "  if (memory.cachedir is None and memory_level is not None\n",
      "01/28/2020 16:20:43 Loading Nifti image /data/zulqarnain/AffVids_mcwm/motion_corrected/sub28_run03_mc_MNI_masked.nii.gz with mask /data/zulqarnain/AffVids_mcwm/wholebrain2.nii.gz (zscore=True, smooth=6, zscore_by_rest=True)\n",
      "/home/zulqarnain/anaconda3/envs/htfatorch/lib/python3.7/site-packages/nilearn/_utils/cache_mixin.py:232: DeprecationWarning: The 'cachedir' attribute has been deprecated in version 0.12 and will be removed in version 0.14.\n",
      "Use os.path.join(memory.location, 'joblib') attribute instead.\n",
      "  if (memory.cachedir is None and memory_level is not None\n",
      "01/28/2020 16:21:04 Loading Nifti image /data/zulqarnain/AffVids_mcwm/motion_corrected/sub28_run01_mc_MNI_masked.nii.gz with mask /data/zulqarnain/AffVids_mcwm/wholebrain2.nii.gz (zscore=True, smooth=6, zscore_by_rest=True)\n",
      "/home/zulqarnain/anaconda3/envs/htfatorch/lib/python3.7/site-packages/nilearn/_utils/cache_mixin.py:232: DeprecationWarning: The 'cachedir' attribute has been deprecated in version 0.12 and will be removed in version 0.14.\n",
      "Use os.path.join(memory.location, 'joblib') attribute instead.\n",
      "  if (memory.cachedir is None and memory_level is not None\n",
      "01/28/2020 16:21:25 Loading Nifti image /data/zulqarnain/AffVids_mcwm/motion_corrected/sub29_run02_mc_MNI_masked.nii.gz with mask /data/zulqarnain/AffVids_mcwm/wholebrain2.nii.gz (zscore=True, smooth=6, zscore_by_rest=True)\n",
      "/home/zulqarnain/anaconda3/envs/htfatorch/lib/python3.7/site-packages/nilearn/_utils/cache_mixin.py:232: DeprecationWarning: The 'cachedir' attribute has been deprecated in version 0.12 and will be removed in version 0.14.\n",
      "Use os.path.join(memory.location, 'joblib') attribute instead.\n",
      "  if (memory.cachedir is None and memory_level is not None\n",
      "01/28/2020 16:21:46 Loading Nifti image /data/zulqarnain/AffVids_mcwm/motion_corrected/sub29_run03_mc_MNI_masked.nii.gz with mask /data/zulqarnain/AffVids_mcwm/wholebrain2.nii.gz (zscore=True, smooth=6, zscore_by_rest=True)\n",
      "/home/zulqarnain/anaconda3/envs/htfatorch/lib/python3.7/site-packages/nilearn/_utils/cache_mixin.py:232: DeprecationWarning: The 'cachedir' attribute has been deprecated in version 0.12 and will be removed in version 0.14.\n",
      "Use os.path.join(memory.location, 'joblib') attribute instead.\n",
      "  if (memory.cachedir is None and memory_level is not None\n",
      "01/28/2020 16:22:07 Loading Nifti image /data/zulqarnain/AffVids_mcwm/motion_corrected/sub29_run01_mc_MNI_masked.nii.gz with mask /data/zulqarnain/AffVids_mcwm/wholebrain2.nii.gz (zscore=True, smooth=6, zscore_by_rest=True)\n",
      "/home/zulqarnain/anaconda3/envs/htfatorch/lib/python3.7/site-packages/nilearn/_utils/cache_mixin.py:232: DeprecationWarning: The 'cachedir' attribute has been deprecated in version 0.12 and will be removed in version 0.14.\n",
      "Use os.path.join(memory.location, 'joblib') attribute instead.\n",
      "  if (memory.cachedir is None and memory_level is not None\n",
      "01/28/2020 16:22:27 Loading Nifti image /data/zulqarnain/AffVids_mcwm/motion_corrected/sub04_run03_mc_MNI_masked.nii.gz with mask /data/zulqarnain/AffVids_mcwm/wholebrain2.nii.gz (zscore=True, smooth=6, zscore_by_rest=True)\n",
      "/home/zulqarnain/anaconda3/envs/htfatorch/lib/python3.7/site-packages/nilearn/_utils/cache_mixin.py:232: DeprecationWarning: The 'cachedir' attribute has been deprecated in version 0.12 and will be removed in version 0.14.\n",
      "Use os.path.join(memory.location, 'joblib') attribute instead.\n",
      "  if (memory.cachedir is None and memory_level is not None\n",
      "01/28/2020 16:22:47 Loading Nifti image /data/zulqarnain/AffVids_mcwm/motion_corrected/sub04_run01_mc_MNI_masked.nii.gz with mask /data/zulqarnain/AffVids_mcwm/wholebrain2.nii.gz (zscore=True, smooth=6, zscore_by_rest=True)\n",
      "/home/zulqarnain/anaconda3/envs/htfatorch/lib/python3.7/site-packages/nilearn/_utils/cache_mixin.py:232: DeprecationWarning: The 'cachedir' attribute has been deprecated in version 0.12 and will be removed in version 0.14.\n",
      "Use os.path.join(memory.location, 'joblib') attribute instead.\n",
      "  if (memory.cachedir is None and memory_level is not None\n",
      "01/28/2020 16:23:07 Loading Nifti image /data/zulqarnain/AffVids_mcwm/motion_corrected/sub04_run02_mc_MNI_masked.nii.gz with mask /data/zulqarnain/AffVids_mcwm/wholebrain2.nii.gz (zscore=True, smooth=6, zscore_by_rest=True)\n",
      "/home/zulqarnain/anaconda3/envs/htfatorch/lib/python3.7/site-packages/nilearn/_utils/cache_mixin.py:232: DeprecationWarning: The 'cachedir' attribute has been deprecated in version 0.12 and will be removed in version 0.14.\n",
      "Use os.path.join(memory.location, 'joblib') attribute instead.\n",
      "  if (memory.cachedir is None and memory_level is not None\n"
     ]
    },
    {
     "name": "stderr",
     "output_type": "stream",
     "text": [
      "01/28/2020 16:23:28 Loading Nifti image /data/zulqarnain/AffVids_mcwm/motion_corrected/sub05_run01_mc_MNI_masked.nii.gz with mask /data/zulqarnain/AffVids_mcwm/wholebrain2.nii.gz (zscore=True, smooth=6, zscore_by_rest=True)\n",
      "/home/zulqarnain/anaconda3/envs/htfatorch/lib/python3.7/site-packages/nilearn/_utils/cache_mixin.py:232: DeprecationWarning: The 'cachedir' attribute has been deprecated in version 0.12 and will be removed in version 0.14.\n",
      "Use os.path.join(memory.location, 'joblib') attribute instead.\n",
      "  if (memory.cachedir is None and memory_level is not None\n",
      "01/28/2020 16:23:48 Loading Nifti image /data/zulqarnain/AffVids_mcwm/motion_corrected/sub05_run02_mc_MNI_masked.nii.gz with mask /data/zulqarnain/AffVids_mcwm/wholebrain2.nii.gz (zscore=True, smooth=6, zscore_by_rest=True)\n",
      "/home/zulqarnain/anaconda3/envs/htfatorch/lib/python3.7/site-packages/nilearn/_utils/cache_mixin.py:232: DeprecationWarning: The 'cachedir' attribute has been deprecated in version 0.12 and will be removed in version 0.14.\n",
      "Use os.path.join(memory.location, 'joblib') attribute instead.\n",
      "  if (memory.cachedir is None and memory_level is not None\n",
      "01/28/2020 16:24:08 Loading Nifti image /data/zulqarnain/AffVids_mcwm/motion_corrected/sub05_run03_mc_MNI_masked.nii.gz with mask /data/zulqarnain/AffVids_mcwm/wholebrain2.nii.gz (zscore=True, smooth=6, zscore_by_rest=True)\n",
      "/home/zulqarnain/anaconda3/envs/htfatorch/lib/python3.7/site-packages/nilearn/_utils/cache_mixin.py:232: DeprecationWarning: The 'cachedir' attribute has been deprecated in version 0.12 and will be removed in version 0.14.\n",
      "Use os.path.join(memory.location, 'joblib') attribute instead.\n",
      "  if (memory.cachedir is None and memory_level is not None\n",
      "01/28/2020 16:24:29 Loading Nifti image /data/zulqarnain/AffVids_mcwm/motion_corrected/sub06_run01_mc_MNI_masked.nii.gz with mask /data/zulqarnain/AffVids_mcwm/wholebrain2.nii.gz (zscore=True, smooth=6, zscore_by_rest=True)\n",
      "/home/zulqarnain/anaconda3/envs/htfatorch/lib/python3.7/site-packages/nilearn/_utils/cache_mixin.py:232: DeprecationWarning: The 'cachedir' attribute has been deprecated in version 0.12 and will be removed in version 0.14.\n",
      "Use os.path.join(memory.location, 'joblib') attribute instead.\n",
      "  if (memory.cachedir is None and memory_level is not None\n",
      "01/28/2020 16:24:50 Loading Nifti image /data/zulqarnain/AffVids_mcwm/motion_corrected/sub06_run02_mc_MNI_masked.nii.gz with mask /data/zulqarnain/AffVids_mcwm/wholebrain2.nii.gz (zscore=True, smooth=6, zscore_by_rest=True)\n",
      "/home/zulqarnain/anaconda3/envs/htfatorch/lib/python3.7/site-packages/nilearn/_utils/cache_mixin.py:232: DeprecationWarning: The 'cachedir' attribute has been deprecated in version 0.12 and will be removed in version 0.14.\n",
      "Use os.path.join(memory.location, 'joblib') attribute instead.\n",
      "  if (memory.cachedir is None and memory_level is not None\n",
      "01/28/2020 16:25:11 Loading Nifti image /data/zulqarnain/AffVids_mcwm/motion_corrected/sub06_run03_mc_MNI_masked.nii.gz with mask /data/zulqarnain/AffVids_mcwm/wholebrain2.nii.gz (zscore=True, smooth=6, zscore_by_rest=True)\n",
      "/home/zulqarnain/anaconda3/envs/htfatorch/lib/python3.7/site-packages/nilearn/_utils/cache_mixin.py:232: DeprecationWarning: The 'cachedir' attribute has been deprecated in version 0.12 and will be removed in version 0.14.\n",
      "Use os.path.join(memory.location, 'joblib') attribute instead.\n",
      "  if (memory.cachedir is None and memory_level is not None\n",
      "01/28/2020 16:25:32 Loading Nifti image /data/zulqarnain/AffVids_mcwm/motion_corrected/sub07_run01_mc_MNI_masked.nii.gz with mask /data/zulqarnain/AffVids_mcwm/wholebrain2.nii.gz (zscore=True, smooth=6, zscore_by_rest=True)\n",
      "/home/zulqarnain/anaconda3/envs/htfatorch/lib/python3.7/site-packages/nilearn/_utils/cache_mixin.py:232: DeprecationWarning: The 'cachedir' attribute has been deprecated in version 0.12 and will be removed in version 0.14.\n",
      "Use os.path.join(memory.location, 'joblib') attribute instead.\n",
      "  if (memory.cachedir is None and memory_level is not None\n",
      "01/28/2020 16:25:53 Loading Nifti image /data/zulqarnain/AffVids_mcwm/motion_corrected/sub07_run02_mc_MNI_masked.nii.gz with mask /data/zulqarnain/AffVids_mcwm/wholebrain2.nii.gz (zscore=True, smooth=6, zscore_by_rest=True)\n",
      "/home/zulqarnain/anaconda3/envs/htfatorch/lib/python3.7/site-packages/nilearn/_utils/cache_mixin.py:232: DeprecationWarning: The 'cachedir' attribute has been deprecated in version 0.12 and will be removed in version 0.14.\n",
      "Use os.path.join(memory.location, 'joblib') attribute instead.\n",
      "  if (memory.cachedir is None and memory_level is not None\n",
      "01/28/2020 16:26:14 Loading Nifti image /data/zulqarnain/AffVids_mcwm/motion_corrected/sub08_run01_mc_MNI_masked.nii.gz with mask /data/zulqarnain/AffVids_mcwm/wholebrain2.nii.gz (zscore=True, smooth=6, zscore_by_rest=True)\n",
      "/home/zulqarnain/anaconda3/envs/htfatorch/lib/python3.7/site-packages/nilearn/_utils/cache_mixin.py:232: DeprecationWarning: The 'cachedir' attribute has been deprecated in version 0.12 and will be removed in version 0.14.\n",
      "Use os.path.join(memory.location, 'joblib') attribute instead.\n",
      "  if (memory.cachedir is None and memory_level is not None\n",
      "01/28/2020 16:26:35 Loading Nifti image /data/zulqarnain/AffVids_mcwm/motion_corrected/sub08_run02_mc_MNI_masked.nii.gz with mask /data/zulqarnain/AffVids_mcwm/wholebrain2.nii.gz (zscore=True, smooth=6, zscore_by_rest=True)\n",
      "/home/zulqarnain/anaconda3/envs/htfatorch/lib/python3.7/site-packages/nilearn/_utils/cache_mixin.py:232: DeprecationWarning: The 'cachedir' attribute has been deprecated in version 0.12 and will be removed in version 0.14.\n",
      "Use os.path.join(memory.location, 'joblib') attribute instead.\n",
      "  if (memory.cachedir is None and memory_level is not None\n",
      "01/28/2020 16:26:56 Loading Nifti image /data/zulqarnain/AffVids_mcwm/motion_corrected/sub08_run03_mc_MNI_masked.nii.gz with mask /data/zulqarnain/AffVids_mcwm/wholebrain2.nii.gz (zscore=True, smooth=6, zscore_by_rest=True)\n",
      "/home/zulqarnain/anaconda3/envs/htfatorch/lib/python3.7/site-packages/nilearn/_utils/cache_mixin.py:232: DeprecationWarning: The 'cachedir' attribute has been deprecated in version 0.12 and will be removed in version 0.14.\n",
      "Use os.path.join(memory.location, 'joblib') attribute instead.\n",
      "  if (memory.cachedir is None and memory_level is not None\n",
      "01/28/2020 16:27:16 Loading Nifti image /data/zulqarnain/AffVids_mcwm/motion_corrected/sub09_run01_mc_MNI_masked.nii.gz with mask /data/zulqarnain/AffVids_mcwm/wholebrain2.nii.gz (zscore=True, smooth=6, zscore_by_rest=True)\n",
      "/home/zulqarnain/anaconda3/envs/htfatorch/lib/python3.7/site-packages/nilearn/_utils/cache_mixin.py:232: DeprecationWarning: The 'cachedir' attribute has been deprecated in version 0.12 and will be removed in version 0.14.\n",
      "Use os.path.join(memory.location, 'joblib') attribute instead.\n",
      "  if (memory.cachedir is None and memory_level is not None\n",
      "01/28/2020 16:27:37 Loading Nifti image /data/zulqarnain/AffVids_mcwm/motion_corrected/sub09_run02_mc_MNI_masked.nii.gz with mask /data/zulqarnain/AffVids_mcwm/wholebrain2.nii.gz (zscore=True, smooth=6, zscore_by_rest=True)\n",
      "/home/zulqarnain/anaconda3/envs/htfatorch/lib/python3.7/site-packages/nilearn/_utils/cache_mixin.py:232: DeprecationWarning: The 'cachedir' attribute has been deprecated in version 0.12 and will be removed in version 0.14.\n",
      "Use os.path.join(memory.location, 'joblib') attribute instead.\n",
      "  if (memory.cachedir is None and memory_level is not None\n",
      "01/28/2020 16:27:59 Loading Nifti image /data/zulqarnain/AffVids_mcwm/motion_corrected/sub09_run03_mc_MNI_masked.nii.gz with mask /data/zulqarnain/AffVids_mcwm/wholebrain2.nii.gz (zscore=True, smooth=6, zscore_by_rest=True)\n",
      "/home/zulqarnain/anaconda3/envs/htfatorch/lib/python3.7/site-packages/nilearn/_utils/cache_mixin.py:232: DeprecationWarning: The 'cachedir' attribute has been deprecated in version 0.12 and will be removed in version 0.14.\n",
      "Use os.path.join(memory.location, 'joblib') attribute instead.\n",
      "  if (memory.cachedir is None and memory_level is not None\n",
      "01/28/2020 16:28:19 Loading Nifti image /data/zulqarnain/AffVids_mcwm/motion_corrected/sub10_run01_mc_MNI_masked.nii.gz with mask /data/zulqarnain/AffVids_mcwm/wholebrain2.nii.gz (zscore=True, smooth=6, zscore_by_rest=True)\n",
      "/home/zulqarnain/anaconda3/envs/htfatorch/lib/python3.7/site-packages/nilearn/_utils/cache_mixin.py:232: DeprecationWarning: The 'cachedir' attribute has been deprecated in version 0.12 and will be removed in version 0.14.\n",
      "Use os.path.join(memory.location, 'joblib') attribute instead.\n",
      "  if (memory.cachedir is None and memory_level is not None\n"
     ]
    }
   ],
   "source": [
    "htfa = HTFA.HierarchicalTopographicFactorAnalysis([b for b in affvids_db.all() if 'rest' not in b.task], mask='/home/zulqarnain/fmri_data/AffVids_mcwm/wholebrain2.nii.gz', num_factors=100)"
   ]
  },
  {
   "cell_type": "code",
   "execution_count": 12,
   "metadata": {},
   "outputs": [],
   "source": [
    "htfa.load_state('data/affvids_norest_k100_n1000_01242020_230748')"
   ]
  },
  {
   "cell_type": "code",
   "execution_count": 34,
   "metadata": {},
   "outputs": [],
   "source": [
    "def task_labeler(task):\n",
    "    if 'heights' in task:\n",
    "        return 'Heights'\n",
    "    elif 'social' in task:\n",
    "        return 'Social threat'\n",
    "    elif 'spider' in task:\n",
    "        return 'Spiders'\n",
    "    elif 'rest' in task:\n",
    "        return 'Rest'\n",
    "    else:\n",
    "        return None\n",
    "\n",
    "def rest_task_labeler(task):\n",
    "    if task == 'rest':\n",
    "        return 'Rest'\n",
    "    else:\n",
    "        return 'Task'\n",
    "\n",
    "def high_low_labeler(task):\n",
    "    if 'high' in task:\n",
    "        return 'high'\n",
    "    elif 'low' in task:\n",
    "        return 'low'\n",
    "    else:\n",
    "        return None"
   ]
  },
  {
   "cell_type": "code",
   "execution_count": 32,
   "metadata": {},
   "outputs": [],
   "source": [
    "def block_task_labeler(block):\n",
    "    return task_labeler(block.task)\n",
    "\n",
    "def block_high_low_labeler(block):\n",
    "    if 'high' in block.task:\n",
    "        return 'high'\n",
    "    elif 'low' in block.task:\n",
    "        return 'low'\n",
    "    else:\n",
    "        return None"
   ]
  },
  {
   "cell_type": "code",
   "execution_count": 15,
   "metadata": {},
   "outputs": [],
   "source": [
    "def subject_labeler(subject):\n",
    "    return 'Subject %d' % subject"
   ]
  },
  {
   "cell_type": "code",
   "execution_count": 18,
   "metadata": {},
   "outputs": [],
   "source": [
    "def block_subject_labeler(block):\n",
    "    return subject_labeler(block.subject)"
   ]
  },
  {
   "cell_type": "code",
   "execution_count": 53,
   "metadata": {},
   "outputs": [],
   "source": [
    "def classification_pipeline(data,targets,scoring=\"roc_auc\",input_data=False,print_all=True):\n",
    "    categories = np.unique(targets)\n",
    "    overall_result = []\n",
    "    overall_result_chance = []\n",
    "    feature_selection = SelectPercentile(f_classif, percentile=5)\n",
    "    for category in categories:\n",
    "        print(\"Processing %s\" % (category))\n",
    "        svc = SVC(C=1., kernel=\"linear\")\n",
    "        if input_data:\n",
    "            classifier = Pipeline([('anova', feature_selection), ('svc', svc)])\n",
    "        else:\n",
    "            classifier = svc\n",
    "        dummy_classifier = DummyClassifier()\n",
    "\n",
    "        classification_target = [t==category for t in targets]\n",
    "        result = cross_val_score(\n",
    "            classifier,\n",
    "            data,\n",
    "            classification_target,\n",
    "            cv=cv,\n",
    "            groups=session_labels,\n",
    "            scoring=\"roc_auc\",\n",
    "        )\n",
    "\n",
    "        result_chance = cross_val_score(\n",
    "            dummy_classifier,\n",
    "            data,\n",
    "            classification_target,\n",
    "            cv=cv,\n",
    "            groups=session_labels,\n",
    "            scoring=\"roc_auc\",\n",
    "        )\n",
    "        overall_result.extend(result)\n",
    "        overall_result_chance.extend(result_chance)\n",
    "        if print_all:\n",
    "            print(\"Scores: %1.4f +- %1.4f\" % (\n",
    "                result.mean(),\n",
    "                result.std()))\n",
    "\n",
    "            print(\"Chance Scores: %1.4f +- %1.4f\" % (\n",
    "                result_chance.mean(),\n",
    "                result_chance.std()))\n",
    "    \n",
    "    if print_all:\n",
    "        print ('...')\n",
    "        print(\"Overall Score: %1.4f +- %1.4f\" % (\n",
    "        np.array(overall_result).mean(),\n",
    "        np.array(overall_result).std()))\n",
    "\n",
    "        print(\"Overall Dummy Score: %1.4f +- %1.4f\" % (\n",
    "        np.array(overall_result_chance).mean(),\n",
    "        np.array(overall_result_chance).std()))\n",
    "\n",
    "        print (\"\\n\")\n",
    "    return overall_result,overall_result_chance"
   ]
  },
  {
   "cell_type": "code",
   "execution_count": 54,
   "metadata": {},
   "outputs": [],
   "source": [
    "dtfa_hyperparams = dtfa.variational.hyperparams.state_vardict()\n",
    "all_weights_dtfa = dtfa_hyperparams['weights']['mu'].data.numpy()\n",
    "all_weights_htfa = htfa.enc.hyperparams.block__weights__mu.data.numpy()\n"
   ]
  },
  {
   "cell_type": "code",
   "execution_count": 55,
   "metadata": {},
   "outputs": [
    {
     "name": "stdout",
     "output_type": "stream",
     "text": [
      "Processing Subject 10\n",
      "Processing Heights\n",
      "Scores: 0.9896 +- 0.0147\n",
      "Chance Scores: 0.5417 +- 0.0780\n",
      "Processing Social threat\n",
      "Scores: 0.9479 +- 0.0531\n",
      "Chance Scores: 0.5000 +- 0.0000\n",
      "Processing Spiders\n",
      "Scores: 1.0000 +- 0.0000\n",
      "Chance Scores: 0.4375 +- 0.1021\n",
      "...\n",
      "Overall Score: 0.9792 +- 0.0390\n",
      "Overall Dummy Score: 0.4931 +- 0.0856\n",
      "\n",
      "\n",
      "Processing Subject 11\n",
      "Processing Heights\n",
      "Scores: 0.8542 +- 0.1405\n",
      "Chance Scores: 0.5833 +- 0.2125\n",
      "Processing Social threat\n",
      "Scores: 0.8854 +- 0.0531\n",
      "Chance Scores: 0.4167 +- 0.0780\n",
      "Processing Spiders\n",
      "Scores: 0.8646 +- 0.0820\n",
      "Chance Scores: 0.4583 +- 0.0780\n",
      "...\n",
      "Overall Score: 0.8681 +- 0.0997\n",
      "Overall Dummy Score: 0.4861 +- 0.1553\n",
      "\n",
      "\n",
      "Processing Subject 12\n",
      "Processing Heights\n",
      "Scores: 0.5000 +- 0.1276\n",
      "Chance Scores: 0.4792 +- 0.1559\n",
      "Processing Social threat\n",
      "Scores: 0.5312 +- 0.1021\n",
      "Chance Scores: 0.4792 +- 0.0780\n",
      "Processing Spiders\n",
      "Scores: 0.4896 +- 0.1284\n",
      "Chance Scores: 0.4583 +- 0.0780\n",
      "...\n",
      "Overall Score: 0.5069 +- 0.1213\n",
      "Overall Dummy Score: 0.4722 +- 0.1107\n",
      "\n",
      "\n",
      "Processing Subject 13\n",
      "Processing Heights\n",
      "Scores: 0.9062 +- 0.0765\n",
      "Chance Scores: 0.6250 +- 0.1531\n",
      "Processing Social threat\n",
      "Scores: 0.9792 +- 0.0147\n",
      "Chance Scores: 0.5833 +- 0.1284\n",
      "Processing Spiders\n",
      "Scores: 0.8854 +- 0.0820\n",
      "Chance Scores: 0.5417 +- 0.1062\n",
      "...\n",
      "Overall Score: 0.9236 +- 0.0767\n",
      "Overall Dummy Score: 0.5833 +- 0.1350\n",
      "\n",
      "\n",
      "Processing Subject 14\n",
      "Processing Heights\n",
      "Scores: 0.8125 +- 0.0000\n",
      "Chance Scores: 0.5312 +- 0.0938\n",
      "Processing Social threat\n",
      "Scores: 0.8906 +- 0.0156\n",
      "Chance Scores: 0.5938 +- 0.2188\n",
      "Processing Spiders\n",
      "Scores: 1.0000 +- 0.0000\n",
      "Chance Scores: 0.6562 +- 0.0938\n",
      "...\n",
      "Overall Score: 0.9010 +- 0.0774\n",
      "Overall Dummy Score: 0.5938 +- 0.1562\n",
      "\n",
      "\n",
      "Processing Subject 15\n",
      "Processing Heights\n",
      "Scores: 0.8333 +- 0.0820\n",
      "Chance Scores: 0.4583 +- 0.0780\n",
      "Processing Social threat\n",
      "Scores: 0.9375 +- 0.0510\n",
      "Chance Scores: 0.5000 +- 0.0510\n",
      "Processing Spiders\n",
      "Scores: 0.9062 +- 0.0675\n",
      "Chance Scores: 0.5208 +- 0.0295\n",
      "...\n",
      "Overall Score: 0.8924 +- 0.0808\n",
      "Overall Dummy Score: 0.4931 +- 0.0621\n",
      "\n",
      "\n",
      "Processing Subject 16\n",
      "Processing Heights\n",
      "Scores: 0.9583 +- 0.0295\n",
      "Chance Scores: 0.5625 +- 0.0884\n",
      "Processing Social threat\n",
      "Scores: 0.9896 +- 0.0147\n",
      "Chance Scores: 0.4375 +- 0.0884\n",
      "Processing Spiders\n",
      "Scores: 0.9688 +- 0.0255\n",
      "Chance Scores: 0.3750 +- 0.1350\n",
      "...\n",
      "Overall Score: 0.9722 +- 0.0273\n",
      "Overall Dummy Score: 0.4583 +- 0.1318\n",
      "\n",
      "\n",
      "Processing Subject 17\n",
      "Processing Heights\n",
      "Scores: 0.9167 +- 0.0390\n",
      "Chance Scores: 0.5000 +- 0.1021\n",
      "Processing Social threat\n",
      "Scores: 0.8333 +- 0.0390\n",
      "Chance Scores: 0.7292 +- 0.0295\n",
      "Processing Spiders\n",
      "Scores: 0.8750 +- 0.0442\n",
      "Chance Scores: 0.6250 +- 0.0884\n",
      "...\n",
      "Overall Score: 0.8750 +- 0.0531\n",
      "Overall Dummy Score: 0.6181 +- 0.1231\n",
      "\n",
      "\n",
      "Processing Subject 18\n",
      "Processing Heights\n",
      "Scores: 0.6458 +- 0.1284\n",
      "Chance Scores: 0.4375 +- 0.0884\n",
      "Processing Social threat\n",
      "Scores: 0.5312 +- 0.1421\n",
      "Chance Scores: 0.6042 +- 0.0295\n",
      "Processing Spiders\n",
      "Scores: 0.6354 +- 0.0820\n",
      "Chance Scores: 0.4792 +- 0.1792\n",
      "...\n",
      "Overall Score: 0.6042 +- 0.1309\n",
      "Overall Dummy Score: 0.5069 +- 0.1364\n",
      "\n",
      "\n",
      "Processing Subject 19\n",
      "Processing Heights\n",
      "Scores: 0.8750 +- 0.0510\n",
      "Chance Scores: 0.4583 +- 0.1179\n",
      "Processing Social threat\n",
      "Scores: 0.9271 +- 0.0147\n",
      "Chance Scores: 0.5417 +- 0.0589\n",
      "Processing Spiders\n",
      "Scores: 0.8333 +- 0.0780\n",
      "Chance Scores: 0.5000 +- 0.2339\n",
      "...\n",
      "Overall Score: 0.8785 +- 0.0666\n",
      "Overall Dummy Score: 0.5000 +- 0.1587\n",
      "\n",
      "\n",
      "Processing Subject 23\n",
      "Processing Heights\n",
      "Scores: 0.8438 +- 0.0938\n",
      "Chance Scores: 0.5625 +- 0.1875\n",
      "Processing Social threat\n",
      "Scores: 0.8125 +- 0.0000\n",
      "Chance Scores: 0.4688 +- 0.0938\n",
      "Processing Spiders\n",
      "Scores: 0.9062 +- 0.0312\n",
      "Chance Scores: 0.5625 +- 0.1875\n",
      "...\n",
      "Overall Score: 0.8542 +- 0.0691\n",
      "Overall Dummy Score: 0.5312 +- 0.1683\n",
      "\n",
      "\n",
      "Processing Subject 25\n",
      "Processing Heights\n",
      "Scores: 0.7708 +- 0.0390\n",
      "Chance Scores: 0.6042 +- 0.0780\n",
      "Processing Social threat\n",
      "Scores: 0.9479 +- 0.0531\n",
      "Chance Scores: 0.4583 +- 0.1559\n",
      "Processing Spiders\n",
      "Scores: 0.9896 +- 0.0147\n",
      "Chance Scores: 0.5417 +- 0.2062\n",
      "...\n",
      "Overall Score: 0.9028 +- 0.1025\n",
      "Overall Dummy Score: 0.5347 +- 0.1670\n",
      "\n",
      "\n",
      "Processing Subject 26\n",
      "Processing Heights\n",
      "Scores: 0.6562 +- 0.1250\n",
      "Chance Scores: 0.5000 +- 0.0625\n",
      "Processing Social threat\n",
      "Scores: 0.7500 +- 0.0625\n",
      "Chance Scores: 0.5000 +- 0.0625\n",
      "Processing Spiders\n",
      "Scores: 0.7656 +- 0.0469\n",
      "Chance Scores: 0.5625 +- 0.0625\n",
      "...\n",
      "Overall Score: 0.7240 +- 0.0979\n",
      "Overall Dummy Score: 0.5208 +- 0.0691\n",
      "\n",
      "\n",
      "Processing Subject 28\n",
      "Processing Heights\n",
      "Scores: 0.9688 +- 0.0442\n",
      "Chance Scores: 0.6250 +- 0.1350\n",
      "Processing Social threat\n",
      "Scores: 0.9688 +- 0.0000\n",
      "Chance Scores: 0.5000 +- 0.0510\n",
      "Processing Spiders\n",
      "Scores: 1.0000 +- 0.0000\n",
      "Chance Scores: 0.5208 +- 0.0589\n",
      "...\n",
      "Overall Score: 0.9792 +- 0.0295\n",
      "Overall Dummy Score: 0.5486 +- 0.1053\n",
      "\n",
      "\n",
      "Processing Subject 29\n",
      "Processing Heights\n",
      "Scores: 0.8750 +- 0.0884\n",
      "Chance Scores: 0.3333 +- 0.0589\n",
      "Processing Social threat\n",
      "Scores: 0.9271 +- 0.0390\n",
      "Chance Scores: 0.5625 +- 0.0884\n",
      "Processing Spiders\n",
      "Scores: 0.9271 +- 0.0295\n",
      "Chance Scores: 0.5417 +- 0.0780\n",
      "...\n",
      "Overall Score: 0.9097 +- 0.0633\n",
      "Overall Dummy Score: 0.4792 +- 0.1284\n",
      "\n",
      "\n",
      "Processing Subject 4\n",
      "Processing Heights\n",
      "Scores: 0.8021 +- 0.0390\n",
      "Chance Scores: 0.5208 +- 0.1062\n",
      "Processing Social threat\n",
      "Scores: 0.8958 +- 0.0896\n",
      "Chance Scores: 0.4792 +- 0.2946\n",
      "Processing Spiders\n",
      "Scores: 0.9375 +- 0.0255\n",
      "Chance Scores: 0.3333 +- 0.1284\n",
      "...\n",
      "Overall Score: 0.8785 +- 0.0813\n",
      "Overall Dummy Score: 0.4444 +- 0.2113\n",
      "\n",
      "\n",
      "Processing Subject 5\n",
      "Processing Heights\n",
      "Scores: 0.8542 +- 0.0390\n",
      "Chance Scores: 0.6667 +- 0.1062\n",
      "Processing Social threat\n",
      "Scores: 0.9167 +- 0.0966\n",
      "Chance Scores: 0.3750 +- 0.1350\n",
      "Processing Spiders\n",
      "Scores: 0.9583 +- 0.0390\n",
      "Chance Scores: 0.4375 +- 0.0510\n",
      "...\n",
      "Overall Score: 0.9097 +- 0.0772\n",
      "Overall Dummy Score: 0.4931 +- 0.1626\n",
      "\n",
      "\n",
      "Processing Subject 6\n",
      "Processing Heights\n",
      "Scores: 0.4375 +- 0.1421\n",
      "Chance Scores: 0.3333 +- 0.1473\n",
      "Processing Social threat\n",
      "Scores: 0.2812 +- 0.0675\n",
      "Chance Scores: 0.6667 +- 0.1062\n",
      "Processing Spiders\n",
      "Scores: 0.6354 +- 0.0147\n",
      "Chance Scores: 0.3125 +- 0.1021\n",
      "...\n",
      "Overall Score: 0.4514 +- 0.1712\n",
      "Overall Dummy Score: 0.4375 +- 0.2020\n",
      "\n",
      "\n",
      "Processing Subject 7\n",
      "Processing Heights\n",
      "Scores: 0.4375 +- 0.0000\n",
      "Chance Scores: 0.5000 +- 0.1250\n",
      "Processing Social threat\n",
      "Scores: 0.4375 +- 0.0938\n",
      "Chance Scores: 0.7188 +- 0.0312\n",
      "Processing Spiders\n",
      "Scores: 0.3594 +- 0.0156\n",
      "Chance Scores: 0.5312 +- 0.0938\n",
      "...\n",
      "Overall Score: 0.4115 +- 0.0661\n",
      "Overall Dummy Score: 0.5833 +- 0.1334\n",
      "\n",
      "\n",
      "Processing Subject 8\n",
      "Processing Heights\n",
      "Scores: 0.9583 +- 0.0147\n",
      "Chance Scores: 0.4792 +- 0.2062\n",
      "Processing Social threat\n",
      "Scores: 0.9583 +- 0.0147\n",
      "Chance Scores: 0.4375 +- 0.1021\n",
      "Processing Spiders\n",
      "Scores: 0.9896 +- 0.0147\n",
      "Chance Scores: 0.6042 +- 0.0589\n",
      "...\n",
      "Overall Score: 0.9688 +- 0.0208\n",
      "Overall Dummy Score: 0.5069 +- 0.1543\n",
      "\n",
      "\n",
      "Processing Subject 9\n",
      "Processing Heights\n",
      "Scores: 0.5208 +- 0.1179\n",
      "Chance Scores: 0.3958 +- 0.1062\n",
      "Processing Social threat\n",
      "Scores: 0.3542 +- 0.0780\n",
      "Chance Scores: 0.5208 +- 0.1284\n",
      "Processing Spiders\n",
      "Scores: 0.4792 +- 0.0820\n",
      "Chance Scores: 0.4375 +- 0.1531\n",
      "...\n",
      "Overall Score: 0.4514 +- 0.1180\n",
      "Overall Dummy Score: 0.4514 +- 0.1406\n",
      "\n",
      "\n",
      "...\n",
      "NTFA Summary Score Across Subjects, Across Tasks: 0.8074 +- 0.2060\n",
      "Overall Dummy Score: 0.5081 +- 0.1514\n"
     ]
    }
   ],
   "source": [
    "### task classification using leave one out runs on NTFA###\n",
    "cv = LeaveOneGroupOut()\n",
    "summary_result = []\n",
    "summary_result_chance = []\n",
    "for s in dtfa.subjects():\n",
    "    print(\"Processing Subject %d\" % (s))\n",
    "    session_labels = []\n",
    "    data = []\n",
    "    targets = []\n",
    "    for i in range(dtfa.num_blocks):\n",
    "        block = dtfa._blocks[i]\n",
    "        if block.subject == s:\n",
    "            session_labels.append(block.run)\n",
    "            data.append(all_weights_dtfa[i,:,:].mean(0))\n",
    "            targets.append(task_labeler(block.task))\n",
    "    data = np.array(data)\n",
    "    overall_result,overall_result_chance = classification_pipeline(data=data,\n",
    "                                                                   targets=targets,\n",
    "                                                                   scoring=\"roc_auc\",\n",
    "                                                                   print_all=True)\n",
    "    summary_result.extend(overall_result)\n",
    "    summary_result_chance.extend(overall_result_chance)\n",
    "print ('...')\n",
    "print(\"NTFA Summary Score Across Subjects, Across Tasks: %1.4f +- %1.4f\" % (\n",
    "np.array(summary_result).mean(),\n",
    "np.array(summary_result).std()))\n",
    "\n",
    "print(\"Overall Dummy Score: %1.4f +- %1.4f\" % (\n",
    "np.array(summary_result_chance).mean(),\n",
    "np.array(summary_result_chance).std()))\n",
    "\n",
    "ntfa_summary_result = summary_result\n",
    "dummy_summary_result = summary_result_chance"
   ]
  },
  {
   "cell_type": "code",
   "execution_count": 56,
   "metadata": {},
   "outputs": [
    {
     "name": "stdout",
     "output_type": "stream",
     "text": [
      "Processing Subject 10\n",
      "Processing Heights\n",
      "Scores: 0.9271 +- 0.0390\n",
      "Chance Scores: 0.4583 +- 0.1559\n",
      "Processing Social threat\n",
      "Scores: 0.9375 +- 0.0442\n",
      "Chance Scores: 0.4167 +- 0.1473\n",
      "Processing Spiders\n",
      "Scores: 0.9479 +- 0.0390\n",
      "Chance Scores: 0.5625 +- 0.0884\n",
      "...\n",
      "Overall Score: 0.9375 +- 0.0417\n",
      "Overall Dummy Score: 0.4792 +- 0.1473\n",
      "\n",
      "\n",
      "Processing Subject 11\n",
      "Processing Heights\n",
      "Scores: 0.6875 +- 0.0510\n",
      "Chance Scores: 0.6042 +- 0.0589\n",
      "Processing Social threat\n",
      "Scores: 0.8125 +- 0.0920\n",
      "Chance Scores: 0.5000 +- 0.0884\n",
      "Processing Spiders\n",
      "Scores: 0.7396 +- 0.1405\n",
      "Chance Scores: 0.5417 +- 0.0780\n",
      "...\n",
      "Overall Score: 0.7465 +- 0.1136\n",
      "Overall Dummy Score: 0.5486 +- 0.0873\n",
      "\n",
      "\n",
      "Processing Subject 12\n",
      "Processing Heights\n",
      "Scores: 0.5104 +- 0.1405\n",
      "Chance Scores: 0.5417 +- 0.0295\n",
      "Processing Social threat\n",
      "Scores: 0.6250 +- 0.0675\n",
      "Chance Scores: 0.4375 +- 0.0510\n",
      "Processing Spiders\n",
      "Scores: 0.5208 +- 0.0966\n",
      "Chance Scores: 0.4375 +- 0.0510\n",
      "...\n",
      "Overall Score: 0.5521 +- 0.1179\n",
      "Overall Dummy Score: 0.4722 +- 0.0666\n",
      "\n",
      "\n",
      "Processing Subject 13\n",
      "Processing Heights\n",
      "Scores: 0.8125 +- 0.1531\n",
      "Chance Scores: 0.3542 +- 0.1062\n",
      "Processing Social threat\n",
      "Scores: 0.8646 +- 0.0531\n",
      "Chance Scores: 0.5625 +- 0.1840\n",
      "Processing Spiders\n",
      "Scores: 0.7708 +- 0.0295\n",
      "Chance Scores: 0.5625 +- 0.1768\n",
      "...\n",
      "Overall Score: 0.8160 +- 0.1025\n",
      "Overall Dummy Score: 0.4931 +- 0.1874\n",
      "\n",
      "\n",
      "Processing Subject 14\n",
      "Processing Heights\n",
      "Scores: 0.8750 +- 0.0312\n",
      "Chance Scores: 0.5000 +- 0.0625\n",
      "Processing Social threat\n",
      "Scores: 0.9375 +- 0.0312\n",
      "Chance Scores: 0.5000 +- 0.0625\n",
      "Processing Spiders\n",
      "Scores: 0.9844 +- 0.0156\n",
      "Chance Scores: 0.6875 +- 0.0625\n",
      "...\n",
      "Overall Score: 0.9323 +- 0.0523\n",
      "Overall Dummy Score: 0.5625 +- 0.1083\n",
      "\n",
      "\n",
      "Processing Subject 15\n",
      "Processing Heights\n",
      "Scores: 0.6458 +- 0.0896\n",
      "Chance Scores: 0.5208 +- 0.0589\n",
      "Processing Social threat\n",
      "Scores: 0.8229 +- 0.0896\n",
      "Chance Scores: 0.6250 +- 0.0510\n",
      "Processing Spiders\n",
      "Scores: 0.8958 +- 0.0820\n",
      "Chance Scores: 0.5417 +- 0.2062\n",
      "...\n",
      "Overall Score: 0.7882 +- 0.1364\n",
      "Overall Dummy Score: 0.5625 +- 0.1350\n",
      "\n",
      "\n",
      "Processing Subject 16\n",
      "Processing Heights\n",
      "Scores: 0.7083 +- 0.0642\n",
      "Chance Scores: 0.5625 +- 0.1840\n",
      "Processing Social threat\n",
      "Scores: 0.9792 +- 0.0147\n",
      "Chance Scores: 0.5833 +- 0.1062\n",
      "Processing Spiders\n",
      "Scores: 0.9167 +- 0.0531\n",
      "Chance Scores: 0.5208 +- 0.1932\n",
      "...\n",
      "Overall Score: 0.8681 +- 0.1257\n",
      "Overall Dummy Score: 0.5556 +- 0.1678\n",
      "\n",
      "\n",
      "Processing Subject 17\n",
      "Processing Heights\n",
      "Scores: 0.8542 +- 0.0642\n",
      "Chance Scores: 0.6250 +- 0.1531\n",
      "Processing Social threat\n",
      "Scores: 0.4688 +- 0.1421\n",
      "Chance Scores: 0.6250 +- 0.0000\n",
      "Processing Spiders\n",
      "Scores: 0.8333 +- 0.1031\n",
      "Chance Scores: 0.4167 +- 0.0780\n",
      "...\n",
      "Overall Score: 0.7188 +- 0.2073\n",
      "Overall Dummy Score: 0.5556 +- 0.1396\n",
      "\n",
      "\n",
      "Processing Subject 18\n",
      "Processing Heights\n",
      "Scores: 0.6354 +- 0.1151\n",
      "Chance Scores: 0.4375 +- 0.1840\n",
      "Processing Social threat\n",
      "Scores: 0.5729 +- 0.0966\n",
      "Chance Scores: 0.5000 +- 0.1350\n",
      "Processing Spiders\n",
      "Scores: 0.6979 +- 0.0147\n",
      "Chance Scores: 0.5417 +- 0.1062\n",
      "...\n",
      "Overall Score: 0.6354 +- 0.1010\n",
      "Overall Dummy Score: 0.4931 +- 0.1515\n",
      "\n",
      "\n",
      "Processing Subject 19\n",
      "Processing Heights\n",
      "Scores: 0.7812 +- 0.0442\n",
      "Chance Scores: 0.5625 +- 0.1350\n",
      "Processing Social threat\n",
      "Scores: 0.8125 +- 0.0255\n",
      "Chance Scores: 0.5000 +- 0.1350\n",
      "Processing Spiders\n",
      "Scores: 0.7083 +- 0.1206\n",
      "Chance Scores: 0.5625 +- 0.1350\n",
      "...\n",
      "Overall Score: 0.7674 +- 0.0873\n",
      "Overall Dummy Score: 0.5417 +- 0.1382\n",
      "\n",
      "\n",
      "Processing Subject 23\n",
      "Processing Heights\n",
      "Scores: 0.6094 +- 0.0469\n",
      "Chance Scores: 0.4375 +- 0.1250\n",
      "Processing Social threat\n",
      "Scores: 0.6719 +- 0.0469\n",
      "Chance Scores: 0.6562 +- 0.0938\n",
      "Processing Spiders\n",
      "Scores: 0.8750 +- 0.1250\n",
      "Chance Scores: 0.5625 +- 0.0625\n",
      "...\n",
      "Overall Score: 0.7188 +- 0.1398\n",
      "Overall Dummy Score: 0.5521 +- 0.1322\n",
      "\n",
      "\n",
      "Processing Subject 25\n",
      "Processing Heights\n",
      "Scores: 0.5833 +- 0.1031\n",
      "Chance Scores: 0.4583 +- 0.2301\n",
      "Processing Social threat\n",
      "Scores: 0.8438 +- 0.0255\n",
      "Chance Scores: 0.4375 +- 0.0884\n",
      "Processing Spiders\n",
      "Scores: 0.9375 +- 0.0255\n",
      "Chance Scores: 0.3542 +- 0.0780\n",
      "...\n",
      "Overall Score: 0.7882 +- 0.1626\n",
      "Overall Dummy Score: 0.4167 +- 0.1559\n",
      "\n",
      "\n",
      "Processing Subject 26\n",
      "Processing Heights\n",
      "Scores: 0.7969 +- 0.0469\n",
      "Chance Scores: 0.5000 +- 0.0625\n",
      "Processing Social threat\n",
      "Scores: 0.6250 +- 0.0312\n",
      "Chance Scores: 0.4062 +- 0.0938\n",
      "Processing Spiders\n",
      "Scores: 0.9531 +- 0.0469\n",
      "Chance Scores: 0.6250 +- 0.0000\n",
      "...\n",
      "Overall Score: 0.7917 +- 0.1405\n",
      "Overall Dummy Score: 0.5104 +- 0.1107\n",
      "\n",
      "\n",
      "Processing Subject 28\n",
      "Processing Heights\n",
      "Scores: 0.8542 +- 0.1284\n",
      "Chance Scores: 0.6458 +- 0.0295\n",
      "Processing Social threat\n",
      "Scores: 0.8542 +- 0.0390\n",
      "Chance Scores: 0.5000 +- 0.1350\n",
      "Processing Spiders\n",
      "Scores: 0.9792 +- 0.0295\n",
      "Chance Scores: 0.4167 +- 0.0780\n",
      "...\n",
      "Overall Score: 0.8958 +- 0.0988\n",
      "Overall Dummy Score: 0.5208 +- 0.1318\n",
      "\n",
      "\n",
      "Processing Subject 29\n",
      "Processing Heights\n",
      "Scores: 0.9062 +- 0.0255\n",
      "Chance Scores: 0.6250 +- 0.2224\n",
      "Processing Social threat\n",
      "Scores: 0.8542 +- 0.0531\n",
      "Chance Scores: 0.6458 +- 0.1062\n",
      "Processing Spiders\n",
      "Scores: 0.8750 +- 0.0442\n",
      "Chance Scores: 0.4375 +- 0.1021\n",
      "...\n",
      "Overall Score: 0.8785 +- 0.0476\n",
      "Overall Dummy Score: 0.5694 +- 0.1803\n",
      "\n",
      "\n",
      "Processing Subject 4\n",
      "Processing Heights\n",
      "Scores: 0.8958 +- 0.0390\n",
      "Chance Scores: 0.5417 +- 0.1932\n",
      "Processing Social threat\n",
      "Scores: 0.8958 +- 0.1031\n",
      "Chance Scores: 0.6458 +- 0.1062\n",
      "Processing Spiders\n",
      "Scores: 0.8750 +- 0.0765\n",
      "Chance Scores: 0.5625 +- 0.0884\n",
      "...\n",
      "Overall Score: 0.8889 +- 0.0781\n",
      "Overall Dummy Score: 0.5833 +- 0.1443\n",
      "\n",
      "\n",
      "Processing Subject 5\n",
      "Processing Heights\n",
      "Scores: 0.5833 +- 0.1031\n",
      "Chance Scores: 0.3333 +- 0.0589\n",
      "Processing Social threat\n",
      "Scores: 0.6146 +- 0.1451\n",
      "Chance Scores: 0.6458 +- 0.2062\n",
      "Processing Spiders\n",
      "Scores: 0.7188 +- 0.1421\n",
      "Chance Scores: 0.4167 +- 0.0295\n",
      "...\n",
      "Overall Score: 0.6389 +- 0.1437\n",
      "Overall Dummy Score: 0.4653 +- 0.1819\n",
      "\n",
      "\n",
      "Processing Subject 6\n",
      "Processing Heights\n",
      "Scores: 0.2917 +- 0.1699\n",
      "Chance Scores: 0.4167 +- 0.1062\n",
      "Processing Social threat\n",
      "Scores: 0.3854 +- 0.1737\n",
      "Chance Scores: 0.5417 +- 0.0780\n",
      "Processing Spiders\n",
      "Scores: 0.5521 +- 0.0820\n",
      "Chance Scores: 0.4792 +- 0.1792\n",
      "...\n",
      "Overall Score: 0.4097 +- 0.1831\n",
      "Overall Dummy Score: 0.4792 +- 0.1382\n",
      "\n",
      "\n",
      "Processing Subject 7\n",
      "Processing Heights\n",
      "Scores: 0.5938 +- 0.0625\n",
      "Chance Scores: 0.5625 +- 0.0625\n",
      "Processing Social threat\n",
      "Scores: 0.2500 +- 0.0000\n",
      "Chance Scores: 0.6562 +- 0.0938\n",
      "Processing Spiders\n",
      "Scores: 0.2969 +- 0.1094\n",
      "Chance Scores: 0.7188 +- 0.0938\n",
      "...\n",
      "Overall Score: 0.3802 +- 0.1687\n",
      "Overall Dummy Score: 0.6458 +- 0.1062\n",
      "\n",
      "\n",
      "Processing Subject 8\n",
      "Processing Heights\n",
      "Scores: 0.8021 +- 0.0820\n",
      "Chance Scores: 0.5833 +- 0.1179\n",
      "Processing Social threat\n",
      "Scores: 0.8958 +- 0.0642\n",
      "Chance Scores: 0.4792 +- 0.0780\n",
      "Processing Spiders\n",
      "Scores: 0.9583 +- 0.0295\n",
      "Chance Scores: 0.5833 +- 0.0589\n",
      "...\n",
      "Overall Score: 0.8854 +- 0.0896\n",
      "Overall Dummy Score: 0.5486 +- 0.1011\n",
      "\n",
      "\n",
      "Processing Subject 9\n",
      "Processing Heights\n",
      "Scores: 0.7396 +- 0.1031\n",
      "Chance Scores: 0.5625 +- 0.1350\n",
      "Processing Social threat\n",
      "Scores: 0.6042 +- 0.1932\n",
      "Chance Scores: 0.5000 +- 0.0884\n",
      "Processing Spiders\n",
      "Scores: 0.5521 +- 0.1284\n",
      "Chance Scores: 0.5000 +- 0.0510\n",
      "...\n",
      "Overall Score: 0.6319 +- 0.1665\n",
      "Overall Dummy Score: 0.5208 +- 0.1021\n",
      "\n",
      "\n",
      "...\n",
      "HTFA Summary Score Across Subjects, Across Tasks: 0.7489 +- 0.1964\n",
      "Overall Dummy Score: 0.52 +- 0.15\n"
     ]
    }
   ],
   "source": [
    "### task classification using leave one out runs on HTFA###\n",
    "cv = LeaveOneGroupOut()\n",
    "summary_result = []\n",
    "summary_result_chance = []\n",
    "subjects = OrderedSet([b.subject for b in htfa._blocks])\n",
    "for s in subjects:\n",
    "    print(\"Processing Subject %d\" % (s))\n",
    "    session_labels = []\n",
    "    data = []\n",
    "    targets = []\n",
    "    for i in range(dtfa.num_blocks):\n",
    "        block = dtfa._blocks[i]\n",
    "        if block.subject == s:\n",
    "            session_labels.append(block.run)\n",
    "            data.append(all_weights_htfa[i,:,:].mean(0))\n",
    "            targets.append(block_task_labeler(block))\n",
    "    data = np.array(data)\n",
    "    overall_result,overall_result_chance = classification_pipeline(data=data,\n",
    "                                                                   targets=targets,\n",
    "                                                                   scoring=\"roc_auc\",\n",
    "                                                                   print_all=True)\n",
    "    summary_result.extend(overall_result)\n",
    "    summary_result_chance.extend(overall_result_chance)\n",
    "print ('...')\n",
    "print(\"HTFA Summary Score Across Subjects, Across Tasks: %1.4f +- %1.4f\" % (\n",
    "np.array(summary_result).mean(),\n",
    "np.array(summary_result).std()))\n",
    "\n",
    "print(\"Overall Dummy Score: %1.2f +- %1.2f\" % (\n",
    "np.array(summary_result_chance).mean(),\n",
    "np.array(summary_result_chance).std()))\n",
    "\n",
    "htfa_summary_result = summary_result"
   ]
  },
  {
   "cell_type": "code",
   "execution_count": 57,
   "metadata": {},
   "outputs": [
    {
     "name": "stdout",
     "output_type": "stream",
     "text": [
      "Processing Subject 10\n",
      "Processing Heights\n"
     ]
    },
    {
     "name": "stderr",
     "output_type": "stream",
     "text": [
      "/home/zulqarnain/anaconda3/envs/htfatorch/lib/python3.7/site-packages/sklearn/feature_selection/univariate_selection.py:114: UserWarning: Features [ 7106  7134  7930 ... 81635 81636 81637] are constant.\n",
      "  UserWarning)\n",
      "/home/zulqarnain/anaconda3/envs/htfatorch/lib/python3.7/site-packages/sklearn/feature_selection/univariate_selection.py:114: UserWarning: Features [ 7106  7134  7162 ... 81635 81636 81637] are constant.\n",
      "  UserWarning)\n",
      "/home/zulqarnain/anaconda3/envs/htfatorch/lib/python3.7/site-packages/sklearn/feature_selection/univariate_selection.py:114: UserWarning: Features [ 7106  7134  7930 ... 81635 81636 81637] are constant.\n",
      "  UserWarning)\n"
     ]
    },
    {
     "name": "stdout",
     "output_type": "stream",
     "text": [
      "Scores: 0.9583 +- 0.0589\n",
      "Chance Scores: 0.4375 +- 0.0884\n",
      "Processing Social threat\n"
     ]
    },
    {
     "name": "stderr",
     "output_type": "stream",
     "text": [
      "/home/zulqarnain/anaconda3/envs/htfatorch/lib/python3.7/site-packages/sklearn/feature_selection/univariate_selection.py:114: UserWarning: Features [ 7106  7134  7930 ... 81635 81636 81637] are constant.\n",
      "  UserWarning)\n",
      "/home/zulqarnain/anaconda3/envs/htfatorch/lib/python3.7/site-packages/sklearn/feature_selection/univariate_selection.py:114: UserWarning: Features [ 7106  7134  7162 ... 81635 81636 81637] are constant.\n",
      "  UserWarning)\n",
      "/home/zulqarnain/anaconda3/envs/htfatorch/lib/python3.7/site-packages/sklearn/feature_selection/univariate_selection.py:114: UserWarning: Features [ 7106  7134  7930 ... 81635 81636 81637] are constant.\n",
      "  UserWarning)\n",
      "/home/zulqarnain/anaconda3/envs/htfatorch/lib/python3.7/site-packages/sklearn/feature_selection/univariate_selection.py:114: UserWarning: Features [ 7106  7134  7930 ... 81635 81636 81637] are constant.\n",
      "  UserWarning)\n"
     ]
    },
    {
     "name": "stdout",
     "output_type": "stream",
     "text": [
      "Scores: 1.0000 +- 0.0000\n",
      "Chance Scores: 0.5000 +- 0.0510\n",
      "Processing Spiders\n"
     ]
    },
    {
     "name": "stderr",
     "output_type": "stream",
     "text": [
      "/home/zulqarnain/anaconda3/envs/htfatorch/lib/python3.7/site-packages/sklearn/feature_selection/univariate_selection.py:114: UserWarning: Features [ 7106  7134  7162 ... 81635 81636 81637] are constant.\n",
      "  UserWarning)\n",
      "/home/zulqarnain/anaconda3/envs/htfatorch/lib/python3.7/site-packages/sklearn/feature_selection/univariate_selection.py:114: UserWarning: Features [ 7106  7134  7930 ... 81635 81636 81637] are constant.\n",
      "  UserWarning)\n"
     ]
    },
    {
     "name": "stdout",
     "output_type": "stream",
     "text": [
      "Scores: 1.0000 +- 0.0000\n",
      "Chance Scores: 0.3542 +- 0.0295\n",
      "...\n",
      "Overall Score: 0.9861 +- 0.0393\n",
      "Overall Dummy Score: 0.4306 +- 0.0856\n",
      "\n",
      "\n",
      "Processing Subject 11\n",
      "Processing Heights\n"
     ]
    },
    {
     "name": "stderr",
     "output_type": "stream",
     "text": [
      "/home/zulqarnain/anaconda3/envs/htfatorch/lib/python3.7/site-packages/sklearn/feature_selection/univariate_selection.py:114: UserWarning: Features [ 7106  7134  7893 ... 81635 81636 81637] are constant.\n",
      "  UserWarning)\n",
      "/home/zulqarnain/anaconda3/envs/htfatorch/lib/python3.7/site-packages/sklearn/feature_selection/univariate_selection.py:114: UserWarning: Features [ 7106  7134  7893 ... 81635 81636 81637] are constant.\n",
      "  UserWarning)\n",
      "/home/zulqarnain/anaconda3/envs/htfatorch/lib/python3.7/site-packages/sklearn/feature_selection/univariate_selection.py:114: UserWarning: Features [ 5944  7106  7134 ... 81635 81636 81637] are constant.\n",
      "  UserWarning)\n"
     ]
    },
    {
     "name": "stdout",
     "output_type": "stream",
     "text": [
      "Scores: 0.8854 +- 0.1405\n",
      "Chance Scores: 0.3542 +- 0.1792\n",
      "Processing Social threat\n"
     ]
    },
    {
     "name": "stderr",
     "output_type": "stream",
     "text": [
      "/home/zulqarnain/anaconda3/envs/htfatorch/lib/python3.7/site-packages/sklearn/feature_selection/univariate_selection.py:114: UserWarning: Features [ 7106  7134  7893 ... 81635 81636 81637] are constant.\n",
      "  UserWarning)\n",
      "/home/zulqarnain/anaconda3/envs/htfatorch/lib/python3.7/site-packages/sklearn/feature_selection/univariate_selection.py:114: UserWarning: Features [ 7106  7134  7893 ... 81635 81636 81637] are constant.\n",
      "  UserWarning)\n",
      "/home/zulqarnain/anaconda3/envs/htfatorch/lib/python3.7/site-packages/sklearn/feature_selection/univariate_selection.py:114: UserWarning: Features [ 5944  7106  7134 ... 81635 81636 81637] are constant.\n",
      "  UserWarning)\n"
     ]
    },
    {
     "name": "stdout",
     "output_type": "stream",
     "text": [
      "Scores: 0.9479 +- 0.0390\n",
      "Chance Scores: 0.5625 +- 0.1350\n",
      "Processing Spiders\n"
     ]
    },
    {
     "name": "stderr",
     "output_type": "stream",
     "text": [
      "/home/zulqarnain/anaconda3/envs/htfatorch/lib/python3.7/site-packages/sklearn/feature_selection/univariate_selection.py:114: UserWarning: Features [ 7106  7134  7893 ... 81635 81636 81637] are constant.\n",
      "  UserWarning)\n",
      "/home/zulqarnain/anaconda3/envs/htfatorch/lib/python3.7/site-packages/sklearn/feature_selection/univariate_selection.py:114: UserWarning: Features [ 7106  7134  7893 ... 81635 81636 81637] are constant.\n",
      "  UserWarning)\n",
      "/home/zulqarnain/anaconda3/envs/htfatorch/lib/python3.7/site-packages/sklearn/feature_selection/univariate_selection.py:114: UserWarning: Features [ 5944  7106  7134 ... 81635 81636 81637] are constant.\n",
      "  UserWarning)\n"
     ]
    },
    {
     "name": "stdout",
     "output_type": "stream",
     "text": [
      "Scores: 0.9167 +- 0.0780\n",
      "Chance Scores: 0.4167 +- 0.0295\n",
      "...\n",
      "Overall Score: 0.9167 +- 0.0988\n",
      "Overall Dummy Score: 0.4444 +- 0.1571\n",
      "\n",
      "\n",
      "Processing Subject 12\n",
      "Processing Heights\n"
     ]
    },
    {
     "name": "stderr",
     "output_type": "stream",
     "text": [
      "/home/zulqarnain/anaconda3/envs/htfatorch/lib/python3.7/site-packages/sklearn/feature_selection/univariate_selection.py:114: UserWarning: Features [ 5944  7106  7134 ... 81635 81636 81637] are constant.\n",
      "  UserWarning)\n",
      "/home/zulqarnain/anaconda3/envs/htfatorch/lib/python3.7/site-packages/sklearn/feature_selection/univariate_selection.py:114: UserWarning: Features [ 5944  7106  7134 ... 81635 81636 81637] are constant.\n",
      "  UserWarning)\n",
      "/home/zulqarnain/anaconda3/envs/htfatorch/lib/python3.7/site-packages/sklearn/feature_selection/univariate_selection.py:114: UserWarning: Features [ 5944  7106  7133 ... 81635 81636 81637] are constant.\n",
      "  UserWarning)\n"
     ]
    },
    {
     "name": "stdout",
     "output_type": "stream",
     "text": [
      "Scores: 0.2708 +- 0.1031\n",
      "Chance Scores: 0.5208 +- 0.0589\n",
      "Processing Social threat\n"
     ]
    },
    {
     "name": "stderr",
     "output_type": "stream",
     "text": [
      "/home/zulqarnain/anaconda3/envs/htfatorch/lib/python3.7/site-packages/sklearn/feature_selection/univariate_selection.py:114: UserWarning: Features [ 5944  7106  7134 ... 81635 81636 81637] are constant.\n",
      "  UserWarning)\n",
      "/home/zulqarnain/anaconda3/envs/htfatorch/lib/python3.7/site-packages/sklearn/feature_selection/univariate_selection.py:114: UserWarning: Features [ 5944  7106  7134 ... 81635 81636 81637] are constant.\n",
      "  UserWarning)\n",
      "/home/zulqarnain/anaconda3/envs/htfatorch/lib/python3.7/site-packages/sklearn/feature_selection/univariate_selection.py:114: UserWarning: Features [ 5944  7106  7133 ... 81635 81636 81637] are constant.\n",
      "  UserWarning)\n"
     ]
    },
    {
     "name": "stdout",
     "output_type": "stream",
     "text": [
      "Scores: 0.6771 +- 0.0780\n",
      "Chance Scores: 0.5417 +- 0.1284\n",
      "Processing Spiders\n"
     ]
    },
    {
     "name": "stderr",
     "output_type": "stream",
     "text": [
      "/home/zulqarnain/anaconda3/envs/htfatorch/lib/python3.7/site-packages/sklearn/feature_selection/univariate_selection.py:114: UserWarning: Features [ 5944  7106  7134 ... 81635 81636 81637] are constant.\n",
      "  UserWarning)\n",
      "/home/zulqarnain/anaconda3/envs/htfatorch/lib/python3.7/site-packages/sklearn/feature_selection/univariate_selection.py:114: UserWarning: Features [ 5944  7106  7134 ... 81635 81636 81637] are constant.\n",
      "  UserWarning)\n",
      "/home/zulqarnain/anaconda3/envs/htfatorch/lib/python3.7/site-packages/sklearn/feature_selection/univariate_selection.py:114: UserWarning: Features [ 5944  7106  7133 ... 81635 81636 81637] are constant.\n",
      "  UserWarning)\n"
     ]
    },
    {
     "name": "stdout",
     "output_type": "stream",
     "text": [
      "Scores: 0.5833 +- 0.1982\n",
      "Chance Scores: 0.4583 +- 0.0295\n",
      "...\n",
      "Overall Score: 0.5104 +- 0.2210\n",
      "Overall Dummy Score: 0.5069 +- 0.0905\n",
      "\n",
      "\n",
      "Processing Subject 13\n",
      "Processing Heights\n"
     ]
    },
    {
     "name": "stderr",
     "output_type": "stream",
     "text": [
      "/home/zulqarnain/anaconda3/envs/htfatorch/lib/python3.7/site-packages/sklearn/feature_selection/univariate_selection.py:114: UserWarning: Features [ 5944  7054  7106 ... 81635 81636 81637] are constant.\n",
      "  UserWarning)\n",
      "/home/zulqarnain/anaconda3/envs/htfatorch/lib/python3.7/site-packages/sklearn/feature_selection/univariate_selection.py:114: UserWarning: Features [ 5944  7106  7134 ... 81635 81636 81637] are constant.\n",
      "  UserWarning)\n",
      "/home/zulqarnain/anaconda3/envs/htfatorch/lib/python3.7/site-packages/sklearn/feature_selection/univariate_selection.py:114: UserWarning: Features [ 5944  7106  7134 ... 81635 81636 81637] are constant.\n",
      "  UserWarning)\n",
      "/home/zulqarnain/anaconda3/envs/htfatorch/lib/python3.7/site-packages/sklearn/feature_selection/univariate_selection.py:114: UserWarning: Features [ 5944  7054  7106 ... 81635 81636 81637] are constant.\n",
      "  UserWarning)\n"
     ]
    },
    {
     "name": "stdout",
     "output_type": "stream",
     "text": [
      "Scores: 0.9062 +- 0.0675\n",
      "Chance Scores: 0.4583 +- 0.1559\n",
      "Processing Social threat\n"
     ]
    },
    {
     "name": "stderr",
     "output_type": "stream",
     "text": [
      "/home/zulqarnain/anaconda3/envs/htfatorch/lib/python3.7/site-packages/sklearn/feature_selection/univariate_selection.py:114: UserWarning: Features [ 5944  7106  7134 ... 81635 81636 81637] are constant.\n",
      "  UserWarning)\n",
      "/home/zulqarnain/anaconda3/envs/htfatorch/lib/python3.7/site-packages/sklearn/feature_selection/univariate_selection.py:114: UserWarning: Features [ 5944  7106  7134 ... 81635 81636 81637] are constant.\n",
      "  UserWarning)\n"
     ]
    },
    {
     "name": "stdout",
     "output_type": "stream",
     "text": [
      "Scores: 0.9896 +- 0.0147\n",
      "Chance Scores: 0.5417 +- 0.0780\n",
      "Processing Spiders\n"
     ]
    },
    {
     "name": "stderr",
     "output_type": "stream",
     "text": [
      "/home/zulqarnain/anaconda3/envs/htfatorch/lib/python3.7/site-packages/sklearn/feature_selection/univariate_selection.py:114: UserWarning: Features [ 5944  7054  7106 ... 81635 81636 81637] are constant.\n",
      "  UserWarning)\n",
      "/home/zulqarnain/anaconda3/envs/htfatorch/lib/python3.7/site-packages/sklearn/feature_selection/univariate_selection.py:114: UserWarning: Features [ 5944  7106  7134 ... 81635 81636 81637] are constant.\n",
      "  UserWarning)\n",
      "/home/zulqarnain/anaconda3/envs/htfatorch/lib/python3.7/site-packages/sklearn/feature_selection/univariate_selection.py:114: UserWarning: Features [ 5944  7106  7134 ... 81635 81636 81637] are constant.\n",
      "  UserWarning)\n"
     ]
    },
    {
     "name": "stdout",
     "output_type": "stream",
     "text": [
      "Scores: 0.9062 +- 0.0675\n",
      "Chance Scores: 0.5000 +- 0.0510\n",
      "...\n",
      "Overall Score: 0.9340 +- 0.0682\n",
      "Overall Dummy Score: 0.5000 +- 0.1102\n",
      "\n",
      "\n",
      "Processing Subject 14\n",
      "Processing Heights\n",
      "Scores: 0.8750 +- 0.0000\n",
      "Chance Scores: 0.2812 +- 0.0938\n",
      "Processing Social threat\n"
     ]
    },
    {
     "name": "stderr",
     "output_type": "stream",
     "text": [
      "/home/zulqarnain/anaconda3/envs/htfatorch/lib/python3.7/site-packages/sklearn/feature_selection/univariate_selection.py:114: UserWarning: Features [ 5944  7106  7134 ... 81635 81636 81637] are constant.\n",
      "  UserWarning)\n",
      "/home/zulqarnain/anaconda3/envs/htfatorch/lib/python3.7/site-packages/sklearn/feature_selection/univariate_selection.py:114: UserWarning: Features [ 5944  7106  7133 ... 81635 81636 81637] are constant.\n",
      "  UserWarning)\n",
      "/home/zulqarnain/anaconda3/envs/htfatorch/lib/python3.7/site-packages/sklearn/feature_selection/univariate_selection.py:114: UserWarning: Features [ 5944  7106  7134 ... 81635 81636 81637] are constant.\n",
      "  UserWarning)\n",
      "/home/zulqarnain/anaconda3/envs/htfatorch/lib/python3.7/site-packages/sklearn/feature_selection/univariate_selection.py:114: UserWarning: Features [ 5944  7106  7133 ... 81635 81636 81637] are constant.\n",
      "  UserWarning)\n",
      "/home/zulqarnain/anaconda3/envs/htfatorch/lib/python3.7/site-packages/sklearn/feature_selection/univariate_selection.py:114: UserWarning: Features [ 5944  7106  7134 ... 81635 81636 81637] are constant.\n",
      "  UserWarning)\n",
      "/home/zulqarnain/anaconda3/envs/htfatorch/lib/python3.7/site-packages/sklearn/feature_selection/univariate_selection.py:114: UserWarning: Features [ 5944  7106  7133 ... 81635 81636 81637] are constant.\n",
      "  UserWarning)\n"
     ]
    },
    {
     "name": "stdout",
     "output_type": "stream",
     "text": [
      "Scores: 0.9062 +- 0.0312\n",
      "Chance Scores: 0.3750 +- 0.0625\n",
      "Processing Spiders\n",
      "Scores: 1.0000 +- 0.0000\n",
      "Chance Scores: 0.5000 +- 0.1250\n",
      "...\n",
      "Overall Score: 0.9271 +- 0.0561\n",
      "Overall Dummy Score: 0.3854 +- 0.1322\n",
      "\n",
      "\n",
      "Processing Subject 15\n",
      "Processing Heights\n"
     ]
    },
    {
     "name": "stderr",
     "output_type": "stream",
     "text": [
      "/home/zulqarnain/anaconda3/envs/htfatorch/lib/python3.7/site-packages/sklearn/feature_selection/univariate_selection.py:114: UserWarning: Features [ 7106  7134  7162 ... 81635 81636 81637] are constant.\n",
      "  UserWarning)\n",
      "/home/zulqarnain/anaconda3/envs/htfatorch/lib/python3.7/site-packages/sklearn/feature_selection/univariate_selection.py:114: UserWarning: Features [ 5944  7106  7134 ... 81635 81636 81637] are constant.\n",
      "  UserWarning)\n",
      "/home/zulqarnain/anaconda3/envs/htfatorch/lib/python3.7/site-packages/sklearn/feature_selection/univariate_selection.py:114: UserWarning: Features [ 7106  7134  7162 ... 81635 81636 81637] are constant.\n",
      "  UserWarning)\n"
     ]
    },
    {
     "name": "stdout",
     "output_type": "stream",
     "text": [
      "Scores: 0.9375 +- 0.0675\n",
      "Chance Scores: 0.5417 +- 0.2062\n",
      "Processing Social threat\n"
     ]
    },
    {
     "name": "stderr",
     "output_type": "stream",
     "text": [
      "/home/zulqarnain/anaconda3/envs/htfatorch/lib/python3.7/site-packages/sklearn/feature_selection/univariate_selection.py:114: UserWarning: Features [ 7106  7134  7162 ... 81635 81636 81637] are constant.\n",
      "  UserWarning)\n",
      "/home/zulqarnain/anaconda3/envs/htfatorch/lib/python3.7/site-packages/sklearn/feature_selection/univariate_selection.py:114: UserWarning: Features [ 5944  7106  7134 ... 81635 81636 81637] are constant.\n",
      "  UserWarning)\n",
      "/home/zulqarnain/anaconda3/envs/htfatorch/lib/python3.7/site-packages/sklearn/feature_selection/univariate_selection.py:114: UserWarning: Features [ 7106  7134  7162 ... 81635 81636 81637] are constant.\n",
      "  UserWarning)\n",
      "/home/zulqarnain/anaconda3/envs/htfatorch/lib/python3.7/site-packages/sklearn/feature_selection/univariate_selection.py:114: UserWarning: Features [ 7106  7134  7162 ... 81635 81636 81637] are constant.\n",
      "  UserWarning)\n"
     ]
    },
    {
     "name": "stdout",
     "output_type": "stream",
     "text": [
      "Scores: 0.9167 +- 0.0780\n",
      "Chance Scores: 0.5208 +- 0.0589\n",
      "Processing Spiders\n"
     ]
    },
    {
     "name": "stderr",
     "output_type": "stream",
     "text": [
      "/home/zulqarnain/anaconda3/envs/htfatorch/lib/python3.7/site-packages/sklearn/feature_selection/univariate_selection.py:114: UserWarning: Features [ 5944  7106  7134 ... 81635 81636 81637] are constant.\n",
      "  UserWarning)\n",
      "/home/zulqarnain/anaconda3/envs/htfatorch/lib/python3.7/site-packages/sklearn/feature_selection/univariate_selection.py:114: UserWarning: Features [ 7106  7134  7162 ... 81635 81636 81637] are constant.\n",
      "  UserWarning)\n"
     ]
    },
    {
     "name": "stdout",
     "output_type": "stream",
     "text": [
      "Scores: 0.9167 +- 0.0780\n",
      "Chance Scores: 0.4375 +- 0.0510\n",
      "...\n",
      "Overall Score: 0.9236 +- 0.0753\n",
      "Overall Dummy Score: 0.5000 +- 0.1350\n",
      "\n",
      "\n",
      "Processing Subject 16\n",
      "Processing Heights\n"
     ]
    },
    {
     "name": "stderr",
     "output_type": "stream",
     "text": [
      "/home/zulqarnain/anaconda3/envs/htfatorch/lib/python3.7/site-packages/sklearn/feature_selection/univariate_selection.py:114: UserWarning: Features [ 5944  7054  7106 ... 81635 81636 81637] are constant.\n",
      "  UserWarning)\n",
      "/home/zulqarnain/anaconda3/envs/htfatorch/lib/python3.7/site-packages/sklearn/feature_selection/univariate_selection.py:114: UserWarning: Features [ 7163  8255  8286 ... 81635 81636 81637] are constant.\n",
      "  UserWarning)\n",
      "/home/zulqarnain/anaconda3/envs/htfatorch/lib/python3.7/site-packages/sklearn/feature_selection/univariate_selection.py:114: UserWarning: Features [ 7163  8255  8286 ... 81635 81636 81637] are constant.\n",
      "  UserWarning)\n",
      "/home/zulqarnain/anaconda3/envs/htfatorch/lib/python3.7/site-packages/sklearn/feature_selection/univariate_selection.py:114: UserWarning: Features [ 5944  7054  7106 ... 81635 81636 81637] are constant.\n",
      "  UserWarning)\n"
     ]
    },
    {
     "name": "stdout",
     "output_type": "stream",
     "text": [
      "Scores: 0.9688 +- 0.0442\n",
      "Chance Scores: 0.3958 +- 0.0780\n",
      "Processing Social threat\n"
     ]
    },
    {
     "name": "stderr",
     "output_type": "stream",
     "text": [
      "/home/zulqarnain/anaconda3/envs/htfatorch/lib/python3.7/site-packages/sklearn/feature_selection/univariate_selection.py:114: UserWarning: Features [ 7163  8255  8286 ... 81635 81636 81637] are constant.\n",
      "  UserWarning)\n",
      "/home/zulqarnain/anaconda3/envs/htfatorch/lib/python3.7/site-packages/sklearn/feature_selection/univariate_selection.py:114: UserWarning: Features [ 7163  8255  8286 ... 81635 81636 81637] are constant.\n",
      "  UserWarning)\n"
     ]
    },
    {
     "name": "stdout",
     "output_type": "stream",
     "text": [
      "Scores: 0.9896 +- 0.0147\n",
      "Chance Scores: 0.6458 +- 0.1062\n",
      "Processing Spiders\n"
     ]
    },
    {
     "name": "stderr",
     "output_type": "stream",
     "text": [
      "/home/zulqarnain/anaconda3/envs/htfatorch/lib/python3.7/site-packages/sklearn/feature_selection/univariate_selection.py:114: UserWarning: Features [ 5944  7054  7106 ... 81635 81636 81637] are constant.\n",
      "  UserWarning)\n",
      "/home/zulqarnain/anaconda3/envs/htfatorch/lib/python3.7/site-packages/sklearn/feature_selection/univariate_selection.py:114: UserWarning: Features [ 7163  8255  8286 ... 81635 81636 81637] are constant.\n",
      "  UserWarning)\n",
      "/home/zulqarnain/anaconda3/envs/htfatorch/lib/python3.7/site-packages/sklearn/feature_selection/univariate_selection.py:114: UserWarning: Features [ 7163  8255  8286 ... 81635 81636 81637] are constant.\n",
      "  UserWarning)\n"
     ]
    },
    {
     "name": "stdout",
     "output_type": "stream",
     "text": [
      "Scores: 0.9896 +- 0.0147\n",
      "Chance Scores: 0.5000 +- 0.0510\n",
      "...\n",
      "Overall Score: 0.9826 +- 0.0299\n",
      "Overall Dummy Score: 0.5139 +- 0.1310\n",
      "\n",
      "\n",
      "Processing Subject 17\n",
      "Processing Heights\n"
     ]
    },
    {
     "name": "stderr",
     "output_type": "stream",
     "text": [
      "/home/zulqarnain/anaconda3/envs/htfatorch/lib/python3.7/site-packages/sklearn/feature_selection/univariate_selection.py:114: UserWarning: Features [ 7106  7134  7893 ... 81635 81636 81637] are constant.\n",
      "  UserWarning)\n",
      "/home/zulqarnain/anaconda3/envs/htfatorch/lib/python3.7/site-packages/sklearn/feature_selection/univariate_selection.py:114: UserWarning: Features [ 5944  7106  7134 ... 81635 81636 81637] are constant.\n",
      "  UserWarning)\n",
      "/home/zulqarnain/anaconda3/envs/htfatorch/lib/python3.7/site-packages/sklearn/feature_selection/univariate_selection.py:114: UserWarning: Features [ 7106  7134  7893 ... 81635 81636 81637] are constant.\n",
      "  UserWarning)\n",
      "/home/zulqarnain/anaconda3/envs/htfatorch/lib/python3.7/site-packages/sklearn/feature_selection/univariate_selection.py:114: UserWarning: Features [ 7106  7134  7893 ... 81635 81636 81637] are constant.\n",
      "  UserWarning)\n"
     ]
    },
    {
     "name": "stdout",
     "output_type": "stream",
     "text": [
      "Scores: 0.9688 +- 0.0255\n",
      "Chance Scores: 0.5417 +- 0.1062\n",
      "Processing Social threat\n"
     ]
    },
    {
     "name": "stderr",
     "output_type": "stream",
     "text": [
      "/home/zulqarnain/anaconda3/envs/htfatorch/lib/python3.7/site-packages/sklearn/feature_selection/univariate_selection.py:114: UserWarning: Features [ 5944  7106  7134 ... 81635 81636 81637] are constant.\n",
      "  UserWarning)\n",
      "/home/zulqarnain/anaconda3/envs/htfatorch/lib/python3.7/site-packages/sklearn/feature_selection/univariate_selection.py:114: UserWarning: Features [ 7106  7134  7893 ... 81635 81636 81637] are constant.\n",
      "  UserWarning)\n"
     ]
    },
    {
     "name": "stdout",
     "output_type": "stream",
     "text": [
      "Scores: 0.9271 +- 0.0531\n",
      "Chance Scores: 0.4375 +- 0.1531\n",
      "Processing Spiders\n"
     ]
    },
    {
     "name": "stderr",
     "output_type": "stream",
     "text": [
      "/home/zulqarnain/anaconda3/envs/htfatorch/lib/python3.7/site-packages/sklearn/feature_selection/univariate_selection.py:114: UserWarning: Features [ 7106  7134  7893 ... 81635 81636 81637] are constant.\n",
      "  UserWarning)\n",
      "/home/zulqarnain/anaconda3/envs/htfatorch/lib/python3.7/site-packages/sklearn/feature_selection/univariate_selection.py:114: UserWarning: Features [ 5944  7106  7134 ... 81635 81636 81637] are constant.\n",
      "  UserWarning)\n",
      "/home/zulqarnain/anaconda3/envs/htfatorch/lib/python3.7/site-packages/sklearn/feature_selection/univariate_selection.py:114: UserWarning: Features [ 7106  7134  7893 ... 81635 81636 81637] are constant.\n",
      "  UserWarning)\n"
     ]
    },
    {
     "name": "stdout",
     "output_type": "stream",
     "text": [
      "Scores: 0.8438 +- 0.0675\n",
      "Chance Scores: 0.5208 +- 0.0589\n",
      "...\n",
      "Overall Score: 0.9132 +- 0.0733\n",
      "Overall Dummy Score: 0.5000 +- 0.1215\n",
      "\n",
      "\n",
      "Processing Subject 18\n",
      "Processing Heights\n"
     ]
    },
    {
     "name": "stderr",
     "output_type": "stream",
     "text": [
      "/home/zulqarnain/anaconda3/envs/htfatorch/lib/python3.7/site-packages/sklearn/feature_selection/univariate_selection.py:114: UserWarning: Features [ 5944  7106  7134 ... 81635 81636 81637] are constant.\n",
      "  UserWarning)\n",
      "/home/zulqarnain/anaconda3/envs/htfatorch/lib/python3.7/site-packages/sklearn/feature_selection/univariate_selection.py:114: UserWarning: Features [ 7134  7930  7962 ... 81635 81636 81637] are constant.\n",
      "  UserWarning)\n",
      "/home/zulqarnain/anaconda3/envs/htfatorch/lib/python3.7/site-packages/sklearn/feature_selection/univariate_selection.py:114: UserWarning: Features [ 7134  7162  7893 ... 81635 81636 81637] are constant.\n",
      "  UserWarning)\n"
     ]
    },
    {
     "name": "stdout",
     "output_type": "stream",
     "text": [
      "Scores: 0.8021 +- 0.0295\n",
      "Chance Scores: 0.5000 +- 0.1840\n",
      "Processing Social threat\n"
     ]
    },
    {
     "name": "stderr",
     "output_type": "stream",
     "text": [
      "/home/zulqarnain/anaconda3/envs/htfatorch/lib/python3.7/site-packages/sklearn/feature_selection/univariate_selection.py:114: UserWarning: Features [ 5944  7106  7134 ... 81635 81636 81637] are constant.\n",
      "  UserWarning)\n",
      "/home/zulqarnain/anaconda3/envs/htfatorch/lib/python3.7/site-packages/sklearn/feature_selection/univariate_selection.py:114: UserWarning: Features [ 7134  7930  7962 ... 81635 81636 81637] are constant.\n",
      "  UserWarning)\n",
      "/home/zulqarnain/anaconda3/envs/htfatorch/lib/python3.7/site-packages/sklearn/feature_selection/univariate_selection.py:114: UserWarning: Features [ 7134  7162  7893 ... 81635 81636 81637] are constant.\n",
      "  UserWarning)\n"
     ]
    },
    {
     "name": "stdout",
     "output_type": "stream",
     "text": [
      "Scores: 0.6667 +- 0.0531\n",
      "Chance Scores: 0.4167 +- 0.1473\n",
      "Processing Spiders\n"
     ]
    },
    {
     "name": "stderr",
     "output_type": "stream",
     "text": [
      "/home/zulqarnain/anaconda3/envs/htfatorch/lib/python3.7/site-packages/sklearn/feature_selection/univariate_selection.py:114: UserWarning: Features [ 5944  7106  7134 ... 81635 81636 81637] are constant.\n",
      "  UserWarning)\n",
      "/home/zulqarnain/anaconda3/envs/htfatorch/lib/python3.7/site-packages/sklearn/feature_selection/univariate_selection.py:114: UserWarning: Features [ 7134  7930  7962 ... 81635 81636 81637] are constant.\n",
      "  UserWarning)\n",
      "/home/zulqarnain/anaconda3/envs/htfatorch/lib/python3.7/site-packages/sklearn/feature_selection/univariate_selection.py:114: UserWarning: Features [ 7134  7162  7893 ... 81635 81636 81637] are constant.\n",
      "  UserWarning)\n"
     ]
    },
    {
     "name": "stdout",
     "output_type": "stream",
     "text": [
      "Scores: 0.8229 +- 0.0966\n",
      "Chance Scores: 0.4167 +- 0.0295\n",
      "...\n",
      "Overall Score: 0.7639 +- 0.0956\n",
      "Overall Dummy Score: 0.4444 +- 0.1427\n",
      "\n",
      "\n",
      "Processing Subject 19\n",
      "Processing Heights\n"
     ]
    },
    {
     "name": "stderr",
     "output_type": "stream",
     "text": [
      "/home/zulqarnain/anaconda3/envs/htfatorch/lib/python3.7/site-packages/sklearn/feature_selection/univariate_selection.py:114: UserWarning: Features [ 5944  7106  7134 ... 81635 81636 81637] are constant.\n",
      "  UserWarning)\n",
      "/home/zulqarnain/anaconda3/envs/htfatorch/lib/python3.7/site-packages/sklearn/feature_selection/univariate_selection.py:114: UserWarning: Features [ 7106  7134  7162 ... 81635 81636 81637] are constant.\n",
      "  UserWarning)\n",
      "/home/zulqarnain/anaconda3/envs/htfatorch/lib/python3.7/site-packages/sklearn/feature_selection/univariate_selection.py:114: UserWarning: Features [ 7106  7134  7162 ... 81635 81636 81637] are constant.\n",
      "  UserWarning)\n"
     ]
    },
    {
     "name": "stdout",
     "output_type": "stream",
     "text": [
      "Scores: 0.8958 +- 0.0531\n",
      "Chance Scores: 0.6250 +- 0.0510\n",
      "Processing Social threat\n"
     ]
    },
    {
     "name": "stderr",
     "output_type": "stream",
     "text": [
      "/home/zulqarnain/anaconda3/envs/htfatorch/lib/python3.7/site-packages/sklearn/feature_selection/univariate_selection.py:114: UserWarning: Features [ 5944  7106  7134 ... 81635 81636 81637] are constant.\n",
      "  UserWarning)\n",
      "/home/zulqarnain/anaconda3/envs/htfatorch/lib/python3.7/site-packages/sklearn/feature_selection/univariate_selection.py:114: UserWarning: Features [ 7106  7134  7162 ... 81635 81636 81637] are constant.\n",
      "  UserWarning)\n",
      "/home/zulqarnain/anaconda3/envs/htfatorch/lib/python3.7/site-packages/sklearn/feature_selection/univariate_selection.py:114: UserWarning: Features [ 7106  7134  7162 ... 81635 81636 81637] are constant.\n",
      "  UserWarning)\n"
     ]
    },
    {
     "name": "stdout",
     "output_type": "stream",
     "text": [
      "Scores: 1.0000 +- 0.0000\n",
      "Chance Scores: 0.4583 +- 0.1473\n",
      "Processing Spiders\n"
     ]
    },
    {
     "name": "stderr",
     "output_type": "stream",
     "text": [
      "/home/zulqarnain/anaconda3/envs/htfatorch/lib/python3.7/site-packages/sklearn/feature_selection/univariate_selection.py:114: UserWarning: Features [ 5944  7106  7134 ... 81635 81636 81637] are constant.\n",
      "  UserWarning)\n",
      "/home/zulqarnain/anaconda3/envs/htfatorch/lib/python3.7/site-packages/sklearn/feature_selection/univariate_selection.py:114: UserWarning: Features [ 7106  7134  7162 ... 81635 81636 81637] are constant.\n",
      "  UserWarning)\n",
      "/home/zulqarnain/anaconda3/envs/htfatorch/lib/python3.7/site-packages/sklearn/feature_selection/univariate_selection.py:114: UserWarning: Features [ 7106  7134  7162 ... 81635 81636 81637] are constant.\n",
      "  UserWarning)\n"
     ]
    },
    {
     "name": "stdout",
     "output_type": "stream",
     "text": [
      "Scores: 0.8750 +- 0.0510\n",
      "Chance Scores: 0.5833 +- 0.0295\n",
      "...\n",
      "Overall Score: 0.9236 +- 0.0693\n",
      "Overall Dummy Score: 0.5556 +- 0.1158\n",
      "\n",
      "\n",
      "Processing Subject 23\n",
      "Processing Heights\n",
      "Scores: 0.6719 +- 0.0469\n",
      "Chance Scores: 0.3750 +- 0.0625\n",
      "Processing Social threat\n"
     ]
    },
    {
     "name": "stderr",
     "output_type": "stream",
     "text": [
      "/home/zulqarnain/anaconda3/envs/htfatorch/lib/python3.7/site-packages/sklearn/feature_selection/univariate_selection.py:114: UserWarning: Features [ 7054  7134  7930 ... 81635 81636 81637] are constant.\n",
      "  UserWarning)\n",
      "/home/zulqarnain/anaconda3/envs/htfatorch/lib/python3.7/site-packages/sklearn/feature_selection/univariate_selection.py:114: UserWarning: Features [ 5944  7054  7106 ... 81635 81636 81637] are constant.\n",
      "  UserWarning)\n",
      "/home/zulqarnain/anaconda3/envs/htfatorch/lib/python3.7/site-packages/sklearn/feature_selection/univariate_selection.py:114: UserWarning: Features [ 7054  7134  7930 ... 81635 81636 81637] are constant.\n",
      "  UserWarning)\n",
      "/home/zulqarnain/anaconda3/envs/htfatorch/lib/python3.7/site-packages/sklearn/feature_selection/univariate_selection.py:114: UserWarning: Features [ 5944  7054  7106 ... 81635 81636 81637] are constant.\n",
      "  UserWarning)\n",
      "/home/zulqarnain/anaconda3/envs/htfatorch/lib/python3.7/site-packages/sklearn/feature_selection/univariate_selection.py:114: UserWarning: Features [ 7054  7134  7930 ... 81635 81636 81637] are constant.\n",
      "  UserWarning)\n",
      "/home/zulqarnain/anaconda3/envs/htfatorch/lib/python3.7/site-packages/sklearn/feature_selection/univariate_selection.py:114: UserWarning: Features [ 5944  7054  7106 ... 81635 81636 81637] are constant.\n",
      "  UserWarning)\n"
     ]
    },
    {
     "name": "stdout",
     "output_type": "stream",
     "text": [
      "Scores: 0.7969 +- 0.0156\n",
      "Chance Scores: 0.6562 +- 0.0312\n",
      "Processing Spiders\n",
      "Scores: 0.9062 +- 0.0625\n",
      "Chance Scores: 0.5938 +- 0.0312\n",
      "...\n",
      "Overall Score: 0.7917 +- 0.1062\n",
      "Overall Dummy Score: 0.5417 +- 0.1284\n",
      "\n",
      "\n",
      "Processing Subject 25\n",
      "Processing Heights\n"
     ]
    },
    {
     "name": "stderr",
     "output_type": "stream",
     "text": [
      "/home/zulqarnain/anaconda3/envs/htfatorch/lib/python3.7/site-packages/sklearn/feature_selection/univariate_selection.py:114: UserWarning: Features [ 5944  7106  7134 ... 81635 81636 81637] are constant.\n",
      "  UserWarning)\n",
      "/home/zulqarnain/anaconda3/envs/htfatorch/lib/python3.7/site-packages/sklearn/feature_selection/univariate_selection.py:114: UserWarning: Features [ 7134  7930  7961 ... 81635 81636 81637] are constant.\n",
      "  UserWarning)\n",
      "/home/zulqarnain/anaconda3/envs/htfatorch/lib/python3.7/site-packages/sklearn/feature_selection/univariate_selection.py:114: UserWarning: Features [ 7134  7162  7893 ... 81635 81636 81637] are constant.\n",
      "  UserWarning)\n"
     ]
    },
    {
     "name": "stdout",
     "output_type": "stream",
     "text": [
      "Scores: 0.8646 +- 0.0531\n",
      "Chance Scores: 0.6250 +- 0.0510\n",
      "Processing Social threat\n"
     ]
    },
    {
     "name": "stderr",
     "output_type": "stream",
     "text": [
      "/home/zulqarnain/anaconda3/envs/htfatorch/lib/python3.7/site-packages/sklearn/feature_selection/univariate_selection.py:114: UserWarning: Features [ 5944  7106  7134 ... 81635 81636 81637] are constant.\n",
      "  UserWarning)\n",
      "/home/zulqarnain/anaconda3/envs/htfatorch/lib/python3.7/site-packages/sklearn/feature_selection/univariate_selection.py:114: UserWarning: Features [ 7134  7930  7961 ... 81635 81636 81637] are constant.\n",
      "  UserWarning)\n",
      "/home/zulqarnain/anaconda3/envs/htfatorch/lib/python3.7/site-packages/sklearn/feature_selection/univariate_selection.py:114: UserWarning: Features [ 7134  7162  7893 ... 81635 81636 81637] are constant.\n",
      "  UserWarning)\n",
      "/home/zulqarnain/anaconda3/envs/htfatorch/lib/python3.7/site-packages/sklearn/feature_selection/univariate_selection.py:114: UserWarning: Features [ 5944  7106  7134 ... 81635 81636 81637] are constant.\n",
      "  UserWarning)\n"
     ]
    },
    {
     "name": "stdout",
     "output_type": "stream",
     "text": [
      "Scores: 0.9583 +- 0.0295\n",
      "Chance Scores: 0.4375 +- 0.1840\n",
      "Processing Spiders\n"
     ]
    },
    {
     "name": "stderr",
     "output_type": "stream",
     "text": [
      "/home/zulqarnain/anaconda3/envs/htfatorch/lib/python3.7/site-packages/sklearn/feature_selection/univariate_selection.py:114: UserWarning: Features [ 7134  7930  7961 ... 81635 81636 81637] are constant.\n",
      "  UserWarning)\n",
      "/home/zulqarnain/anaconda3/envs/htfatorch/lib/python3.7/site-packages/sklearn/feature_selection/univariate_selection.py:114: UserWarning: Features [ 7134  7162  7893 ... 81635 81636 81637] are constant.\n",
      "  UserWarning)\n"
     ]
    },
    {
     "name": "stdout",
     "output_type": "stream",
     "text": [
      "Scores: 0.9896 +- 0.0147\n",
      "Chance Scores: 0.5000 +- 0.1350\n",
      "...\n",
      "Overall Score: 0.9375 +- 0.0642\n",
      "Overall Dummy Score: 0.5208 +- 0.1559\n",
      "\n",
      "\n",
      "Processing Subject 26\n",
      "Processing Heights\n",
      "Scores: 0.8125 +- 0.1562\n",
      "Chance Scores: 0.3750 +- 0.0625\n",
      "Processing Social threat\n"
     ]
    },
    {
     "name": "stderr",
     "output_type": "stream",
     "text": [
      "/home/zulqarnain/anaconda3/envs/htfatorch/lib/python3.7/site-packages/sklearn/feature_selection/univariate_selection.py:114: UserWarning: Features [ 7134  7893  7929 ... 81635 81636 81637] are constant.\n",
      "  UserWarning)\n",
      "/home/zulqarnain/anaconda3/envs/htfatorch/lib/python3.7/site-packages/sklearn/feature_selection/univariate_selection.py:114: UserWarning: Features [ 5944  7106  7134 ... 81635 81636 81637] are constant.\n",
      "  UserWarning)\n",
      "/home/zulqarnain/anaconda3/envs/htfatorch/lib/python3.7/site-packages/sklearn/feature_selection/univariate_selection.py:114: UserWarning: Features [ 7134  7893  7929 ... 81635 81636 81637] are constant.\n",
      "  UserWarning)\n",
      "/home/zulqarnain/anaconda3/envs/htfatorch/lib/python3.7/site-packages/sklearn/feature_selection/univariate_selection.py:114: UserWarning: Features [ 5944  7106  7134 ... 81635 81636 81637] are constant.\n",
      "  UserWarning)\n",
      "/home/zulqarnain/anaconda3/envs/htfatorch/lib/python3.7/site-packages/sklearn/feature_selection/univariate_selection.py:114: UserWarning: Features [ 7134  7893  7929 ... 81635 81636 81637] are constant.\n",
      "  UserWarning)\n",
      "/home/zulqarnain/anaconda3/envs/htfatorch/lib/python3.7/site-packages/sklearn/feature_selection/univariate_selection.py:114: UserWarning: Features [ 5944  7106  7134 ... 81635 81636 81637] are constant.\n",
      "  UserWarning)\n"
     ]
    },
    {
     "name": "stdout",
     "output_type": "stream",
     "text": [
      "Scores: 0.7969 +- 0.1406\n",
      "Chance Scores: 0.6562 +- 0.0312\n",
      "Processing Spiders\n",
      "Scores: 0.8438 +- 0.0938\n",
      "Chance Scores: 0.5938 +- 0.1562\n",
      "...\n",
      "Overall Score: 0.8177 +- 0.1343\n",
      "Overall Dummy Score: 0.5417 +- 0.1559\n",
      "\n",
      "\n",
      "Processing Subject 28\n",
      "Processing Heights\n"
     ]
    },
    {
     "name": "stderr",
     "output_type": "stream",
     "text": [
      "/home/zulqarnain/anaconda3/envs/htfatorch/lib/python3.7/site-packages/sklearn/feature_selection/univariate_selection.py:114: UserWarning: Features [ 5944  7106  7134 ... 81635 81636 81637] are constant.\n",
      "  UserWarning)\n",
      "/home/zulqarnain/anaconda3/envs/htfatorch/lib/python3.7/site-packages/sklearn/feature_selection/univariate_selection.py:114: UserWarning: Features [ 7106  7134  7930 ... 81635 81636 81637] are constant.\n",
      "  UserWarning)\n",
      "/home/zulqarnain/anaconda3/envs/htfatorch/lib/python3.7/site-packages/sklearn/feature_selection/univariate_selection.py:114: UserWarning: Features [ 7106  7134  7893 ... 81635 81636 81637] are constant.\n",
      "  UserWarning)\n"
     ]
    },
    {
     "name": "stdout",
     "output_type": "stream",
     "text": [
      "Scores: 0.8750 +- 0.0442\n",
      "Chance Scores: 0.4792 +- 0.1640\n",
      "Processing Social threat\n"
     ]
    },
    {
     "name": "stderr",
     "output_type": "stream",
     "text": [
      "/home/zulqarnain/anaconda3/envs/htfatorch/lib/python3.7/site-packages/sklearn/feature_selection/univariate_selection.py:114: UserWarning: Features [ 5944  7106  7134 ... 81635 81636 81637] are constant.\n",
      "  UserWarning)\n",
      "/home/zulqarnain/anaconda3/envs/htfatorch/lib/python3.7/site-packages/sklearn/feature_selection/univariate_selection.py:114: UserWarning: Features [ 7106  7134  7930 ... 81635 81636 81637] are constant.\n",
      "  UserWarning)\n",
      "/home/zulqarnain/anaconda3/envs/htfatorch/lib/python3.7/site-packages/sklearn/feature_selection/univariate_selection.py:114: UserWarning: Features [ 7106  7134  7893 ... 81635 81636 81637] are constant.\n",
      "  UserWarning)\n",
      "/home/zulqarnain/anaconda3/envs/htfatorch/lib/python3.7/site-packages/sklearn/feature_selection/univariate_selection.py:114: UserWarning: Features [ 5944  7106  7134 ... 81635 81636 81637] are constant.\n",
      "  UserWarning)\n"
     ]
    },
    {
     "name": "stdout",
     "output_type": "stream",
     "text": [
      "Scores: 0.9688 +- 0.0255\n",
      "Chance Scores: 0.4583 +- 0.1284\n",
      "Processing Spiders\n"
     ]
    },
    {
     "name": "stderr",
     "output_type": "stream",
     "text": [
      "/home/zulqarnain/anaconda3/envs/htfatorch/lib/python3.7/site-packages/sklearn/feature_selection/univariate_selection.py:114: UserWarning: Features [ 7106  7134  7930 ... 81635 81636 81637] are constant.\n",
      "  UserWarning)\n",
      "/home/zulqarnain/anaconda3/envs/htfatorch/lib/python3.7/site-packages/sklearn/feature_selection/univariate_selection.py:114: UserWarning: Features [ 7106  7134  7893 ... 81635 81636 81637] are constant.\n",
      "  UserWarning)\n"
     ]
    },
    {
     "name": "stdout",
     "output_type": "stream",
     "text": [
      "Scores: 1.0000 +- 0.0000\n",
      "Chance Scores: 0.5000 +- 0.1021\n",
      "...\n",
      "Overall Score: 0.9479 +- 0.0607\n",
      "Overall Dummy Score: 0.4792 +- 0.1350\n",
      "\n",
      "\n",
      "Processing Subject 29\n",
      "Processing Heights\n"
     ]
    },
    {
     "name": "stderr",
     "output_type": "stream",
     "text": [
      "/home/zulqarnain/anaconda3/envs/htfatorch/lib/python3.7/site-packages/sklearn/feature_selection/univariate_selection.py:114: UserWarning: Features [ 7106  7134  7162 ... 81635 81636 81637] are constant.\n",
      "  UserWarning)\n",
      "/home/zulqarnain/anaconda3/envs/htfatorch/lib/python3.7/site-packages/sklearn/feature_selection/univariate_selection.py:114: UserWarning: Features [ 5944  7106  7134 ... 81635 81636 81637] are constant.\n",
      "  UserWarning)\n",
      "/home/zulqarnain/anaconda3/envs/htfatorch/lib/python3.7/site-packages/sklearn/feature_selection/univariate_selection.py:114: UserWarning: Features [ 7106  7134  7162 ... 81635 81636 81637] are constant.\n",
      "  UserWarning)\n"
     ]
    },
    {
     "name": "stdout",
     "output_type": "stream",
     "text": [
      "Scores: 0.9062 +- 0.0675\n",
      "Chance Scores: 0.2500 +- 0.1021\n",
      "Processing Social threat\n"
     ]
    },
    {
     "name": "stderr",
     "output_type": "stream",
     "text": [
      "/home/zulqarnain/anaconda3/envs/htfatorch/lib/python3.7/site-packages/sklearn/feature_selection/univariate_selection.py:114: UserWarning: Features [ 7106  7134  7162 ... 81635 81636 81637] are constant.\n",
      "  UserWarning)\n",
      "/home/zulqarnain/anaconda3/envs/htfatorch/lib/python3.7/site-packages/sklearn/feature_selection/univariate_selection.py:114: UserWarning: Features [ 5944  7106  7134 ... 81635 81636 81637] are constant.\n",
      "  UserWarning)\n",
      "/home/zulqarnain/anaconda3/envs/htfatorch/lib/python3.7/site-packages/sklearn/feature_selection/univariate_selection.py:114: UserWarning: Features [ 7106  7134  7162 ... 81635 81636 81637] are constant.\n",
      "  UserWarning)\n",
      "/home/zulqarnain/anaconda3/envs/htfatorch/lib/python3.7/site-packages/sklearn/feature_selection/univariate_selection.py:114: UserWarning: Features [ 7106  7134  7162 ... 81635 81636 81637] are constant.\n",
      "  UserWarning)\n"
     ]
    },
    {
     "name": "stdout",
     "output_type": "stream",
     "text": [
      "Scores: 0.9792 +- 0.0295\n",
      "Chance Scores: 0.5208 +- 0.0780\n",
      "Processing Spiders\n"
     ]
    },
    {
     "name": "stderr",
     "output_type": "stream",
     "text": [
      "/home/zulqarnain/anaconda3/envs/htfatorch/lib/python3.7/site-packages/sklearn/feature_selection/univariate_selection.py:114: UserWarning: Features [ 5944  7106  7134 ... 81635 81636 81637] are constant.\n",
      "  UserWarning)\n",
      "/home/zulqarnain/anaconda3/envs/htfatorch/lib/python3.7/site-packages/sklearn/feature_selection/univariate_selection.py:114: UserWarning: Features [ 7106  7134  7162 ... 81635 81636 81637] are constant.\n",
      "  UserWarning)\n"
     ]
    },
    {
     "name": "stdout",
     "output_type": "stream",
     "text": [
      "Scores: 0.9896 +- 0.0147\n",
      "Chance Scores: 0.5625 +- 0.1768\n",
      "...\n",
      "Overall Score: 0.9583 +- 0.0571\n",
      "Overall Dummy Score: 0.4444 +- 0.1874\n",
      "\n",
      "\n",
      "Processing Subject 4\n",
      "Processing Heights\n"
     ]
    },
    {
     "name": "stderr",
     "output_type": "stream",
     "text": [
      "/home/zulqarnain/anaconda3/envs/htfatorch/lib/python3.7/site-packages/sklearn/feature_selection/univariate_selection.py:114: UserWarning: Features [ 5944  7054  7106 ... 81635 81636 81637] are constant.\n",
      "  UserWarning)\n",
      "/home/zulqarnain/anaconda3/envs/htfatorch/lib/python3.7/site-packages/sklearn/feature_selection/univariate_selection.py:114: UserWarning: Features [ 5944  7054  7106 ... 81635 81636 81637] are constant.\n",
      "  UserWarning)\n",
      "/home/zulqarnain/anaconda3/envs/htfatorch/lib/python3.7/site-packages/sklearn/feature_selection/univariate_selection.py:114: UserWarning: Features [ 5944  7054  7106 ... 81635 81636 81637] are constant.\n",
      "  UserWarning)\n",
      "/home/zulqarnain/anaconda3/envs/htfatorch/lib/python3.7/site-packages/sklearn/feature_selection/univariate_selection.py:114: UserWarning: Features [ 5944  7054  7106 ... 81635 81636 81637] are constant.\n",
      "  UserWarning)\n"
     ]
    },
    {
     "name": "stdout",
     "output_type": "stream",
     "text": [
      "Scores: 0.8750 +- 0.0000\n",
      "Chance Scores: 0.7292 +- 0.1179\n",
      "Processing Social threat\n"
     ]
    },
    {
     "name": "stderr",
     "output_type": "stream",
     "text": [
      "/home/zulqarnain/anaconda3/envs/htfatorch/lib/python3.7/site-packages/sklearn/feature_selection/univariate_selection.py:114: UserWarning: Features [ 5944  7054  7106 ... 81635 81636 81637] are constant.\n",
      "  UserWarning)\n",
      "/home/zulqarnain/anaconda3/envs/htfatorch/lib/python3.7/site-packages/sklearn/feature_selection/univariate_selection.py:114: UserWarning: Features [ 5944  7054  7106 ... 81635 81636 81637] are constant.\n",
      "  UserWarning)\n"
     ]
    },
    {
     "name": "stdout",
     "output_type": "stream",
     "text": [
      "Scores: 0.9583 +- 0.0295\n",
      "Chance Scores: 0.4583 +- 0.1640\n",
      "Processing Spiders\n"
     ]
    },
    {
     "name": "stderr",
     "output_type": "stream",
     "text": [
      "/home/zulqarnain/anaconda3/envs/htfatorch/lib/python3.7/site-packages/sklearn/feature_selection/univariate_selection.py:114: UserWarning: Features [ 5944  7054  7106 ... 81635 81636 81637] are constant.\n",
      "  UserWarning)\n",
      "/home/zulqarnain/anaconda3/envs/htfatorch/lib/python3.7/site-packages/sklearn/feature_selection/univariate_selection.py:114: UserWarning: Features [ 5944  7054  7106 ... 81635 81636 81637] are constant.\n",
      "  UserWarning)\n",
      "/home/zulqarnain/anaconda3/envs/htfatorch/lib/python3.7/site-packages/sklearn/feature_selection/univariate_selection.py:114: UserWarning: Features [ 5944  7054  7106 ... 81635 81636 81637] are constant.\n",
      "  UserWarning)\n"
     ]
    },
    {
     "name": "stdout",
     "output_type": "stream",
     "text": [
      "Scores: 0.9479 +- 0.0531\n",
      "Chance Scores: 0.5000 +- 0.0510\n",
      "...\n",
      "Overall Score: 0.9271 +- 0.0510\n",
      "Overall Dummy Score: 0.5625 +- 0.1693\n",
      "\n",
      "\n",
      "Processing Subject 5\n",
      "Processing Heights\n"
     ]
    },
    {
     "name": "stderr",
     "output_type": "stream",
     "text": [
      "/home/zulqarnain/anaconda3/envs/htfatorch/lib/python3.7/site-packages/sklearn/feature_selection/univariate_selection.py:114: UserWarning: Features [ 5944  7106  7134 ... 81635 81636 81637] are constant.\n",
      "  UserWarning)\n",
      "/home/zulqarnain/anaconda3/envs/htfatorch/lib/python3.7/site-packages/sklearn/feature_selection/univariate_selection.py:114: UserWarning: Features [ 7106  7134  7162 ... 81635 81636 81637] are constant.\n",
      "  UserWarning)\n",
      "/home/zulqarnain/anaconda3/envs/htfatorch/lib/python3.7/site-packages/sklearn/feature_selection/univariate_selection.py:114: UserWarning: Features [ 7106  7134  7162 ... 81635 81636 81637] are constant.\n",
      "  UserWarning)\n"
     ]
    },
    {
     "name": "stdout",
     "output_type": "stream",
     "text": [
      "Scores: 0.9062 +- 0.0675\n",
      "Chance Scores: 0.4167 +- 0.1062\n",
      "Processing Social threat\n"
     ]
    },
    {
     "name": "stderr",
     "output_type": "stream",
     "text": [
      "/home/zulqarnain/anaconda3/envs/htfatorch/lib/python3.7/site-packages/sklearn/feature_selection/univariate_selection.py:114: UserWarning: Features [ 5944  7106  7134 ... 81635 81636 81637] are constant.\n",
      "  UserWarning)\n",
      "/home/zulqarnain/anaconda3/envs/htfatorch/lib/python3.7/site-packages/sklearn/feature_selection/univariate_selection.py:114: UserWarning: Features [ 7106  7134  7162 ... 81635 81636 81637] are constant.\n",
      "  UserWarning)\n",
      "/home/zulqarnain/anaconda3/envs/htfatorch/lib/python3.7/site-packages/sklearn/feature_selection/univariate_selection.py:114: UserWarning: Features [ 7106  7134  7162 ... 81635 81636 81637] are constant.\n",
      "  UserWarning)\n",
      "/home/zulqarnain/anaconda3/envs/htfatorch/lib/python3.7/site-packages/sklearn/feature_selection/univariate_selection.py:114: UserWarning: Features [ 5944  7106  7134 ... 81635 81636 81637] are constant.\n",
      "  UserWarning)\n"
     ]
    },
    {
     "name": "stdout",
     "output_type": "stream",
     "text": [
      "Scores: 0.9688 +- 0.0255\n",
      "Chance Scores: 0.5625 +- 0.1840\n",
      "Processing Spiders\n"
     ]
    },
    {
     "name": "stderr",
     "output_type": "stream",
     "text": [
      "/home/zulqarnain/anaconda3/envs/htfatorch/lib/python3.7/site-packages/sklearn/feature_selection/univariate_selection.py:114: UserWarning: Features [ 7106  7134  7162 ... 81635 81636 81637] are constant.\n",
      "  UserWarning)\n",
      "/home/zulqarnain/anaconda3/envs/htfatorch/lib/python3.7/site-packages/sklearn/feature_selection/univariate_selection.py:114: UserWarning: Features [ 7106  7134  7162 ... 81635 81636 81637] are constant.\n",
      "  UserWarning)\n"
     ]
    },
    {
     "name": "stdout",
     "output_type": "stream",
     "text": [
      "Scores: 0.9896 +- 0.0147\n",
      "Chance Scores: 0.5833 +- 0.1284\n",
      "...\n",
      "Overall Score: 0.9549 +- 0.0553\n",
      "Overall Dummy Score: 0.5208 +- 0.1614\n",
      "\n",
      "\n",
      "Processing Subject 6\n",
      "Processing Heights\n"
     ]
    },
    {
     "name": "stderr",
     "output_type": "stream",
     "text": [
      "/home/zulqarnain/anaconda3/envs/htfatorch/lib/python3.7/site-packages/sklearn/feature_selection/univariate_selection.py:114: UserWarning: Features [ 7106  7134  7162 ... 81635 81636 81637] are constant.\n",
      "  UserWarning)\n",
      "/home/zulqarnain/anaconda3/envs/htfatorch/lib/python3.7/site-packages/sklearn/feature_selection/univariate_selection.py:114: UserWarning: Features [ 5944  7106  7134 ... 81635 81636 81637] are constant.\n",
      "  UserWarning)\n",
      "/home/zulqarnain/anaconda3/envs/htfatorch/lib/python3.7/site-packages/sklearn/feature_selection/univariate_selection.py:114: UserWarning: Features [ 7106  7134  7162 ... 81635 81636 81637] are constant.\n",
      "  UserWarning)\n"
     ]
    },
    {
     "name": "stdout",
     "output_type": "stream",
     "text": [
      "Scores: 0.4271 +- 0.1538\n",
      "Chance Scores: 0.5000 +- 0.1021\n",
      "Processing Social threat\n"
     ]
    },
    {
     "name": "stderr",
     "output_type": "stream",
     "text": [
      "/home/zulqarnain/anaconda3/envs/htfatorch/lib/python3.7/site-packages/sklearn/feature_selection/univariate_selection.py:114: UserWarning: Features [ 7106  7134  7162 ... 81635 81636 81637] are constant.\n",
      "  UserWarning)\n",
      "/home/zulqarnain/anaconda3/envs/htfatorch/lib/python3.7/site-packages/sklearn/feature_selection/univariate_selection.py:114: UserWarning: Features [ 5944  7106  7134 ... 81635 81636 81637] are constant.\n",
      "  UserWarning)\n",
      "/home/zulqarnain/anaconda3/envs/htfatorch/lib/python3.7/site-packages/sklearn/feature_selection/univariate_selection.py:114: UserWarning: Features [ 7106  7134  7162 ... 81635 81636 81637] are constant.\n",
      "  UserWarning)\n"
     ]
    },
    {
     "name": "stdout",
     "output_type": "stream",
     "text": [
      "Scores: 0.2500 +- 0.0442\n",
      "Chance Scores: 0.5000 +- 0.1350\n",
      "Processing Spiders\n"
     ]
    },
    {
     "name": "stderr",
     "output_type": "stream",
     "text": [
      "/home/zulqarnain/anaconda3/envs/htfatorch/lib/python3.7/site-packages/sklearn/feature_selection/univariate_selection.py:114: UserWarning: Features [ 7106  7134  7162 ... 81635 81636 81637] are constant.\n",
      "  UserWarning)\n",
      "/home/zulqarnain/anaconda3/envs/htfatorch/lib/python3.7/site-packages/sklearn/feature_selection/univariate_selection.py:114: UserWarning: Features [ 5944  7106  7134 ... 81635 81636 81637] are constant.\n",
      "  UserWarning)\n",
      "/home/zulqarnain/anaconda3/envs/htfatorch/lib/python3.7/site-packages/sklearn/feature_selection/univariate_selection.py:114: UserWarning: Features [ 7106  7134  7162 ... 81635 81636 81637] are constant.\n",
      "  UserWarning)\n"
     ]
    },
    {
     "name": "stdout",
     "output_type": "stream",
     "text": [
      "Scores: 0.5729 +- 0.1062\n",
      "Chance Scores: 0.5625 +- 0.0884\n",
      "...\n",
      "Overall Score: 0.4167 +- 0.1724\n",
      "Overall Dummy Score: 0.5208 +- 0.1141\n",
      "\n",
      "\n",
      "Processing Subject 7\n",
      "Processing Heights\n",
      "Scores: 0.3750 +- 0.0312\n",
      "Chance Scores: 0.6250 +- 0.0000\n",
      "Processing Social threat\n"
     ]
    },
    {
     "name": "stderr",
     "output_type": "stream",
     "text": [
      "/home/zulqarnain/anaconda3/envs/htfatorch/lib/python3.7/site-packages/sklearn/feature_selection/univariate_selection.py:114: UserWarning: Features [ 5944  7106  7134 ... 81635 81636 81637] are constant.\n",
      "  UserWarning)\n",
      "/home/zulqarnain/anaconda3/envs/htfatorch/lib/python3.7/site-packages/sklearn/feature_selection/univariate_selection.py:114: UserWarning: Features [ 5944  7106  7134 ... 81635 81636 81637] are constant.\n",
      "  UserWarning)\n",
      "/home/zulqarnain/anaconda3/envs/htfatorch/lib/python3.7/site-packages/sklearn/feature_selection/univariate_selection.py:114: UserWarning: Features [ 5944  7106  7134 ... 81635 81636 81637] are constant.\n",
      "  UserWarning)\n",
      "/home/zulqarnain/anaconda3/envs/htfatorch/lib/python3.7/site-packages/sklearn/feature_selection/univariate_selection.py:114: UserWarning: Features [ 5944  7106  7134 ... 81635 81636 81637] are constant.\n",
      "  UserWarning)\n",
      "/home/zulqarnain/anaconda3/envs/htfatorch/lib/python3.7/site-packages/sklearn/feature_selection/univariate_selection.py:114: UserWarning: Features [ 5944  7106  7134 ... 81635 81636 81637] are constant.\n",
      "  UserWarning)\n",
      "/home/zulqarnain/anaconda3/envs/htfatorch/lib/python3.7/site-packages/sklearn/feature_selection/univariate_selection.py:114: UserWarning: Features [ 5944  7106  7134 ... 81635 81636 81637] are constant.\n",
      "  UserWarning)\n"
     ]
    },
    {
     "name": "stdout",
     "output_type": "stream",
     "text": [
      "Scores: 0.3438 +- 0.0938\n",
      "Chance Scores: 0.3750 +- 0.1250\n",
      "Processing Spiders\n",
      "Scores: 0.3438 +- 0.0000\n",
      "Chance Scores: 0.6250 +- 0.0625\n",
      "...\n",
      "Overall Score: 0.3542 +- 0.0589\n",
      "Overall Dummy Score: 0.5417 +- 0.1428\n",
      "\n",
      "\n",
      "Processing Subject 8\n",
      "Processing Heights\n"
     ]
    },
    {
     "name": "stderr",
     "output_type": "stream",
     "text": [
      "/home/zulqarnain/anaconda3/envs/htfatorch/lib/python3.7/site-packages/sklearn/feature_selection/univariate_selection.py:114: UserWarning: Features [ 5944  7106  7134 ... 81635 81636 81637] are constant.\n",
      "  UserWarning)\n",
      "/home/zulqarnain/anaconda3/envs/htfatorch/lib/python3.7/site-packages/sklearn/feature_selection/univariate_selection.py:114: UserWarning: Features [ 5944  7106  7134 ... 81635 81636 81637] are constant.\n",
      "  UserWarning)\n",
      "/home/zulqarnain/anaconda3/envs/htfatorch/lib/python3.7/site-packages/sklearn/feature_selection/univariate_selection.py:114: UserWarning: Features [ 5944  7106  7134 ... 81635 81636 81637] are constant.\n",
      "  UserWarning)\n",
      "/home/zulqarnain/anaconda3/envs/htfatorch/lib/python3.7/site-packages/sklearn/feature_selection/univariate_selection.py:114: UserWarning: Features [ 5944  7106  7134 ... 81635 81636 81637] are constant.\n",
      "  UserWarning)\n"
     ]
    },
    {
     "name": "stdout",
     "output_type": "stream",
     "text": [
      "Scores: 0.9688 +- 0.0255\n",
      "Chance Scores: 0.5833 +- 0.1473\n",
      "Processing Social threat\n"
     ]
    },
    {
     "name": "stderr",
     "output_type": "stream",
     "text": [
      "/home/zulqarnain/anaconda3/envs/htfatorch/lib/python3.7/site-packages/sklearn/feature_selection/univariate_selection.py:114: UserWarning: Features [ 5944  7106  7134 ... 81635 81636 81637] are constant.\n",
      "  UserWarning)\n",
      "/home/zulqarnain/anaconda3/envs/htfatorch/lib/python3.7/site-packages/sklearn/feature_selection/univariate_selection.py:114: UserWarning: Features [ 5944  7106  7134 ... 81635 81636 81637] are constant.\n",
      "  UserWarning)\n"
     ]
    },
    {
     "name": "stdout",
     "output_type": "stream",
     "text": [
      "Scores: 0.8750 +- 0.0920\n",
      "Chance Scores: 0.4583 +- 0.1062\n",
      "Processing Spiders\n"
     ]
    },
    {
     "name": "stderr",
     "output_type": "stream",
     "text": [
      "/home/zulqarnain/anaconda3/envs/htfatorch/lib/python3.7/site-packages/sklearn/feature_selection/univariate_selection.py:114: UserWarning: Features [ 5944  7106  7134 ... 81635 81636 81637] are constant.\n",
      "  UserWarning)\n",
      "/home/zulqarnain/anaconda3/envs/htfatorch/lib/python3.7/site-packages/sklearn/feature_selection/univariate_selection.py:114: UserWarning: Features [ 5944  7106  7134 ... 81635 81636 81637] are constant.\n",
      "  UserWarning)\n",
      "/home/zulqarnain/anaconda3/envs/htfatorch/lib/python3.7/site-packages/sklearn/feature_selection/univariate_selection.py:114: UserWarning: Features [ 5944  7106  7134 ... 81635 81636 81637] are constant.\n",
      "  UserWarning)\n"
     ]
    },
    {
     "name": "stdout",
     "output_type": "stream",
     "text": [
      "Scores: 1.0000 +- 0.0000\n",
      "Chance Scores: 0.4583 +- 0.1284\n",
      "...\n",
      "Overall Score: 0.9479 +- 0.0765\n",
      "Overall Dummy Score: 0.5000 +- 0.1413\n",
      "\n",
      "\n",
      "Processing Subject 9\n",
      "Processing Heights\n"
     ]
    },
    {
     "name": "stderr",
     "output_type": "stream",
     "text": [
      "/home/zulqarnain/anaconda3/envs/htfatorch/lib/python3.7/site-packages/sklearn/feature_selection/univariate_selection.py:114: UserWarning: Features [ 5944  7106  7134 ... 81635 81636 81637] are constant.\n",
      "  UserWarning)\n",
      "/home/zulqarnain/anaconda3/envs/htfatorch/lib/python3.7/site-packages/sklearn/feature_selection/univariate_selection.py:114: UserWarning: Features [ 5944  7106  7134 ... 81635 81636 81637] are constant.\n",
      "  UserWarning)\n",
      "/home/zulqarnain/anaconda3/envs/htfatorch/lib/python3.7/site-packages/sklearn/feature_selection/univariate_selection.py:114: UserWarning: Features [ 5944  7106  7134 ... 81635 81636 81637] are constant.\n",
      "  UserWarning)\n"
     ]
    },
    {
     "name": "stdout",
     "output_type": "stream",
     "text": [
      "Scores: 0.5000 +- 0.1993\n",
      "Chance Scores: 0.4375 +- 0.0884\n",
      "Processing Social threat\n"
     ]
    },
    {
     "name": "stderr",
     "output_type": "stream",
     "text": [
      "/home/zulqarnain/anaconda3/envs/htfatorch/lib/python3.7/site-packages/sklearn/feature_selection/univariate_selection.py:114: UserWarning: Features [ 5944  7106  7134 ... 81635 81636 81637] are constant.\n",
      "  UserWarning)\n",
      "/home/zulqarnain/anaconda3/envs/htfatorch/lib/python3.7/site-packages/sklearn/feature_selection/univariate_selection.py:114: UserWarning: Features [ 5944  7106  7134 ... 81635 81636 81637] are constant.\n",
      "  UserWarning)\n",
      "/home/zulqarnain/anaconda3/envs/htfatorch/lib/python3.7/site-packages/sklearn/feature_selection/univariate_selection.py:114: UserWarning: Features [ 5944  7106  7134 ... 81635 81636 81637] are constant.\n",
      "  UserWarning)\n"
     ]
    },
    {
     "name": "stdout",
     "output_type": "stream",
     "text": [
      "Scores: 0.4167 +- 0.0147\n",
      "Chance Scores: 0.4583 +- 0.0589\n",
      "Processing Spiders\n"
     ]
    },
    {
     "name": "stderr",
     "output_type": "stream",
     "text": [
      "/home/zulqarnain/anaconda3/envs/htfatorch/lib/python3.7/site-packages/sklearn/feature_selection/univariate_selection.py:114: UserWarning: Features [ 5944  7106  7134 ... 81635 81636 81637] are constant.\n",
      "  UserWarning)\n",
      "/home/zulqarnain/anaconda3/envs/htfatorch/lib/python3.7/site-packages/sklearn/feature_selection/univariate_selection.py:114: UserWarning: Features [ 5944  7106  7134 ... 81635 81636 81637] are constant.\n",
      "  UserWarning)\n",
      "/home/zulqarnain/anaconda3/envs/htfatorch/lib/python3.7/site-packages/sklearn/feature_selection/univariate_selection.py:114: UserWarning: Features [ 5944  7106  7134 ... 81635 81636 81637] are constant.\n",
      "  UserWarning)\n"
     ]
    },
    {
     "name": "stdout",
     "output_type": "stream",
     "text": [
      "Scores: 0.6250 +- 0.1926\n",
      "Chance Scores: 0.4583 +- 0.0780\n",
      "...\n",
      "Overall Score: 0.5139 +- 0.1817\n",
      "Overall Dummy Score: 0.4514 +- 0.0767\n",
      "\n",
      "\n",
      "...\n",
      "Voxel Summary Score Across Subjects, Across Tasks: 0.8332 +- 0.2147\n",
      "Overall Dummy Score: 0.50 +- 0.14\n"
     ]
    }
   ],
   "source": [
    "### task classification using leave one out runs on input data###\n",
    "summary_result = []\n",
    "summary_result_chance = []\n",
    "for s in dtfa.subjects():\n",
    "    print(\"Processing Subject %d\" % (s))\n",
    "    session_labels = []\n",
    "    data = []\n",
    "    targets = []\n",
    "    for i in range(dtfa.num_blocks):\n",
    "        block = dtfa._blocks[i]\n",
    "        if block.subject == s:\n",
    "            session_labels.append(block.run)\n",
    "            data.append(dtfa.voxel_activations[i].data.numpy().mean(0))\n",
    "            targets.append(task_labeler(block.task))\n",
    "    data = np.array(data)\n",
    "    overall_result,overall_result_chance = classification_pipeline(data=data,\n",
    "                                                                   targets=targets,\n",
    "                                                                   scoring=\"roc_auc\",\n",
    "                                                                   input_data=True,\n",
    "                                                                   print_all=True)\n",
    "    summary_result.extend(overall_result)\n",
    "    summary_result_chance.extend(overall_result_chance)\n",
    "print ('...')\n",
    "print(\"Voxel Summary Score Across Subjects, Across Tasks: %1.4f +- %1.4f\" % (\n",
    "np.array(summary_result).mean(),\n",
    "np.array(summary_result).std()))\n",
    "\n",
    "print(\"Overall Dummy Score: %1.2f +- %1.2f\" % (\n",
    "np.array(summary_result_chance).mean(),\n",
    "np.array(summary_result_chance).std()))\n",
    "\n",
    "voxel_summary_result = summary_result"
   ]
  },
  {
   "cell_type": "code",
   "execution_count": 58,
   "metadata": {},
   "outputs": [
    {
     "data": {
      "image/png": "[encoded data removed]",
      "text/plain": [
       "<Figure size 432x288 with 1 Axes>"
      ]
     },
     "metadata": {
      "needs_background": "light"
     },
     "output_type": "display_data"
    }
   ],
   "source": [
    "voxel_accuracies = np.mean(voxel_summary_result)\n",
    "voxel_errs = np.std(voxel_summary_result)\n",
    "htfa_accuracies = np.mean(htfa_summary_result)\n",
    "htfa_errs = np.std(htfa_summary_result)\n",
    "ntfa_accuracies = np.mean(ntfa_summary_result)\n",
    "ntfa_errs = np.std(ntfa_summary_result)\n",
    "dummy_accuracies = np.mean(dummy_summary_result)\n",
    "dummy_errs = np.std(dummy_summary_result)\n",
    "\n",
    "datasets = ['Affvids'] #, 'Word', 'Rest']\n",
    "\n",
    "xs = np.arange(len(datasets))\n",
    "\n",
    "colorblind_cycler = cycler(color=color_palette('colorblind'))\n",
    "colorblind_colors = [c['color'] for c in colorblind_cycler]\n",
    "muted_cycler = cycler(color=color_palette('bright'))\n",
    "muted_colors = [c['color'] for c in muted_cycler]\n",
    "\n",
    "bar_width = 0.2\n",
    "\n",
    "fig = pl.figure()\n",
    "voxel_bar = pl.bar(xs, height=voxel_accuracies, color=colorblind_colors[0], width=bar_width, yerr=voxel_errs)\n",
    "ntfa_bar = pl.bar(xs + bar_width, height=ntfa_accuracies, color=colorblind_colors[1], width=bar_width, yerr=ntfa_errs)\n",
    "htfa_bar = pl.bar(xs + 2*bar_width, height=htfa_accuracies, color=colorblind_colors[2], width=bar_width, yerr=htfa_errs)\n",
    "dummy_bar = pl.bar(xs + 3*bar_width, height=dummy_accuracies, color=colorblind_colors[3], width=bar_width, yerr=dummy_errs)\n",
    "pl.xticks(xs+1.5*bar_width, datasets)\n",
    "pl.legend((voxel_bar[0], htfa_bar[0], ntfa_bar[0],dummy_bar[0]), ('Voxel', 'HTFA', 'NTFA','Dummy'))\n",
    "pl.ylabel('AUC Score')\n",
    "pl.ylim(bottom=0,)\n",
    "fig.savefig('affvids_svm_accuracies.pdf')"
   ]
  },
  {
   "cell_type": "code",
   "execution_count": null,
   "metadata": {},
   "outputs": [],
   "source": []
  }
 ],
 "metadata": {
  "kernelspec": {
   "display_name": "Python 3",
   "language": "python",
   "name": "python3"
  },
  "language_info": {
   "codemirror_mode": {
    "name": "ipython",
    "version": 3
   },
   "file_extension": ".py",
   "mimetype": "text/x-python",
   "name": "python",
   "nbconvert_exporter": "python",
   "pygments_lexer": "ipython3",
   "version": "3.7.2"
  }
 },
 "nbformat": 4,
 "nbformat_minor": 4
}
