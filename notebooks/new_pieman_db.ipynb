{
 "cells": [
  {
   "cell_type": "code",
   "execution_count": 1,
   "metadata": {},
   "outputs": [
    {
     "name": "stdout",
     "output_type": "stream",
     "text": [
      "/home/eli/AnacondaProjects/HTFATorch\n"
     ]
    }
   ],
   "source": [
    "%cd ../\n",
    "%matplotlib inline"
   ]
  },
  {
   "cell_type": "code",
   "execution_count": 2,
   "metadata": {},
   "outputs": [],
   "source": [
    "import htfa_torch.niidb as niidb\n",
    "import htfa_torch.utils as utils\n",
    "import glob\n",
    "import logging\n",
    "import os"
   ]
  },
  {
   "cell_type": "code",
   "execution_count": 3,
   "metadata": {},
   "outputs": [],
   "source": [
    "logging.basicConfig(format='%(asctime)s %(message)s', datefmt='%m/%d/%Y %H:%M:%S',\n",
    "                    level=logging.INFO)"
   ]
  },
  {
   "cell_type": "code",
   "execution_count": 4,
   "metadata": {},
   "outputs": [
    {
     "name": "stderr",
     "output_type": "stream",
     "text": [
      "01/18/2019 19:21:15 Subject 1, task intact1, file /home/eli/Documents/new_pieman/all_tasks/sub-1-task-intact1.nii\n",
      "01/18/2019 19:21:15 Subject 1, task word, file /home/eli/Documents/new_pieman/all_tasks/sub-1-task-word.nii\n",
      "01/18/2019 19:21:15 Subject 10, task intact1, file /home/eli/Documents/new_pieman/all_tasks/sub-10-task-intact1.nii\n",
      "01/18/2019 19:21:15 Subject 10, task word, file /home/eli/Documents/new_pieman/all_tasks/sub-10-task-word.nii\n",
      "01/18/2019 19:21:15 Subject 100, task rest2, file /home/eli/Documents/new_pieman/all_tasks/sub-100-task-rest2.nii\n",
      "01/18/2019 19:21:15 Subject 101, task rest2, file /home/eli/Documents/new_pieman/all_tasks/sub-101-task-rest2.nii\n",
      "01/18/2019 19:21:15 Subject 102, task rest2, file /home/eli/Documents/new_pieman/all_tasks/sub-102-task-rest2.nii\n",
      "01/18/2019 19:21:15 Subject 103, task rest2, file /home/eli/Documents/new_pieman/all_tasks/sub-103-task-rest2.nii\n",
      "01/18/2019 19:21:15 Subject 104, task rest2, file /home/eli/Documents/new_pieman/all_tasks/sub-104-task-rest2.nii\n",
      "01/18/2019 19:21:15 Subject 105, task rest2, file /home/eli/Documents/new_pieman/all_tasks/sub-105-task-rest2.nii\n",
      "01/18/2019 19:21:15 Subject 11, task intact1, file /home/eli/Documents/new_pieman/all_tasks/sub-11-task-intact1.nii\n",
      "01/18/2019 19:21:15 Subject 11, task word, file /home/eli/Documents/new_pieman/all_tasks/sub-11-task-word.nii\n",
      "01/18/2019 19:21:15 Subject 12, task intact1, file /home/eli/Documents/new_pieman/all_tasks/sub-12-task-intact1.nii\n",
      "01/18/2019 19:21:15 Subject 12, task word, file /home/eli/Documents/new_pieman/all_tasks/sub-12-task-word.nii\n",
      "01/18/2019 19:21:15 Subject 13, task intact1, file /home/eli/Documents/new_pieman/all_tasks/sub-13-task-intact1.nii\n",
      "01/18/2019 19:21:15 Subject 13, task word, file /home/eli/Documents/new_pieman/all_tasks/sub-13-task-word.nii\n",
      "01/18/2019 19:21:15 Subject 14, task intact1, file /home/eli/Documents/new_pieman/all_tasks/sub-14-task-intact1.nii\n",
      "01/18/2019 19:21:15 Subject 14, task word, file /home/eli/Documents/new_pieman/all_tasks/sub-14-task-word.nii\n",
      "01/18/2019 19:21:15 Subject 15, task intact1, file /home/eli/Documents/new_pieman/all_tasks/sub-15-task-intact1.nii\n",
      "01/18/2019 19:21:15 Subject 16, task intact1, file /home/eli/Documents/new_pieman/all_tasks/sub-16-task-intact1.nii\n",
      "01/18/2019 19:21:15 Subject 16, task word, file /home/eli/Documents/new_pieman/all_tasks/sub-16-task-word.nii\n",
      "01/18/2019 19:21:15 Subject 17, task intact1, file /home/eli/Documents/new_pieman/all_tasks/sub-17-task-intact1.nii\n",
      "01/18/2019 19:21:16 Subject 18, task intact1, file /home/eli/Documents/new_pieman/all_tasks/sub-18-task-intact1.nii\n",
      "01/18/2019 19:21:16 Subject 19, task intact2, file /home/eli/Documents/new_pieman/all_tasks/sub-19-task-intact2.nii\n",
      "01/18/2019 19:21:16 Subject 2, task intact1, file /home/eli/Documents/new_pieman/all_tasks/sub-2-task-intact1.nii\n",
      "01/18/2019 19:21:16 Subject 20, task intact2, file /home/eli/Documents/new_pieman/all_tasks/sub-20-task-intact2.nii\n",
      "01/18/2019 19:21:16 Subject 20, task word, file /home/eli/Documents/new_pieman/all_tasks/sub-20-task-word.nii\n",
      "01/18/2019 19:21:16 Subject 21, task intact2, file /home/eli/Documents/new_pieman/all_tasks/sub-21-task-intact2.nii\n",
      "01/18/2019 19:21:16 Subject 22, task intact2, file /home/eli/Documents/new_pieman/all_tasks/sub-22-task-intact2.nii\n",
      "01/18/2019 19:21:16 Subject 23, task intact2, file /home/eli/Documents/new_pieman/all_tasks/sub-23-task-intact2.nii\n",
      "01/18/2019 19:21:16 Subject 23, task word, file /home/eli/Documents/new_pieman/all_tasks/sub-23-task-word.nii\n",
      "01/18/2019 19:21:16 Subject 24, task intact2, file /home/eli/Documents/new_pieman/all_tasks/sub-24-task-intact2.nii\n",
      "01/18/2019 19:21:16 Subject 24, task word, file /home/eli/Documents/new_pieman/all_tasks/sub-24-task-word.nii\n",
      "01/18/2019 19:21:16 Subject 25, task intact2, file /home/eli/Documents/new_pieman/all_tasks/sub-25-task-intact2.nii\n",
      "01/18/2019 19:21:16 Subject 25, task word, file /home/eli/Documents/new_pieman/all_tasks/sub-25-task-word.nii\n",
      "01/18/2019 19:21:17 Subject 26, task intact2, file /home/eli/Documents/new_pieman/all_tasks/sub-26-task-intact2.nii\n",
      "01/18/2019 19:21:17 Subject 26, task word, file /home/eli/Documents/new_pieman/all_tasks/sub-26-task-word.nii\n",
      "01/18/2019 19:21:17 Subject 27, task intact2, file /home/eli/Documents/new_pieman/all_tasks/sub-27-task-intact2.nii\n",
      "01/18/2019 19:21:17 Subject 27, task word, file /home/eli/Documents/new_pieman/all_tasks/sub-27-task-word.nii\n",
      "01/18/2019 19:21:17 Subject 28, task intact2, file /home/eli/Documents/new_pieman/all_tasks/sub-28-task-intact2.nii\n",
      "01/18/2019 19:21:17 Subject 28, task word, file /home/eli/Documents/new_pieman/all_tasks/sub-28-task-word.nii\n",
      "01/18/2019 19:21:17 Subject 29, task intact2, file /home/eli/Documents/new_pieman/all_tasks/sub-29-task-intact2.nii\n",
      "01/18/2019 19:21:17 Subject 3, task intact1, file /home/eli/Documents/new_pieman/all_tasks/sub-3-task-intact1.nii\n",
      "01/18/2019 19:21:17 Subject 3, task word, file /home/eli/Documents/new_pieman/all_tasks/sub-3-task-word.nii\n",
      "01/18/2019 19:21:17 Subject 30, task intact2, file /home/eli/Documents/new_pieman/all_tasks/sub-30-task-intact2.nii\n",
      "01/18/2019 19:21:17 Subject 30, task word, file /home/eli/Documents/new_pieman/all_tasks/sub-30-task-word.nii\n",
      "01/18/2019 19:21:17 Subject 31, task intact2, file /home/eli/Documents/new_pieman/all_tasks/sub-31-task-intact2.nii\n",
      "01/18/2019 19:21:17 Subject 31, task word, file /home/eli/Documents/new_pieman/all_tasks/sub-31-task-word.nii\n",
      "01/18/2019 19:21:17 Subject 32, task intact2, file /home/eli/Documents/new_pieman/all_tasks/sub-32-task-intact2.nii\n",
      "01/18/2019 19:21:17 Subject 32, task word, file /home/eli/Documents/new_pieman/all_tasks/sub-32-task-word.nii\n",
      "01/18/2019 19:21:17 Subject 33, task intact2, file /home/eli/Documents/new_pieman/all_tasks/sub-33-task-intact2.nii\n",
      "01/18/2019 19:21:17 Subject 34, task intact2, file /home/eli/Documents/new_pieman/all_tasks/sub-34-task-intact2.nii\n",
      "01/18/2019 19:21:17 Subject 34, task word, file /home/eli/Documents/new_pieman/all_tasks/sub-34-task-word.nii\n",
      "01/18/2019 19:21:17 Subject 35, task intact2, file /home/eli/Documents/new_pieman/all_tasks/sub-35-task-intact2.nii\n",
      "01/18/2019 19:21:17 Subject 35, task word, file /home/eli/Documents/new_pieman/all_tasks/sub-35-task-word.nii\n",
      "01/18/2019 19:21:17 Subject 36, task intact2, file /home/eli/Documents/new_pieman/all_tasks/sub-36-task-intact2.nii\n",
      "01/18/2019 19:21:17 Subject 37, task word, file /home/eli/Documents/new_pieman/all_tasks/sub-37-task-word.nii\n",
      "01/18/2019 19:21:17 Subject 38, task word, file /home/eli/Documents/new_pieman/all_tasks/sub-38-task-word.nii\n",
      "01/18/2019 19:21:17 Subject 39, task word, file /home/eli/Documents/new_pieman/all_tasks/sub-39-task-word.nii\n",
      "01/18/2019 19:21:17 Subject 4, task intact1, file /home/eli/Documents/new_pieman/all_tasks/sub-4-task-intact1.nii\n",
      "01/18/2019 19:21:17 Subject 4, task word, file /home/eli/Documents/new_pieman/all_tasks/sub-4-task-word.nii\n",
      "01/18/2019 19:21:17 Subject 40, task word, file /home/eli/Documents/new_pieman/all_tasks/sub-40-task-word.nii\n",
      "01/18/2019 19:21:18 Subject 41, task word, file /home/eli/Documents/new_pieman/all_tasks/sub-41-task-word.nii\n",
      "01/18/2019 19:21:18 Subject 42, task word, file /home/eli/Documents/new_pieman/all_tasks/sub-42-task-word.nii\n",
      "01/18/2019 19:21:18 Subject 43, task word, file /home/eli/Documents/new_pieman/all_tasks/sub-43-task-word.nii\n",
      "01/18/2019 19:21:18 Subject 44, task word, file /home/eli/Documents/new_pieman/all_tasks/sub-44-task-word.nii\n",
      "01/18/2019 19:21:18 Subject 45, task word, file /home/eli/Documents/new_pieman/all_tasks/sub-45-task-word.nii\n",
      "01/18/2019 19:21:18 Subject 46, task word, file /home/eli/Documents/new_pieman/all_tasks/sub-46-task-word.nii\n",
      "01/18/2019 19:21:18 Subject 47, task word, file /home/eli/Documents/new_pieman/all_tasks/sub-47-task-word.nii\n",
      "01/18/2019 19:21:18 Subject 48, task word, file /home/eli/Documents/new_pieman/all_tasks/sub-48-task-word.nii\n",
      "01/18/2019 19:21:18 Subject 49, task word, file /home/eli/Documents/new_pieman/all_tasks/sub-49-task-word.nii\n",
      "01/18/2019 19:21:18 Subject 5, task intact1, file /home/eli/Documents/new_pieman/all_tasks/sub-5-task-intact1.nii\n",
      "01/18/2019 19:21:18 Subject 50, task word, file /home/eli/Documents/new_pieman/all_tasks/sub-50-task-word.nii\n",
      "01/18/2019 19:21:18 Subject 51, task word, file /home/eli/Documents/new_pieman/all_tasks/sub-51-task-word.nii\n",
      "01/18/2019 19:21:18 Subject 52, task paragraph, file /home/eli/Documents/new_pieman/all_tasks/sub-52-task-paragraph.nii\n",
      "01/18/2019 19:21:18 Subject 53, task paragraph, file /home/eli/Documents/new_pieman/all_tasks/sub-53-task-paragraph.nii\n",
      "01/18/2019 19:21:18 Subject 54, task paragraph, file /home/eli/Documents/new_pieman/all_tasks/sub-54-task-paragraph.nii\n",
      "01/18/2019 19:21:18 Subject 55, task paragraph, file /home/eli/Documents/new_pieman/all_tasks/sub-55-task-paragraph.nii\n",
      "01/18/2019 19:21:18 Subject 56, task paragraph, file /home/eli/Documents/new_pieman/all_tasks/sub-56-task-paragraph.nii\n",
      "01/18/2019 19:21:18 Subject 57, task paragraph, file /home/eli/Documents/new_pieman/all_tasks/sub-57-task-paragraph.nii\n",
      "01/18/2019 19:21:18 Subject 58, task paragraph, file /home/eli/Documents/new_pieman/all_tasks/sub-58-task-paragraph.nii\n",
      "01/18/2019 19:21:18 Subject 59, task paragraph, file /home/eli/Documents/new_pieman/all_tasks/sub-59-task-paragraph.nii\n",
      "01/18/2019 19:21:18 Subject 6, task intact1, file /home/eli/Documents/new_pieman/all_tasks/sub-6-task-intact1.nii\n",
      "01/18/2019 19:21:18 Subject 60, task paragraph, file /home/eli/Documents/new_pieman/all_tasks/sub-60-task-paragraph.nii\n",
      "01/18/2019 19:21:18 Subject 61, task paragraph, file /home/eli/Documents/new_pieman/all_tasks/sub-61-task-paragraph.nii\n",
      "01/18/2019 19:21:18 Subject 62, task paragraph, file /home/eli/Documents/new_pieman/all_tasks/sub-62-task-paragraph.nii\n",
      "01/18/2019 19:21:19 Subject 63, task paragraph, file /home/eli/Documents/new_pieman/all_tasks/sub-63-task-paragraph.nii\n",
      "01/18/2019 19:21:19 Subject 64, task paragraph, file /home/eli/Documents/new_pieman/all_tasks/sub-64-task-paragraph.nii\n",
      "01/18/2019 19:21:19 Subject 65, task paragraph, file /home/eli/Documents/new_pieman/all_tasks/sub-65-task-paragraph.nii\n",
      "01/18/2019 19:21:19 Subject 66, task paragraph, file /home/eli/Documents/new_pieman/all_tasks/sub-66-task-paragraph.nii\n",
      "01/18/2019 19:21:19 Subject 67, task paragraph, file /home/eli/Documents/new_pieman/all_tasks/sub-67-task-paragraph.nii\n",
      "01/18/2019 19:21:19 Subject 68, task paragraph, file /home/eli/Documents/new_pieman/all_tasks/sub-68-task-paragraph.nii\n",
      "01/18/2019 19:21:19 Subject 69, task paragraph, file /home/eli/Documents/new_pieman/all_tasks/sub-69-task-paragraph.nii\n",
      "01/18/2019 19:21:19 Subject 7, task intact1, file /home/eli/Documents/new_pieman/all_tasks/sub-7-task-intact1.nii\n",
      "01/18/2019 19:21:19 Subject 70, task rest1, file /home/eli/Documents/new_pieman/all_tasks/sub-70-task-rest1.nii\n",
      "01/18/2019 19:21:19 Subject 71, task rest1, file /home/eli/Documents/new_pieman/all_tasks/sub-71-task-rest1.nii\n",
      "01/18/2019 19:21:19 Subject 72, task rest1, file /home/eli/Documents/new_pieman/all_tasks/sub-72-task-rest1.nii\n",
      "01/18/2019 19:21:19 Subject 73, task rest1, file /home/eli/Documents/new_pieman/all_tasks/sub-73-task-rest1.nii\n",
      "01/18/2019 19:21:19 Subject 74, task rest1, file /home/eli/Documents/new_pieman/all_tasks/sub-74-task-rest1.nii\n",
      "01/18/2019 19:21:19 Subject 75, task rest1, file /home/eli/Documents/new_pieman/all_tasks/sub-75-task-rest1.nii\n",
      "01/18/2019 19:21:19 Subject 76, task rest1, file /home/eli/Documents/new_pieman/all_tasks/sub-76-task-rest1.nii\n",
      "01/18/2019 19:21:19 Subject 77, task rest1, file /home/eli/Documents/new_pieman/all_tasks/sub-77-task-rest1.nii\n",
      "01/18/2019 19:21:19 Subject 78, task rest1, file /home/eli/Documents/new_pieman/all_tasks/sub-78-task-rest1.nii\n",
      "01/18/2019 19:21:19 Subject 79, task rest1, file /home/eli/Documents/new_pieman/all_tasks/sub-79-task-rest1.nii\n",
      "01/18/2019 19:21:19 Subject 8, task intact1, file /home/eli/Documents/new_pieman/all_tasks/sub-8-task-intact1.nii\n",
      "01/18/2019 19:21:19 Subject 80, task rest1, file /home/eli/Documents/new_pieman/all_tasks/sub-80-task-rest1.nii\n",
      "01/18/2019 19:21:19 Subject 81, task rest1, file /home/eli/Documents/new_pieman/all_tasks/sub-81-task-rest1.nii\n",
      "01/18/2019 19:21:19 Subject 82, task rest1, file /home/eli/Documents/new_pieman/all_tasks/sub-82-task-rest1.nii\n",
      "01/18/2019 19:21:19 Subject 83, task rest1, file /home/eli/Documents/new_pieman/all_tasks/sub-83-task-rest1.nii\n",
      "01/18/2019 19:21:19 Subject 84, task rest1, file /home/eli/Documents/new_pieman/all_tasks/sub-84-task-rest1.nii\n",
      "01/18/2019 19:21:19 Subject 85, task rest1, file /home/eli/Documents/new_pieman/all_tasks/sub-85-task-rest1.nii\n",
      "01/18/2019 19:21:19 Subject 86, task rest1, file /home/eli/Documents/new_pieman/all_tasks/sub-86-task-rest1.nii\n",
      "01/18/2019 19:21:20 Subject 87, task rest1, file /home/eli/Documents/new_pieman/all_tasks/sub-87-task-rest1.nii\n",
      "01/18/2019 19:21:20 Subject 88, task rest2, file /home/eli/Documents/new_pieman/all_tasks/sub-88-task-rest2.nii\n",
      "01/18/2019 19:21:20 Subject 89, task rest2, file /home/eli/Documents/new_pieman/all_tasks/sub-89-task-rest2.nii\n",
      "01/18/2019 19:21:20 Subject 9, task intact1, file /home/eli/Documents/new_pieman/all_tasks/sub-9-task-intact1.nii\n",
      "01/18/2019 19:21:20 Subject 90, task rest2, file /home/eli/Documents/new_pieman/all_tasks/sub-90-task-rest2.nii\n",
      "01/18/2019 19:21:20 Subject 91, task rest2, file /home/eli/Documents/new_pieman/all_tasks/sub-91-task-rest2.nii\n",
      "01/18/2019 19:21:20 Subject 92, task rest2, file /home/eli/Documents/new_pieman/all_tasks/sub-92-task-rest2.nii\n",
      "01/18/2019 19:21:20 Subject 93, task rest2, file /home/eli/Documents/new_pieman/all_tasks/sub-93-task-rest2.nii\n",
      "01/18/2019 19:21:20 Subject 94, task rest2, file /home/eli/Documents/new_pieman/all_tasks/sub-94-task-rest2.nii\n",
      "01/18/2019 19:21:20 Subject 95, task rest2, file /home/eli/Documents/new_pieman/all_tasks/sub-95-task-rest2.nii\n",
      "01/18/2019 19:21:20 Subject 96, task rest2, file /home/eli/Documents/new_pieman/all_tasks/sub-96-task-rest2.nii\n",
      "01/18/2019 19:21:20 Subject 97, task rest2, file /home/eli/Documents/new_pieman/all_tasks/sub-97-task-rest2.nii\n",
      "01/18/2019 19:21:20 Subject 98, task rest2, file /home/eli/Documents/new_pieman/all_tasks/sub-98-task-rest2.nii\n",
      "01/18/2019 19:21:20 Subject 99, task rest2, file /home/eli/Documents/new_pieman/all_tasks/sub-99-task-rest2.nii\n"
     ]
    }
   ],
   "source": [
    "db_file = 'data/new_pieman.db'\n",
    "mask_file = '/home/eli/Documents/new_pieman/all_tasks/wholebrain.nii.gz'\n",
    "\n",
    "existed = os.path.isfile(db_file)\n",
    "db = niidb.FMriActivationsDb(db_file, mask=mask_file)\n",
    "\n",
    "if not existed:\n",
    "    data_files = utils.sorted_glob('/home/eli/Documents/new_pieman/all_tasks/*.nii')\n",
    "    for data_file in data_files:\n",
    "        segments = os.path.splitext(os.path.basename(data_file))[0].split('-')\n",
    "        subject = int(segments[1])\n",
    "        task = segments[3]\n",
    "        block = niidb.FMriActivationBlock()\n",
    "        block.subject = subject\n",
    "        block.filename = data_file\n",
    "        block.task = task\n",
    "        db.upsert(block)\n",
    "        logging.info('Subject %d, task %s, file %s' % (subject, task, data_file))"
   ]
  },
  {
   "cell_type": "code",
   "execution_count": 5,
   "metadata": {},
   "outputs": [
    {
     "name": "stderr",
     "output_type": "stream",
     "text": [
      "01/18/2019 19:21:20 Finished\n"
     ]
    }
   ],
   "source": [
    "logging.info('Finished')"
   ]
  }
 ],
 "metadata": {
  "kernelspec": {
   "display_name": "Python [conda env:HTFATorch]",
   "language": "python",
   "name": "conda-env-HTFATorch-py"
  },
  "language_info": {
   "codemirror_mode": {
    "name": "ipython",
    "version": 3
   },
   "file_extension": ".py",
   "mimetype": "text/x-python",
   "name": "python",
   "nbconvert_exporter": "python",
   "pygments_lexer": "ipython3",
   "version": "3.6.4"
  }
 },
 "nbformat": 4,
 "nbformat_minor": 2
}
