{
 "cells": [
  {
   "cell_type": "code",
   "execution_count": 1,
   "metadata": {},
   "outputs": [
    {
     "name": "stdout",
     "output_type": "stream",
     "text": [
      "/home/eli/AnacondaProjects/HTFATorch\n"
     ]
    }
   ],
   "source": [
    "%cd ../\n",
    "%matplotlib inline"
   ]
  },
  {
   "cell_type": "code",
   "execution_count": 2,
   "metadata": {
    "collapsed": true
   },
   "outputs": [],
   "source": [
    "import logging\n",
    "import numpy as np\n",
    "import htfa_torch.htfa as HTFA\n",
    "import htfa_torch.niidb as niidb\n",
    "import htfa_torch.utils as utils"
   ]
  },
  {
   "cell_type": "code",
   "execution_count": 3,
   "metadata": {
    "collapsed": true
   },
   "outputs": [],
   "source": [
    "logging.basicConfig(format='%(asctime)s %(message)s', datefmt='%m/%d/%Y %H:%M:%S',\n",
    "                    level=logging.INFO)"
   ]
  },
  {
   "cell_type": "code",
   "execution_count": 4,
   "metadata": {},
   "outputs": [],
   "source": [
    "new_pieman_word = niidb.FMriActivationsDb('data/new_pieman.db',\n",
    "                                          mask='/home/eli/Documents/new_pieman/all_tasks/wholebrain.nii.gz')"
   ]
  },
  {
   "cell_type": "code",
   "execution_count": null,
   "metadata": {
    "collapsed": true
   },
   "outputs": [
    {
     "name": "stderr",
     "output_type": "stream",
     "text": [
      "04/26/2018 15:22:00 Loading Nifti image /home/eli/Documents/new_pieman/all_tasks/sub-19-task-intact2.nii with mask /home/eli/Documents/new_pieman/all_tasks/wholebrain.nii.gz (zscore=True)\n",
      "04/26/2018 15:22:01 Loading Nifti image /home/eli/Documents/new_pieman/all_tasks/sub-70-task-rest1.nii with mask /home/eli/Documents/new_pieman/all_tasks/wholebrain.nii.gz (zscore=True)\n",
      "04/26/2018 15:22:03 Loading Nifti image /home/eli/Documents/new_pieman/all_tasks/sub-72-task-rest1.nii with mask /home/eli/Documents/new_pieman/all_tasks/wholebrain.nii.gz (zscore=True)\n",
      "04/26/2018 15:22:05 Loading Nifti image /home/eli/Documents/new_pieman/all_tasks/sub-39-task-word.nii with mask /home/eli/Documents/new_pieman/all_tasks/wholebrain.nii.gz (zscore=True)\n",
      "04/26/2018 15:22:07 Loading Nifti image /home/eli/Documents/new_pieman/all_tasks/sub-45-task-word.nii with mask /home/eli/Documents/new_pieman/all_tasks/wholebrain.nii.gz (zscore=True)\n",
      "04/26/2018 15:22:08 Loading Nifti image /home/eli/Documents/new_pieman/all_tasks/sub-93-task-rest2.nii with mask /home/eli/Documents/new_pieman/all_tasks/wholebrain.nii.gz (zscore=True)\n",
      "04/26/2018 15:22:10 Loading Nifti image /home/eli/Documents/new_pieman/all_tasks/sub-48-task-word.nii with mask /home/eli/Documents/new_pieman/all_tasks/wholebrain.nii.gz (zscore=True)\n",
      "04/26/2018 15:22:11 Loading Nifti image /home/eli/Documents/new_pieman/all_tasks/sub-11-task-word.nii with mask /home/eli/Documents/new_pieman/all_tasks/wholebrain.nii.gz (zscore=True)\n",
      "04/26/2018 15:22:13 Loading Nifti image /home/eli/Documents/new_pieman/all_tasks/sub-15-task-intact1.nii with mask /home/eli/Documents/new_pieman/all_tasks/wholebrain.nii.gz (zscore=True)\n",
      "04/26/2018 15:22:14 Loading Nifti image /home/eli/Documents/new_pieman/all_tasks/sub-21-task-intact2.nii with mask /home/eli/Documents/new_pieman/all_tasks/wholebrain.nii.gz (zscore=True)\n",
      "04/26/2018 15:22:16 Loading Nifti image /home/eli/Documents/new_pieman/all_tasks/sub-78-task-rest1.nii with mask /home/eli/Documents/new_pieman/all_tasks/wholebrain.nii.gz (zscore=True)\n",
      "04/26/2018 15:22:22 Loading Nifti image /home/eli/Documents/new_pieman/all_tasks/sub-43-task-word.nii with mask /home/eli/Documents/new_pieman/all_tasks/wholebrain.nii.gz (zscore=True)\n",
      "04/26/2018 15:22:26 Loading Nifti image /home/eli/Documents/new_pieman/all_tasks/sub-57-task-paragraph.nii with mask /home/eli/Documents/new_pieman/all_tasks/wholebrain.nii.gz (zscore=True)\n",
      "04/26/2018 15:22:31 Loading Nifti image /home/eli/Documents/new_pieman/all_tasks/sub-52-task-paragraph.nii with mask /home/eli/Documents/new_pieman/all_tasks/wholebrain.nii.gz (zscore=True)\n",
      "04/26/2018 15:22:36 Loading Nifti image /home/eli/Documents/new_pieman/all_tasks/sub-32-task-intact2.nii with mask /home/eli/Documents/new_pieman/all_tasks/wholebrain.nii.gz (zscore=True)\n",
      "04/26/2018 15:22:44 Loading Nifti image /home/eli/Documents/new_pieman/all_tasks/sub-67-task-paragraph.nii with mask /home/eli/Documents/new_pieman/all_tasks/wholebrain.nii.gz (zscore=True)\n",
      "04/26/2018 15:22:47 Loading Nifti image /home/eli/Documents/new_pieman/all_tasks/sub-30-task-word.nii with mask /home/eli/Documents/new_pieman/all_tasks/wholebrain.nii.gz (zscore=True)\n",
      "04/26/2018 15:22:51 Loading Nifti image /home/eli/Documents/new_pieman/all_tasks/sub-47-task-word.nii with mask /home/eli/Documents/new_pieman/all_tasks/wholebrain.nii.gz (zscore=True)\n",
      "04/26/2018 15:22:55 Loading Nifti image /home/eli/Documents/new_pieman/all_tasks/sub-63-task-paragraph.nii with mask /home/eli/Documents/new_pieman/all_tasks/wholebrain.nii.gz (zscore=True)\n",
      "04/26/2018 15:22:59 Loading Nifti image /home/eli/Documents/new_pieman/all_tasks/sub-62-task-paragraph.nii with mask /home/eli/Documents/new_pieman/all_tasks/wholebrain.nii.gz (zscore=True)\n",
      "04/26/2018 15:23:03 Loading Nifti image /home/eli/Documents/new_pieman/all_tasks/sub-23-task-intact2.nii with mask /home/eli/Documents/new_pieman/all_tasks/wholebrain.nii.gz (zscore=True)\n",
      "04/26/2018 15:23:06 Loading Nifti image /home/eli/Documents/new_pieman/all_tasks/sub-14-task-intact1.nii with mask /home/eli/Documents/new_pieman/all_tasks/wholebrain.nii.gz (zscore=True)\n",
      "04/26/2018 15:23:10 Loading Nifti image /home/eli/Documents/new_pieman/all_tasks/sub-27-task-word.nii with mask /home/eli/Documents/new_pieman/all_tasks/wholebrain.nii.gz (zscore=True)\n",
      "04/26/2018 15:23:14 Loading Nifti image /home/eli/Documents/new_pieman/all_tasks/sub-29-task-intact2.nii with mask /home/eli/Documents/new_pieman/all_tasks/wholebrain.nii.gz (zscore=True)\n",
      "04/26/2018 15:23:17 Loading Nifti image /home/eli/Documents/new_pieman/all_tasks/sub-98-task-rest2.nii with mask /home/eli/Documents/new_pieman/all_tasks/wholebrain.nii.gz (zscore=True)\n",
      "04/26/2018 15:23:22 Loading Nifti image /home/eli/Documents/new_pieman/all_tasks/sub-35-task-word.nii with mask /home/eli/Documents/new_pieman/all_tasks/wholebrain.nii.gz (zscore=True)\n",
      "04/26/2018 15:23:26 Loading Nifti image /home/eli/Documents/new_pieman/all_tasks/sub-17-task-intact1.nii with mask /home/eli/Documents/new_pieman/all_tasks/wholebrain.nii.gz (zscore=True)\n",
      "04/26/2018 15:23:30 Loading Nifti image /home/eli/Documents/new_pieman/all_tasks/sub-3-task-word.nii with mask /home/eli/Documents/new_pieman/all_tasks/wholebrain.nii.gz (zscore=True)\n",
      "04/26/2018 15:23:35 Loading Nifti image /home/eli/Documents/new_pieman/all_tasks/sub-10-task-word.nii with mask /home/eli/Documents/new_pieman/all_tasks/wholebrain.nii.gz (zscore=True)\n",
      "04/26/2018 15:23:44 Loading Nifti image /home/eli/Documents/new_pieman/all_tasks/sub-65-task-paragraph.nii with mask /home/eli/Documents/new_pieman/all_tasks/wholebrain.nii.gz (zscore=True)\n",
      "04/26/2018 15:23:48 Loading Nifti image /home/eli/Documents/new_pieman/all_tasks/sub-16-task-word.nii with mask /home/eli/Documents/new_pieman/all_tasks/wholebrain.nii.gz (zscore=True)\n",
      "04/26/2018 15:23:51 Loading Nifti image /home/eli/Documents/new_pieman/all_tasks/sub-89-task-rest2.nii with mask /home/eli/Documents/new_pieman/all_tasks/wholebrain.nii.gz (zscore=True)\n",
      "04/26/2018 15:23:56 Loading Nifti image /home/eli/Documents/new_pieman/all_tasks/sub-26-task-intact2.nii with mask /home/eli/Documents/new_pieman/all_tasks/wholebrain.nii.gz (zscore=True)\n",
      "04/26/2018 15:24:00 Loading Nifti image /home/eli/Documents/new_pieman/all_tasks/sub-23-task-word.nii with mask /home/eli/Documents/new_pieman/all_tasks/wholebrain.nii.gz (zscore=True)\n",
      "04/26/2018 15:24:04 Loading Nifti image /home/eli/Documents/new_pieman/all_tasks/sub-91-task-rest2.nii with mask /home/eli/Documents/new_pieman/all_tasks/wholebrain.nii.gz (zscore=True)\n",
      "04/26/2018 15:24:09 Loading Nifti image /home/eli/Documents/new_pieman/all_tasks/sub-37-task-word.nii with mask /home/eli/Documents/new_pieman/all_tasks/wholebrain.nii.gz (zscore=True)\n",
      "04/26/2018 15:24:13 Loading Nifti image /home/eli/Documents/new_pieman/all_tasks/sub-42-task-word.nii with mask /home/eli/Documents/new_pieman/all_tasks/wholebrain.nii.gz (zscore=True)\n",
      "04/26/2018 15:24:17 Loading Nifti image /home/eli/Documents/new_pieman/all_tasks/sub-68-task-paragraph.nii with mask /home/eli/Documents/new_pieman/all_tasks/wholebrain.nii.gz (zscore=True)\n",
      "04/26/2018 15:24:21 Loading Nifti image /home/eli/Documents/new_pieman/all_tasks/sub-12-task-word.nii with mask /home/eli/Documents/new_pieman/all_tasks/wholebrain.nii.gz (zscore=True)\n",
      "04/26/2018 15:24:25 Loading Nifti image /home/eli/Documents/new_pieman/all_tasks/sub-90-task-rest2.nii with mask /home/eli/Documents/new_pieman/all_tasks/wholebrain.nii.gz (zscore=True)\n",
      "04/26/2018 15:24:30 Loading Nifti image /home/eli/Documents/new_pieman/all_tasks/sub-101-task-rest2.nii with mask /home/eli/Documents/new_pieman/all_tasks/wholebrain.nii.gz (zscore=True)\n",
      "04/26/2018 15:24:35 Loading Nifti image /home/eli/Documents/new_pieman/all_tasks/sub-2-task-intact1.nii with mask /home/eli/Documents/new_pieman/all_tasks/wholebrain.nii.gz (zscore=True)\n",
      "04/26/2018 15:24:39 Loading Nifti image /home/eli/Documents/new_pieman/all_tasks/sub-86-task-rest1.nii with mask /home/eli/Documents/new_pieman/all_tasks/wholebrain.nii.gz (zscore=True)\n",
      "04/26/2018 15:24:45 Loading Nifti image /home/eli/Documents/new_pieman/all_tasks/sub-79-task-rest1.nii with mask /home/eli/Documents/new_pieman/all_tasks/wholebrain.nii.gz (zscore=True)\n",
      "04/26/2018 15:24:50 Loading Nifti image /home/eli/Documents/new_pieman/all_tasks/sub-1-task-intact1.nii with mask /home/eli/Documents/new_pieman/all_tasks/wholebrain.nii.gz (zscore=True)\n",
      "04/26/2018 15:24:55 Loading Nifti image /home/eli/Documents/new_pieman/all_tasks/sub-36-task-intact2.nii with mask /home/eli/Documents/new_pieman/all_tasks/wholebrain.nii.gz (zscore=True)\n",
      "04/26/2018 15:24:58 Loading Nifti image /home/eli/Documents/new_pieman/all_tasks/sub-88-task-rest2.nii with mask /home/eli/Documents/new_pieman/all_tasks/wholebrain.nii.gz (zscore=True)\n",
      "04/26/2018 15:25:03 Loading Nifti image /home/eli/Documents/new_pieman/all_tasks/sub-102-task-rest2.nii with mask /home/eli/Documents/new_pieman/all_tasks/wholebrain.nii.gz (zscore=True)\n",
      "04/26/2018 15:25:09 Loading Nifti image /home/eli/Documents/new_pieman/all_tasks/sub-97-task-rest2.nii with mask /home/eli/Documents/new_pieman/all_tasks/wholebrain.nii.gz (zscore=True)\n",
      "04/26/2018 15:25:14 Loading Nifti image /home/eli/Documents/new_pieman/all_tasks/sub-34-task-word.nii with mask /home/eli/Documents/new_pieman/all_tasks/wholebrain.nii.gz (zscore=True)\n",
      "04/26/2018 15:25:18 Loading Nifti image /home/eli/Documents/new_pieman/all_tasks/sub-96-task-rest2.nii with mask /home/eli/Documents/new_pieman/all_tasks/wholebrain.nii.gz (zscore=True)\n",
      "04/26/2018 15:25:23 Loading Nifti image /home/eli/Documents/new_pieman/all_tasks/sub-41-task-word.nii with mask /home/eli/Documents/new_pieman/all_tasks/wholebrain.nii.gz (zscore=True)\n",
      "04/26/2018 15:25:27 Loading Nifti image /home/eli/Documents/new_pieman/all_tasks/sub-3-task-intact1.nii with mask /home/eli/Documents/new_pieman/all_tasks/wholebrain.nii.gz (zscore=True)\n",
      "04/26/2018 15:25:31 Loading Nifti image /home/eli/Documents/new_pieman/all_tasks/sub-95-task-rest2.nii with mask /home/eli/Documents/new_pieman/all_tasks/wholebrain.nii.gz (zscore=True)\n",
      "04/26/2018 15:25:36 Loading Nifti image /home/eli/Documents/new_pieman/all_tasks/sub-94-task-rest2.nii with mask /home/eli/Documents/new_pieman/all_tasks/wholebrain.nii.gz (zscore=True)\n",
      "04/26/2018 15:25:41 Loading Nifti image /home/eli/Documents/new_pieman/all_tasks/sub-103-task-rest2.nii with mask /home/eli/Documents/new_pieman/all_tasks/wholebrain.nii.gz (zscore=True)\n",
      "04/26/2018 15:25:48 Loading Nifti image /home/eli/Documents/new_pieman/all_tasks/sub-61-task-paragraph.nii with mask /home/eli/Documents/new_pieman/all_tasks/wholebrain.nii.gz (zscore=True)\n",
      "04/26/2018 15:25:52 Loading Nifti image /home/eli/Documents/new_pieman/all_tasks/sub-76-task-rest1.nii with mask /home/eli/Documents/new_pieman/all_tasks/wholebrain.nii.gz (zscore=True)\n",
      "04/26/2018 15:25:57 Loading Nifti image /home/eli/Documents/new_pieman/all_tasks/sub-66-task-paragraph.nii with mask /home/eli/Documents/new_pieman/all_tasks/wholebrain.nii.gz (zscore=True)\n",
      "04/26/2018 15:26:01 Loading Nifti image /home/eli/Documents/new_pieman/all_tasks/sub-75-task-rest1.nii with mask /home/eli/Documents/new_pieman/all_tasks/wholebrain.nii.gz (zscore=True)\n",
      "04/26/2018 15:26:06 Loading Nifti image /home/eli/Documents/new_pieman/all_tasks/sub-46-task-word.nii with mask /home/eli/Documents/new_pieman/all_tasks/wholebrain.nii.gz (zscore=True)\n",
      "04/26/2018 15:26:10 Loading Nifti image /home/eli/Documents/new_pieman/all_tasks/sub-16-task-intact1.nii with mask /home/eli/Documents/new_pieman/all_tasks/wholebrain.nii.gz (zscore=True)\n",
      "04/26/2018 15:26:13 Loading Nifti image /home/eli/Documents/new_pieman/all_tasks/sub-55-task-paragraph.nii with mask /home/eli/Documents/new_pieman/all_tasks/wholebrain.nii.gz (zscore=True)\n",
      "04/26/2018 15:26:17 Loading Nifti image /home/eli/Documents/new_pieman/all_tasks/sub-104-task-rest2.nii with mask /home/eli/Documents/new_pieman/all_tasks/wholebrain.nii.gz (zscore=True)\n",
      "04/26/2018 15:26:22 Loading Nifti image /home/eli/Documents/new_pieman/all_tasks/sub-40-task-word.nii with mask /home/eli/Documents/new_pieman/all_tasks/wholebrain.nii.gz (zscore=True)\n",
      "04/26/2018 15:26:26 Loading Nifti image /home/eli/Documents/new_pieman/all_tasks/sub-13-task-intact1.nii with mask /home/eli/Documents/new_pieman/all_tasks/wholebrain.nii.gz (zscore=True)\n",
      "04/26/2018 15:26:30 Loading Nifti image /home/eli/Documents/new_pieman/all_tasks/sub-27-task-intact2.nii with mask /home/eli/Documents/new_pieman/all_tasks/wholebrain.nii.gz (zscore=True)\n",
      "04/26/2018 15:26:34 Loading Nifti image /home/eli/Documents/new_pieman/all_tasks/sub-53-task-paragraph.nii with mask /home/eli/Documents/new_pieman/all_tasks/wholebrain.nii.gz (zscore=True)\n",
      "04/26/2018 15:26:39 Loading Nifti image /home/eli/Documents/new_pieman/all_tasks/sub-60-task-paragraph.nii with mask /home/eli/Documents/new_pieman/all_tasks/wholebrain.nii.gz (zscore=True)\n",
      "04/26/2018 15:26:43 Loading Nifti image /home/eli/Documents/new_pieman/all_tasks/sub-87-task-rest1.nii with mask /home/eli/Documents/new_pieman/all_tasks/wholebrain.nii.gz (zscore=True)\n",
      "04/26/2018 15:26:48 Loading Nifti image /home/eli/Documents/new_pieman/all_tasks/sub-31-task-word.nii with mask /home/eli/Documents/new_pieman/all_tasks/wholebrain.nii.gz (zscore=True)\n",
      "04/26/2018 15:26:52 Loading Nifti image /home/eli/Documents/new_pieman/all_tasks/sub-38-task-word.nii with mask /home/eli/Documents/new_pieman/all_tasks/wholebrain.nii.gz (zscore=True)\n",
      "04/26/2018 15:26:56 Loading Nifti image /home/eli/Documents/new_pieman/all_tasks/sub-32-task-word.nii with mask /home/eli/Documents/new_pieman/all_tasks/wholebrain.nii.gz (zscore=True)\n",
      "04/26/2018 15:27:00 Loading Nifti image /home/eli/Documents/new_pieman/all_tasks/sub-4-task-intact1.nii with mask /home/eli/Documents/new_pieman/all_tasks/wholebrain.nii.gz (zscore=True)\n",
      "04/26/2018 15:27:04 Loading Nifti image /home/eli/Documents/new_pieman/all_tasks/sub-85-task-rest1.nii with mask /home/eli/Documents/new_pieman/all_tasks/wholebrain.nii.gz (zscore=True)\n",
      "04/26/2018 15:27:09 Loading Nifti image /home/eli/Documents/new_pieman/all_tasks/sub-4-task-word.nii with mask /home/eli/Documents/new_pieman/all_tasks/wholebrain.nii.gz (zscore=True)\n",
      "04/26/2018 15:27:13 Loading Nifti image /home/eli/Documents/new_pieman/all_tasks/sub-25-task-word.nii with mask /home/eli/Documents/new_pieman/all_tasks/wholebrain.nii.gz (zscore=True)\n",
      "04/26/2018 15:27:17 Loading Nifti image /home/eli/Documents/new_pieman/all_tasks/sub-58-task-paragraph.nii with mask /home/eli/Documents/new_pieman/all_tasks/wholebrain.nii.gz (zscore=True)\n",
      "04/26/2018 15:27:25 Loading Nifti image /home/eli/Documents/new_pieman/all_tasks/sub-64-task-paragraph.nii with mask /home/eli/Documents/new_pieman/all_tasks/wholebrain.nii.gz (zscore=True)\n",
      "04/26/2018 15:27:29 Loading Nifti image /home/eli/Documents/new_pieman/all_tasks/sub-49-task-word.nii with mask /home/eli/Documents/new_pieman/all_tasks/wholebrain.nii.gz (zscore=True)\n",
      "04/26/2018 15:27:33 Loading Nifti image /home/eli/Documents/new_pieman/all_tasks/sub-73-task-rest1.nii with mask /home/eli/Documents/new_pieman/all_tasks/wholebrain.nii.gz (zscore=True)\n",
      "04/26/2018 15:27:38 Loading Nifti image /home/eli/Documents/new_pieman/all_tasks/sub-92-task-rest2.nii with mask /home/eli/Documents/new_pieman/all_tasks/wholebrain.nii.gz (zscore=True)\n",
      "04/26/2018 15:27:43 Loading Nifti image /home/eli/Documents/new_pieman/all_tasks/sub-25-task-intact2.nii with mask /home/eli/Documents/new_pieman/all_tasks/wholebrain.nii.gz (zscore=True)\n",
      "04/26/2018 15:27:48 Loading Nifti image /home/eli/Documents/new_pieman/all_tasks/sub-51-task-word.nii with mask /home/eli/Documents/new_pieman/all_tasks/wholebrain.nii.gz (zscore=True)\n",
      "04/26/2018 15:27:55 Loading Nifti image /home/eli/Documents/new_pieman/all_tasks/sub-69-task-paragraph.nii with mask /home/eli/Documents/new_pieman/all_tasks/wholebrain.nii.gz (zscore=True)\n",
      "04/26/2018 15:27:59 Loading Nifti image /home/eli/Documents/new_pieman/all_tasks/sub-81-task-rest1.nii with mask /home/eli/Documents/new_pieman/all_tasks/wholebrain.nii.gz (zscore=True)\n",
      "04/26/2018 15:28:04 Loading Nifti image /home/eli/Documents/new_pieman/all_tasks/sub-44-task-word.nii with mask /home/eli/Documents/new_pieman/all_tasks/wholebrain.nii.gz (zscore=True)\n",
      "04/26/2018 15:28:07 Loading Nifti image /home/eli/Documents/new_pieman/all_tasks/sub-56-task-paragraph.nii with mask /home/eli/Documents/new_pieman/all_tasks/wholebrain.nii.gz (zscore=True)\n",
      "04/26/2018 15:28:11 Loading Nifti image /home/eli/Documents/new_pieman/all_tasks/sub-26-task-word.nii with mask /home/eli/Documents/new_pieman/all_tasks/wholebrain.nii.gz (zscore=True)\n",
      "04/26/2018 15:28:15 Loading Nifti image /home/eli/Documents/new_pieman/all_tasks/sub-18-task-intact1.nii with mask /home/eli/Documents/new_pieman/all_tasks/wholebrain.nii.gz (zscore=True)\n",
      "04/26/2018 15:28:18 Loading Nifti image /home/eli/Documents/new_pieman/all_tasks/sub-71-task-rest1.nii with mask /home/eli/Documents/new_pieman/all_tasks/wholebrain.nii.gz (zscore=True)\n",
      "04/26/2018 15:28:23 Loading Nifti image /home/eli/Documents/new_pieman/all_tasks/sub-22-task-intact2.nii with mask /home/eli/Documents/new_pieman/all_tasks/wholebrain.nii.gz (zscore=True)\n",
      "04/26/2018 15:28:27 Loading Nifti image /home/eli/Documents/new_pieman/all_tasks/sub-24-task-word.nii with mask /home/eli/Documents/new_pieman/all_tasks/wholebrain.nii.gz (zscore=True)\n",
      "04/26/2018 15:28:31 Loading Nifti image /home/eli/Documents/new_pieman/all_tasks/sub-28-task-intact2.nii with mask /home/eli/Documents/new_pieman/all_tasks/wholebrain.nii.gz (zscore=True)\n",
      "04/26/2018 15:28:35 Loading Nifti image /home/eli/Documents/new_pieman/all_tasks/sub-82-task-rest1.nii with mask /home/eli/Documents/new_pieman/all_tasks/wholebrain.nii.gz (zscore=True)\n",
      "04/26/2018 15:28:40 Loading Nifti image /home/eli/Documents/new_pieman/all_tasks/sub-54-task-paragraph.nii with mask /home/eli/Documents/new_pieman/all_tasks/wholebrain.nii.gz (zscore=True)\n",
      "04/26/2018 15:28:43 Loading Nifti image /home/eli/Documents/new_pieman/all_tasks/sub-8-task-intact1.nii with mask /home/eli/Documents/new_pieman/all_tasks/wholebrain.nii.gz (zscore=True)\n",
      "04/26/2018 15:28:47 Loading Nifti image /home/eli/Documents/new_pieman/all_tasks/sub-20-task-word.nii with mask /home/eli/Documents/new_pieman/all_tasks/wholebrain.nii.gz (zscore=True)\n",
      "04/26/2018 15:28:51 Loading Nifti image /home/eli/Documents/new_pieman/all_tasks/sub-14-task-word.nii with mask /home/eli/Documents/new_pieman/all_tasks/wholebrain.nii.gz (zscore=True)\n",
      "04/26/2018 15:28:55 Loading Nifti image /home/eli/Documents/new_pieman/all_tasks/sub-83-task-rest1.nii with mask /home/eli/Documents/new_pieman/all_tasks/wholebrain.nii.gz (zscore=True)\n",
      "04/26/2018 15:29:00 Loading Nifti image /home/eli/Documents/new_pieman/all_tasks/sub-12-task-intact1.nii with mask /home/eli/Documents/new_pieman/all_tasks/wholebrain.nii.gz (zscore=True)\n",
      "04/26/2018 15:29:04 Loading Nifti image /home/eli/Documents/new_pieman/all_tasks/sub-20-task-intact2.nii with mask /home/eli/Documents/new_pieman/all_tasks/wholebrain.nii.gz (zscore=True)\n",
      "04/26/2018 15:29:07 Loading Nifti image /home/eli/Documents/new_pieman/all_tasks/sub-7-task-intact1.nii with mask /home/eli/Documents/new_pieman/all_tasks/wholebrain.nii.gz (zscore=True)\n",
      "04/26/2018 15:29:11 Loading Nifti image /home/eli/Documents/new_pieman/all_tasks/sub-9-task-intact1.nii with mask /home/eli/Documents/new_pieman/all_tasks/wholebrain.nii.gz (zscore=True)\n",
      "04/26/2018 15:29:15 Loading Nifti image /home/eli/Documents/new_pieman/all_tasks/sub-24-task-intact2.nii with mask /home/eli/Documents/new_pieman/all_tasks/wholebrain.nii.gz (zscore=True)\n",
      "04/26/2018 15:29:18 Loading Nifti image /home/eli/Documents/new_pieman/all_tasks/sub-33-task-intact2.nii with mask /home/eli/Documents/new_pieman/all_tasks/wholebrain.nii.gz (zscore=True)\n",
      "04/26/2018 15:29:22 Loading Nifti image /home/eli/Documents/new_pieman/all_tasks/sub-31-task-intact2.nii with mask /home/eli/Documents/new_pieman/all_tasks/wholebrain.nii.gz (zscore=True)\n",
      "04/26/2018 15:29:26 Loading Nifti image /home/eli/Documents/new_pieman/all_tasks/sub-100-task-rest2.nii with mask /home/eli/Documents/new_pieman/all_tasks/wholebrain.nii.gz (zscore=True)\n",
      "04/26/2018 15:29:31 Loading Nifti image /home/eli/Documents/new_pieman/all_tasks/sub-1-task-word.nii with mask /home/eli/Documents/new_pieman/all_tasks/wholebrain.nii.gz (zscore=True)\n",
      "04/26/2018 15:29:34 Loading Nifti image /home/eli/Documents/new_pieman/all_tasks/sub-28-task-word.nii with mask /home/eli/Documents/new_pieman/all_tasks/wholebrain.nii.gz (zscore=True)\n",
      "04/26/2018 15:29:38 Loading Nifti image /home/eli/Documents/new_pieman/all_tasks/sub-77-task-rest1.nii with mask /home/eli/Documents/new_pieman/all_tasks/wholebrain.nii.gz (zscore=True)\n",
      "04/26/2018 15:29:43 Loading Nifti image /home/eli/Documents/new_pieman/all_tasks/sub-11-task-intact1.nii with mask /home/eli/Documents/new_pieman/all_tasks/wholebrain.nii.gz (zscore=True)\n",
      "04/26/2018 15:29:46 Loading Nifti image /home/eli/Documents/new_pieman/all_tasks/sub-84-task-rest1.nii with mask /home/eli/Documents/new_pieman/all_tasks/wholebrain.nii.gz (zscore=True)\n",
      "04/26/2018 15:29:54 Loading Nifti image /home/eli/Documents/new_pieman/all_tasks/sub-105-task-rest2.nii with mask /home/eli/Documents/new_pieman/all_tasks/wholebrain.nii.gz (zscore=True)\n",
      "04/26/2018 15:29:59 Loading Nifti image /home/eli/Documents/new_pieman/all_tasks/sub-6-task-intact1.nii with mask /home/eli/Documents/new_pieman/all_tasks/wholebrain.nii.gz (zscore=True)\n",
      "04/26/2018 15:30:03 Loading Nifti image /home/eli/Documents/new_pieman/all_tasks/sub-99-task-rest2.nii with mask /home/eli/Documents/new_pieman/all_tasks/wholebrain.nii.gz (zscore=True)\n",
      "04/26/2018 15:30:08 Loading Nifti image /home/eli/Documents/new_pieman/all_tasks/sub-34-task-intact2.nii with mask /home/eli/Documents/new_pieman/all_tasks/wholebrain.nii.gz (zscore=True)\n",
      "04/26/2018 15:30:12 Loading Nifti image /home/eli/Documents/new_pieman/all_tasks/sub-50-task-word.nii with mask /home/eli/Documents/new_pieman/all_tasks/wholebrain.nii.gz (zscore=True)\n",
      "04/26/2018 15:30:16 Loading Nifti image /home/eli/Documents/new_pieman/all_tasks/sub-5-task-intact1.nii with mask /home/eli/Documents/new_pieman/all_tasks/wholebrain.nii.gz (zscore=True)\n",
      "04/26/2018 15:30:20 Loading Nifti image /home/eli/Documents/new_pieman/all_tasks/sub-80-task-rest1.nii with mask /home/eli/Documents/new_pieman/all_tasks/wholebrain.nii.gz (zscore=True)\n",
      "04/26/2018 15:30:26 Loading Nifti image /home/eli/Documents/new_pieman/all_tasks/sub-59-task-paragraph.nii with mask /home/eli/Documents/new_pieman/all_tasks/wholebrain.nii.gz (zscore=True)\n",
      "04/26/2018 15:30:32 Loading Nifti image /home/eli/Documents/new_pieman/all_tasks/sub-13-task-word.nii with mask /home/eli/Documents/new_pieman/all_tasks/wholebrain.nii.gz (zscore=True)\n",
      "04/26/2018 15:30:50 Loading Nifti image /home/eli/Documents/new_pieman/all_tasks/sub-35-task-intact2.nii with mask /home/eli/Documents/new_pieman/all_tasks/wholebrain.nii.gz (zscore=True)\n",
      "04/26/2018 15:31:12 Loading Nifti image /home/eli/Documents/new_pieman/all_tasks/sub-10-task-intact1.nii with mask /home/eli/Documents/new_pieman/all_tasks/wholebrain.nii.gz (zscore=True)\n",
      "04/26/2018 15:31:39 Loading Nifti image /home/eli/Documents/new_pieman/all_tasks/sub-30-task-intact2.nii with mask /home/eli/Documents/new_pieman/all_tasks/wholebrain.nii.gz (zscore=True)\n",
      "04/26/2018 15:31:57 Loading Nifti image /home/eli/Documents/new_pieman/all_tasks/sub-74-task-rest1.nii with mask /home/eli/Documents/new_pieman/all_tasks/wholebrain.nii.gz (zscore=True)\n",
      "04/26/2018 15:33:32 Loading Nifti image /home/eli/Documents/new_pieman/all_tasks/sub-24-task-word.nii with mask /home/eli/Documents/new_pieman/all_tasks/wholebrain.nii.gz (zscore=True)\n",
      "04/26/2018 15:34:03 Loading Nifti image /home/eli/Documents/new_pieman/all_tasks/sub-26-task-word.nii with mask /home/eli/Documents/new_pieman/all_tasks/wholebrain.nii.gz (zscore=True)\n",
      "04/26/2018 15:34:33 Loading Nifti image /home/eli/Documents/new_pieman/all_tasks/sub-19-task-intact2.nii with mask /home/eli/Documents/new_pieman/all_tasks/wholebrain.nii.gz (zscore=True)\n",
      "04/26/2018 15:34:53 Loading Nifti image /home/eli/Documents/new_pieman/all_tasks/sub-70-task-rest1.nii with mask /home/eli/Documents/new_pieman/all_tasks/wholebrain.nii.gz (zscore=True)\n",
      "04/26/2018 15:35:08 Loading Nifti image /home/eli/Documents/new_pieman/all_tasks/sub-72-task-rest1.nii with mask /home/eli/Documents/new_pieman/all_tasks/wholebrain.nii.gz (zscore=True)\n",
      "04/26/2018 15:35:13 Loading Nifti image /home/eli/Documents/new_pieman/all_tasks/sub-39-task-word.nii with mask /home/eli/Documents/new_pieman/all_tasks/wholebrain.nii.gz (zscore=True)\n",
      "04/26/2018 15:35:17 Loading Nifti image /home/eli/Documents/new_pieman/all_tasks/sub-45-task-word.nii with mask /home/eli/Documents/new_pieman/all_tasks/wholebrain.nii.gz (zscore=True)\n",
      "04/26/2018 15:35:21 Loading Nifti image /home/eli/Documents/new_pieman/all_tasks/sub-93-task-rest2.nii with mask /home/eli/Documents/new_pieman/all_tasks/wholebrain.nii.gz (zscore=True)\n",
      "04/26/2018 15:35:26 Loading Nifti image /home/eli/Documents/new_pieman/all_tasks/sub-48-task-word.nii with mask /home/eli/Documents/new_pieman/all_tasks/wholebrain.nii.gz (zscore=True)\n",
      "04/26/2018 15:35:30 Loading Nifti image /home/eli/Documents/new_pieman/all_tasks/sub-11-task-word.nii with mask /home/eli/Documents/new_pieman/all_tasks/wholebrain.nii.gz (zscore=True)\n",
      "04/26/2018 15:35:34 Loading Nifti image /home/eli/Documents/new_pieman/all_tasks/sub-15-task-intact1.nii with mask /home/eli/Documents/new_pieman/all_tasks/wholebrain.nii.gz (zscore=True)\n",
      "04/26/2018 15:35:39 Loading Nifti image /home/eli/Documents/new_pieman/all_tasks/sub-21-task-intact2.nii with mask /home/eli/Documents/new_pieman/all_tasks/wholebrain.nii.gz (zscore=True)\n",
      "04/26/2018 15:35:43 Loading Nifti image /home/eli/Documents/new_pieman/all_tasks/sub-78-task-rest1.nii with mask /home/eli/Documents/new_pieman/all_tasks/wholebrain.nii.gz (zscore=True)\n",
      "04/26/2018 15:35:47 Loading Nifti image /home/eli/Documents/new_pieman/all_tasks/sub-43-task-word.nii with mask /home/eli/Documents/new_pieman/all_tasks/wholebrain.nii.gz (zscore=True)\n",
      "04/26/2018 15:35:51 Loading Nifti image /home/eli/Documents/new_pieman/all_tasks/sub-57-task-paragraph.nii with mask /home/eli/Documents/new_pieman/all_tasks/wholebrain.nii.gz (zscore=True)\n",
      "04/26/2018 15:35:55 Loading Nifti image /home/eli/Documents/new_pieman/all_tasks/sub-52-task-paragraph.nii with mask /home/eli/Documents/new_pieman/all_tasks/wholebrain.nii.gz (zscore=True)\n",
      "04/26/2018 15:35:59 Loading Nifti image /home/eli/Documents/new_pieman/all_tasks/sub-32-task-intact2.nii with mask /home/eli/Documents/new_pieman/all_tasks/wholebrain.nii.gz (zscore=True)\n",
      "04/26/2018 15:36:03 Loading Nifti image /home/eli/Documents/new_pieman/all_tasks/sub-67-task-paragraph.nii with mask /home/eli/Documents/new_pieman/all_tasks/wholebrain.nii.gz (zscore=True)\n",
      "04/26/2018 15:36:07 Loading Nifti image /home/eli/Documents/new_pieman/all_tasks/sub-30-task-word.nii with mask /home/eli/Documents/new_pieman/all_tasks/wholebrain.nii.gz (zscore=True)\n",
      "04/26/2018 15:36:11 Loading Nifti image /home/eli/Documents/new_pieman/all_tasks/sub-47-task-word.nii with mask /home/eli/Documents/new_pieman/all_tasks/wholebrain.nii.gz (zscore=True)\n",
      "04/26/2018 15:36:15 Loading Nifti image /home/eli/Documents/new_pieman/all_tasks/sub-63-task-paragraph.nii with mask /home/eli/Documents/new_pieman/all_tasks/wholebrain.nii.gz (zscore=True)\n",
      "04/26/2018 15:36:19 Loading Nifti image /home/eli/Documents/new_pieman/all_tasks/sub-62-task-paragraph.nii with mask /home/eli/Documents/new_pieman/all_tasks/wholebrain.nii.gz (zscore=True)\n",
      "04/26/2018 15:36:32 Loading Nifti image /home/eli/Documents/new_pieman/all_tasks/sub-23-task-intact2.nii with mask /home/eli/Documents/new_pieman/all_tasks/wholebrain.nii.gz (zscore=True)\n",
      "04/26/2018 15:37:02 Loading Nifti image /home/eli/Documents/new_pieman/all_tasks/sub-14-task-intact1.nii with mask /home/eli/Documents/new_pieman/all_tasks/wholebrain.nii.gz (zscore=True)\n",
      "04/26/2018 15:37:58 Loading Nifti image /home/eli/Documents/new_pieman/all_tasks/sub-27-task-word.nii with mask /home/eli/Documents/new_pieman/all_tasks/wholebrain.nii.gz (zscore=True)\n",
      "04/26/2018 15:38:05 Loading Nifti image /home/eli/Documents/new_pieman/all_tasks/sub-29-task-intact2.nii with mask /home/eli/Documents/new_pieman/all_tasks/wholebrain.nii.gz (zscore=True)\n",
      "04/26/2018 15:38:11 Loading Nifti image /home/eli/Documents/new_pieman/all_tasks/sub-98-task-rest2.nii with mask /home/eli/Documents/new_pieman/all_tasks/wholebrain.nii.gz (zscore=True)\n"
     ]
    }
   ],
   "source": [
    "htfa = HTFA.HierarchicalTopographicFactorAnalysis(list(new_pieman_word.all()), num_factors=15,\n",
    "                                                  mask='/home/eli/Documents/new_pieman/all_tasks/wholebrain.nii.gz')"
   ]
  },
  {
   "cell_type": "code",
   "execution_count": null,
   "metadata": {
    "scrolled": true
   },
   "outputs": [],
   "source": [
    "htfa.plot_factor_centers()"
   ]
  },
  {
   "cell_type": "code",
   "execution_count": null,
   "metadata": {},
   "outputs": [],
   "source": [
    "for b in range(htfa.num_blocks):\n",
    "    htfa.plot_factor_centers(block=b)"
   ]
  },
  {
   "cell_type": "code",
   "execution_count": null,
   "metadata": {},
   "outputs": [],
   "source": [
    "losses = htfa.train(num_steps=500, learning_rate=1e-1, log_level=logging.INFO, num_particles=2,\n",
    "                    batch_size=128, use_cuda=True, blocks_batch_size=4)"
   ]
  },
  {
   "cell_type": "code",
   "execution_count": null,
   "metadata": {},
   "outputs": [],
   "source": [
    "utils.plot_losses(losses)"
   ]
  },
  {
   "cell_type": "code",
   "execution_count": null,
   "metadata": {},
   "outputs": [],
   "source": [
    "htfa.plot_voxels()"
   ]
  },
  {
   "cell_type": "code",
   "execution_count": null,
   "metadata": {},
   "outputs": [],
   "source": [
    "htfa.plot_factor_centers()"
   ]
  },
  {
   "cell_type": "code",
   "execution_count": null,
   "metadata": {},
   "outputs": [],
   "source": [
    "for b in range(htfa.num_blocks):\n",
    "    htfa.plot_factor_centers(block=b)"
   ]
  },
  {
   "cell_type": "code",
   "execution_count": null,
   "metadata": {},
   "outputs": [],
   "source": []
  },
  {
   "cell_type": "raw",
   "metadata": {},
   "source": []
  },
  {
   "cell_type": "raw",
   "metadata": {},
   "source": [
    "for b in range(dtfa.num_blocks):\n",
    "    dtfa.plot_factor_centers(b)"
   ]
  },
  {
   "cell_type": "code",
   "execution_count": null,
   "metadata": {},
   "outputs": [],
   "source": []
  }
 ],
 "metadata": {
  "kernelspec": {
   "display_name": "Python [conda env:HTFATorch]",
   "language": "python",
   "name": "conda-env-HTFATorch-py"
  },
  "language_info": {
   "codemirror_mode": {
    "name": "ipython",
    "version": 3
   },
   "file_extension": ".py",
   "mimetype": "text/x-python",
   "name": "python",
   "nbconvert_exporter": "python",
   "pygments_lexer": "ipython3",
   "version": "3.6.4"
  }
 },
 "nbformat": 4,
 "nbformat_minor": 2
}
