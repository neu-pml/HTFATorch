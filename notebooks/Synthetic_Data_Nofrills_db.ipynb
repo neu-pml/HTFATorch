{
 "cells": [
  {
   "cell_type": "code",
   "execution_count": null,
   "metadata": {},
   "outputs": [],
   "source": [
    "%cd ../\n",
    "%matplotlib inline"
   ]
  },
  {
   "cell_type": "code",
   "execution_count": null,
   "metadata": {},
   "outputs": [],
   "source": [
    "import htfa_torch.niidb as niidb\n",
    "import htfa_torch.utils as utils\n",
    "\n",
    "import csv\n",
    "import glob\n",
    "import logging\n",
    "import os\n",
    "import re\n",
    "logging.basicConfig(format='%(asctime)s %(message)s', datefmt='%m/%d/%Y %H:%M:%S',\n",
    "                    level=logging.INFO)"
   ]
  },
  {
   "cell_type": "code",
   "execution_count": null,
   "metadata": {},
   "outputs": [],
   "source": [
    "db_file = 'data/synthetic_data_nofrills_wholebrain.db'\n",
    "mask_file = '/data/zulqarnain/wholebrain.nii.gz'\n",
    "\n",
    "HIGH_CONDITION_LAST = 10\n",
    "OVERWRITE = True\n",
    "\n",
    "existed = os.path.isfile(db_file)\n",
    "db = niidb.FMriActivationsDb(db_file, mask=mask_file)\n"
   ]
  },
  {
   "cell_type": "code",
   "execution_count": null,
   "metadata": {},
   "outputs": [],
   "source": [
    "if not existed or OVERWRITE:\n",
    "    data_files = utils.sorted_glob('/data/zulqarnain/synthetic_data_nofrills_blocked/nifti_files/*.nii')\n",
    "    regex = re.compile(\"subject_([0-9]{1,2})_task_([1-3])_stimulus_([0-9]{1,2}).nii\")\n",
    "    for data_file in data_files:\n",
    "        m = regex.search(data_file)\n",
    "        #         pdb.set_trace()\n",
    "        [subject, task, stimulus] = m.groups()\n",
    "        subject = int(subject)\n",
    "        if int(task)>=0:\n",
    "            if subject >= 1 and subject <= HIGH_CONDITION_LAST:\n",
    "                condition = 0\n",
    "            else:\n",
    "                condition = 1\n",
    "            task = int(task)\n",
    "            stimulus = int(stimulus)\n",
    "            logging.info(\"Recording blocks in %s\", data_file)\n",
    "\n",
    "            synthetic_block = niidb.FMriActivationBlock(zscore=False)\n",
    "            if task == 1:\n",
    "                synthetic_block.task = 'rest_' + str(stimulus)\n",
    "            elif task == 2:\n",
    "                synthetic_block.task = 'baseline_' + str(stimulus)\n",
    "            else:\n",
    "                synthetic_block.task = 'task_' + str(stimulus)\n",
    "            synthetic_block.filename = data_file\n",
    "            synthetic_block.subject = subject\n",
    "            synthetic_block.start_time = 0\n",
    "            synthetic_block.end_time = None\n",
    "            synthetic_block.individual_differences = {\n",
    "                'condition': condition,\n",
    "                'stimulus_group': task,\n",
    "            }\n",
    "            db.upsert(synthetic_block)\n",
    "            logging.info('Subject %d performing task %s', subject, synthetic_block.task)\n"
   ]
  },
  {
   "cell_type": "code",
   "execution_count": null,
   "metadata": {},
   "outputs": [],
   "source": [
    "logging.info('Finished building NiiDb out of synthetic dataset')"
   ]
  }
 ],
 "metadata": {
  "kernelspec": {
   "display_name": "Python 3",
   "language": "python",
   "name": "python3"
  },
  "language_info": {
   "codemirror_mode": {
    "name": "ipython",
    "version": 3
   },
   "file_extension": ".py",
   "mimetype": "text/x-python",
   "name": "python",
   "nbconvert_exporter": "python",
   "pygments_lexer": "ipython3",
   "version": "3.7.1"
  }
 },
 "nbformat": 4,
 "nbformat_minor": 2
}
