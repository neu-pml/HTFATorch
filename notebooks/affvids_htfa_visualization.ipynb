version https://git-lfs.github.com/spec/v1
oid sha256:5a4752dc59182034e75d9e5a08a91327bb2f434be328b781a04de9ce4ef3af06
size 3744444
