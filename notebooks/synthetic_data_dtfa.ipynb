version https://git-lfs.github.com/spec/v1
oid sha256:1e841a5f6879ace7aa4311cb86110ea5588658d8747580cb874c1414c8ff569c
size 2354446
