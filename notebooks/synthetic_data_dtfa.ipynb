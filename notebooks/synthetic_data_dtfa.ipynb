version https://git-lfs.github.com/spec/v1
oid sha256:b3299df0e6ab1c23575ae6c10a2e54490e6da07f4cef040d254634c5a8cd7334
size 2382378
