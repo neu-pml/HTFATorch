{
 "cells": [
  {
   "cell_type": "code",
   "execution_count": 1,
   "metadata": {},
   "outputs": [
    {
     "name": "stdout",
     "output_type": "stream",
     "text": [
      "/home/eli/AnacondaProjects/HTFATorch\n"
     ]
    }
   ],
   "source": [
    "%cd ../\n",
    "%matplotlib inline"
   ]
  },
  {
   "cell_type": "code",
   "execution_count": 2,
   "metadata": {},
   "outputs": [],
   "source": [
    "import htfa_torch.niidb as niidb\n",
    "import htfa_torch.utils as utils\n",
    "\n",
    "import csv\n",
    "import glob\n",
    "import logging\n",
    "import os\n",
    "import re"
   ]
  },
  {
   "cell_type": "code",
   "execution_count": 3,
   "metadata": {},
   "outputs": [],
   "source": [
    "logging.basicConfig(format='%(asctime)s %(message)s', datefmt='%m/%d/%Y %H:%M:%S',\n",
    "                    level=logging.INFO)\n",
    "\n",
    "db_file = 'data/synthetic_data.db'\n",
    "mask_file = 'data/synthetic_data/nifti_files/wholebrain.nii.gz'\n",
    "\n",
    "OVERWRITE = True"
   ]
  },
  {
   "cell_type": "code",
   "execution_count": 4,
   "metadata": {},
   "outputs": [
    {
     "name": "stderr",
     "output_type": "stream",
     "text": [
      "11/28/2018 12:16:30 Recording blocks in data/synthetic_data/nifti_files/subject_5_task_1.nii\n",
      "11/28/2018 12:16:30 Subject 5 performing task 1\n",
      "11/28/2018 12:16:30 Recording blocks in data/synthetic_data/nifti_files/subject_17_task_2.nii\n",
      "11/28/2018 12:16:30 Subject 17 performing task 2\n",
      "11/28/2018 12:16:30 Recording blocks in data/synthetic_data/nifti_files/subject_20_task_2.nii\n",
      "11/28/2018 12:16:30 Subject 20 performing task 2\n",
      "11/28/2018 12:16:30 Recording blocks in data/synthetic_data/nifti_files/subject_6_task_2.nii\n",
      "11/28/2018 12:16:30 Subject 6 performing task 2\n",
      "11/28/2018 12:16:30 Recording blocks in data/synthetic_data/nifti_files/subject_11_task_2.nii\n",
      "11/28/2018 12:16:30 Subject 11 performing task 2\n",
      "11/28/2018 12:16:30 Recording blocks in data/synthetic_data/nifti_files/subject_4_task_2.nii\n",
      "11/28/2018 12:16:30 Subject 4 performing task 2\n",
      "11/28/2018 12:16:30 Recording blocks in data/synthetic_data/nifti_files/subject_10_task_1.nii\n",
      "11/28/2018 12:16:30 Subject 10 performing task 1\n",
      "11/28/2018 12:16:30 Recording blocks in data/synthetic_data/nifti_files/subject_15_task_2.nii\n",
      "11/28/2018 12:16:30 Subject 15 performing task 2\n",
      "11/28/2018 12:16:30 Recording blocks in data/synthetic_data/nifti_files/subject_9_task_2.nii\n",
      "11/28/2018 12:16:30 Subject 9 performing task 2\n",
      "11/28/2018 12:16:30 Recording blocks in data/synthetic_data/nifti_files/subject_16_task_2.nii\n",
      "11/28/2018 12:16:30 Subject 16 performing task 2\n",
      "11/28/2018 12:16:30 Recording blocks in data/synthetic_data/nifti_files/subject_16_task_1.nii\n",
      "11/28/2018 12:16:31 Subject 16 performing task 1\n",
      "11/28/2018 12:16:31 Recording blocks in data/synthetic_data/nifti_files/subject_13_task_1.nii\n",
      "11/28/2018 12:16:31 Subject 13 performing task 1\n",
      "11/28/2018 12:16:31 Recording blocks in data/synthetic_data/nifti_files/subject_12_task_1.nii\n",
      "11/28/2018 12:16:31 Subject 12 performing task 1\n",
      "11/28/2018 12:16:31 Recording blocks in data/synthetic_data/nifti_files/subject_20_task_1.nii\n",
      "11/28/2018 12:16:31 Subject 20 performing task 1\n",
      "11/28/2018 12:16:31 Recording blocks in data/synthetic_data/nifti_files/subject_14_task_2.nii\n",
      "11/28/2018 12:16:31 Subject 14 performing task 2\n",
      "11/28/2018 12:16:31 Recording blocks in data/synthetic_data/nifti_files/subject_19_task_2.nii\n",
      "11/28/2018 12:16:31 Subject 19 performing task 2\n",
      "11/28/2018 12:16:31 Recording blocks in data/synthetic_data/nifti_files/subject_2_task_1.nii\n",
      "11/28/2018 12:16:31 Subject 2 performing task 1\n",
      "11/28/2018 12:16:31 Recording blocks in data/synthetic_data/nifti_files/subject_8_task_2.nii\n",
      "11/28/2018 12:16:31 Subject 8 performing task 2\n",
      "11/28/2018 12:16:31 Recording blocks in data/synthetic_data/nifti_files/subject_17_task_1.nii\n",
      "11/28/2018 12:16:31 Subject 17 performing task 1\n",
      "11/28/2018 12:16:31 Recording blocks in data/synthetic_data/nifti_files/subject_1_task_2.nii\n",
      "11/28/2018 12:16:31 Subject 1 performing task 2\n",
      "11/28/2018 12:16:31 Recording blocks in data/synthetic_data/nifti_files/subject_1_task_1.nii\n",
      "11/28/2018 12:16:31 Subject 1 performing task 1\n",
      "11/28/2018 12:16:31 Recording blocks in data/synthetic_data/nifti_files/subject_15_task_1.nii\n",
      "11/28/2018 12:16:31 Subject 15 performing task 1\n",
      "11/28/2018 12:16:31 Recording blocks in data/synthetic_data/nifti_files/subject_18_task_1.nii\n",
      "11/28/2018 12:16:31 Subject 18 performing task 1\n",
      "11/28/2018 12:16:31 Recording blocks in data/synthetic_data/nifti_files/subject_19_task_1.nii\n",
      "11/28/2018 12:16:32 Subject 19 performing task 1\n",
      "11/28/2018 12:16:32 Recording blocks in data/synthetic_data/nifti_files/subject_7_task_2.nii\n",
      "11/28/2018 12:16:32 Subject 7 performing task 2\n",
      "11/28/2018 12:16:32 Recording blocks in data/synthetic_data/nifti_files/subject_9_task_1.nii\n",
      "11/28/2018 12:16:32 Subject 9 performing task 1\n",
      "11/28/2018 12:16:32 Recording blocks in data/synthetic_data/nifti_files/subject_8_task_1.nii\n",
      "11/28/2018 12:16:32 Subject 8 performing task 1\n",
      "11/28/2018 12:16:32 Recording blocks in data/synthetic_data/nifti_files/subject_11_task_1.nii\n",
      "11/28/2018 12:16:32 Subject 11 performing task 1\n",
      "11/28/2018 12:16:32 Recording blocks in data/synthetic_data/nifti_files/subject_3_task_1.nii\n",
      "11/28/2018 12:16:32 Subject 3 performing task 1\n",
      "11/28/2018 12:16:32 Recording blocks in data/synthetic_data/nifti_files/subject_6_task_1.nii\n",
      "11/28/2018 12:16:32 Subject 6 performing task 1\n",
      "11/28/2018 12:16:32 Recording blocks in data/synthetic_data/nifti_files/subject_2_task_2.nii\n",
      "11/28/2018 12:16:32 Subject 2 performing task 2\n",
      "11/28/2018 12:16:32 Recording blocks in data/synthetic_data/nifti_files/subject_14_task_1.nii\n",
      "11/28/2018 12:16:32 Subject 14 performing task 1\n",
      "11/28/2018 12:16:32 Recording blocks in data/synthetic_data/nifti_files/subject_12_task_2.nii\n",
      "11/28/2018 12:16:32 Subject 12 performing task 2\n",
      "11/28/2018 12:16:32 Recording blocks in data/synthetic_data/nifti_files/subject_5_task_2.nii\n",
      "11/28/2018 12:16:32 Subject 5 performing task 2\n",
      "11/28/2018 12:16:32 Recording blocks in data/synthetic_data/nifti_files/subject_4_task_1.nii\n",
      "11/28/2018 12:16:32 Subject 4 performing task 1\n",
      "11/28/2018 12:16:32 Recording blocks in data/synthetic_data/nifti_files/subject_7_task_1.nii\n",
      "11/28/2018 12:16:32 Subject 7 performing task 1\n",
      "11/28/2018 12:16:32 Recording blocks in data/synthetic_data/nifti_files/subject_10_task_2.nii\n",
      "11/28/2018 12:16:32 Subject 10 performing task 2\n",
      "11/28/2018 12:16:32 Recording blocks in data/synthetic_data/nifti_files/subject_18_task_2.nii\n",
      "11/28/2018 12:16:32 Subject 18 performing task 2\n",
      "11/28/2018 12:16:32 Recording blocks in data/synthetic_data/nifti_files/subject_13_task_2.nii\n",
      "11/28/2018 12:16:32 Subject 13 performing task 2\n",
      "11/28/2018 12:16:32 Recording blocks in data/synthetic_data/nifti_files/subject_3_task_2.nii\n",
      "11/28/2018 12:16:32 Subject 3 performing task 2\n"
     ]
    }
   ],
   "source": [
    "existed = os.path.isfile(db_file)\n",
    "db = niidb.FMriActivationsDb(db_file, mask=mask_file)\n",
    "\n",
    "if not existed or OVERWRITE:\n",
    "    data_files = glob.glob('data/synthetic_data/nifti_files/*.nii')\n",
    "    regex = re.compile(\"subject_([0-9]{1,2})_task_([1,2]).nii\")\n",
    "    for data_file in data_files:\n",
    "        m = regex.search(data_file)\n",
    "        [subject, task] = m.groups()\n",
    "        subject = int(subject)\n",
    "        logging.info(\"Recording blocks in %s\", data_file)\n",
    "        \n",
    "        synthetic_block = niidb.FMriActivationBlock(zscore=False)\n",
    "        synthetic_block.task = task\n",
    "        synthetic_block.filename = data_file\n",
    "        synthetic_block.subject = subject\n",
    "        synthetic_block.start_time = 0\n",
    "        synthetic_block.end_time = None\n",
    "        db.upsert(synthetic_block)\n",
    "        logging.info('Subject %d performing task %s', subject, synthetic_block.task)"
   ]
  },
  {
   "cell_type": "code",
   "execution_count": 5,
   "metadata": {},
   "outputs": [
    {
     "name": "stderr",
     "output_type": "stream",
     "text": [
      "11/28/2018 12:16:32 Finished building NiiDb out of synthetic dataset\n"
     ]
    }
   ],
   "source": [
    "logging.info('Finished building NiiDb out of synthetic dataset')"
   ]
  },
  {
   "cell_type": "code",
   "execution_count": null,
   "metadata": {},
   "outputs": [],
   "source": []
  }
 ],
 "metadata": {
  "kernelspec": {
   "display_name": "Python [conda env:HTFATorch]",
   "language": "python",
   "name": "conda-env-HTFATorch-py"
  },
  "language_info": {
   "codemirror_mode": {
    "name": "ipython",
    "version": 3
   },
   "file_extension": ".py",
   "mimetype": "text/x-python",
   "name": "python",
   "nbconvert_exporter": "python",
   "pygments_lexer": "ipython3",
   "version": "3.6.4"
  }
 },
 "nbformat": 4,
 "nbformat_minor": 2
}
