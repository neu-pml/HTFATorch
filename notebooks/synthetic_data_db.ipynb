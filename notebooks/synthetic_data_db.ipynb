version https://git-lfs.github.com/spec/v1
oid sha256:6d9b52f60e32cf7aeaadd2ca7ff7f0ad5cdc63c8e74504b8be59c4668ac14451
size 120219
