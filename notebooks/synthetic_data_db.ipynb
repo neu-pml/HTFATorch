{
 "cells": [
  {
   "cell_type": "code",
   "execution_count": 1,
   "metadata": {},
   "outputs": [
    {
     "name": "stdout",
     "output_type": "stream",
     "text": [
      "/home/eli/AnacondaProjects/HTFATorch\n"
     ]
    }
   ],
   "source": [
    "%cd ../\n",
    "%matplotlib inline"
   ]
  },
  {
   "cell_type": "code",
   "execution_count": 2,
   "metadata": {},
   "outputs": [],
   "source": [
    "import htfa_torch.niidb as niidb\n",
    "import htfa_torch.utils as utils\n",
    "\n",
    "import csv\n",
    "import glob\n",
    "import logging\n",
    "import os\n",
    "import re"
   ]
  },
  {
   "cell_type": "code",
   "execution_count": 3,
   "metadata": {},
   "outputs": [],
   "source": [
    "logging.basicConfig(format='%(asctime)s %(message)s', datefmt='%m/%d/%Y %H:%M:%S',\n",
    "                    level=logging.INFO)\n",
    "\n",
    "db_file = 'data/synthetic_data.db'\n",
    "mask_file = '/data/eli/synthetic_data/nifti_files/wholebrain.nii.gz'\n",
    "\n",
    "OVERWRITE = True"
   ]
  },
  {
   "cell_type": "code",
   "execution_count": 4,
   "metadata": {},
   "outputs": [],
   "source": [
    "TASK_1_SUBJECTS = list(range(1, 11))\n",
    "TASK_2_SUBJECTS = list(range(11, 21))"
   ]
  },
  {
   "cell_type": "code",
   "execution_count": 5,
   "metadata": {},
   "outputs": [
    {
     "name": "stderr",
     "output_type": "stream",
     "text": [
      "10/03/2018 15:19:00 Recording blocks in /data/eli/synthetic_data/nifti_files/subject_4.nii\n",
      "10/03/2018 15:19:00 Subject 4 performing task 1\n",
      "10/03/2018 15:19:00 Recording blocks in /data/eli/synthetic_data/nifti_files/subject_20.nii\n",
      "10/03/2018 15:19:00 Subject 20 performing task 2\n",
      "10/03/2018 15:19:00 Recording blocks in /data/eli/synthetic_data/nifti_files/subject_5.nii\n",
      "10/03/2018 15:19:00 Subject 5 performing task 1\n",
      "10/03/2018 15:19:00 Recording blocks in /data/eli/synthetic_data/nifti_files/subject_17.nii\n",
      "10/03/2018 15:19:00 Subject 17 performing task 2\n",
      "10/03/2018 15:19:00 Recording blocks in /data/eli/synthetic_data/nifti_files/subject_3.nii\n",
      "10/03/2018 15:19:00 Subject 3 performing task 1\n",
      "10/03/2018 15:19:00 Recording blocks in /data/eli/synthetic_data/nifti_files/subject_1.nii\n",
      "10/03/2018 15:19:00 Subject 1 performing task 1\n",
      "10/03/2018 15:19:00 Recording blocks in /data/eli/synthetic_data/nifti_files/subject_9.nii\n",
      "10/03/2018 15:19:00 Subject 9 performing task 1\n",
      "10/03/2018 15:19:00 Recording blocks in /data/eli/synthetic_data/nifti_files/subject_10.nii\n",
      "10/03/2018 15:19:00 Subject 10 performing task 1\n",
      "10/03/2018 15:19:00 Recording blocks in /data/eli/synthetic_data/nifti_files/subject_6.nii\n",
      "10/03/2018 15:19:00 Subject 6 performing task 1\n",
      "10/03/2018 15:19:00 Recording blocks in /data/eli/synthetic_data/nifti_files/subject_19.nii\n",
      "10/03/2018 15:19:00 Subject 19 performing task 2\n",
      "10/03/2018 15:19:00 Recording blocks in /data/eli/synthetic_data/nifti_files/subject_16.nii\n",
      "10/03/2018 15:19:00 Subject 16 performing task 2\n",
      "10/03/2018 15:19:00 Recording blocks in /data/eli/synthetic_data/nifti_files/subject_2.nii\n",
      "10/03/2018 15:19:00 Subject 2 performing task 1\n",
      "10/03/2018 15:19:00 Recording blocks in /data/eli/synthetic_data/nifti_files/subject_15.nii\n",
      "10/03/2018 15:19:00 Subject 15 performing task 2\n",
      "10/03/2018 15:19:00 Recording blocks in /data/eli/synthetic_data/nifti_files/subject_7.nii\n",
      "10/03/2018 15:19:00 Subject 7 performing task 1\n",
      "10/03/2018 15:19:00 Recording blocks in /data/eli/synthetic_data/nifti_files/subject_8.nii\n",
      "10/03/2018 15:19:00 Subject 8 performing task 1\n",
      "10/03/2018 15:19:00 Recording blocks in /data/eli/synthetic_data/nifti_files/subject_13.nii\n",
      "10/03/2018 15:19:00 Subject 13 performing task 2\n",
      "10/03/2018 15:19:00 Recording blocks in /data/eli/synthetic_data/nifti_files/subject_18.nii\n",
      "10/03/2018 15:19:00 Subject 18 performing task 2\n",
      "10/03/2018 15:19:00 Recording blocks in /data/eli/synthetic_data/nifti_files/subject_11.nii\n",
      "10/03/2018 15:19:00 Subject 11 performing task 2\n",
      "10/03/2018 15:19:00 Recording blocks in /data/eli/synthetic_data/nifti_files/subject_12.nii\n",
      "10/03/2018 15:19:00 Subject 12 performing task 2\n",
      "10/03/2018 15:19:00 Recording blocks in /data/eli/synthetic_data/nifti_files/subject_14.nii\n",
      "10/03/2018 15:19:00 Subject 14 performing task 2\n"
     ]
    }
   ],
   "source": [
    "existed = os.path.isfile(db_file)\n",
    "db = niidb.FMriActivationsDb(db_file, mask=mask_file)\n",
    "\n",
    "if not existed or OVERWRITE:\n",
    "    data_files = glob.glob('/data/eli/synthetic_data/nifti_files/subject_*.nii')\n",
    "    regex = re.compile(\"subject_([0-9]{1,2}).nii\")\n",
    "    for data_file in data_files:\n",
    "        m = regex.search(data_file)\n",
    "        [subject] = m.groups()\n",
    "        subject = int(subject)\n",
    "        logging.info(\"Recording blocks in %s\", data_file)\n",
    "        \n",
    "        synthetic_block = niidb.FMriActivationBlock(zscore=False)\n",
    "        synthetic_block.task = '1' if subject in TASK_1_SUBJECTS else '2'\n",
    "        synthetic_block.filename = data_file\n",
    "        synthetic_block.subject = subject\n",
    "        synthetic_block.start_time = 0\n",
    "        synthetic_block.end_time = None\n",
    "        db.upsert(synthetic_block)\n",
    "        logging.info('Subject %d performing task %s', subject, synthetic_block.task)"
   ]
  },
  {
   "cell_type": "code",
   "execution_count": 6,
   "metadata": {},
   "outputs": [
    {
     "name": "stderr",
     "output_type": "stream",
     "text": [
      "10/03/2018 15:19:01 Finished building NiiDb out of synthetic dataset\n"
     ]
    }
   ],
   "source": [
    "logging.info('Finished building NiiDb out of synthetic dataset')"
   ]
  },
  {
   "cell_type": "code",
   "execution_count": null,
   "metadata": {},
   "outputs": [],
   "source": []
  }
 ],
 "metadata": {
  "kernelspec": {
   "display_name": "Python [conda env:HTFATorch]",
   "language": "python",
   "name": "conda-env-HTFATorch-py"
  },
  "language_info": {
   "codemirror_mode": {
    "name": "ipython",
    "version": 3
   },
   "file_extension": ".py",
   "mimetype": "text/x-python",
   "name": "python",
   "nbconvert_exporter": "python",
   "pygments_lexer": "ipython3",
   "version": "3.6.4"
  }
 },
 "nbformat": 4,
 "nbformat_minor": 2
}
