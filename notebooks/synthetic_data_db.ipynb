{
 "cells": [
  {
   "cell_type": "code",
   "execution_count": 1,
   "metadata": {},
   "outputs": [
    {
     "name": "stdout",
     "output_type": "stream",
     "text": [
      "/home/eli/AnacondaProjects/HTFATorch\n"
     ]
    }
   ],
   "source": [
    "%cd ../\n",
    "%matplotlib inline"
   ]
  },
  {
   "cell_type": "code",
   "execution_count": 2,
   "metadata": {},
   "outputs": [],
   "source": [
    "import htfa_torch.niidb as niidb\n",
    "import htfa_torch.utils as utils\n",
    "\n",
    "import csv\n",
    "import glob\n",
    "import logging\n",
    "import os\n",
    "import re"
   ]
  },
  {
   "cell_type": "code",
   "execution_count": 3,
   "metadata": {},
   "outputs": [],
   "source": [
    "logging.basicConfig(format='%(asctime)s %(message)s', datefmt='%m/%d/%Y %H:%M:%S',\n",
    "                    level=logging.INFO)\n",
    "\n",
    "db_file = 'data/synthetic_data.db'\n",
    "mask_file = 'data/synthetic_data/nifti_files/wholebrain.nii.gz'\n",
    "\n",
    "OVERWRITE = True"
   ]
  },
  {
   "cell_type": "code",
   "execution_count": 4,
   "metadata": {},
   "outputs": [
    {
     "name": "stderr",
     "output_type": "stream",
     "text": [
      "01/15/2019 22:16:52 Recording blocks in data/synthetic_data/nifti_files/subject_10_task_25.nii\n",
      "01/15/2019 22:16:53 Subject 10 performing task 25\n",
      "01/15/2019 22:16:53 Recording blocks in data/synthetic_data/nifti_files/subject_3_task_18.nii\n",
      "01/15/2019 22:16:53 Subject 3 performing task 18\n",
      "01/15/2019 22:16:53 Recording blocks in data/synthetic_data/nifti_files/subject_8_task_23.nii\n",
      "01/15/2019 22:16:53 Subject 8 performing task 23\n",
      "01/15/2019 22:16:53 Recording blocks in data/synthetic_data/nifti_files/subject_9_task_24.nii\n",
      "01/15/2019 22:16:53 Subject 9 performing task 24\n",
      "01/15/2019 22:16:53 Recording blocks in data/synthetic_data/nifti_files/subject_19_task_19.nii\n",
      "01/15/2019 22:16:53 Subject 19 performing task 19\n",
      "01/15/2019 22:16:53 Recording blocks in data/synthetic_data/nifti_files/subject_18_task_3.nii\n",
      "01/15/2019 22:16:53 Subject 18 performing task 3\n",
      "01/15/2019 22:16:53 Recording blocks in data/synthetic_data/nifti_files/subject_24_task_9.nii\n",
      "01/15/2019 22:16:53 Subject 24 performing task 9\n",
      "01/15/2019 22:16:53 Recording blocks in data/synthetic_data/nifti_files/subject_11_task_11.nii\n",
      "01/15/2019 22:16:53 Subject 11 performing task 11\n",
      "01/15/2019 22:16:53 Recording blocks in data/synthetic_data/nifti_files/subject_27_task_27.nii\n",
      "01/15/2019 22:16:53 Subject 27 performing task 27\n",
      "01/15/2019 22:16:53 Recording blocks in data/synthetic_data/nifti_files/subject_21_task_6.nii\n",
      "01/15/2019 22:16:53 Subject 21 performing task 6\n",
      "01/15/2019 22:16:53 Recording blocks in data/synthetic_data/nifti_files/subject_25_task_10.nii\n",
      "01/15/2019 22:16:53 Subject 25 performing task 10\n",
      "01/15/2019 22:16:53 Recording blocks in data/synthetic_data/nifti_files/subject_15_task_30.nii\n",
      "01/15/2019 22:16:53 Subject 15 performing task 30\n",
      "01/15/2019 22:16:53 Recording blocks in data/synthetic_data/nifti_files/subject_7_task_7.nii\n",
      "01/15/2019 22:16:54 Subject 7 performing task 7\n",
      "01/15/2019 22:16:54 Recording blocks in data/synthetic_data/nifti_files/subject_13_task_13.nii\n",
      "01/15/2019 22:16:54 Subject 13 performing task 13\n",
      "01/15/2019 22:16:54 Recording blocks in data/synthetic_data/nifti_files/subject_17_task_2.nii\n",
      "01/15/2019 22:16:54 Subject 17 performing task 2\n",
      "01/15/2019 22:16:54 Recording blocks in data/synthetic_data/nifti_files/subject_29_task_14.nii\n",
      "01/15/2019 22:16:54 Subject 29 performing task 14\n",
      "01/15/2019 22:16:54 Recording blocks in data/synthetic_data/nifti_files/subject_24_task_24.nii\n",
      "01/15/2019 22:16:54 Subject 24 performing task 24\n",
      "01/15/2019 22:16:54 Recording blocks in data/synthetic_data/nifti_files/subject_16_task_16.nii\n",
      "01/15/2019 22:16:54 Subject 16 performing task 16\n",
      "01/15/2019 22:16:54 Recording blocks in data/synthetic_data/nifti_files/subject_16_task_1.nii\n",
      "01/15/2019 22:16:54 Subject 16 performing task 1\n",
      "01/15/2019 22:16:54 Recording blocks in data/synthetic_data/nifti_files/subject_10_task_10.nii\n",
      "01/15/2019 22:16:54 Subject 10 performing task 10\n",
      "01/15/2019 22:16:54 Recording blocks in data/synthetic_data/nifti_files/subject_30_task_15.nii\n",
      "01/15/2019 22:16:54 Subject 30 performing task 15\n",
      "01/15/2019 22:16:54 Recording blocks in data/synthetic_data/nifti_files/subject_19_task_4.nii\n",
      "01/15/2019 22:16:54 Subject 19 performing task 4\n",
      "01/15/2019 22:16:54 Recording blocks in data/synthetic_data/nifti_files/subject_14_task_14.nii\n",
      "01/15/2019 22:16:54 Subject 14 performing task 14\n",
      "01/15/2019 22:16:54 Recording blocks in data/synthetic_data/nifti_files/subject_1_task_16.nii\n",
      "01/15/2019 22:16:54 Subject 1 performing task 16\n",
      "01/15/2019 22:16:54 Recording blocks in data/synthetic_data/nifti_files/subject_26_task_11.nii\n",
      "01/15/2019 22:16:54 Subject 26 performing task 11\n",
      "01/15/2019 22:16:54 Recording blocks in data/synthetic_data/nifti_files/subject_17_task_17.nii\n",
      "01/15/2019 22:16:54 Subject 17 performing task 17\n",
      "01/15/2019 22:16:54 Recording blocks in data/synthetic_data/nifti_files/subject_26_task_26.nii\n",
      "01/15/2019 22:16:54 Subject 26 performing task 26\n",
      "01/15/2019 22:16:54 Recording blocks in data/synthetic_data/nifti_files/subject_6_task_6.nii\n",
      "01/15/2019 22:16:55 Subject 6 performing task 6\n",
      "01/15/2019 22:16:55 Recording blocks in data/synthetic_data/nifti_files/subject_14_task_29.nii\n",
      "01/15/2019 22:16:55 Subject 14 performing task 29\n",
      "01/15/2019 22:16:55 Recording blocks in data/synthetic_data/nifti_files/subject_20_task_5.nii\n",
      "01/15/2019 22:16:55 Subject 20 performing task 5\n",
      "01/15/2019 22:16:55 Recording blocks in data/synthetic_data/nifti_files/subject_4_task_4.nii\n",
      "01/15/2019 22:16:55 Subject 4 performing task 4\n",
      "01/15/2019 22:16:55 Recording blocks in data/synthetic_data/nifti_files/subject_23_task_23.nii\n",
      "01/15/2019 22:16:55 Subject 23 performing task 23\n",
      "01/15/2019 22:16:55 Recording blocks in data/synthetic_data/nifti_files/subject_1_task_1.nii\n",
      "01/15/2019 22:16:55 Subject 1 performing task 1\n",
      "01/15/2019 22:16:55 Recording blocks in data/synthetic_data/nifti_files/subject_21_task_21.nii\n",
      "01/15/2019 22:16:55 Subject 21 performing task 21\n",
      "01/15/2019 22:16:55 Recording blocks in data/synthetic_data/nifti_files/subject_25_task_25.nii\n",
      "01/15/2019 22:16:55 Subject 25 performing task 25\n",
      "01/15/2019 22:16:55 Recording blocks in data/synthetic_data/nifti_files/subject_3_task_3.nii\n",
      "01/15/2019 22:16:55 Subject 3 performing task 3\n",
      "01/15/2019 22:16:55 Recording blocks in data/synthetic_data/nifti_files/subject_15_task_15.nii\n",
      "01/15/2019 22:16:55 Subject 15 performing task 15\n",
      "01/15/2019 22:16:55 Recording blocks in data/synthetic_data/nifti_files/subject_23_task_8.nii\n",
      "01/15/2019 22:16:55 Subject 23 performing task 8\n",
      "01/15/2019 22:16:55 Recording blocks in data/synthetic_data/nifti_files/subject_28_task_28.nii\n",
      "01/15/2019 22:16:55 Subject 28 performing task 28\n",
      "01/15/2019 22:16:55 Recording blocks in data/synthetic_data/nifti_files/subject_12_task_27.nii\n",
      "01/15/2019 22:16:55 Subject 12 performing task 27\n",
      "01/15/2019 22:16:55 Recording blocks in data/synthetic_data/nifti_files/subject_30_task_30.nii\n",
      "01/15/2019 22:16:56 Subject 30 performing task 30\n",
      "01/15/2019 22:16:56 Recording blocks in data/synthetic_data/nifti_files/subject_29_task_29.nii\n",
      "01/15/2019 22:16:56 Subject 29 performing task 29\n",
      "01/15/2019 22:16:56 Recording blocks in data/synthetic_data/nifti_files/subject_27_task_12.nii\n",
      "01/15/2019 22:16:56 Subject 27 performing task 12\n",
      "01/15/2019 22:16:56 Recording blocks in data/synthetic_data/nifti_files/subject_8_task_8.nii\n",
      "01/15/2019 22:16:56 Subject 8 performing task 8\n",
      "01/15/2019 22:16:56 Recording blocks in data/synthetic_data/nifti_files/subject_18_task_18.nii\n",
      "01/15/2019 22:16:56 Subject 18 performing task 18\n",
      "01/15/2019 22:16:56 Recording blocks in data/synthetic_data/nifti_files/subject_11_task_26.nii\n",
      "01/15/2019 22:16:56 Subject 11 performing task 26\n",
      "01/15/2019 22:16:56 Recording blocks in data/synthetic_data/nifti_files/subject_13_task_28.nii\n",
      "01/15/2019 22:16:56 Subject 13 performing task 28\n",
      "01/15/2019 22:16:56 Recording blocks in data/synthetic_data/nifti_files/subject_28_task_13.nii\n",
      "01/15/2019 22:16:56 Subject 28 performing task 13\n",
      "01/15/2019 22:16:56 Recording blocks in data/synthetic_data/nifti_files/subject_2_task_2.nii\n",
      "01/15/2019 22:16:56 Subject 2 performing task 2\n",
      "01/15/2019 22:16:56 Recording blocks in data/synthetic_data/nifti_files/subject_7_task_22.nii\n",
      "01/15/2019 22:16:56 Subject 7 performing task 22\n",
      "01/15/2019 22:16:56 Recording blocks in data/synthetic_data/nifti_files/subject_6_task_21.nii\n",
      "01/15/2019 22:16:56 Subject 6 performing task 21\n",
      "01/15/2019 22:16:56 Recording blocks in data/synthetic_data/nifti_files/subject_4_task_19.nii\n",
      "01/15/2019 22:16:56 Subject 4 performing task 19\n",
      "01/15/2019 22:16:56 Recording blocks in data/synthetic_data/nifti_files/subject_22_task_22.nii\n",
      "01/15/2019 22:16:56 Subject 22 performing task 22\n",
      "01/15/2019 22:16:56 Recording blocks in data/synthetic_data/nifti_files/subject_2_task_17.nii\n",
      "01/15/2019 22:16:56 Subject 2 performing task 17\n",
      "01/15/2019 22:16:56 Recording blocks in data/synthetic_data/nifti_files/subject_12_task_12.nii\n",
      "01/15/2019 22:16:57 Subject 12 performing task 12\n",
      "01/15/2019 22:16:57 Recording blocks in data/synthetic_data/nifti_files/subject_9_task_9.nii\n",
      "01/15/2019 22:16:57 Subject 9 performing task 9\n",
      "01/15/2019 22:16:57 Recording blocks in data/synthetic_data/nifti_files/subject_20_task_20.nii\n",
      "01/15/2019 22:16:57 Subject 20 performing task 20\n",
      "01/15/2019 22:16:57 Recording blocks in data/synthetic_data/nifti_files/subject_5_task_20.nii\n",
      "01/15/2019 22:16:57 Subject 5 performing task 20\n",
      "01/15/2019 22:16:57 Recording blocks in data/synthetic_data/nifti_files/subject_22_task_7.nii\n",
      "01/15/2019 22:16:57 Subject 22 performing task 7\n",
      "01/15/2019 22:16:57 Recording blocks in data/synthetic_data/nifti_files/subject_5_task_5.nii\n",
      "01/15/2019 22:16:57 Subject 5 performing task 5\n"
     ]
    }
   ],
   "source": [
    "existed = os.path.isfile(db_file)\n",
    "db = niidb.FMriActivationsDb(db_file, mask=mask_file)\n",
    "\n",
    "if not existed or OVERWRITE:\n",
    "    data_files = glob.glob('data/synthetic_data/nifti_files/*.nii')\n",
    "    regex = re.compile(\"subject_([0-9]{1,2})_task_([0-9]{1,2}).nii\")\n",
    "    for data_file in data_files:\n",
    "        m = regex.search(data_file)\n",
    "        [subject, task] = m.groups()\n",
    "        subject = int(subject)\n",
    "        logging.info(\"Recording blocks in %s\", data_file)\n",
    "        \n",
    "        synthetic_block = niidb.FMriActivationBlock(zscore=False)\n",
    "        synthetic_block.task = task\n",
    "        synthetic_block.filename = data_file\n",
    "        synthetic_block.subject = subject\n",
    "        synthetic_block.start_time = 0\n",
    "        synthetic_block.end_time = None\n",
    "        db.upsert(synthetic_block)\n",
    "        logging.info('Subject %d performing task %s', subject, synthetic_block.task)"
   ]
  },
  {
   "cell_type": "code",
   "execution_count": 5,
   "metadata": {},
   "outputs": [
    {
     "name": "stderr",
     "output_type": "stream",
     "text": [
      "01/15/2019 22:16:57 Finished building NiiDb out of synthetic dataset\n"
     ]
    }
   ],
   "source": [
    "logging.info('Finished building NiiDb out of synthetic dataset')"
   ]
  },
  {
   "cell_type": "code",
   "execution_count": null,
   "metadata": {},
   "outputs": [],
   "source": []
  }
 ],
 "metadata": {
  "kernelspec": {
   "display_name": "Python [conda env:HTFATorch]",
   "language": "python",
   "name": "conda-env-HTFATorch-py"
  },
  "language_info": {
   "codemirror_mode": {
    "name": "ipython",
    "version": 3
   },
   "file_extension": ".py",
   "mimetype": "text/x-python",
   "name": "python",
   "nbconvert_exporter": "python",
   "pygments_lexer": "ipython3",
   "version": "3.6.4"
  }
 },
 "nbformat": 4,
 "nbformat_minor": 2
}
