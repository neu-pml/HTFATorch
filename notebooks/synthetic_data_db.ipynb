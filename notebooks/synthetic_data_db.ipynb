version https://git-lfs.github.com/spec/v1
oid sha256:6dcb98738b4490e7aa0cf7f54a27f8a2777b31201130d99f06bcd21866adc181
size 228061
