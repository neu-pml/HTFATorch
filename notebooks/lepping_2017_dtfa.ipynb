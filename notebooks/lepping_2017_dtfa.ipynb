version https://git-lfs.github.com/spec/v1
oid sha256:407ecf6a54b9fa957ab971afeeb4efcb65ba1bb3a9d8f58083597f9c590d6e0c
size 1694376
