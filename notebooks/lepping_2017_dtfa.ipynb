version https://git-lfs.github.com/spec/v1
oid sha256:59f8ed7905a44a3a05ed87d6c3083ea0263ff7f2d54fe5f5ab3dd77d55050f9f
size 1819451
