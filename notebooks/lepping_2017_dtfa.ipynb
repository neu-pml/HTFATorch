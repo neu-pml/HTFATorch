{
 "cells": [
  {
   "cell_type": "code",
   "execution_count": 1,
   "metadata": {},
   "outputs": [
    {
     "name": "stdout",
     "output_type": "stream",
     "text": [
      "/home/zulqarnain/featuresounddepression/htfatorch\n"
     ]
    }
   ],
   "source": [
    "%cd ../\n",
    "%matplotlib inline"
   ]
  },
  {
   "cell_type": "code",
   "execution_count": 2,
   "metadata": {},
   "outputs": [
    {
     "name": "stderr",
     "output_type": "stream",
     "text": [
      "/home/zulqarnain/anaconda3/envs/htfatorch/lib/python3.6/site-packages/h5py/__init__.py:36: FutureWarning: Conversion of the second argument of issubdtype from `float` to `np.floating` is deprecated. In future, it will be treated as `np.float64 == np.dtype(float).type`.\n",
      "  from ._conv import register_converters as _register_converters\n"
     ]
    }
   ],
   "source": [
    "import logging\n",
    "import numpy as np\n",
    "import htfa_torch.dtfa as DTFA\n",
    "import htfa_torch.niidb as niidb\n",
    "import htfa_torch.utils as utils"
   ]
  },
  {
   "cell_type": "code",
   "execution_count": 3,
   "metadata": {},
   "outputs": [],
   "source": [
    "logging.basicConfig(format='%(asctime)s %(message)s', datefmt='%m/%d/%Y %H:%M:%S',\n",
    "                    level=logging.INFO)"
   ]
  },
  {
   "cell_type": "code",
   "execution_count": 4,
   "metadata": {},
   "outputs": [],
   "source": [
    "lepping_db = niidb.FMriActivationsDb('data/sound_depression.db', mask='/data/zulqarnain/sound_depression/fmriprep/all_masks/wholebrain.nii.gz')"
   ]
  },
  {
   "cell_type": "code",
   "execution_count": 5,
   "metadata": {},
   "outputs": [
    {
     "name": "stderr",
     "output_type": "stream",
     "text": [
      "01/12/2019 22:18:11 Loading Nifti image /data/zulqarnain/sound_depression/fmriprep/sub-mdd16/func/sub-mdd16_task-music_run-5_bold_space-MNI152NLin2009cAsym_preproc.nii.gz with mask /data/zulqarnain/sound_depression/fmriprep/all_masks/wholebrain.nii.gz (zscore=True, smooth=6)\n"
     ]
    }
   ],
   "source": [
    "dtfa = DTFA.DeepTFA(lepping_db.all(_limit=2), mask='/data/zulqarnain/sound_depression/fmriprep/all_masks/wholebrain.nii.gz', num_factors=100, embedding_dim=2)"
   ]
  },
  {
   "cell_type": "code",
   "execution_count": 6,
   "metadata": {},
   "outputs": [
    {
     "data": {
      "text/plain": [
       "[tensor(4.8044), tensor(4.8044)]"
      ]
     },
     "execution_count": 6,
     "metadata": {},
     "output_type": "execute_result"
    }
   ],
   "source": [
    "dtfa.normalize_activations()"
   ]
  },
  {
   "cell_type": "code",
   "execution_count": 7,
   "metadata": {},
   "outputs": [
    {
     "data": {
      "text/plain": [
       "(<nilearn.plotting.displays.OrthoProjector at 0x7f4c509c6860>,\n",
       " tensor([[-33.3686, -84.6665, -12.2021],\n",
       "         [ 46.3905,  14.0611,  -0.1060],\n",
       "         [ -1.0770,  34.0653,  11.2615],\n",
       "         [-15.0404, -34.3990,  39.6477],\n",
       "         [ 19.2884, -54.8705, -50.9167],\n",
       "         [ 38.0959, -50.0660,  54.5921],\n",
       "         [-26.0584, -38.7443, -33.5389],\n",
       "         [  2.4406,  27.2224,  56.2875],\n",
       "         [-32.6830,  -6.4179,   5.0994],\n",
       "         [ 24.6308, -54.5369,  13.6705],\n",
       "         [ 15.4719, -58.9346, -14.4667],\n",
       "         [ 44.5110,  -3.6242,  45.6100],\n",
       "         [-39.4483, -47.9131,  57.1332],\n",
       "         [ 13.2635, -67.6940,  53.2570],\n",
       "         [-29.0739,  -7.1572,  34.1707],\n",
       "         [-42.0560,  40.4661,  -5.7420],\n",
       "         [ 22.3789,  60.6584,  15.0967],\n",
       "         [ 37.1456, -82.4268,  14.2182],\n",
       "         [ 39.4918,  39.6887,  22.7836],\n",
       "         [-58.4007, -41.0780,  -3.2171],\n",
       "         [ 25.3943,  24.6633, -12.7283],\n",
       "         [-44.3002,  28.5712,  29.7242],\n",
       "         [ 35.5972, -78.4734, -15.2417],\n",
       "         [ 60.8351, -36.2859,  10.6157],\n",
       "         [-55.3700, -45.6752,  29.7541],\n",
       "         [-30.8458, -59.1325, -49.5993],\n",
       "         [ 17.2910, -92.8061,  -0.5144],\n",
       "         [  3.7723, -16.4624,  73.3829],\n",
       "         [ 15.9901, -79.1856, -39.6915],\n",
       "         [-12.3955,   4.1251,  65.2942],\n",
       "         [ -0.6984,  -4.0731,  16.9769],\n",
       "         [-49.9798,  11.7698,   1.6069],\n",
       "         [ 25.8733, -10.1406, -19.5483],\n",
       "         [-21.8624, -61.3568,  -6.6898],\n",
       "         [-31.9425,  48.3028,  16.3806],\n",
       "         [  6.6078, -54.7887,  32.3192],\n",
       "         [-11.7313, -41.6173,  70.7195],\n",
       "         [ 29.0683,  -3.0364,   8.9454],\n",
       "         [ -1.2493,  36.3199, -14.1769],\n",
       "         [-46.5862,   6.4628, -23.8047],\n",
       "         [-11.5499, -96.9304,   5.9972],\n",
       "         [ 56.1963, -14.7052, -12.9263],\n",
       "         [ 50.2134, -52.4286,  35.1904],\n",
       "         [ -3.1671, -58.8240, -34.4355],\n",
       "         [-21.9940,  19.5952,  14.0403],\n",
       "         [ 21.7185,   5.8020,  64.8065],\n",
       "         [ 15.6693,  55.3390,  -8.4230],\n",
       "         [ 10.6059,  47.3993,  35.3810],\n",
       "         [-32.0499, -83.5802,  19.0028],\n",
       "         [ 12.6599, -34.9675,  47.3659],\n",
       "         [ -0.9773, -67.3689,   7.8366],\n",
       "         [-25.4746, -56.3465,  19.7323],\n",
       "         [ -4.3945, -43.8886, -58.0389],\n",
       "         [-25.8754, -12.3036, -18.4319],\n",
       "         [ -7.2357,  62.4118,  17.7697],\n",
       "         [-43.9151, -59.5181, -24.9906],\n",
       "         [-16.0459, -63.0977,  57.1826],\n",
       "         [-27.2702,  23.0701,  49.6711],\n",
       "         [ 56.0030, -29.7656,  42.2466],\n",
       "         [ 27.1514, -36.2664, -25.9369],\n",
       "         [ 50.3484,  17.2639,  28.4164],\n",
       "         [ 41.5318,  45.5259,  -5.0685],\n",
       "         [ 10.2240, -26.5788,  17.2341],\n",
       "         [ 40.3973, -61.7887, -39.8921],\n",
       "         [ 32.5430, -72.5113,  37.8914],\n",
       "         [ 57.9822,  -9.9799,  18.2312],\n",
       "         [-20.5760, -79.2597, -39.9654],\n",
       "         [-39.6809,   4.1658,  53.3807],\n",
       "         [-27.1071, -19.8378,  67.7303],\n",
       "         [-13.1204, -80.7122,  36.5816],\n",
       "         [-14.1083,  44.6035,  41.0062],\n",
       "         [ 31.3814,  23.9146,  48.6887],\n",
       "         [  1.2349, -38.9522,  -8.8320],\n",
       "         [-60.8127, -17.5302,  14.6412],\n",
       "         [-33.2708, -36.4314,  -7.9296],\n",
       "         [-53.9387, -13.7564, -11.6433],\n",
       "         [ 44.0321,   9.3440, -27.3145],\n",
       "         [-52.6668,   1.9042,  29.1952],\n",
       "         [ 48.8800, -59.3946,   1.8395],\n",
       "         [-18.3216,  51.5152,  -3.3561],\n",
       "         [ -4.1166, -11.4927,  43.6685],\n",
       "         [-39.5693, -32.4992,  18.7206],\n",
       "         [  2.1270, -15.8133, -10.7729],\n",
       "         [-53.8644, -23.0312,  44.8197],\n",
       "         [  0.3847,  16.7386,  36.2804],\n",
       "         [ 21.8134,  -4.6444,  35.2280],\n",
       "         [ 15.8360, -44.5914,  72.2587],\n",
       "         [-49.0801, -65.7290,   7.5043],\n",
       "         [  0.9793,  10.4035,  -8.5318],\n",
       "         [-12.8068, -33.0654,  14.1006],\n",
       "         [ 49.7318, -46.4143, -12.8900],\n",
       "         [ 21.6989,  22.7180,  17.9619],\n",
       "         [-25.1491,  23.4425, -10.9383],\n",
       "         [ 35.5923, -24.9421,  65.0330],\n",
       "         [  1.4142, -29.0068, -38.3565],\n",
       "         [ -4.9305, -79.7471, -19.0582],\n",
       "         [-41.2526, -68.8762,  40.0955],\n",
       "         [ 31.6667, -29.7920,  -0.4385],\n",
       "         [ 32.3845, -28.0775,  28.0901],\n",
       "         [ 14.6566, -83.5940,  25.3265]]),\n",
       " tensor([4.0687, 4.2736, 4.4700, 4.5672, 4.7033, 4.4395, 4.7130, 5.3147, 5.0762,\n",
       "         4.2611, 4.6603, 4.8806, 4.8051, 5.9939, 5.6247, 5.2708, 4.1147, 4.6250,\n",
       "         3.4039, 4.7913, 3.7720, 4.6072, 5.0502, 3.1667, 4.6028, 4.1945, 5.8617,\n",
       "         4.8223, 5.1266, 5.3214, 5.2240, 6.0160, 4.3850, 5.9056, 5.2935, 4.0419,\n",
       "         5.1236, 3.4260, 4.5944, 4.5033, 3.6774, 4.9621, 5.3056, 3.7500, 3.7549,\n",
       "         4.3892, 4.3433, 5.0793, 3.4520, 4.3128, 4.1697, 4.1561, 5.1854, 5.2189,\n",
       "         5.3256, 4.8200, 4.5371, 3.9696, 5.6158, 4.3136, 4.5213, 3.9997, 3.1889,\n",
       "         4.3336, 4.1455, 4.7682, 5.8903, 7.0574, 5.0143, 5.3407, 4.7673, 4.3304,\n",
       "         4.8374, 4.4825, 5.5644, 5.9843, 5.0264, 4.6444, 5.1528, 3.9939, 5.0640,\n",
       "         4.0346, 3.8257, 4.4389, 4.5365, 3.9997, 3.7850, 4.2805, 3.3266, 5.4527,\n",
       "         5.1511, 5.6305, 5.6936, 4.7400, 4.1444, 3.9229, 4.5678, 5.7808, 5.2837,\n",
       "         4.2382]))"
      ]
     },
     "execution_count": 7,
     "metadata": {},
     "output_type": "execute_result"
    }
   ],
   "source": [
    "dtfa.visualize_factor_embedding()"
   ]
  },
  {
   "cell_type": "code",
   "execution_count": 8,
   "metadata": {},
   "outputs": [
    {
     "name": "stderr",
     "output_type": "stream",
     "text": [
      "01/12/2019 22:20:36 [Epoch 1] (131ms) Posterior free-energy 2.78371800e+06 = KL from prior 1.45930185e+01 - log-likelihood -2.78370350e+06\n",
      "01/12/2019 22:20:36 Saving checkpoint...\n",
      "01/12/2019 22:20:36 [Epoch 2] (101ms) Posterior free-energy 2.71186850e+06 = KL from prior 3.37554626e+01 - log-likelihood -2.71183475e+06\n",
      "01/12/2019 22:20:36 Saving checkpoint...\n"
     ]
    }
   ],
   "source": [
    "losses = dtfa.train(num_steps=2, learning_rate=1e-2, log_level=logging.INFO, num_particles=1,\n",
    "                    batch_size=25, use_cuda=True, checkpoint_steps=50, blocks_batch_size=4, patience=100)"
   ]
  },
  {
   "cell_type": "code",
   "execution_count": null,
   "metadata": {},
   "outputs": [],
   "source": [
    "utils.plot_losses(losses)"
   ]
  },
  {
   "cell_type": "code",
   "execution_count": null,
   "metadata": {},
   "outputs": [],
   "source": [
    "for b in np.random.choice(range(dtfa.num_blocks), 5):\n",
    "    dtfa.plot_original_brain(b)\n",
    "    dtfa.plot_reconstruction(b)"
   ]
  },
  {
   "cell_type": "code",
   "execution_count": null,
   "metadata": {},
   "outputs": [],
   "source": [
    "def task_labeler(b):\n",
    "    return b.task"
   ]
  },
  {
   "cell_type": "code",
   "execution_count": null,
   "metadata": {},
   "outputs": [],
   "source": [
    "dtfa.scatter_task_embedding(labeler=task_labeler, figsize=None)"
   ]
  },
  {
   "cell_type": "code",
   "execution_count": null,
   "metadata": {},
   "outputs": [],
   "source": [
    "def subject_labeler(block):\n",
    "    return 'Subject %d' % block.subject\n",
    "\n",
    "def subject_run_labeler(block):\n",
    "    return 'sub%drun%d' % (block.subject, block.run)"
   ]
  },
  {
   "cell_type": "code",
   "execution_count": null,
   "metadata": {},
   "outputs": [],
   "source": [
    "dtfa.scatter_subject_embedding(labeler=subject_labeler, figsize=None)"
   ]
  },
  {
   "cell_type": "code",
   "execution_count": null,
   "metadata": {},
   "outputs": [],
   "source": [
    "dtfa.visualize_factor_embedding()"
   ]
  },
  {
   "cell_type": "code",
   "execution_count": null,
   "metadata": {},
   "outputs": [],
   "source": [
    "dtfa.average_reconstruction_error()"
   ]
  },
  {
   "cell_type": "code",
   "execution_count": null,
   "metadata": {},
   "outputs": [],
   "source": []
  }
 ],
 "metadata": {
  "kernelspec": {
   "display_name": "Python 3",
   "language": "python",
   "name": "python3"
  },
  "language_info": {
   "codemirror_mode": {
    "name": "ipython",
    "version": 3
   },
   "file_extension": ".py",
   "mimetype": "text/x-python",
   "name": "python",
   "nbconvert_exporter": "python",
   "pygments_lexer": "ipython3",
   "version": "3.6.8"
  }
 },
 "nbformat": 4,
 "nbformat_minor": 2
}
