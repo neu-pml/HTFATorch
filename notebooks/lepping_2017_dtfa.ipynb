{
 "cells": [
  {
   "cell_type": "code",
   "execution_count": 1,
   "metadata": {},
   "outputs": [
    {
     "name": "stdout",
     "output_type": "stream",
     "text": [
      "/home/zulqarnain/featuresounddepression/htfatorch\n"
     ]
    }
   ],
   "source": [
    "%cd ../\n",
    "%matplotlib inline"
   ]
  },
  {
   "cell_type": "code",
   "execution_count": 2,
   "metadata": {},
   "outputs": [
    {
     "name": "stderr",
     "output_type": "stream",
     "text": [
      "/home/zulqarnain/anaconda3/envs/htfatorch/lib/python3.6/site-packages/h5py/__init__.py:36: FutureWarning: Conversion of the second argument of issubdtype from `float` to `np.floating` is deprecated. In future, it will be treated as `np.float64 == np.dtype(float).type`.\n",
      "  from ._conv import register_converters as _register_converters\n"
     ]
    }
   ],
   "source": [
    "import logging\n",
    "import numpy as np\n",
    "import htfa_torch.dtfa as DTFA\n",
    "import htfa_torch.niidb as niidb\n",
    "import htfa_torch.utils as utils"
   ]
  },
  {
   "cell_type": "code",
   "execution_count": 3,
   "metadata": {},
   "outputs": [],
   "source": [
    "logging.basicConfig(format='%(asctime)s %(message)s', datefmt='%m/%d/%Y %H:%M:%S',\n",
    "                    level=logging.INFO)"
   ]
  },
  {
   "cell_type": "code",
   "execution_count": 4,
   "metadata": {},
   "outputs": [],
   "source": [
    "lepping_db = niidb.FMriActivationsDb('data/sound_depression.db', mask=None)"
   ]
  },
  {
   "cell_type": "code",
   "execution_count": 5,
   "metadata": {},
   "outputs": [
    {
     "name": "stderr",
     "output_type": "stream",
     "text": [
      "01/11/2019 18:03:44 Loading Nifti image /data/zulqarnain/sound_depression/fmriprep/all_tasks/sub-mdd16_task-music_run-5_bold_space-MNI152NLin2009cAsym_preproc.nii.gz with mask None (zscore=True, smooth=None)\n"
     ]
    }
   ],
   "source": [
    "dtfa = DTFA.DeepTFA(lepping_db.all(_limit=2), mask=None, num_factors=100, embedding_dim=2)"
   ]
  },
  {
   "cell_type": "code",
   "execution_count": 6,
   "metadata": {},
   "outputs": [
    {
     "data": {
      "text/plain": [
       "[tensor(5.5638), tensor(5.5638)]"
      ]
     },
     "execution_count": 6,
     "metadata": {},
     "output_type": "execute_result"
    }
   ],
   "source": [
    "dtfa.normalize_activations()"
   ]
  },
  {
   "cell_type": "code",
   "execution_count": 7,
   "metadata": {},
   "outputs": [
    {
     "data": {
      "text/plain": [
       "(<nilearn.plotting.displays.OrthoProjector at 0x7f1f0d768390>,\n",
       " tensor([[-3.3275e+01, -8.4072e+01, -1.0107e+01],\n",
       "         [ 4.8409e+01,  1.3786e+01,  9.8556e-01],\n",
       "         [-1.1423e+00,  3.4979e+01,  1.1071e+01],\n",
       "         [-1.6897e+01, -3.2753e+01,  4.0601e+01],\n",
       "         [ 1.9064e+01, -5.3900e+01, -4.8700e+01],\n",
       "         [ 3.6581e+01, -5.0746e+01,  5.3230e+01],\n",
       "         [-2.3078e+01, -3.9232e+01, -3.1585e+01],\n",
       "         [ 3.6350e+00,  3.0307e+01,  5.6705e+01],\n",
       "         [-3.0916e+01, -6.4104e+00,  4.7960e+00],\n",
       "         [ 2.4607e+01, -5.3547e+01,  1.4065e+01],\n",
       "         [ 2.1705e+01, -6.0962e+01, -1.4893e+01],\n",
       "         [ 4.5873e+01, -2.3632e+00,  4.8553e+01],\n",
       "         [-3.8522e+01, -4.6417e+01,  5.7729e+01],\n",
       "         [ 1.2747e+01, -6.8663e+01,  5.4958e+01],\n",
       "         [-2.8661e+01, -7.8724e+00,  3.1794e+01],\n",
       "         [-4.1380e+01,  4.0668e+01, -4.7891e+00],\n",
       "         [ 2.5779e+01,  5.8524e+01,  1.5457e+01],\n",
       "         [ 3.5996e+01, -8.0206e+01,  1.4677e+01],\n",
       "         [ 4.0165e+01,  3.7411e+01,  2.4522e+01],\n",
       "         [-5.7576e+01, -3.9652e+01, -1.9055e+00],\n",
       "         [ 2.6369e+01,  2.3293e+01, -1.2359e+01],\n",
       "         [-4.5187e+01,  2.8574e+01,  2.7655e+01],\n",
       "         [ 3.5372e+01, -7.6126e+01, -1.4454e+01],\n",
       "         [ 6.0159e+01, -3.5604e+01,  1.0013e+01],\n",
       "         [-5.8861e+01, -4.5306e+01,  2.8593e+01],\n",
       "         [-3.1308e+01, -5.5657e+01, -4.7354e+01],\n",
       "         [ 1.6789e+01, -9.1615e+01,  9.2843e-03],\n",
       "         [ 6.1155e+00, -1.5357e+01,  7.2115e+01],\n",
       "         [ 1.9267e+01, -7.5737e+01, -3.7531e+01],\n",
       "         [-1.2723e+01,  4.6060e+00,  6.6156e+01],\n",
       "         [-1.0163e+00, -1.8098e+00,  1.4359e+01],\n",
       "         [-5.2994e+01,  1.0804e+01,  3.3334e+00],\n",
       "         [ 2.8720e+01, -8.5921e+00, -2.2503e+01],\n",
       "         [-2.2742e+01, -5.9992e+01, -7.6681e+00],\n",
       "         [-3.4639e+01,  5.0878e+01,  1.6180e+01],\n",
       "         [ 4.8926e+00, -5.3828e+01,  3.1191e+01],\n",
       "         [-1.3117e+01, -4.3311e+01,  7.1424e+01],\n",
       "         [ 2.8202e+01, -9.0601e-01,  6.7576e+00],\n",
       "         [-9.3731e-01,  3.6076e+01, -1.7621e+01],\n",
       "         [-4.6923e+01,  9.7605e+00, -2.3153e+01],\n",
       "         [-1.1856e+01, -9.5442e+01,  5.4457e+00],\n",
       "         [ 5.5551e+01, -1.3638e+01, -1.3752e+01],\n",
       "         [ 5.0789e+01, -5.3896e+01,  3.1102e+01],\n",
       "         [-3.5880e+00, -5.9505e+01, -3.4027e+01],\n",
       "         [-2.4040e+01,  1.9434e+01,  1.5710e+01],\n",
       "         [ 1.8045e+01,  7.3653e+00,  6.3125e+01],\n",
       "         [ 1.5107e+01,  5.3900e+01, -9.0621e+00],\n",
       "         [ 1.1299e+01,  4.9218e+01,  3.8911e+01],\n",
       "         [-3.2415e+01, -8.3229e+01,  1.7165e+01],\n",
       "         [ 1.2947e+01, -3.3863e+01,  5.0386e+01],\n",
       "         [-1.3453e+00, -6.7882e+01,  7.9570e+00],\n",
       "         [-2.5531e+01, -5.6359e+01,  2.4207e+01],\n",
       "         [-3.7475e+00, -4.5810e+01, -5.8268e+01],\n",
       "         [-2.6124e+01, -1.2984e+01, -2.1415e+01],\n",
       "         [-6.8096e+00,  6.1805e+01,  1.8091e+01],\n",
       "         [-4.4431e+01, -6.0813e+01, -2.3589e+01],\n",
       "         [-1.7327e+01, -6.4771e+01,  5.7279e+01],\n",
       "         [-2.4144e+01,  2.6004e+01,  4.9892e+01],\n",
       "         [ 5.7157e+01, -2.8384e+01,  4.2645e+01],\n",
       "         [ 2.5493e+01, -3.5968e+01, -2.7126e+01],\n",
       "         [ 4.9404e+01,  1.6909e+01,  2.7403e+01],\n",
       "         [ 3.8393e+01,  4.6464e+01, -3.7804e+00],\n",
       "         [ 9.6658e+00, -2.5422e+01,  1.7348e+01],\n",
       "         [ 3.8768e+01, -6.3172e+01, -3.6938e+01],\n",
       "         [ 3.2455e+01, -7.1477e+01,  3.8653e+01],\n",
       "         [ 5.7237e+01, -9.9988e+00,  2.0198e+01],\n",
       "         [-2.1706e+01, -7.9436e+01, -3.6651e+01],\n",
       "         [-3.7477e+01,  3.1613e+00,  5.1317e+01],\n",
       "         [-2.7417e+01, -1.9446e+01,  6.6014e+01],\n",
       "         [-1.3547e+01, -7.8383e+01,  3.5901e+01],\n",
       "         [-1.4637e+01,  4.3624e+01,  3.7906e+01],\n",
       "         [ 3.1662e+01,  2.4429e+01,  4.6205e+01],\n",
       "         [ 9.6431e-01, -4.1191e+01, -6.4771e+00],\n",
       "         [-5.7762e+01, -1.5412e+01,  1.6052e+01],\n",
       "         [-3.4194e+01, -3.4271e+01, -1.0964e+01],\n",
       "         [-5.4133e+01, -1.6641e+01, -1.4297e+01],\n",
       "         [ 4.5798e+01,  6.1211e+00, -2.9048e+01],\n",
       "         [-5.1122e+01,  7.1478e-01,  2.9754e+01],\n",
       "         [ 4.9108e+01, -5.8756e+01,  3.5952e+00],\n",
       "         [-1.6739e+01,  5.4726e+01, -5.0118e+00],\n",
       "         [-1.7239e+00, -1.2517e+01,  4.6487e+01],\n",
       "         [-3.7446e+01, -3.2365e+01,  2.0924e+01],\n",
       "         [ 1.9759e+00, -1.6821e+01, -8.8041e+00],\n",
       "         [-5.1697e+01, -2.4292e+01,  4.4811e+01],\n",
       "         [ 5.4165e-01,  1.7984e+01,  3.3621e+01],\n",
       "         [ 2.3333e+01, -3.3893e+00,  3.6500e+01],\n",
       "         [ 1.4410e+01, -4.6713e+01,  7.0162e+01],\n",
       "         [-5.0797e+01, -6.5393e+01,  8.4883e+00],\n",
       "         [ 4.0312e+00,  9.8484e+00, -6.1002e+00],\n",
       "         [-1.1600e+01, -3.2944e+01,  1.1840e+01],\n",
       "         [ 5.1869e+01, -4.4376e+01, -1.2290e+01],\n",
       "         [ 1.8989e+01,  2.4009e+01,  1.4833e+01],\n",
       "         [-2.5824e+01,  2.1687e+01, -9.4017e+00],\n",
       "         [ 3.3332e+01, -2.2733e+01,  6.3108e+01],\n",
       "         [ 8.6740e-01, -2.9278e+01, -3.6465e+01],\n",
       "         [-3.4396e+00, -8.0669e+01, -1.5486e+01],\n",
       "         [-4.1967e+01, -6.7484e+01,  3.8930e+01],\n",
       "         [ 3.1586e+01, -3.0171e+01,  1.6963e+00],\n",
       "         [ 3.1794e+01, -2.9606e+01,  2.8620e+01],\n",
       "         [ 1.3743e+01, -8.3733e+01,  2.7173e+01]]),\n",
       " tensor([4.9125, 4.9922, 6.6703, 4.2076, 3.3662, 5.0169, 5.0910, 5.5814, 6.5397,\n",
       "         3.9291, 4.7428, 4.7617, 4.6056, 3.8849, 4.9859, 4.0009, 6.0855, 4.9955,\n",
       "         3.8756, 5.1563, 3.9175, 4.2481, 4.3956, 6.3789, 5.2966, 4.7181, 4.8868,\n",
       "         4.9628, 4.6509, 4.6919, 4.5127, 5.7225, 4.4067, 4.6891, 4.2308, 4.8793,\n",
       "         5.1670, 4.2300, 6.4335, 2.8528, 3.7476, 4.3946, 3.9241, 4.5145, 4.3769,\n",
       "         4.9967, 4.7335, 5.7426, 4.5722, 5.6178, 4.5678, 4.5703, 4.5120, 4.3225,\n",
       "         5.4387, 4.0755, 4.2047, 4.5029, 4.2033, 4.4955, 5.0440, 4.2881, 4.9040,\n",
       "         3.5434, 3.9696, 4.0054, 4.3005, 4.1160, 5.2110, 4.4932, 5.2203, 3.7860,\n",
       "         5.7549, 5.5796, 4.9309, 6.0796, 4.2244, 3.0946, 5.2575, 5.6049, 5.1854,\n",
       "         2.6403, 5.0573, 5.3442, 4.3257, 4.3941, 5.2498, 5.7883, 3.2476, 3.9188,\n",
       "         4.7664, 3.5714, 5.4453, 4.7634, 4.3359, 4.3496, 4.8418, 4.5852, 5.9119,\n",
       "         4.2523]))"
      ]
     },
     "execution_count": 7,
     "metadata": {},
     "output_type": "execute_result"
    }
   ],
   "source": [
    "dtfa.visualize_factor_embedding()"
   ]
  },
  {
   "cell_type": "code",
   "execution_count": 8,
   "metadata": {},
   "outputs": [
    {
     "name": "stderr",
     "output_type": "stream",
     "text": [
      "01/11/2019 18:06:11 [Epoch 1] (120ms) Posterior free-energy 2.48175725e+06 = KL from prior 1.46418839e+01 - log-likelihood -2.48174250e+06\n",
      "01/11/2019 18:06:11 Saving checkpoint...\n",
      "01/11/2019 18:06:11 [Epoch 2] (106ms) Posterior free-energy 2.45470975e+06 = KL from prior 3.02325478e+01 - log-likelihood -2.45467950e+06\n",
      "01/11/2019 18:06:11 Saving checkpoint...\n"
     ]
    }
   ],
   "source": [
    "losses = dtfa.train(num_steps=2, learning_rate=1e-2, log_level=logging.INFO, num_particles=1,\n",
    "                    batch_size=25, use_cuda=True, checkpoint_steps=50, blocks_batch_size=4, patience=100)"
   ]
  },
  {
   "cell_type": "code",
   "execution_count": 9,
   "metadata": {},
   "outputs": [],
   "source": [
    "utils.plot_losses(losses)"
   ]
  },
  {
   "cell_type": "code",
   "execution_count": 10,
   "metadata": {},
   "outputs": [
    {
     "name": "stderr",
     "output_type": "stream",
     "text": [
      "01/11/2019 18:06:21 Reconstruction Error (Frobenius Norm): 1.15069202e+03 out of 1.01454266e+03\n",
      "01/11/2019 18:06:25 Reconstruction Error (Frobenius Norm): 1.12537415e+03 out of 1.01454266e+03\n",
      "01/11/2019 18:06:27 Reconstruction Error (Frobenius Norm): 3.50006165e+02 out of 3.14628265e+02\n",
      "01/11/2019 18:06:30 Reconstruction Error (Frobenius Norm): 3.64608490e+02 out of 3.14628265e+02\n",
      "01/11/2019 18:06:34 Reconstruction Error (Frobenius Norm): 1.14568506e+03 out of 1.01454266e+03\n"
     ]
    }
   ],
   "source": [
    "for b in np.random.choice(range(dtfa.num_blocks), 5):\n",
    "    dtfa.plot_original_brain(b)\n",
    "    dtfa.plot_reconstruction(b)"
   ]
  },
  {
   "cell_type": "code",
   "execution_count": null,
   "metadata": {},
   "outputs": [],
   "source": [
    "def task_labeler(b):\n",
    "    return b.task"
   ]
  },
  {
   "cell_type": "code",
   "execution_count": null,
   "metadata": {},
   "outputs": [],
   "source": [
    "dtfa.scatter_task_embedding(labeler=task_labeler, figsize=None)"
   ]
  },
  {
   "cell_type": "code",
   "execution_count": null,
   "metadata": {},
   "outputs": [],
   "source": [
    "def subject_labeler(block):\n",
    "    return 'Subject %d' % block.subject\n",
    "\n",
    "def subject_run_labeler(block):\n",
    "    return 'sub%drun%d' % (block.subject, block.run)"
   ]
  },
  {
   "cell_type": "code",
   "execution_count": null,
   "metadata": {},
   "outputs": [],
   "source": [
    "dtfa.scatter_subject_embedding(labeler=subject_labeler, figsize=None)"
   ]
  },
  {
   "cell_type": "code",
   "execution_count": null,
   "metadata": {},
   "outputs": [],
   "source": [
    "dtfa.visualize_factor_embedding()"
   ]
  },
  {
   "cell_type": "code",
   "execution_count": null,
   "metadata": {},
   "outputs": [],
   "source": [
    "dtfa.average_reconstruction_error()"
   ]
  },
  {
   "cell_type": "code",
   "execution_count": null,
   "metadata": {},
   "outputs": [],
   "source": []
  }
 ],
 "metadata": {
  "kernelspec": {
   "display_name": "Python 3",
   "language": "python",
   "name": "python3"
  },
  "language_info": {
   "codemirror_mode": {
    "name": "ipython",
    "version": 3
   },
   "file_extension": ".py",
   "mimetype": "text/x-python",
   "name": "python",
   "nbconvert_exporter": "python",
   "pygments_lexer": "ipython3",
   "version": "3.6.8"
  }
 },
 "nbformat": 4,
 "nbformat_minor": 2
}
