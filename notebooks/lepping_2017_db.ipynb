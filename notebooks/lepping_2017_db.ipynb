version https://git-lfs.github.com/spec/v1
oid sha256:d8d0c736e3e893d247c4dd4b0f1ccb40eaea880fb6b3452ebf71a223b156eefd
size 317556
