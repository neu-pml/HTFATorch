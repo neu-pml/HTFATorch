{
 "cells": [
  {
   "cell_type": "code",
   "execution_count": 1,
   "metadata": {},
   "outputs": [
    {
     "name": "stdout",
     "output_type": "stream",
     "text": [
      "/home/zulqarnain/featuresounddepression/htfatorch\n"
     ]
    }
   ],
   "source": [
    "%cd ../\n",
    "%matplotlib inline"
   ]
  },
  {
   "cell_type": "code",
   "execution_count": 2,
   "metadata": {},
   "outputs": [
    {
     "name": "stderr",
     "output_type": "stream",
     "text": [
      "/home/zulqarnain/anaconda3/envs/htfatorch/lib/python3.6/site-packages/h5py/__init__.py:36: FutureWarning: Conversion of the second argument of issubdtype from `float` to `np.floating` is deprecated. In future, it will be treated as `np.float64 == np.dtype(float).type`.\n",
      "  from ._conv import register_converters as _register_converters\n"
     ]
    }
   ],
   "source": [
    "import logging\n",
    "import numpy as np\n",
    "import htfa_torch.htfa as HTFA\n",
    "import htfa_torch.niidb as niidb\n",
    "import htfa_torch.utils as utils"
   ]
  },
  {
   "cell_type": "code",
   "execution_count": 3,
   "metadata": {},
   "outputs": [],
   "source": [
    "logging.basicConfig(format='%(asctime)s %(message)s', datefmt='%m/%d/%Y %H:%M:%S',\n",
    "                    level=logging.INFO)"
   ]
  },
  {
   "cell_type": "code",
   "execution_count": 4,
   "metadata": {},
   "outputs": [],
   "source": [
    "lepping_db = niidb.FMriActivationsDb('data/sound_depression.db', mask='/data/zulqarnain/sound_depression/fmriprep/all_masks/wholebrain.nii.gz')"
   ]
  },
  {
   "cell_type": "code",
   "execution_count": 5,
   "metadata": {},
   "outputs": [
    {
     "name": "stderr",
     "output_type": "stream",
     "text": [
      "01/12/2019 22:21:58 Loading Nifti image /data/zulqarnain/sound_depression/fmriprep/sub-mdd16/func/sub-mdd16_task-music_run-5_bold_space-MNI152NLin2009cAsym_preproc.nii.gz with mask /data/zulqarnain/sound_depression/fmriprep/all_masks/wholebrain.nii.gz (zscore=True, smooth=6)\n"
     ]
    }
   ],
   "source": [
    "htfa = HTFA.HierarchicalTopographicFactorAnalysis(list(lepping_db.all(_limit=2)), mask='/data/zulqarnain/sound_depression/fmriprep/all_masks/wholebrain.nii.gz', num_factors=100)"
   ]
  },
  {
   "cell_type": "code",
   "execution_count": 6,
   "metadata": {},
   "outputs": [
    {
     "data": {
      "text/plain": [
       "[tensor(4.8044), tensor(4.8044)]"
      ]
     },
     "execution_count": 6,
     "metadata": {},
     "output_type": "execute_result"
    }
   ],
   "source": [
    "htfa.normalize_activations()"
   ]
  },
  {
   "cell_type": "code",
   "execution_count": 7,
   "metadata": {},
   "outputs": [
    {
     "ename": "RuntimeError",
     "evalue": "CUDA error: out of memory (malloc at /opt/conda/conda-bld/pytorch_1544174967633/work/aten/src/THC/THCCachingAllocator.cpp:205)\nframe #0: c10::Error::Error(c10::SourceLocation, std::string const&) + 0x45 (0x7f242a823cc5 in /home/zulqarnain/anaconda3/envs/htfatorch/lib/python3.6/site-packages/torch/lib/libc10.so)\nframe #1: <unknown function> + 0x133717f (0x7f242e2f117f in /home/zulqarnain/anaconda3/envs/htfatorch/lib/python3.6/site-packages/torch/lib/libcaffe2_gpu.so)\nframe #2: <unknown function> + 0x133798a (0x7f242e2f198a in /home/zulqarnain/anaconda3/envs/htfatorch/lib/python3.6/site-packages/torch/lib/libcaffe2_gpu.so)\nframe #3: at::native::empty_cuda(c10::ArrayRef<long>, at::TensorOptions const&) + 0x2d6 (0x7f242f6db9c6 in /home/zulqarnain/anaconda3/envs/htfatorch/lib/python3.6/site-packages/torch/lib/libcaffe2_gpu.so)\nframe #4: at::CUDAFloatType::empty(c10::ArrayRef<long>, at::TensorOptions const&) const + 0x161 (0x7f242e202b21 in /home/zulqarnain/anaconda3/envs/htfatorch/lib/python3.6/site-packages/torch/lib/libcaffe2_gpu.so)\nframe #5: torch::autograd::VariableType::empty(c10::ArrayRef<long>, at::TensorOptions const&) const + 0x179 (0x7f2427e42399 in /home/zulqarnain/anaconda3/envs/htfatorch/lib/python3.6/site-packages/torch/lib/libtorch.so.1)\nframe #6: torch::cuda::broadcast(at::Tensor const&, c10::ArrayRef<long>) + 0x545 (0x7f245aea4185 in /home/zulqarnain/anaconda3/envs/htfatorch/lib/python3.6/site-packages/torch/lib/libtorch_python.so)\nframe #7: torch::cuda::broadcast_coalesced(c10::ArrayRef<at::Tensor>, c10::ArrayRef<long>, unsigned long) + 0x7e6 (0x7f245aea4df6 in /home/zulqarnain/anaconda3/envs/htfatorch/lib/python3.6/site-packages/torch/lib/libtorch_python.so)\nframe #8: <unknown function> + 0x4fa616 (0x7f245aea9616 in /home/zulqarnain/anaconda3/envs/htfatorch/lib/python3.6/site-packages/torch/lib/libtorch_python.so)\nframe #9: <unknown function> + 0x111e36 (0x7f245aac0e36 in /home/zulqarnain/anaconda3/envs/htfatorch/lib/python3.6/site-packages/torch/lib/libtorch_python.so)\nframe #10: _PyCFunction_FastCallDict + 0x154 (0x55ddbf5f8744 in /home/zulqarnain/anaconda3/envs/htfatorch/bin/python)\nframe #11: <unknown function> + 0x19842c (0x55ddbf67f42c in /home/zulqarnain/anaconda3/envs/htfatorch/bin/python)\nframe #12: _PyEval_EvalFrameDefault + 0x30a (0x55ddbf6a438a in /home/zulqarnain/anaconda3/envs/htfatorch/bin/python)\nframe #13: <unknown function> + 0x1918e4 (0x55ddbf6788e4 in /home/zulqarnain/anaconda3/envs/htfatorch/bin/python)\nframe #14: <unknown function> + 0x192771 (0x55ddbf679771 in /home/zulqarnain/anaconda3/envs/htfatorch/bin/python)\nframe #15: <unknown function> + 0x198505 (0x55ddbf67f505 in /home/zulqarnain/anaconda3/envs/htfatorch/bin/python)\nframe #16: _PyEval_EvalFrameDefault + 0x30a (0x55ddbf6a438a in /home/zulqarnain/anaconda3/envs/htfatorch/bin/python)\nframe #17: PyEval_EvalCodeEx + 0x329 (0x55ddbf67a289 in /home/zulqarnain/anaconda3/envs/htfatorch/bin/python)\nframe #18: <unknown function> + 0x194094 (0x55ddbf67b094 in /home/zulqarnain/anaconda3/envs/htfatorch/bin/python)\nframe #19: PyObject_Call + 0x3e (0x55ddbf5f854e in /home/zulqarnain/anaconda3/envs/htfatorch/bin/python)\nframe #20: THPFunction_apply(_object*, _object*) + 0x5dd (0x7f245acbc40d in /home/zulqarnain/anaconda3/envs/htfatorch/lib/python3.6/site-packages/torch/lib/libtorch_python.so)\nframe #21: PyCFunction_Call + 0x5f (0x55ddbf5fb63f in /home/zulqarnain/anaconda3/envs/htfatorch/bin/python)\nframe #22: _PyEval_EvalFrameDefault + 0x542d (0x55ddbf6a94ad in /home/zulqarnain/anaconda3/envs/htfatorch/bin/python)\nframe #23: <unknown function> + 0x191bfe (0x55ddbf678bfe in /home/zulqarnain/anaconda3/envs/htfatorch/bin/python)\nframe #24: <unknown function> + 0x192771 (0x55ddbf679771 in /home/zulqarnain/anaconda3/envs/htfatorch/bin/python)\nframe #25: <unknown function> + 0x198505 (0x55ddbf67f505 in /home/zulqarnain/anaconda3/envs/htfatorch/bin/python)\nframe #26: _PyEval_EvalFrameDefault + 0x30a (0x55ddbf6a438a in /home/zulqarnain/anaconda3/envs/htfatorch/bin/python)\nframe #27: <unknown function> + 0x19253b (0x55ddbf67953b in /home/zulqarnain/anaconda3/envs/htfatorch/bin/python)\nframe #28: <unknown function> + 0x198505 (0x55ddbf67f505 in /home/zulqarnain/anaconda3/envs/htfatorch/bin/python)\nframe #29: _PyEval_EvalFrameDefault + 0x30a (0x55ddbf6a438a in /home/zulqarnain/anaconda3/envs/htfatorch/bin/python)\nframe #30: <unknown function> + 0x1918e4 (0x55ddbf6788e4 in /home/zulqarnain/anaconda3/envs/htfatorch/bin/python)\nframe #31: _PyFunction_FastCallDict + 0x3da (0x55ddbf679e6a in /home/zulqarnain/anaconda3/envs/htfatorch/bin/python)\nframe #32: _PyObject_FastCallDict + 0x26f (0x55ddbf5f8b0f in /home/zulqarnain/anaconda3/envs/htfatorch/bin/python)\nframe #33: _PyObject_Call_Prepend + 0x63 (0x55ddbf5fd6a3 in /home/zulqarnain/anaconda3/envs/htfatorch/bin/python)\nframe #34: PyObject_Call + 0x3e (0x55ddbf5f854e in /home/zulqarnain/anaconda3/envs/htfatorch/bin/python)\nframe #35: _PyEval_EvalFrameDefault + 0x19ec (0x55ddbf6a5a6c in /home/zulqarnain/anaconda3/envs/htfatorch/bin/python)\nframe #36: <unknown function> + 0x1918e4 (0x55ddbf6788e4 in /home/zulqarnain/anaconda3/envs/htfatorch/bin/python)\nframe #37: _PyFunction_FastCallDict + 0x3da (0x55ddbf679e6a in /home/zulqarnain/anaconda3/envs/htfatorch/bin/python)\nframe #38: _PyObject_FastCallDict + 0x26f (0x55ddbf5f8b0f in /home/zulqarnain/anaconda3/envs/htfatorch/bin/python)\nframe #39: _PyObject_Call_Prepend + 0x63 (0x55ddbf5fd6a3 in /home/zulqarnain/anaconda3/envs/htfatorch/bin/python)\nframe #40: PyObject_Call + 0x3e (0x55ddbf5f854e in /home/zulqarnain/anaconda3/envs/htfatorch/bin/python)\nframe #41: <unknown function> + 0x16ba91 (0x55ddbf652a91 in /home/zulqarnain/anaconda3/envs/htfatorch/bin/python)\nframe #42: _PyObject_FastCallDict + 0x8b (0x55ddbf5f892b in /home/zulqarnain/anaconda3/envs/htfatorch/bin/python)\nframe #43: _PyObject_FastCallKeywords + 0xaa (0x55ddbf679a5a in /home/zulqarnain/anaconda3/envs/htfatorch/bin/python)\nframe #44: <unknown function> + 0x19857e (0x55ddbf67f57e in /home/zulqarnain/anaconda3/envs/htfatorch/bin/python)\nframe #45: _PyEval_EvalFrameDefault + 0x10c7 (0x55ddbf6a5147 in /home/zulqarnain/anaconda3/envs/htfatorch/bin/python)\nframe #46: <unknown function> + 0x191bfe (0x55ddbf678bfe in /home/zulqarnain/anaconda3/envs/htfatorch/bin/python)\nframe #47: <unknown function> + 0x192771 (0x55ddbf679771 in /home/zulqarnain/anaconda3/envs/htfatorch/bin/python)\nframe #48: <unknown function> + 0x198505 (0x55ddbf67f505 in /home/zulqarnain/anaconda3/envs/htfatorch/bin/python)\nframe #49: _PyEval_EvalFrameDefault + 0x10c7 (0x55ddbf6a5147 in /home/zulqarnain/anaconda3/envs/htfatorch/bin/python)\nframe #50: PyEval_EvalCodeEx + 0x329 (0x55ddbf67a289 in /home/zulqarnain/anaconda3/envs/htfatorch/bin/python)\nframe #51: PyEval_EvalCode + 0x1c (0x55ddbf67b01c in /home/zulqarnain/anaconda3/envs/htfatorch/bin/python)\nframe #52: <unknown function> + 0x1bad97 (0x55ddbf6a1d97 in /home/zulqarnain/anaconda3/envs/htfatorch/bin/python)\nframe #53: _PyCFunction_FastCallDict + 0x91 (0x55ddbf5f8681 in /home/zulqarnain/anaconda3/envs/htfatorch/bin/python)\nframe #54: <unknown function> + 0x19842c (0x55ddbf67f42c in /home/zulqarnain/anaconda3/envs/htfatorch/bin/python)\nframe #55: _PyEval_EvalFrameDefault + 0x30a (0x55ddbf6a438a in /home/zulqarnain/anaconda3/envs/htfatorch/bin/python)\nframe #56: <unknown function> + 0x1918e4 (0x55ddbf6788e4 in /home/zulqarnain/anaconda3/envs/htfatorch/bin/python)\nframe #57: <unknown function> + 0x192771 (0x55ddbf679771 in /home/zulqarnain/anaconda3/envs/htfatorch/bin/python)\nframe #58: <unknown function> + 0x198505 (0x55ddbf67f505 in /home/zulqarnain/anaconda3/envs/htfatorch/bin/python)\nframe #59: _PyEval_EvalFrameDefault + 0x30a (0x55ddbf6a438a in /home/zulqarnain/anaconda3/envs/htfatorch/bin/python)\nframe #60: <unknown function> + 0x1918e4 (0x55ddbf6788e4 in /home/zulqarnain/anaconda3/envs/htfatorch/bin/python)\nframe #61: <unknown function> + 0x192771 (0x55ddbf679771 in /home/zulqarnain/anaconda3/envs/htfatorch/bin/python)\nframe #62: <unknown function> + 0x198505 (0x55ddbf67f505 in /home/zulqarnain/anaconda3/envs/htfatorch/bin/python)\nframe #63: _PyEval_EvalFrameDefault + 0x10c7 (0x55ddbf6a5147 in /home/zulqarnain/anaconda3/envs/htfatorch/bin/python)\n",
     "output_type": "error",
     "traceback": [
      "\u001b[0;31m---------------------------------------------------------------------------\u001b[0m",
      "\u001b[0;31mRuntimeError\u001b[0m                              Traceback (most recent call last)",
      "\u001b[0;32m<ipython-input-7-3c9013ed99d0>\u001b[0m in \u001b[0;36m<module>\u001b[0;34m()\u001b[0m\n\u001b[1;32m      1\u001b[0m losses = htfa.train(num_steps=2, learning_rate=1e-2, log_level=logging.INFO, num_particles=1,\n\u001b[0;32m----> 2\u001b[0;31m                     batch_size=300, use_cuda=True, checkpoint_steps=50, blocks_batch_size=4)\n\u001b[0m",
      "\u001b[0;32m~/featuresounddepression/htfatorch/htfa_torch/htfa.py\u001b[0m in \u001b[0;36mtrain\u001b[0;34m(self, num_steps, learning_rate, log_level, num_particles, batch_size, use_cuda, blocks_batch_size, checkpoint_steps)\u001b[0m\n\u001b[1;32m    126\u001b[0m                     \u001b[0mq\u001b[0m \u001b[0;34m=\u001b[0m \u001b[0mprobtorch\u001b[0m\u001b[0;34m.\u001b[0m\u001b[0mTrace\u001b[0m\u001b[0;34m(\u001b[0m\u001b[0;34m)\u001b[0m\u001b[0;34m\u001b[0m\u001b[0;34m\u001b[0m\u001b[0m\n\u001b[1;32m    127\u001b[0m                     enc(q, times=trs, num_particles=num_particles,\n\u001b[0;32m--> 128\u001b[0;31m                         blocks=block_batch)\n\u001b[0m\u001b[1;32m    129\u001b[0m                     \u001b[0mp\u001b[0m \u001b[0;34m=\u001b[0m \u001b[0mprobtorch\u001b[0m\u001b[0;34m.\u001b[0m\u001b[0mTrace\u001b[0m\u001b[0;34m(\u001b[0m\u001b[0;34m)\u001b[0m\u001b[0;34m\u001b[0m\u001b[0;34m\u001b[0m\u001b[0m\n\u001b[1;32m    130\u001b[0m                     dec(p, times=trs, guide=q, observations=activations,\n",
      "\u001b[0;32m~/anaconda3/envs/htfatorch/lib/python3.6/site-packages/torch/nn/modules/module.py\u001b[0m in \u001b[0;36m__call__\u001b[0;34m(self, *input, **kwargs)\u001b[0m\n\u001b[1;32m    487\u001b[0m             \u001b[0mresult\u001b[0m \u001b[0;34m=\u001b[0m \u001b[0mself\u001b[0m\u001b[0;34m.\u001b[0m\u001b[0m_slow_forward\u001b[0m\u001b[0;34m(\u001b[0m\u001b[0;34m*\u001b[0m\u001b[0minput\u001b[0m\u001b[0;34m,\u001b[0m \u001b[0;34m**\u001b[0m\u001b[0mkwargs\u001b[0m\u001b[0;34m)\u001b[0m\u001b[0;34m\u001b[0m\u001b[0;34m\u001b[0m\u001b[0m\n\u001b[1;32m    488\u001b[0m         \u001b[0;32melse\u001b[0m\u001b[0;34m:\u001b[0m\u001b[0;34m\u001b[0m\u001b[0;34m\u001b[0m\u001b[0m\n\u001b[0;32m--> 489\u001b[0;31m             \u001b[0mresult\u001b[0m \u001b[0;34m=\u001b[0m \u001b[0mself\u001b[0m\u001b[0;34m.\u001b[0m\u001b[0mforward\u001b[0m\u001b[0;34m(\u001b[0m\u001b[0;34m*\u001b[0m\u001b[0minput\u001b[0m\u001b[0;34m,\u001b[0m \u001b[0;34m**\u001b[0m\u001b[0mkwargs\u001b[0m\u001b[0;34m)\u001b[0m\u001b[0;34m\u001b[0m\u001b[0;34m\u001b[0m\u001b[0m\n\u001b[0m\u001b[1;32m    490\u001b[0m         \u001b[0;32mfor\u001b[0m \u001b[0mhook\u001b[0m \u001b[0;32min\u001b[0m \u001b[0mself\u001b[0m\u001b[0;34m.\u001b[0m\u001b[0m_forward_hooks\u001b[0m\u001b[0;34m.\u001b[0m\u001b[0mvalues\u001b[0m\u001b[0;34m(\u001b[0m\u001b[0;34m)\u001b[0m\u001b[0;34m:\u001b[0m\u001b[0;34m\u001b[0m\u001b[0;34m\u001b[0m\u001b[0m\n\u001b[1;32m    491\u001b[0m             \u001b[0mhook_result\u001b[0m \u001b[0;34m=\u001b[0m \u001b[0mhook\u001b[0m\u001b[0;34m(\u001b[0m\u001b[0mself\u001b[0m\u001b[0;34m,\u001b[0m \u001b[0minput\u001b[0m\u001b[0;34m,\u001b[0m \u001b[0mresult\u001b[0m\u001b[0;34m)\u001b[0m\u001b[0;34m\u001b[0m\u001b[0;34m\u001b[0m\u001b[0m\n",
      "\u001b[0;32m~/anaconda3/envs/htfatorch/lib/python3.6/site-packages/torch/nn/parallel/data_parallel.py\u001b[0m in \u001b[0;36mforward\u001b[0;34m(self, *inputs, **kwargs)\u001b[0m\n\u001b[1;32m    140\u001b[0m         \u001b[0;32mif\u001b[0m \u001b[0mlen\u001b[0m\u001b[0;34m(\u001b[0m\u001b[0mself\u001b[0m\u001b[0;34m.\u001b[0m\u001b[0mdevice_ids\u001b[0m\u001b[0;34m)\u001b[0m \u001b[0;34m==\u001b[0m \u001b[0;36m1\u001b[0m\u001b[0;34m:\u001b[0m\u001b[0;34m\u001b[0m\u001b[0;34m\u001b[0m\u001b[0m\n\u001b[1;32m    141\u001b[0m             \u001b[0;32mreturn\u001b[0m \u001b[0mself\u001b[0m\u001b[0;34m.\u001b[0m\u001b[0mmodule\u001b[0m\u001b[0;34m(\u001b[0m\u001b[0;34m*\u001b[0m\u001b[0minputs\u001b[0m\u001b[0;34m[\u001b[0m\u001b[0;36m0\u001b[0m\u001b[0;34m]\u001b[0m\u001b[0;34m,\u001b[0m \u001b[0;34m**\u001b[0m\u001b[0mkwargs\u001b[0m\u001b[0;34m[\u001b[0m\u001b[0;36m0\u001b[0m\u001b[0;34m]\u001b[0m\u001b[0;34m)\u001b[0m\u001b[0;34m\u001b[0m\u001b[0;34m\u001b[0m\u001b[0m\n\u001b[0;32m--> 142\u001b[0;31m         \u001b[0mreplicas\u001b[0m \u001b[0;34m=\u001b[0m \u001b[0mself\u001b[0m\u001b[0;34m.\u001b[0m\u001b[0mreplicate\u001b[0m\u001b[0;34m(\u001b[0m\u001b[0mself\u001b[0m\u001b[0;34m.\u001b[0m\u001b[0mmodule\u001b[0m\u001b[0;34m,\u001b[0m \u001b[0mself\u001b[0m\u001b[0;34m.\u001b[0m\u001b[0mdevice_ids\u001b[0m\u001b[0;34m[\u001b[0m\u001b[0;34m:\u001b[0m\u001b[0mlen\u001b[0m\u001b[0;34m(\u001b[0m\u001b[0minputs\u001b[0m\u001b[0;34m)\u001b[0m\u001b[0;34m]\u001b[0m\u001b[0;34m)\u001b[0m\u001b[0;34m\u001b[0m\u001b[0;34m\u001b[0m\u001b[0m\n\u001b[0m\u001b[1;32m    143\u001b[0m         \u001b[0moutputs\u001b[0m \u001b[0;34m=\u001b[0m \u001b[0mself\u001b[0m\u001b[0;34m.\u001b[0m\u001b[0mparallel_apply\u001b[0m\u001b[0;34m(\u001b[0m\u001b[0mreplicas\u001b[0m\u001b[0;34m,\u001b[0m \u001b[0minputs\u001b[0m\u001b[0;34m,\u001b[0m \u001b[0mkwargs\u001b[0m\u001b[0;34m)\u001b[0m\u001b[0;34m\u001b[0m\u001b[0;34m\u001b[0m\u001b[0m\n\u001b[1;32m    144\u001b[0m         \u001b[0;32mreturn\u001b[0m \u001b[0mself\u001b[0m\u001b[0;34m.\u001b[0m\u001b[0mgather\u001b[0m\u001b[0;34m(\u001b[0m\u001b[0moutputs\u001b[0m\u001b[0;34m,\u001b[0m \u001b[0mself\u001b[0m\u001b[0;34m.\u001b[0m\u001b[0moutput_device\u001b[0m\u001b[0;34m)\u001b[0m\u001b[0;34m\u001b[0m\u001b[0;34m\u001b[0m\u001b[0m\n",
      "\u001b[0;32m~/anaconda3/envs/htfatorch/lib/python3.6/site-packages/torch/nn/parallel/data_parallel.py\u001b[0m in \u001b[0;36mreplicate\u001b[0;34m(self, module, device_ids)\u001b[0m\n\u001b[1;32m    145\u001b[0m \u001b[0;34m\u001b[0m\u001b[0m\n\u001b[1;32m    146\u001b[0m     \u001b[0;32mdef\u001b[0m \u001b[0mreplicate\u001b[0m\u001b[0;34m(\u001b[0m\u001b[0mself\u001b[0m\u001b[0;34m,\u001b[0m \u001b[0mmodule\u001b[0m\u001b[0;34m,\u001b[0m \u001b[0mdevice_ids\u001b[0m\u001b[0;34m)\u001b[0m\u001b[0;34m:\u001b[0m\u001b[0;34m\u001b[0m\u001b[0;34m\u001b[0m\u001b[0m\n\u001b[0;32m--> 147\u001b[0;31m         \u001b[0;32mreturn\u001b[0m \u001b[0mreplicate\u001b[0m\u001b[0;34m(\u001b[0m\u001b[0mmodule\u001b[0m\u001b[0;34m,\u001b[0m \u001b[0mdevice_ids\u001b[0m\u001b[0;34m)\u001b[0m\u001b[0;34m\u001b[0m\u001b[0;34m\u001b[0m\u001b[0m\n\u001b[0m\u001b[1;32m    148\u001b[0m \u001b[0;34m\u001b[0m\u001b[0m\n\u001b[1;32m    149\u001b[0m     \u001b[0;32mdef\u001b[0m \u001b[0mscatter\u001b[0m\u001b[0;34m(\u001b[0m\u001b[0mself\u001b[0m\u001b[0;34m,\u001b[0m \u001b[0minputs\u001b[0m\u001b[0;34m,\u001b[0m \u001b[0mkwargs\u001b[0m\u001b[0;34m,\u001b[0m \u001b[0mdevice_ids\u001b[0m\u001b[0;34m)\u001b[0m\u001b[0;34m:\u001b[0m\u001b[0;34m\u001b[0m\u001b[0;34m\u001b[0m\u001b[0m\n",
      "\u001b[0;32m~/anaconda3/envs/htfatorch/lib/python3.6/site-packages/torch/nn/parallel/replicate.py\u001b[0m in \u001b[0;36mreplicate\u001b[0;34m(network, devices, detach)\u001b[0m\n\u001b[1;32m     11\u001b[0m     \u001b[0mparams\u001b[0m \u001b[0;34m=\u001b[0m \u001b[0mlist\u001b[0m\u001b[0;34m(\u001b[0m\u001b[0mnetwork\u001b[0m\u001b[0;34m.\u001b[0m\u001b[0mparameters\u001b[0m\u001b[0;34m(\u001b[0m\u001b[0;34m)\u001b[0m\u001b[0;34m)\u001b[0m\u001b[0;34m\u001b[0m\u001b[0;34m\u001b[0m\u001b[0m\n\u001b[1;32m     12\u001b[0m     \u001b[0mparam_indices\u001b[0m \u001b[0;34m=\u001b[0m \u001b[0;34m{\u001b[0m\u001b[0mparam\u001b[0m\u001b[0;34m:\u001b[0m \u001b[0midx\u001b[0m \u001b[0;32mfor\u001b[0m \u001b[0midx\u001b[0m\u001b[0;34m,\u001b[0m \u001b[0mparam\u001b[0m \u001b[0;32min\u001b[0m \u001b[0menumerate\u001b[0m\u001b[0;34m(\u001b[0m\u001b[0mparams\u001b[0m\u001b[0;34m)\u001b[0m\u001b[0;34m}\u001b[0m\u001b[0;34m\u001b[0m\u001b[0;34m\u001b[0m\u001b[0m\n\u001b[0;32m---> 13\u001b[0;31m     \u001b[0mparam_copies\u001b[0m \u001b[0;34m=\u001b[0m \u001b[0mBroadcast\u001b[0m\u001b[0;34m.\u001b[0m\u001b[0mapply\u001b[0m\u001b[0;34m(\u001b[0m\u001b[0mdevices\u001b[0m\u001b[0;34m,\u001b[0m \u001b[0;34m*\u001b[0m\u001b[0mparams\u001b[0m\u001b[0;34m)\u001b[0m\u001b[0;34m\u001b[0m\u001b[0;34m\u001b[0m\u001b[0m\n\u001b[0m\u001b[1;32m     14\u001b[0m     \u001b[0;32mif\u001b[0m \u001b[0mlen\u001b[0m\u001b[0;34m(\u001b[0m\u001b[0mparams\u001b[0m\u001b[0;34m)\u001b[0m \u001b[0;34m>\u001b[0m \u001b[0;36m0\u001b[0m\u001b[0;34m:\u001b[0m\u001b[0;34m\u001b[0m\u001b[0;34m\u001b[0m\u001b[0m\n\u001b[1;32m     15\u001b[0m         param_copies = [param_copies[i:i + len(params)]\n",
      "\u001b[0;32m~/anaconda3/envs/htfatorch/lib/python3.6/site-packages/torch/nn/parallel/_functions.py\u001b[0m in \u001b[0;36mforward\u001b[0;34m(ctx, target_gpus, *inputs)\u001b[0m\n\u001b[1;32m     19\u001b[0m         \u001b[0mctx\u001b[0m\u001b[0;34m.\u001b[0m\u001b[0mnum_inputs\u001b[0m \u001b[0;34m=\u001b[0m \u001b[0mlen\u001b[0m\u001b[0;34m(\u001b[0m\u001b[0minputs\u001b[0m\u001b[0;34m)\u001b[0m\u001b[0;34m\u001b[0m\u001b[0;34m\u001b[0m\u001b[0m\n\u001b[1;32m     20\u001b[0m         \u001b[0mctx\u001b[0m\u001b[0;34m.\u001b[0m\u001b[0minput_device\u001b[0m \u001b[0;34m=\u001b[0m \u001b[0minputs\u001b[0m\u001b[0;34m[\u001b[0m\u001b[0;36m0\u001b[0m\u001b[0;34m]\u001b[0m\u001b[0;34m.\u001b[0m\u001b[0mget_device\u001b[0m\u001b[0;34m(\u001b[0m\u001b[0;34m)\u001b[0m\u001b[0;34m\u001b[0m\u001b[0;34m\u001b[0m\u001b[0m\n\u001b[0;32m---> 21\u001b[0;31m         \u001b[0moutputs\u001b[0m \u001b[0;34m=\u001b[0m \u001b[0mcomm\u001b[0m\u001b[0;34m.\u001b[0m\u001b[0mbroadcast_coalesced\u001b[0m\u001b[0;34m(\u001b[0m\u001b[0minputs\u001b[0m\u001b[0;34m,\u001b[0m \u001b[0mctx\u001b[0m\u001b[0;34m.\u001b[0m\u001b[0mtarget_gpus\u001b[0m\u001b[0;34m)\u001b[0m\u001b[0;34m\u001b[0m\u001b[0;34m\u001b[0m\u001b[0m\n\u001b[0m\u001b[1;32m     22\u001b[0m         \u001b[0mnon_differentiables\u001b[0m \u001b[0;34m=\u001b[0m \u001b[0;34m[\u001b[0m\u001b[0;34m]\u001b[0m\u001b[0;34m\u001b[0m\u001b[0;34m\u001b[0m\u001b[0m\n\u001b[1;32m     23\u001b[0m         \u001b[0;32mfor\u001b[0m \u001b[0midx\u001b[0m\u001b[0;34m,\u001b[0m \u001b[0minput_requires_grad\u001b[0m \u001b[0;32min\u001b[0m \u001b[0menumerate\u001b[0m\u001b[0;34m(\u001b[0m\u001b[0mctx\u001b[0m\u001b[0;34m.\u001b[0m\u001b[0mneeds_input_grad\u001b[0m\u001b[0;34m[\u001b[0m\u001b[0;36m1\u001b[0m\u001b[0;34m:\u001b[0m\u001b[0;34m]\u001b[0m\u001b[0;34m)\u001b[0m\u001b[0;34m:\u001b[0m\u001b[0;34m\u001b[0m\u001b[0;34m\u001b[0m\u001b[0m\n",
      "\u001b[0;32m~/anaconda3/envs/htfatorch/lib/python3.6/site-packages/torch/cuda/comm.py\u001b[0m in \u001b[0;36mbroadcast_coalesced\u001b[0;34m(tensors, devices, buffer_size)\u001b[0m\n\u001b[1;32m     38\u001b[0m         \u001b[0mcorresponding\u001b[0m \u001b[0mto\u001b[0m \u001b[0mindices\u001b[0m \u001b[0;32mfrom\u001b[0m\u001b[0;31m \u001b[0m\u001b[0;31m`\u001b[0m\u001b[0;31m`\u001b[0m\u001b[0mdevices\u001b[0m\u001b[0;31m`\u001b[0m\u001b[0;31m`\u001b[0m\u001b[0;34m.\u001b[0m\u001b[0;34m\u001b[0m\u001b[0;34m\u001b[0m\u001b[0m\n\u001b[1;32m     39\u001b[0m     \"\"\"\n\u001b[0;32m---> 40\u001b[0;31m     \u001b[0;32mreturn\u001b[0m \u001b[0mtorch\u001b[0m\u001b[0;34m.\u001b[0m\u001b[0m_C\u001b[0m\u001b[0;34m.\u001b[0m\u001b[0m_broadcast_coalesced\u001b[0m\u001b[0;34m(\u001b[0m\u001b[0mtensors\u001b[0m\u001b[0;34m,\u001b[0m \u001b[0mdevices\u001b[0m\u001b[0;34m,\u001b[0m \u001b[0mbuffer_size\u001b[0m\u001b[0;34m)\u001b[0m\u001b[0;34m\u001b[0m\u001b[0;34m\u001b[0m\u001b[0m\n\u001b[0m\u001b[1;32m     41\u001b[0m \u001b[0;34m\u001b[0m\u001b[0m\n\u001b[1;32m     42\u001b[0m \u001b[0;34m\u001b[0m\u001b[0m\n",
      "\u001b[0;31mRuntimeError\u001b[0m: CUDA error: out of memory (malloc at /opt/conda/conda-bld/pytorch_1544174967633/work/aten/src/THC/THCCachingAllocator.cpp:205)\nframe #0: c10::Error::Error(c10::SourceLocation, std::string const&) + 0x45 (0x7f242a823cc5 in /home/zulqarnain/anaconda3/envs/htfatorch/lib/python3.6/site-packages/torch/lib/libc10.so)\nframe #1: <unknown function> + 0x133717f (0x7f242e2f117f in /home/zulqarnain/anaconda3/envs/htfatorch/lib/python3.6/site-packages/torch/lib/libcaffe2_gpu.so)\nframe #2: <unknown function> + 0x133798a (0x7f242e2f198a in /home/zulqarnain/anaconda3/envs/htfatorch/lib/python3.6/site-packages/torch/lib/libcaffe2_gpu.so)\nframe #3: at::native::empty_cuda(c10::ArrayRef<long>, at::TensorOptions const&) + 0x2d6 (0x7f242f6db9c6 in /home/zulqarnain/anaconda3/envs/htfatorch/lib/python3.6/site-packages/torch/lib/libcaffe2_gpu.so)\nframe #4: at::CUDAFloatType::empty(c10::ArrayRef<long>, at::TensorOptions const&) const + 0x161 (0x7f242e202b21 in /home/zulqarnain/anaconda3/envs/htfatorch/lib/python3.6/site-packages/torch/lib/libcaffe2_gpu.so)\nframe #5: torch::autograd::VariableType::empty(c10::ArrayRef<long>, at::TensorOptions const&) const + 0x179 (0x7f2427e42399 in /home/zulqarnain/anaconda3/envs/htfatorch/lib/python3.6/site-packages/torch/lib/libtorch.so.1)\nframe #6: torch::cuda::broadcast(at::Tensor const&, c10::ArrayRef<long>) + 0x545 (0x7f245aea4185 in /home/zulqarnain/anaconda3/envs/htfatorch/lib/python3.6/site-packages/torch/lib/libtorch_python.so)\nframe #7: torch::cuda::broadcast_coalesced(c10::ArrayRef<at::Tensor>, c10::ArrayRef<long>, unsigned long) + 0x7e6 (0x7f245aea4df6 in /home/zulqarnain/anaconda3/envs/htfatorch/lib/python3.6/site-packages/torch/lib/libtorch_python.so)\nframe #8: <unknown function> + 0x4fa616 (0x7f245aea9616 in /home/zulqarnain/anaconda3/envs/htfatorch/lib/python3.6/site-packages/torch/lib/libtorch_python.so)\nframe #9: <unknown function> + 0x111e36 (0x7f245aac0e36 in /home/zulqarnain/anaconda3/envs/htfatorch/lib/python3.6/site-packages/torch/lib/libtorch_python.so)\nframe #10: _PyCFunction_FastCallDict + 0x154 (0x55ddbf5f8744 in /home/zulqarnain/anaconda3/envs/htfatorch/bin/python)\nframe #11: <unknown function> + 0x19842c (0x55ddbf67f42c in /home/zulqarnain/anaconda3/envs/htfatorch/bin/python)\nframe #12: _PyEval_EvalFrameDefault + 0x30a (0x55ddbf6a438a in /home/zulqarnain/anaconda3/envs/htfatorch/bin/python)\nframe #13: <unknown function> + 0x1918e4 (0x55ddbf6788e4 in /home/zulqarnain/anaconda3/envs/htfatorch/bin/python)\nframe #14: <unknown function> + 0x192771 (0x55ddbf679771 in /home/zulqarnain/anaconda3/envs/htfatorch/bin/python)\nframe #15: <unknown function> + 0x198505 (0x55ddbf67f505 in /home/zulqarnain/anaconda3/envs/htfatorch/bin/python)\nframe #16: _PyEval_EvalFrameDefault + 0x30a (0x55ddbf6a438a in /home/zulqarnain/anaconda3/envs/htfatorch/bin/python)\nframe #17: PyEval_EvalCodeEx + 0x329 (0x55ddbf67a289 in /home/zulqarnain/anaconda3/envs/htfatorch/bin/python)\nframe #18: <unknown function> + 0x194094 (0x55ddbf67b094 in /home/zulqarnain/anaconda3/envs/htfatorch/bin/python)\nframe #19: PyObject_Call + 0x3e (0x55ddbf5f854e in /home/zulqarnain/anaconda3/envs/htfatorch/bin/python)\nframe #20: THPFunction_apply(_object*, _object*) + 0x5dd (0x7f245acbc40d in /home/zulqarnain/anaconda3/envs/htfatorch/lib/python3.6/site-packages/torch/lib/libtorch_python.so)\nframe #21: PyCFunction_Call + 0x5f (0x55ddbf5fb63f in /home/zulqarnain/anaconda3/envs/htfatorch/bin/python)\nframe #22: _PyEval_EvalFrameDefault + 0x542d (0x55ddbf6a94ad in /home/zulqarnain/anaconda3/envs/htfatorch/bin/python)\nframe #23: <unknown function> + 0x191bfe (0x55ddbf678bfe in /home/zulqarnain/anaconda3/envs/htfatorch/bin/python)\nframe #24: <unknown function> + 0x192771 (0x55ddbf679771 in /home/zulqarnain/anaconda3/envs/htfatorch/bin/python)\nframe #25: <unknown function> + 0x198505 (0x55ddbf67f505 in /home/zulqarnain/anaconda3/envs/htfatorch/bin/python)\nframe #26: _PyEval_EvalFrameDefault + 0x30a (0x55ddbf6a438a in /home/zulqarnain/anaconda3/envs/htfatorch/bin/python)\nframe #27: <unknown function> + 0x19253b (0x55ddbf67953b in /home/zulqarnain/anaconda3/envs/htfatorch/bin/python)\nframe #28: <unknown function> + 0x198505 (0x55ddbf67f505 in /home/zulqarnain/anaconda3/envs/htfatorch/bin/python)\nframe #29: _PyEval_EvalFrameDefault + 0x30a (0x55ddbf6a438a in /home/zulqarnain/anaconda3/envs/htfatorch/bin/python)\nframe #30: <unknown function> + 0x1918e4 (0x55ddbf6788e4 in /home/zulqarnain/anaconda3/envs/htfatorch/bin/python)\nframe #31: _PyFunction_FastCallDict + 0x3da (0x55ddbf679e6a in /home/zulqarnain/anaconda3/envs/htfatorch/bin/python)\nframe #32: _PyObject_FastCallDict + 0x26f (0x55ddbf5f8b0f in /home/zulqarnain/anaconda3/envs/htfatorch/bin/python)\nframe #33: _PyObject_Call_Prepend + 0x63 (0x55ddbf5fd6a3 in /home/zulqarnain/anaconda3/envs/htfatorch/bin/python)\nframe #34: PyObject_Call + 0x3e (0x55ddbf5f854e in /home/zulqarnain/anaconda3/envs/htfatorch/bin/python)\nframe #35: _PyEval_EvalFrameDefault + 0x19ec (0x55ddbf6a5a6c in /home/zulqarnain/anaconda3/envs/htfatorch/bin/python)\nframe #36: <unknown function> + 0x1918e4 (0x55ddbf6788e4 in /home/zulqarnain/anaconda3/envs/htfatorch/bin/python)\nframe #37: _PyFunction_FastCallDict + 0x3da (0x55ddbf679e6a in /home/zulqarnain/anaconda3/envs/htfatorch/bin/python)\nframe #38: _PyObject_FastCallDict + 0x26f (0x55ddbf5f8b0f in /home/zulqarnain/anaconda3/envs/htfatorch/bin/python)\nframe #39: _PyObject_Call_Prepend + 0x63 (0x55ddbf5fd6a3 in /home/zulqarnain/anaconda3/envs/htfatorch/bin/python)\nframe #40: PyObject_Call + 0x3e (0x55ddbf5f854e in /home/zulqarnain/anaconda3/envs/htfatorch/bin/python)\nframe #41: <unknown function> + 0x16ba91 (0x55ddbf652a91 in /home/zulqarnain/anaconda3/envs/htfatorch/bin/python)\nframe #42: _PyObject_FastCallDict + 0x8b (0x55ddbf5f892b in /home/zulqarnain/anaconda3/envs/htfatorch/bin/python)\nframe #43: _PyObject_FastCallKeywords + 0xaa (0x55ddbf679a5a in /home/zulqarnain/anaconda3/envs/htfatorch/bin/python)\nframe #44: <unknown function> + 0x19857e (0x55ddbf67f57e in /home/zulqarnain/anaconda3/envs/htfatorch/bin/python)\nframe #45: _PyEval_EvalFrameDefault + 0x10c7 (0x55ddbf6a5147 in /home/zulqarnain/anaconda3/envs/htfatorch/bin/python)\nframe #46: <unknown function> + 0x191bfe (0x55ddbf678bfe in /home/zulqarnain/anaconda3/envs/htfatorch/bin/python)\nframe #47: <unknown function> + 0x192771 (0x55ddbf679771 in /home/zulqarnain/anaconda3/envs/htfatorch/bin/python)\nframe #48: <unknown function> + 0x198505 (0x55ddbf67f505 in /home/zulqarnain/anaconda3/envs/htfatorch/bin/python)\nframe #49: _PyEval_EvalFrameDefault + 0x10c7 (0x55ddbf6a5147 in /home/zulqarnain/anaconda3/envs/htfatorch/bin/python)\nframe #50: PyEval_EvalCodeEx + 0x329 (0x55ddbf67a289 in /home/zulqarnain/anaconda3/envs/htfatorch/bin/python)\nframe #51: PyEval_EvalCode + 0x1c (0x55ddbf67b01c in /home/zulqarnain/anaconda3/envs/htfatorch/bin/python)\nframe #52: <unknown function> + 0x1bad97 (0x55ddbf6a1d97 in /home/zulqarnain/anaconda3/envs/htfatorch/bin/python)\nframe #53: _PyCFunction_FastCallDict + 0x91 (0x55ddbf5f8681 in /home/zulqarnain/anaconda3/envs/htfatorch/bin/python)\nframe #54: <unknown function> + 0x19842c (0x55ddbf67f42c in /home/zulqarnain/anaconda3/envs/htfatorch/bin/python)\nframe #55: _PyEval_EvalFrameDefault + 0x30a (0x55ddbf6a438a in /home/zulqarnain/anaconda3/envs/htfatorch/bin/python)\nframe #56: <unknown function> + 0x1918e4 (0x55ddbf6788e4 in /home/zulqarnain/anaconda3/envs/htfatorch/bin/python)\nframe #57: <unknown function> + 0x192771 (0x55ddbf679771 in /home/zulqarnain/anaconda3/envs/htfatorch/bin/python)\nframe #58: <unknown function> + 0x198505 (0x55ddbf67f505 in /home/zulqarnain/anaconda3/envs/htfatorch/bin/python)\nframe #59: _PyEval_EvalFrameDefault + 0x30a (0x55ddbf6a438a in /home/zulqarnain/anaconda3/envs/htfatorch/bin/python)\nframe #60: <unknown function> + 0x1918e4 (0x55ddbf6788e4 in /home/zulqarnain/anaconda3/envs/htfatorch/bin/python)\nframe #61: <unknown function> + 0x192771 (0x55ddbf679771 in /home/zulqarnain/anaconda3/envs/htfatorch/bin/python)\nframe #62: <unknown function> + 0x198505 (0x55ddbf67f505 in /home/zulqarnain/anaconda3/envs/htfatorch/bin/python)\nframe #63: _PyEval_EvalFrameDefault + 0x10c7 (0x55ddbf6a5147 in /home/zulqarnain/anaconda3/envs/htfatorch/bin/python)\n"
     ]
    }
   ],
   "source": [
    "losses = htfa.train(num_steps=2, learning_rate=1e-2, log_level=logging.INFO, num_particles=1,\n",
    "                    batch_size=300, use_cuda=True, checkpoint_steps=50, blocks_batch_size=4)"
   ]
  },
  {
   "cell_type": "code",
   "execution_count": null,
   "metadata": {},
   "outputs": [],
   "source": [
    "utils.plot_losses(losses)"
   ]
  },
  {
   "cell_type": "code",
   "execution_count": null,
   "metadata": {},
   "outputs": [],
   "source": [
    "for b in np.random.choice(range(dtfa.num_blocks), 5):\n",
    "    dtfa.plot_original_brain(b)\n",
    "    dtfa.plot_reconstruction(b)"
   ]
  },
  {
   "cell_type": "code",
   "execution_count": null,
   "metadata": {},
   "outputs": [],
   "source": [
    "def task_labeler(b):\n",
    "    return b.task"
   ]
  },
  {
   "cell_type": "code",
   "execution_count": null,
   "metadata": {},
   "outputs": [],
   "source": [
    "dtfa.scatter_task_embedding(labeler=task_labeler, figsize=None)"
   ]
  },
  {
   "cell_type": "code",
   "execution_count": null,
   "metadata": {},
   "outputs": [],
   "source": [
    "def subject_labeler(block):\n",
    "    return 'Subject %d' % block.subject\n",
    "\n",
    "def subject_run_labeler(block):\n",
    "    return 'sub%drun%d' % (block.subject, block.run)"
   ]
  },
  {
   "cell_type": "code",
   "execution_count": null,
   "metadata": {},
   "outputs": [],
   "source": [
    "dtfa.scatter_subject_embedding(labeler=subject_labeler, figsize=None)"
   ]
  },
  {
   "cell_type": "code",
   "execution_count": null,
   "metadata": {},
   "outputs": [],
   "source": [
    "dtfa.visualize_factor_embedding()"
   ]
  },
  {
   "cell_type": "code",
   "execution_count": null,
   "metadata": {},
   "outputs": [],
   "source": [
    "dtfa.average_reconstruction_error()"
   ]
  },
  {
   "cell_type": "code",
   "execution_count": null,
   "metadata": {},
   "outputs": [],
   "source": []
  }
 ],
 "metadata": {
  "kernelspec": {
   "display_name": "Python 3",
   "language": "python",
   "name": "python3"
  },
  "language_info": {
   "codemirror_mode": {
    "name": "ipython",
    "version": 3
   },
   "file_extension": ".py",
   "mimetype": "text/x-python",
   "name": "python",
   "nbconvert_exporter": "python",
   "pygments_lexer": "ipython3",
   "version": "3.6.8"
  }
 },
 "nbformat": 4,
 "nbformat_minor": 2
}
