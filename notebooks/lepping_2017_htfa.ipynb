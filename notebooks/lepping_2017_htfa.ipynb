version https://git-lfs.github.com/spec/v1
oid sha256:23d116dd9790fb8a94a95d8f59d0ec76c46e4b9684ff18ccc461255cc78678e3
size 1798940
