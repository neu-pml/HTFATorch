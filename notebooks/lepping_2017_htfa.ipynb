version https://git-lfs.github.com/spec/v1
oid sha256:3b3f39817ca271aec59f1f256d054ea6f26a60f3bc7f0614887f04d5fb97e447
size 1761291
