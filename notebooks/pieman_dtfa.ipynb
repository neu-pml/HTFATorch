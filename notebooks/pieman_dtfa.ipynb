version https://git-lfs.github.com/spec/v1
oid sha256:5f858b58e052f90a4e35339df78435041203d2c166fbeeee5693a465c904ba97
size 1851119
