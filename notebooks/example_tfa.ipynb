{
 "cells": [
  {
   "cell_type": "code",
   "execution_count": 1,
   "metadata": {},
   "outputs": [],
   "source": [
    "# import dependencies\n",
    "import matplotlib.pyplot as plt\n",
    "import numpy as np\n",
    "import probtorch\n",
    "import scipy.io as sio\n",
    "import scipy.optimize\n",
    "import time\n",
    "import torch\n",
    "from torch.autograd import Variable\n",
    "import torch.nn as nn\n",
    "from torch.nn import Parameter\n",
    "\n",
    "%matplotlib inline"
   ]
  },
  {
   "cell_type": "code",
   "execution_count": 2,
   "metadata": {},
   "outputs": [],
   "source": [
    "# check the availability of CUDA\n",
    "CUDA = torch.cuda.is_available()"
   ]
  },
  {
   "cell_type": "code",
   "execution_count": 3,
   "metadata": {},
   "outputs": [],
   "source": [
    "# placeholder values for hyperparameters\n",
    "LEARNING_RATE = 1e-4\n",
    "NUM_FACTORS   = 50\n",
    "NUM_SAMPLES   = 10\n",
    "SOURCE_WEIGHT_STD_DEV = np.sqrt(2.0)\n",
    "SOURCE_LOG_WIDTH_STD_DEV  = np.sqrt(3.0)\n",
    "VOXEL_NOISE            = 0.1"
   ]
  },
  {
   "cell_type": "markdown",
   "metadata": {},
   "source": [
    "We here set some manually calibrated hyperparameter values.  In particular, ProbTorch uses standard deviations (σ) for its Normal distributions instead of variances (σ^2)."
   ]
  },
  {
   "cell_type": "code",
   "execution_count": 4,
   "metadata": {},
   "outputs": [],
   "source": [
    "# Load our sample dataset\n",
    "dataset = sio.loadmat('s0.mat')\n",
    "\n",
    "# pull out the voxel activations and locations\n",
    "voxel_activations = torch.Tensor(dataset['data']).transpose(0, 1)\n",
    "voxel_locations = torch.Tensor(dataset['R'])\n",
    "\n",
    "# This could be a huge file.  Close it\n",
    "del dataset"
   ]
  },
  {
   "cell_type": "markdown",
   "metadata": {},
   "source": [
    "**TODO**: move all of these global variables into a class, which can then be passed the dataset filename as an argument."
   ]
  },
  {
   "cell_type": "code",
   "execution_count": 5,
   "metadata": {},
   "outputs": [],
   "source": [
    "# Pull out relevant dimensions: the number of times-of-recording, and the number of voxels in each timewise \"slice\"\n",
    "num_times = voxel_activations.shape[0]\n",
    "num_voxels = voxel_activations.shape[1]"
   ]
  },
  {
   "cell_type": "code",
   "execution_count": 6,
   "metadata": {},
   "outputs": [],
   "source": [
    "# Estimate further hyperparameters from the dataset\n",
    "brain_center = torch.mean(voxel_locations, 0).unsqueeze(0)\n",
    "brain_center_std_dev = torch.sqrt(10 * torch.var(voxel_locations, 0).unsqueeze(0))"
   ]
  },
  {
   "cell_type": "code",
   "execution_count": 7,
   "metadata": {},
   "outputs": [],
   "source": [
    "# locations: V x 3\n",
    "# centers: S x K x 3\n",
    "# log_widths: S x K\n",
    "def radial_basis(locations, centers, log_widths, num_samples=NUM_SAMPLES, num_voxels=num_voxels):\n",
    "    # V x 3 -> S x 1 x V x 3\n",
    "    locations = locations.expand(num_samples, num_voxels, 3).unsqueeze(1)\n",
    "    # S x K x 3 -> S x K x 1 x 3  \n",
    "    centers = centers.unsqueeze(2)\n",
    "    # S x K x V x 3\n",
    "    delta2s = (locations - centers)**2\n",
    "    # S x K  -> S x K x 1\n",
    "    log_widths = log_widths.unsqueeze(2)\n",
    "    return torch.exp(-delta2s.sum(3) / torch.exp(log_widths))\n",
    "\n",
    "def free_energy(q, p, num_samples=NUM_SAMPLES):\n",
    "    # Remember: the Evidence Lower Bound is the negative free-energy\n",
    "    return -probtorch.objectives.montecarlo.elbo(q, p, sample_dim=0)\n",
    "\n",
    "def kl_divergence(q, p, num_samples=NUM_SAMPLES):\n",
    "    return probtorch.objectives.montecarlo.kl(q, p, sample_dim=0)"
   ]
  },
  {
   "cell_type": "markdown",
   "metadata": {},
   "source": [
    "We set up the radial basis functions so that the dimensions match up correctly and the math is as clear as possible, using elementwise tensor math everywhere.  Torch optimizers also seem to only minimize, so we negate the ELBO objective and call it the free-energy.\n",
    "\n",
    "The other objective functions are to check the noise and calibration on our optimization."
   ]
  },
  {
   "cell_type": "code",
   "execution_count": 8,
   "metadata": {},
   "outputs": [],
   "source": [
    "class TFAEncoder(nn.Module):\n",
    "    def __init__(self, num_times=num_times, num_factors=NUM_FACTORS):\n",
    "        super(self.__class__, self).__init__()\n",
    "        self._num_times = num_times\n",
    "        self._num_factors = num_factors\n",
    "        \n",
    "        self._mean_weight = Parameter(torch.randn((self._num_times, self._num_factors)))\n",
    "        self._weight_std_dev = Parameter(torch.sqrt(torch.rand((self._num_times, self._num_factors))))\n",
    "        \n",
    "        self._mean_factor_center = Parameter(torch.randn((self._num_factors, 3)))\n",
    "        self._factor_center_std_dev = Parameter(torch.sqrt(torch.rand((self._num_factors, 3))))\n",
    "        \n",
    "        self._mean_factor_log_width = Parameter(torch.randn((self._num_factors)))\n",
    "        self._factor_log_width_std_dev = Parameter(torch.sqrt(torch.rand((self._num_factors))))\n",
    "\n",
    "    def forward(self, num_samples = NUM_SAMPLES):\n",
    "        q = probtorch.Trace()\n",
    "\n",
    "        mean_weight = self._mean_weight.expand(num_samples, self._num_times, self._num_factors)\n",
    "        weight_std_dev = self._weight_std_dev.expand(num_samples, self._num_times, self._num_factors)\n",
    "        \n",
    "        mean_factor_center = self._mean_factor_center.expand(num_samples, self._num_factors, 3)\n",
    "        factor_center_std_dev = self._factor_center_std_dev.expand(num_samples, self._num_factors, 3)\n",
    "        \n",
    "        mean_factor_log_width = self._mean_factor_log_width.expand(num_samples, self._num_factors)\n",
    "        factor_log_width_std_dev = self._factor_log_width_std_dev.expand(num_samples, self._num_factors)\n",
    "        \n",
    "        weights = q.normal(mean_weight, weight_std_dev, name='Weights')\n",
    "        \n",
    "        factor_centers = q.normal(mean_factor_center, factor_center_std_dev, name='FactorCenters')\n",
    "        factor_log_widths = q.normal(mean_factor_log_width, factor_log_width_std_dev, name='FactorLogWidths')\n",
    "        \n",
    "        return q"
   ]
  },
  {
   "cell_type": "code",
   "execution_count": 9,
   "metadata": {},
   "outputs": [],
   "source": [
    "class TFADecoder(nn.Module):\n",
    "    def __init__(self, num_times = num_times, num_factors = NUM_FACTORS, num_voxels = num_voxels):\n",
    "        super(self.__class__, self).__init__()\n",
    "        self._num_times = num_times\n",
    "        self._num_factors = num_factors\n",
    "        self._num_voxels = num_voxels\n",
    "        \n",
    "        self._mean_weight = Variable(torch.zeros((self._num_times, self._num_factors)))\n",
    "        self._weight_std_dev = Variable(SOURCE_WEIGHT_STD_DEV * torch.ones((self._num_times, self._num_factors)))\n",
    "        \n",
    "        self._mean_factor_center = Variable(brain_center.expand(self._num_factors, 3) * torch.ones((self._num_factors, 3)))\n",
    "        self._factor_center_std_dev = Variable(brain_center_std_dev.expand(self._num_factors, 3) * torch.ones((self._num_factors, 3)))\n",
    "        \n",
    "        self._mean_factor_log_width = Variable(torch.ones((self._num_factors)))\n",
    "        self._factor_log_width_std_dev = Variable(SOURCE_LOG_WIDTH_STD_DEV * torch.ones((self._num_factors)))\n",
    "        \n",
    "        self._voxel_noise = Variable(VOXEL_NOISE * torch.ones(self._num_times, self._num_voxels))\n",
    "        \n",
    "    def forward(self, activations = voxel_activations, locations = voxel_locations, q=None):\n",
    "        p = probtorch.Trace()\n",
    "        \n",
    "        weights = p.normal(self._mean_weight, self._weight_std_dev, value=q['Weights'], name='Weights')\n",
    "        factor_centers = p.normal(self._mean_factor_center, self._factor_center_std_dev, value=q['FactorCenters'], name='FactorCenters')\n",
    "        factor_log_widths = p.normal(self._mean_factor_log_width, self._factor_log_width_std_dev, value=q['FactorLogWidths'], name='FactorLogWidths')\n",
    "        factors = radial_basis(locations, factor_centers, factor_log_widths, num_voxels = self._num_voxels)\n",
    "        observations = p.normal(torch.matmul(weights, factors), self._voxel_noise, value=activations, name='Y')\n",
    "        \n",
    "        return p"
   ]
  },
  {
   "cell_type": "code",
   "execution_count": 10,
   "metadata": {},
   "outputs": [],
   "source": [
    "enc = TFAEncoder()\n",
    "dec = TFADecoder()\n",
    "\n",
    "if CUDA:\n",
    "    enc.cuda()\n",
    "    dec.cuda()"
   ]
  },
  {
   "cell_type": "code",
   "execution_count": 11,
   "metadata": {},
   "outputs": [],
   "source": [
    "optimizer = torch.optim.Adam(list(enc.parameters()), lr=LEARNING_RATE)"
   ]
  },
  {
   "cell_type": "code",
   "execution_count": 12,
   "metadata": {},
   "outputs": [],
   "source": [
    "def train(activations, locations, enc, dec, num_steps=10):\n",
    "    optimizer = torch.optim.Adam(list(enc.parameters()), lr=LEARNING_RATE)\n",
    "    if CUDA:\n",
    "            activations = activations.cuda()\n",
    "            locations = locations.cuda()\n",
    "\n",
    "    enc.train()\n",
    "    dec.train()\n",
    "\n",
    "    free_energies = np.zeros(num_steps)\n",
    "    kls = np.zeros(num_steps)\n",
    "    for n in range(num_steps):\n",
    "        start = time.time()\n",
    "\n",
    "        optimizer.zero_grad()\n",
    "        q = enc()\n",
    "        p = dec(activations=activations, locations=locations, q=q)\n",
    "        \n",
    "        free_energy_n = free_energy(q, p)\n",
    "        kl = kl_divergence(q, p)\n",
    "\n",
    "        free_energy_n.backward()\n",
    "        optimizer.step()\n",
    "\n",
    "        if CUDA:\n",
    "            free_energy_n = free_energy_n.cpu()\n",
    "            kl = kl.cpu()\n",
    "        free_energies[n] = free_energy_n.data.numpy()[0]\n",
    "        kls[n] = kl.data.numpy()[0]\n",
    "\n",
    "        end = time.time()\n",
    "\n",
    "        print('[Epoch %d] (%ds) Posterior free-energy %.8e, Joint KL divergence %.8e' % (n + 1, end - start, free_energy_n, kl))\n",
    "\n",
    "    losses = np.vstack([free_energies, kls])\n",
    "    return losses"
   ]
  },
  {
   "cell_type": "code",
   "execution_count": 13,
   "metadata": {},
   "outputs": [
    {
     "name": "stdout",
     "output_type": "stream",
     "text": [
      "[Epoch 1] (0s) Posterior free-energy 1.18689510e+07, Joint KL divergence 1.14227188e+04\n",
      "[Epoch 2] (0s) Posterior free-energy 1.18690090e+07, Joint KL divergence 1.14809297e+04\n",
      "[Epoch 3] (0s) Posterior free-energy 1.18690140e+07, Joint KL divergence 1.14864795e+04\n",
      "[Epoch 4] (0s) Posterior free-energy 1.18690210e+07, Joint KL divergence 1.14927617e+04\n",
      "[Epoch 5] (0s) Posterior free-energy 1.18690310e+07, Joint KL divergence 1.15028330e+04\n",
      "[Epoch 6] (0s) Posterior free-energy 1.18689960e+07, Joint KL divergence 1.14683623e+04\n",
      "[Epoch 7] (0s) Posterior free-energy 1.18689670e+07, Joint KL divergence 1.14393799e+04\n",
      "[Epoch 8] (0s) Posterior free-energy 1.18690150e+07, Joint KL divergence 1.14872715e+04\n",
      "[Epoch 9] (0s) Posterior free-energy 1.18689800e+07, Joint KL divergence 1.14521299e+04\n",
      "[Epoch 10] (0s) Posterior free-energy 1.18690350e+07, Joint KL divergence 1.15070498e+04\n",
      "[Epoch 11] (0s) Posterior free-energy 1.18689850e+07, Joint KL divergence 1.14565850e+04\n",
      "[Epoch 12] (0s) Posterior free-energy 1.18689610e+07, Joint KL divergence 1.14328652e+04\n",
      "[Epoch 13] (0s) Posterior free-energy 1.18689970e+07, Joint KL divergence 1.14687676e+04\n",
      "[Epoch 14] (0s) Posterior free-energy 1.18689510e+07, Joint KL divergence 1.14229326e+04\n",
      "[Epoch 15] (0s) Posterior free-energy 1.18689430e+07, Joint KL divergence 1.14151982e+04\n",
      "[Epoch 16] (0s) Posterior free-energy 1.18689420e+07, Joint KL divergence 1.14141670e+04\n",
      "[Epoch 17] (0s) Posterior free-energy 1.18689590e+07, Joint KL divergence 1.14306738e+04\n",
      "[Epoch 18] (0s) Posterior free-energy 1.18689630e+07, Joint KL divergence 1.14350449e+04\n",
      "[Epoch 19] (0s) Posterior free-energy 1.18689180e+07, Joint KL divergence 1.13902520e+04\n",
      "[Epoch 20] (0s) Posterior free-energy 1.18689020e+07, Joint KL divergence 1.13740713e+04\n",
      "[Epoch 21] (0s) Posterior free-energy 1.18689470e+07, Joint KL divergence 1.14189521e+04\n",
      "[Epoch 22] (0s) Posterior free-energy 1.18689150e+07, Joint KL divergence 1.13874043e+04\n",
      "[Epoch 23] (0s) Posterior free-energy 1.18689280e+07, Joint KL divergence 1.13997363e+04\n",
      "[Epoch 24] (0s) Posterior free-energy 1.18689450e+07, Joint KL divergence 1.14166514e+04\n",
      "[Epoch 25] (0s) Posterior free-energy 1.18689290e+07, Joint KL divergence 1.14008721e+04\n",
      "[Epoch 26] (0s) Posterior free-energy 1.18688970e+07, Joint KL divergence 1.13692930e+04\n",
      "[Epoch 27] (0s) Posterior free-energy 1.18689290e+07, Joint KL divergence 1.14012832e+04\n",
      "[Epoch 28] (0s) Posterior free-energy 1.18689280e+07, Joint KL divergence 1.14001465e+04\n",
      "[Epoch 29] (0s) Posterior free-energy 1.18689060e+07, Joint KL divergence 1.13779844e+04\n",
      "[Epoch 30] (0s) Posterior free-energy 1.18688740e+07, Joint KL divergence 1.13462910e+04\n",
      "[Epoch 31] (0s) Posterior free-energy 1.18689250e+07, Joint KL divergence 1.13965547e+04\n",
      "[Epoch 32] (0s) Posterior free-energy 1.18689320e+07, Joint KL divergence 1.14042949e+04\n",
      "[Epoch 33] (0s) Posterior free-energy 1.18688830e+07, Joint KL divergence 1.13551592e+04\n",
      "[Epoch 34] (0s) Posterior free-energy 1.18689180e+07, Joint KL divergence 1.13901768e+04\n",
      "[Epoch 35] (0s) Posterior free-energy 1.18689170e+07, Joint KL divergence 1.13886221e+04\n",
      "[Epoch 36] (0s) Posterior free-energy 1.18688830e+07, Joint KL divergence 1.13549658e+04\n",
      "[Epoch 37] (0s) Posterior free-energy 1.18688890e+07, Joint KL divergence 1.13610605e+04\n",
      "[Epoch 38] (0s) Posterior free-energy 1.18688920e+07, Joint KL divergence 1.13644150e+04\n",
      "[Epoch 39] (0s) Posterior free-energy 1.18689090e+07, Joint KL divergence 1.13808223e+04\n",
      "[Epoch 40] (0s) Posterior free-energy 1.18688610e+07, Joint KL divergence 1.13325449e+04\n",
      "[Epoch 41] (0s) Posterior free-energy 1.18689180e+07, Joint KL divergence 1.13898398e+04\n",
      "[Epoch 42] (0s) Posterior free-energy 1.18689000e+07, Joint KL divergence 1.13715508e+04\n",
      "[Epoch 43] (0s) Posterior free-energy 1.18688140e+07, Joint KL divergence 1.12860244e+04\n",
      "[Epoch 44] (0s) Posterior free-energy 1.18688900e+07, Joint KL divergence 1.13615928e+04\n",
      "[Epoch 45] (0s) Posterior free-energy 1.18688760e+07, Joint KL divergence 1.13480762e+04\n",
      "[Epoch 46] (0s) Posterior free-energy 1.18688800e+07, Joint KL divergence 1.13517676e+04\n",
      "[Epoch 47] (0s) Posterior free-energy 1.18688980e+07, Joint KL divergence 1.13700420e+04\n",
      "[Epoch 48] (0s) Posterior free-energy 1.18688940e+07, Joint KL divergence 1.13662246e+04\n",
      "[Epoch 49] (0s) Posterior free-energy 1.18688600e+07, Joint KL divergence 1.13316162e+04\n",
      "[Epoch 50] (0s) Posterior free-energy 1.18688300e+07, Joint KL divergence 1.13017832e+04\n",
      "[Epoch 51] (0s) Posterior free-energy 1.18688560e+07, Joint KL divergence 1.13284082e+04\n",
      "[Epoch 52] (0s) Posterior free-energy 1.18688280e+07, Joint KL divergence 1.13001436e+04\n",
      "[Epoch 53] (0s) Posterior free-energy 1.18687970e+07, Joint KL divergence 1.12692686e+04\n",
      "[Epoch 54] (0s) Posterior free-energy 1.18688720e+07, Joint KL divergence 1.13442832e+04\n",
      "[Epoch 55] (0s) Posterior free-energy 1.18688680e+07, Joint KL divergence 1.13399287e+04\n",
      "[Epoch 56] (0s) Posterior free-energy 1.18688270e+07, Joint KL divergence 1.12993418e+04\n",
      "[Epoch 57] (0s) Posterior free-energy 1.18688610e+07, Joint KL divergence 1.13333252e+04\n",
      "[Epoch 58] (0s) Posterior free-energy 1.18688400e+07, Joint KL divergence 1.13122559e+04\n",
      "[Epoch 59] (0s) Posterior free-energy 1.18688020e+07, Joint KL divergence 1.12736904e+04\n",
      "[Epoch 60] (0s) Posterior free-energy 1.18687800e+07, Joint KL divergence 1.12517129e+04\n",
      "[Epoch 61] (0s) Posterior free-energy 1.18688350e+07, Joint KL divergence 1.13072939e+04\n",
      "[Epoch 62] (0s) Posterior free-energy 1.18688380e+07, Joint KL divergence 1.13104980e+04\n",
      "[Epoch 63] (0s) Posterior free-energy 1.18687840e+07, Joint KL divergence 1.12556260e+04\n",
      "[Epoch 64] (0s) Posterior free-energy 1.18688330e+07, Joint KL divergence 1.13046152e+04\n",
      "[Epoch 65] (0s) Posterior free-energy 1.18688420e+07, Joint KL divergence 1.13144043e+04\n",
      "[Epoch 66] (0s) Posterior free-energy 1.18688000e+07, Joint KL divergence 1.12721504e+04\n",
      "[Epoch 67] (0s) Posterior free-energy 1.18687610e+07, Joint KL divergence 1.12325449e+04\n",
      "[Epoch 68] (0s) Posterior free-energy 1.18687980e+07, Joint KL divergence 1.12699062e+04\n",
      "[Epoch 69] (0s) Posterior free-energy 1.18687960e+07, Joint KL divergence 1.12683965e+04\n",
      "[Epoch 70] (0s) Posterior free-energy 1.18688110e+07, Joint KL divergence 1.12828477e+04\n",
      "[Epoch 71] (0s) Posterior free-energy 1.18688060e+07, Joint KL divergence 1.12779473e+04\n",
      "[Epoch 72] (0s) Posterior free-energy 1.18687550e+07, Joint KL divergence 1.12267324e+04\n",
      "[Epoch 73] (0s) Posterior free-energy 1.18687850e+07, Joint KL divergence 1.12571953e+04\n",
      "[Epoch 74] (0s) Posterior free-energy 1.18688330e+07, Joint KL divergence 1.13045723e+04\n",
      "[Epoch 75] (0s) Posterior free-energy 1.18688280e+07, Joint KL divergence 1.12998145e+04\n",
      "[Epoch 76] (0s) Posterior free-energy 1.18688220e+07, Joint KL divergence 1.12940400e+04\n",
      "[Epoch 77] (0s) Posterior free-energy 1.18687600e+07, Joint KL divergence 1.12318408e+04\n",
      "[Epoch 78] (0s) Posterior free-energy 1.18687520e+07, Joint KL divergence 1.12240166e+04\n",
      "[Epoch 79] (0s) Posterior free-energy 1.18687870e+07, Joint KL divergence 1.12592334e+04\n",
      "[Epoch 80] (0s) Posterior free-energy 1.18687770e+07, Joint KL divergence 1.12489531e+04\n",
      "[Epoch 81] (0s) Posterior free-energy 1.18687440e+07, Joint KL divergence 1.12159043e+04\n",
      "[Epoch 82] (0s) Posterior free-energy 1.18687760e+07, Joint KL divergence 1.12480654e+04\n",
      "[Epoch 83] (0s) Posterior free-energy 1.18687510e+07, Joint KL divergence 1.12229453e+04\n",
      "[Epoch 84] (0s) Posterior free-energy 1.18687510e+07, Joint KL divergence 1.12227012e+04\n",
      "[Epoch 85] (0s) Posterior free-energy 1.18687900e+07, Joint KL divergence 1.12618604e+04\n",
      "[Epoch 86] (0s) Posterior free-energy 1.18687580e+07, Joint KL divergence 1.12297109e+04\n",
      "[Epoch 87] (0s) Posterior free-energy 1.18687530e+07, Joint KL divergence 1.12253740e+04\n",
      "[Epoch 88] (0s) Posterior free-energy 1.18687520e+07, Joint KL divergence 1.12243271e+04\n",
      "[Epoch 89] (0s) Posterior free-energy 1.18687190e+07, Joint KL divergence 1.11910508e+04\n",
      "[Epoch 90] (0s) Posterior free-energy 1.18687260e+07, Joint KL divergence 1.11977529e+04\n",
      "[Epoch 91] (0s) Posterior free-energy 1.18687560e+07, Joint KL divergence 1.12280918e+04\n",
      "[Epoch 92] (0s) Posterior free-energy 1.18687500e+07, Joint KL divergence 1.12215830e+04\n",
      "[Epoch 93] (0s) Posterior free-energy 1.18687250e+07, Joint KL divergence 1.11968877e+04\n",
      "[Epoch 94] (0s) Posterior free-energy 1.18687310e+07, Joint KL divergence 1.12025713e+04\n",
      "[Epoch 95] (0s) Posterior free-energy 1.18686950e+07, Joint KL divergence 1.11670996e+04\n",
      "[Epoch 96] (0s) Posterior free-energy 1.18686790e+07, Joint KL divergence 1.11506416e+04\n",
      "[Epoch 97] (0s) Posterior free-energy 1.18687270e+07, Joint KL divergence 1.11994844e+04\n",
      "[Epoch 98] (0s) Posterior free-energy 1.18687200e+07, Joint KL divergence 1.11916621e+04\n",
      "[Epoch 99] (0s) Posterior free-energy 1.18686850e+07, Joint KL divergence 1.11565820e+04\n",
      "[Epoch 100] (0s) Posterior free-energy 1.18687350e+07, Joint KL divergence 1.12067559e+04\n"
     ]
    }
   ],
   "source": [
    "losses = train(Variable(voxel_activations), Variable(voxel_locations), enc, dec, num_steps=100)"
   ]
  },
  {
   "cell_type": "code",
   "execution_count": 20,
   "metadata": {},
   "outputs": [
    {
     "data": {
      "text/plain": [
       "<matplotlib.text.Text at 0x7f5de950cd30>"
      ]
     },
     "execution_count": 20,
     "metadata": {},
     "output_type": "execute_result"
    },
    {
     "data": {
      "image/png": "[encoded data removed]",
      "text/plain": [
       "<matplotlib.figure.Figure at 0x7f5de9234d68>"
      ]
     },
     "metadata": {},
     "output_type": "display_data"
    },
    {
     "data": {
      "image/png": "[encoded data removed]",
      "text/plain": [
       "<matplotlib.figure.Figure at 0x7f5de92bcc88>"
      ]
     },
     "metadata": {},
     "output_type": "display_data"
    }
   ],
   "source": [
    "def linear_decline(x, m, b):\n",
    "     return m * x + b\n",
    "\n",
    "epochs = range(losses.shape[1])\n",
    "    \n",
    "free_energy_fig = plt.figure(figsize=(10, 10))\n",
    "\n",
    "plt.plot(epochs, losses[0,:], 'b.', label='Data')\n",
    "parameters, pcov = scipy.optimize.curve_fit(linear_decline, epochs, losses[0,:])\n",
    "plt.plot(epochs, linear_decline(epochs, *parameters), 'b', label=\"Fit\");\n",
    "plt.legend()\n",
    "\n",
    "free_energy_fig.tight_layout()\n",
    "free_energy_fig.axes[0].set_xlabel('Epoch')\n",
    "free_energy_fig.axes[0].set_ylabel('Free-energy / -ELBO (nats)')\n",
    "\n",
    "kl_fig = plt.figure(figsize=(10, 10))\n",
    "\n",
    "plt.plot(epochs, losses[1,:], 'r.', label='Data')\n",
    "parameters, pcov = scipy.optimize.curve_fit(linear_decline, epochs, losses[1,:])\n",
    "plt.plot(epochs, linear_decline(epochs, *parameters), 'r', label=\"Fit\");\n",
    "plt.legend()\n",
    "\n",
    "kl_fig.tight_layout()\n",
    "kl_fig.axes[0].set_xlabel('Epoch')\n",
    "kl_fig.axes[0].set_ylabel('KL divergence (nats)')"
   ]
  },
  {
   "cell_type": "code",
   "execution_count": 15,
   "metadata": {},
   "outputs": [],
   "source": [
    "q = enc()\n",
    "if CUDA:\n",
    "    q['Weights'].value.data.cpu()\n",
    "    q['FactorCenters'].value.data.cpu()\n",
    "    q['FactorLogWidths'].value.data.cpu()\n",
    "\n",
    "weights = q['Weights'].value.data.numpy()\n",
    "factor_centers = q['FactorCenters'].value.data.numpy()\n",
    "factor_log_widths = q['FactorLogWidths'].value.data.numpy()"
   ]
  }
 ],
 "metadata": {
  "kernelspec": {
   "display_name": "Python 3",
   "language": "python",
   "name": "python3"
  },
  "language_info": {
   "codemirror_mode": {
    "name": "ipython",
    "version": 3
   },
   "file_extension": ".py",
   "mimetype": "text/x-python",
   "name": "python",
   "nbconvert_exporter": "python",
   "pygments_lexer": "ipython3",
   "version": "3.6.3"
  }
 },
 "nbformat": 4,
 "nbformat_minor": 2
}
