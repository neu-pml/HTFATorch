{
 "cells": [
  {
   "cell_type": "code",
   "execution_count": 1,
   "metadata": {},
   "outputs": [],
   "source": [
    "# import dependencies\n",
    "import matplotlib.pyplot as plt\n",
    "import numpy as np\n",
    "import probtorch\n",
    "import scipy.io as sio\n",
    "import time\n",
    "import torch\n",
    "from torch.autograd import Variable\n",
    "import torch.nn as nn\n",
    "from torch.nn import Parameter\n",
    "\n",
    "%matplotlib inline"
   ]
  },
  {
   "cell_type": "code",
   "execution_count": 2,
   "metadata": {},
   "outputs": [],
   "source": [
    "# check the availability of CUDA\n",
    "CUDA = torch.cuda.is_available()"
   ]
  },
  {
   "cell_type": "code",
   "execution_count": 3,
   "metadata": {},
   "outputs": [],
   "source": [
    "# placeholder values for hyperparameters\n",
    "LEARNING_RATE = 1e-4\n",
    "NUM_FACTORS   = 50\n",
    "NUM_SAMPLES   = 10\n",
    "SOURCE_WEIGHT_STD_DEV = np.sqrt(2.0)\n",
    "SOURCE_LOG_WIDTH_STD_DEV  = np.sqrt(3.0)\n",
    "VOXEL_NOISE            = 0.1"
   ]
  },
  {
   "cell_type": "markdown",
   "metadata": {},
   "source": [
    "We here set some manually calibrated hyperparameter values.  In particular, ProbTorch uses standard deviations (σ) for its Normal distributions instead of variances (σ^2)."
   ]
  },
  {
   "cell_type": "code",
   "execution_count": 4,
   "metadata": {},
   "outputs": [],
   "source": [
    "# Load our sample dataset\n",
    "dataset = sio.loadmat('s0.mat')\n",
    "\n",
    "# pull out the voxel activations and locations\n",
    "voxel_activations = torch.Tensor(dataset['data']).transpose(0, 1)\n",
    "voxel_locations = torch.Tensor(dataset['R'])\n",
    "\n",
    "# This could be a huge file.  Close it\n",
    "del dataset"
   ]
  },
  {
   "cell_type": "markdown",
   "metadata": {},
   "source": [
    "**TODO**: move all of these global variables into a class, which can then be passed the dataset filename as an argument."
   ]
  },
  {
   "cell_type": "code",
   "execution_count": 5,
   "metadata": {},
   "outputs": [],
   "source": [
    "# Pull out relevant dimensions: the number of times-of-recording, and the number of voxels in each timewise \"slice\"\n",
    "num_times = voxel_activations.shape[0]\n",
    "num_voxels = voxel_activations.shape[1]"
   ]
  },
  {
   "cell_type": "code",
   "execution_count": 6,
   "metadata": {},
   "outputs": [],
   "source": [
    "# Estimate further hyperparameters from the dataset\n",
    "brain_center = torch.mean(voxel_locations, 0).unsqueeze(0)\n",
    "brain_center_std_dev = torch.sqrt(10 * torch.var(voxel_locations, 0).unsqueeze(0))"
   ]
  },
  {
   "cell_type": "code",
   "execution_count": 7,
   "metadata": {},
   "outputs": [],
   "source": [
    "# locations: V x 3\n",
    "# centers: S x K x 3\n",
    "# log_widths: S x K\n",
    "def radial_basis(locations, centers, log_widths, num_samples=NUM_SAMPLES, num_voxels=num_voxels):\n",
    "    # V x 3 -> S x 1 x V x 3\n",
    "    locations = locations.expand(num_samples, num_voxels, 3).unsqueeze(1)\n",
    "    # S x K x 3 -> S x K x 1 x 3  \n",
    "    centers = centers.unsqueeze(2)\n",
    "    # S x K x V x 3\n",
    "    delta2s = (locations - centers)**2\n",
    "    # S x K  -> S x K x 1\n",
    "    log_widths = log_widths.unsqueeze(2)\n",
    "    return torch.exp(-delta2s.sum(3) / torch.exp(log_widths))\n",
    "\n",
    "def free_energy(q, p, num_samples=NUM_SAMPLES):\n",
    "    # Remember: the Evidence Lower Bound is the negative free-energy\n",
    "    return -probtorch.objectives.montecarlo.elbo(q, p, sample_dim=0)\n",
    "\n",
    "def kl_divergence(q, p, num_samples=NUM_SAMPLES):\n",
    "    return probtorch.objectives.montecarlo.kl(q, p, sample_dim=0)"
   ]
  },
  {
   "cell_type": "markdown",
   "metadata": {},
   "source": [
    "We set up the radial basis functions so that the dimensions match up correctly and the math is as clear as possible, using elementwise tensor math everywhere.  Torch optimizers also seem to only minimize, so we negate the ELBO objective and call it the free-energy.\n",
    "\n",
    "The other objective functions are to check the noise and calibration on our optimization."
   ]
  },
  {
   "cell_type": "code",
   "execution_count": 8,
   "metadata": {},
   "outputs": [],
   "source": [
    "class TFAEncoder(nn.Module):\n",
    "    def __init__(self, num_times=num_times, num_factors=NUM_FACTORS):\n",
    "        super(self.__class__, self).__init__()\n",
    "        self._num_times = num_times\n",
    "        self._num_factors = num_factors\n",
    "        \n",
    "        self._mean_weight = Parameter(torch.randn((self._num_times, self._num_factors)))\n",
    "        self._weight_std_dev = Parameter(torch.sqrt(torch.rand((self._num_times, self._num_factors))))\n",
    "        \n",
    "        self._mean_factor_center = Parameter(torch.randn((self._num_factors, 3)))\n",
    "        self._factor_center_std_dev = Parameter(torch.sqrt(torch.rand((self._num_factors, 3))))\n",
    "        \n",
    "        self._mean_factor_log_width = Parameter(torch.randn((self._num_factors)))\n",
    "        self._factor_log_width_std_dev = Parameter(torch.sqrt(torch.rand((self._num_factors))))\n",
    "\n",
    "    def forward(self, num_samples = NUM_SAMPLES):\n",
    "        q = probtorch.Trace()\n",
    "\n",
    "        mean_weight = self._mean_weight.expand(num_samples, self._num_times, self._num_factors)\n",
    "        weight_std_dev = self._weight_std_dev.expand(num_samples, self._num_times, self._num_factors)\n",
    "        \n",
    "        mean_factor_center = self._mean_factor_center.expand(num_samples, self._num_factors, 3)\n",
    "        factor_center_std_dev = self._factor_center_std_dev.expand(num_samples, self._num_factors, 3)\n",
    "        \n",
    "        mean_factor_log_width = self._mean_factor_log_width.expand(num_samples, self._num_factors)\n",
    "        factor_log_width_std_dev = self._factor_log_width_std_dev.expand(num_samples, self._num_factors)\n",
    "        \n",
    "        weights = q.normal(mean_weight, weight_std_dev, name='Weights')\n",
    "        \n",
    "        factor_centers = q.normal(mean_factor_center, factor_center_std_dev, name='FactorCenters')\n",
    "        factor_log_widths = q.normal(mean_factor_log_width, factor_log_width_std_dev, name='FactorLogWidths')\n",
    "        \n",
    "        return q"
   ]
  },
  {
   "cell_type": "markdown",
   "metadata": {},
   "source": [
    "**TODO**: Draw the `Parameter()` values here from the priors specified in the TFA paper rather than generating them from `torch.randn()`."
   ]
  },
  {
   "cell_type": "code",
   "execution_count": 9,
   "metadata": {},
   "outputs": [],
   "source": [
    "class TFADecoder(nn.Module):\n",
    "    def __init__(self, num_times = num_times, num_factors = NUM_FACTORS, num_voxels = num_voxels):\n",
    "        super(self.__class__, self).__init__()\n",
    "        self._num_times = num_times\n",
    "        self._num_factors = num_factors\n",
    "        self._num_voxels = num_voxels\n",
    "        \n",
    "        self._mean_weight = Variable(torch.zeros((self._num_times, self._num_factors)))\n",
    "        self._weight_std_dev = Variable(SOURCE_WEIGHT_STD_DEV * torch.ones((self._num_times, self._num_factors)))\n",
    "        \n",
    "        self._mean_factor_center = Variable(brain_center.expand(self._num_factors, 3) * torch.ones((self._num_factors, 3)))\n",
    "        self._factor_center_std_dev = Variable(brain_center_std_dev.expand(self._num_factors, 3) * torch.ones((self._num_factors, 3)))\n",
    "        \n",
    "        self._mean_factor_log_width = Variable(torch.ones((self._num_factors)))\n",
    "        self._factor_log_width_std_dev = Variable(SOURCE_LOG_WIDTH_STD_DEV * torch.ones((self._num_factors)))\n",
    "        \n",
    "        self._voxel_noise = Variable(VOXEL_NOISE * torch.ones(self._num_times, self._num_voxels))\n",
    "        \n",
    "    def forward(self, activations = voxel_activations, locations = voxel_locations, q=None):\n",
    "        p = probtorch.Trace()\n",
    "        \n",
    "        weights = p.normal(self._mean_weight, self._weight_std_dev, value=q['Weights'], name='Weights')\n",
    "        factor_centers = p.normal(self._mean_factor_center, self._factor_center_std_dev, value=q['FactorCenters'], name='FactorCenters')\n",
    "        factor_log_widths = p.normal(self._mean_factor_log_width, self._factor_log_width_std_dev, value=q['FactorLogWidths'], name='FactorLogWidths')\n",
    "        factors = radial_basis(locations, factor_centers, factor_log_widths, num_voxels = self._num_voxels)\n",
    "        observations = p.normal(torch.matmul(weights, factors), self._voxel_noise, value=activations, name='Y')\n",
    "        \n",
    "        return p"
   ]
  },
  {
   "cell_type": "code",
   "execution_count": 10,
   "metadata": {},
   "outputs": [],
   "source": [
    "enc = TFAEncoder()\n",
    "dec = TFADecoder()\n",
    "\n",
    "if CUDA:\n",
    "    enc.cuda()\n",
    "    dec.cuda()"
   ]
  },
  {
   "cell_type": "code",
   "execution_count": 11,
   "metadata": {},
   "outputs": [],
   "source": [
    "optimizer = torch.optim.Adam(list(enc.parameters()), lr=LEARNING_RATE)"
   ]
  },
  {
   "cell_type": "code",
   "execution_count": 12,
   "metadata": {},
   "outputs": [],
   "source": [
    "def train(activations, locations, enc, dec, num_steps=10):\n",
    "    optimizer = torch.optim.Adam(list(enc.parameters()), lr=LEARNING_RATE)\n",
    "    if CUDA:\n",
    "            activations = activations.cuda()\n",
    "            locations = locations.cuda()\n",
    "\n",
    "    enc.train()\n",
    "    dec.train()\n",
    "\n",
    "    free_energies = np.zeros(num_steps)\n",
    "    kls = np.zeros(num_steps)\n",
    "    for n in range(num_steps):\n",
    "        start = time.time()\n",
    "\n",
    "        optimizer.zero_grad()\n",
    "        q = enc()\n",
    "        p = dec(activations=activations, locations=locations, q=q)\n",
    "        \n",
    "        free_energy_n = free_energy(q, p)\n",
    "        #kl = kl_divergence(q, p)\n",
    "        kl = 0\n",
    "\n",
    "        free_energy_n.backward()\n",
    "        optimizer.step()\n",
    "\n",
    "        if CUDA:\n",
    "            free_energy_n = free_energy_n.cpu()\n",
    "            kl = kl.cpu()\n",
    "        free_energies[n] = free_energy_n.data.numpy()[0]\n",
    "        #kls[n] = kl.data.numpy()[0]\n",
    "\n",
    "        end = time.time()\n",
    "\n",
    "        print('[Epoch %d] (%ds) Posterior free-energy %.8e, Joint KL divergence %.8e' % (n + 1, end - start, free_energy_n, kl))\n",
    "\n",
    "    losses = np.vstack([free_energies, kls])\n",
    "    return losses"
   ]
  },
  {
   "cell_type": "code",
   "execution_count": 13,
   "metadata": {},
   "outputs": [
    {
     "name": "stdout",
     "output_type": "stream",
     "text": [
      "[Epoch 1] (0s) Posterior free-energy 1.18690420e+07, Joint KL divergence 0.00000000e+00\n",
      "[Epoch 2] (0s) Posterior free-energy 1.18690240e+07, Joint KL divergence 0.00000000e+00\n",
      "[Epoch 3] (0s) Posterior free-energy 1.18690380e+07, Joint KL divergence 0.00000000e+00\n",
      "[Epoch 4] (0s) Posterior free-energy 1.18690410e+07, Joint KL divergence 0.00000000e+00\n",
      "[Epoch 5] (0s) Posterior free-energy 1.18690670e+07, Joint KL divergence 0.00000000e+00\n",
      "[Epoch 6] (0s) Posterior free-energy 1.18690090e+07, Joint KL divergence 0.00000000e+00\n",
      "[Epoch 7] (0s) Posterior free-energy 1.18691080e+07, Joint KL divergence 0.00000000e+00\n",
      "[Epoch 8] (0s) Posterior free-energy 1.18690180e+07, Joint KL divergence 0.00000000e+00\n",
      "[Epoch 9] (0s) Posterior free-energy 1.18690550e+07, Joint KL divergence 0.00000000e+00\n",
      "[Epoch 10] (0s) Posterior free-energy 1.18690290e+07, Joint KL divergence 0.00000000e+00\n",
      "[Epoch 11] (0s) Posterior free-energy 1.18690240e+07, Joint KL divergence 0.00000000e+00\n",
      "[Epoch 12] (0s) Posterior free-energy 1.18690910e+07, Joint KL divergence 0.00000000e+00\n",
      "[Epoch 13] (0s) Posterior free-energy 1.18690550e+07, Joint KL divergence 0.00000000e+00\n",
      "[Epoch 14] (0s) Posterior free-energy 1.18690310e+07, Joint KL divergence 0.00000000e+00\n",
      "[Epoch 15] (0s) Posterior free-energy 1.18690060e+07, Joint KL divergence 0.00000000e+00\n",
      "[Epoch 16] (0s) Posterior free-energy 1.18689780e+07, Joint KL divergence 0.00000000e+00\n",
      "[Epoch 17] (0s) Posterior free-energy 1.18690380e+07, Joint KL divergence 0.00000000e+00\n",
      "[Epoch 18] (0s) Posterior free-energy 1.18690010e+07, Joint KL divergence 0.00000000e+00\n",
      "[Epoch 19] (0s) Posterior free-energy 1.18690300e+07, Joint KL divergence 0.00000000e+00\n",
      "[Epoch 20] (0s) Posterior free-energy 1.18689700e+07, Joint KL divergence 0.00000000e+00\n",
      "[Epoch 21] (0s) Posterior free-energy 1.18689680e+07, Joint KL divergence 0.00000000e+00\n",
      "[Epoch 22] (0s) Posterior free-energy 1.18689900e+07, Joint KL divergence 0.00000000e+00\n",
      "[Epoch 23] (0s) Posterior free-energy 1.18690160e+07, Joint KL divergence 0.00000000e+00\n",
      "[Epoch 24] (0s) Posterior free-energy 1.18690200e+07, Joint KL divergence 0.00000000e+00\n",
      "[Epoch 25] (0s) Posterior free-energy 1.18690120e+07, Joint KL divergence 0.00000000e+00\n",
      "[Epoch 26] (0s) Posterior free-energy 1.18690190e+07, Joint KL divergence 0.00000000e+00\n",
      "[Epoch 27] (0s) Posterior free-energy 1.18690490e+07, Joint KL divergence 0.00000000e+00\n",
      "[Epoch 28] (0s) Posterior free-energy 1.18689530e+07, Joint KL divergence 0.00000000e+00\n",
      "[Epoch 29] (0s) Posterior free-energy 1.18689870e+07, Joint KL divergence 0.00000000e+00\n",
      "[Epoch 30] (0s) Posterior free-energy 1.18689780e+07, Joint KL divergence 0.00000000e+00\n",
      "[Epoch 31] (0s) Posterior free-energy 1.18689770e+07, Joint KL divergence 0.00000000e+00\n",
      "[Epoch 32] (0s) Posterior free-energy 1.18689570e+07, Joint KL divergence 0.00000000e+00\n",
      "[Epoch 33] (0s) Posterior free-energy 1.18689690e+07, Joint KL divergence 0.00000000e+00\n",
      "[Epoch 34] (0s) Posterior free-energy 1.18689810e+07, Joint KL divergence 0.00000000e+00\n",
      "[Epoch 35] (0s) Posterior free-energy 1.18689930e+07, Joint KL divergence 0.00000000e+00\n",
      "[Epoch 36] (0s) Posterior free-energy 1.18689250e+07, Joint KL divergence 0.00000000e+00\n",
      "[Epoch 37] (0s) Posterior free-energy 1.18689820e+07, Joint KL divergence 0.00000000e+00\n",
      "[Epoch 38] (0s) Posterior free-energy 1.18689680e+07, Joint KL divergence 0.00000000e+00\n",
      "[Epoch 39] (0s) Posterior free-energy 1.18689530e+07, Joint KL divergence 0.00000000e+00\n",
      "[Epoch 40] (0s) Posterior free-energy 1.18689510e+07, Joint KL divergence 0.00000000e+00\n",
      "[Epoch 41] (0s) Posterior free-energy 1.18689260e+07, Joint KL divergence 0.00000000e+00\n",
      "[Epoch 42] (0s) Posterior free-energy 1.18689690e+07, Joint KL divergence 0.00000000e+00\n",
      "[Epoch 43] (0s) Posterior free-energy 1.18689580e+07, Joint KL divergence 0.00000000e+00\n",
      "[Epoch 44] (0s) Posterior free-energy 1.18689140e+07, Joint KL divergence 0.00000000e+00\n",
      "[Epoch 45] (0s) Posterior free-energy 1.18689290e+07, Joint KL divergence 0.00000000e+00\n",
      "[Epoch 46] (0s) Posterior free-energy 1.18689270e+07, Joint KL divergence 0.00000000e+00\n",
      "[Epoch 47] (0s) Posterior free-energy 1.18689360e+07, Joint KL divergence 0.00000000e+00\n",
      "[Epoch 48] (0s) Posterior free-energy 1.18689650e+07, Joint KL divergence 0.00000000e+00\n",
      "[Epoch 49] (0s) Posterior free-energy 1.18689670e+07, Joint KL divergence 0.00000000e+00\n",
      "[Epoch 50] (0s) Posterior free-energy 1.18689100e+07, Joint KL divergence 0.00000000e+00\n",
      "[Epoch 51] (0s) Posterior free-energy 1.18689240e+07, Joint KL divergence 0.00000000e+00\n",
      "[Epoch 52] (0s) Posterior free-energy 1.18689090e+07, Joint KL divergence 0.00000000e+00\n",
      "[Epoch 53] (0s) Posterior free-energy 1.18689000e+07, Joint KL divergence 0.00000000e+00\n",
      "[Epoch 54] (0s) Posterior free-energy 1.18688760e+07, Joint KL divergence 0.00000000e+00\n",
      "[Epoch 55] (0s) Posterior free-energy 1.18689000e+07, Joint KL divergence 0.00000000e+00\n",
      "[Epoch 56] (0s) Posterior free-energy 1.18688950e+07, Joint KL divergence 0.00000000e+00\n",
      "[Epoch 57] (0s) Posterior free-energy 1.18688840e+07, Joint KL divergence 0.00000000e+00\n",
      "[Epoch 58] (0s) Posterior free-energy 1.18688800e+07, Joint KL divergence 0.00000000e+00\n",
      "[Epoch 59] (0s) Posterior free-energy 1.18689030e+07, Joint KL divergence 0.00000000e+00\n",
      "[Epoch 60] (0s) Posterior free-energy 1.18688790e+07, Joint KL divergence 0.00000000e+00\n",
      "[Epoch 61] (0s) Posterior free-energy 1.18689110e+07, Joint KL divergence 0.00000000e+00\n",
      "[Epoch 62] (0s) Posterior free-energy 1.18688380e+07, Joint KL divergence 0.00000000e+00\n",
      "[Epoch 63] (0s) Posterior free-energy 1.18689090e+07, Joint KL divergence 0.00000000e+00\n",
      "[Epoch 64] (0s) Posterior free-energy 1.18688920e+07, Joint KL divergence 0.00000000e+00\n",
      "[Epoch 65] (0s) Posterior free-energy 1.18688780e+07, Joint KL divergence 0.00000000e+00\n",
      "[Epoch 66] (0s) Posterior free-energy 1.18688100e+07, Joint KL divergence 0.00000000e+00\n",
      "[Epoch 67] (0s) Posterior free-energy 1.18688920e+07, Joint KL divergence 0.00000000e+00\n",
      "[Epoch 68] (0s) Posterior free-energy 1.18688640e+07, Joint KL divergence 0.00000000e+00\n",
      "[Epoch 69] (0s) Posterior free-energy 1.18688600e+07, Joint KL divergence 0.00000000e+00\n",
      "[Epoch 70] (0s) Posterior free-energy 1.18688770e+07, Joint KL divergence 0.00000000e+00\n",
      "[Epoch 71] (0s) Posterior free-energy 1.18688490e+07, Joint KL divergence 0.00000000e+00\n",
      "[Epoch 72] (0s) Posterior free-energy 1.18688520e+07, Joint KL divergence 0.00000000e+00\n",
      "[Epoch 73] (0s) Posterior free-energy 1.18688440e+07, Joint KL divergence 0.00000000e+00\n",
      "[Epoch 74] (0s) Posterior free-energy 1.18688280e+07, Joint KL divergence 0.00000000e+00\n",
      "[Epoch 75] (0s) Posterior free-energy 1.18688150e+07, Joint KL divergence 0.00000000e+00\n",
      "[Epoch 76] (0s) Posterior free-energy 1.18688490e+07, Joint KL divergence 0.00000000e+00\n",
      "[Epoch 77] (0s) Posterior free-energy 1.18688070e+07, Joint KL divergence 0.00000000e+00\n",
      "[Epoch 78] (0s) Posterior free-energy 1.18687920e+07, Joint KL divergence 0.00000000e+00\n",
      "[Epoch 79] (0s) Posterior free-energy 1.18688170e+07, Joint KL divergence 0.00000000e+00\n",
      "[Epoch 80] (0s) Posterior free-energy 1.18688280e+07, Joint KL divergence 0.00000000e+00\n",
      "[Epoch 81] (0s) Posterior free-energy 1.18687930e+07, Joint KL divergence 0.00000000e+00\n",
      "[Epoch 82] (0s) Posterior free-energy 1.18687700e+07, Joint KL divergence 0.00000000e+00\n",
      "[Epoch 83] (0s) Posterior free-energy 1.18688010e+07, Joint KL divergence 0.00000000e+00\n",
      "[Epoch 84] (0s) Posterior free-energy 1.18688170e+07, Joint KL divergence 0.00000000e+00\n",
      "[Epoch 85] (0s) Posterior free-energy 1.18688270e+07, Joint KL divergence 0.00000000e+00\n",
      "[Epoch 86] (0s) Posterior free-energy 1.18688470e+07, Joint KL divergence 0.00000000e+00\n",
      "[Epoch 87] (0s) Posterior free-energy 1.18687880e+07, Joint KL divergence 0.00000000e+00\n",
      "[Epoch 88] (0s) Posterior free-energy 1.18688000e+07, Joint KL divergence 0.00000000e+00\n",
      "[Epoch 89] (0s) Posterior free-energy 1.18688000e+07, Joint KL divergence 0.00000000e+00\n",
      "[Epoch 90] (0s) Posterior free-energy 1.18687840e+07, Joint KL divergence 0.00000000e+00\n",
      "[Epoch 91] (0s) Posterior free-energy 1.18687890e+07, Joint KL divergence 0.00000000e+00\n",
      "[Epoch 92] (0s) Posterior free-energy 1.18688000e+07, Joint KL divergence 0.00000000e+00\n",
      "[Epoch 93] (0s) Posterior free-energy 1.18687880e+07, Joint KL divergence 0.00000000e+00\n",
      "[Epoch 94] (0s) Posterior free-energy 1.18687790e+07, Joint KL divergence 0.00000000e+00\n",
      "[Epoch 95] (0s) Posterior free-energy 1.18687850e+07, Joint KL divergence 0.00000000e+00\n",
      "[Epoch 96] (0s) Posterior free-energy 1.18688050e+07, Joint KL divergence 0.00000000e+00\n",
      "[Epoch 97] (0s) Posterior free-energy 1.18688400e+07, Joint KL divergence 0.00000000e+00\n",
      "[Epoch 98] (0s) Posterior free-energy 1.18687640e+07, Joint KL divergence 0.00000000e+00\n",
      "[Epoch 99] (0s) Posterior free-energy 1.18687300e+07, Joint KL divergence 0.00000000e+00\n",
      "[Epoch 100] (0s) Posterior free-energy 1.18687700e+07, Joint KL divergence 0.00000000e+00\n"
     ]
    }
   ],
   "source": [
    "losses = train(Variable(voxel_activations), Variable(voxel_locations), enc, dec, num_steps=100)"
   ]
  },
  {
   "cell_type": "code",
   "execution_count": 15,
   "metadata": {},
   "outputs": [
    {
     "data": {
      "text/plain": [
       "<matplotlib.text.Text at 0x7fe4981a12b0>"
      ]
     },
     "execution_count": 15,
     "metadata": {},
     "output_type": "execute_result"
    },
    {
     "data": {
      "image/png": "[encoded data removed]",
      "text/plain": [
       "<matplotlib.figure.Figure at 0x7fe4c420f9e8>"
      ]
     },
     "metadata": {},
     "output_type": "display_data"
    }
   ],
   "source": [
    "fig = plt.figure(figsize=(6, 6))\n",
    "\n",
    "plt.plot(range(losses.shape[1]), losses[0,:], 'b')\n",
    "fig.tight_layout()\n",
    "\n",
    "fig.axes[0].set_xlabel('Epoch')\n",
    "fig.axes[0].set_ylabel('Free-energy / -ELBO (nats)')"
   ]
  },
  {
   "cell_type": "code",
   "execution_count": 17,
   "metadata": {},
   "outputs": [],
   "source": [
    "q = enc()\n",
    "if CUDA:\n",
    "    q['Weights'].value.data.cpu()\n",
    "    q['FactorCenters'].value.data.cpu()\n",
    "    q['FactorLogWidths'].value.data.cpu()\n",
    "\n",
    "weights = q['Weights'].value.data.numpy()\n",
    "factor_centers = q['FactorCenters'].value.data.numpy()\n",
    "factor_log_widths = q['FactorLogWidths'].value.data.numpy()"
   ]
  }
 ],
 "metadata": {
  "kernelspec": {
   "display_name": "Python 3",
   "language": "python",
   "name": "python3"
  },
  "language_info": {
   "codemirror_mode": {
    "name": "ipython",
    "version": 3
   },
   "file_extension": ".py",
   "mimetype": "text/x-python",
   "name": "python",
   "nbconvert_exporter": "python",
   "pygments_lexer": "ipython3",
   "version": "3.6.3"
  }
 },
 "nbformat": 4,
 "nbformat_minor": 2
}
